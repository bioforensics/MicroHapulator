{
 "cells": [
  {
   "cell_type": "markdown",
   "metadata": {},
   "source": [
    "# MicroHapulator: CLI Demo\n",
    "\n",
    "**MicroHapulator** is software for forensic analysis of microhaplotype sequence data.\n",
    "Features include the following:\n",
    "\n",
    "- simulating simple (single-contributor) and complex (multi-contributor) DNA samples\n",
    "- simulated MPS sequencing of user-specified microhap panels\n",
    "- genotyping of DNA profiles from simple and complex DNA samples\n",
    "- tools for deterministic and probabilistic interpretation of simple and complex samples\n",
    "\n",
    "MicroHapulator relies on microhap marker definitions and allele frequencies from [MicroHapDB](https://github.com/bioforensics/MicroHapDB) and MPS error models included with [InSilicoSeq](https://github.com/HadrienG/InSilicoSeq/).\n",
    "\n",
    "This notebook provides an interactive demonstration of MicroHapulator's command line interface.\n",
    "Any line ending with `\\` indicates that the command is continued on the next line."
   ]
  },
  {
   "cell_type": "code",
   "execution_count": 1,
   "metadata": {},
   "outputs": [
    {
     "name": "stdout",
     "output_type": "stream",
     "text": [
      "mh01KK-205\n",
      "mh01CP-016\n",
      "mh01KK-117\n",
      "mh02KK-138\n",
      "mh02KK-136\n",
      "mh03CP-005\n",
      "mh03KK-007\n",
      "mh03KK-150\n",
      "mh04KK-030\n",
      "mh04KK-013\n"
     ]
    }
   ],
   "source": [
    "head -n 5 beta-panel.txt"
   ]
  },
  {
   "cell_type": "code",
   "execution_count": 2,
   "metadata": {},
   "outputs": [],
   "source": [
    "microhapdb marker --panel beta-panel.txt --format fasta > beta-panel.fasta"
   ]
  },
  {
   "cell_type": "code",
   "execution_count": 3,
   "metadata": {},
   "outputs": [
    {
     "name": "stdout",
     "output_type": "stream",
     "text": [
      ">mh01KK-205 PermID=MHDBM-1f7eaca2 GRCh38:chr1:18396197-18396351 variants=48,69,157,202 Xref=SI664550A\n",
      "ATGGGGTAATTTGGGGTCCAGAGCACCAGTTCTCATGAATCTGAGGAATTCTTCCTCCTAGCTACTTCCTTCCTTTTCCC\n",
      "TCATTACATCCCTGCCAAGGACAAATTCTGCCATTTGCATGGCAGGACTCCTCCAAAAAGGGGCTTCCTCCCTTTCCGTT\n",
      "AGTAAAGGAAGAGGTTACCTGAGACTTGACTTAACCTCCTTGGGAGGGAACATGCTTTCACTGTTGCGAATTGTTAAGTC\n",
      "AGGTCCAGAGT\n",
      ">mh01CP-016 PermID=MHDBM-021e569a GRCh38:chr1:55559012-55559056 variants=103,141,147 Xref=SI664876L\n",
      "TGAGAGAGCCCAGTGACCTAAGCAGCTCCAACCCTGAGACTGGATCTAATGATGATCCAGATAATCCAGTGCCCAGCTTA\n",
      "GAGCCTGGCACACAACAAGTGCTTATAATGAAAGCATTAGTGAGTAAAAGAGTGATCCCTGGCTTTGAACTCCCTCTAAG\n",
      "TGTACCCCCAGGCATCTGTTCTTCCCTCAGTCACAATGCTGACCCCACTTCATGACTGGTCTCCTCTCCTTTGATTGTGC\n",
      "ACACAAGGGCC\n"
     ]
    }
   ],
   "source": [
    "head -n 10 beta-panel.fasta"
   ]
  },
  {
   "cell_type": "code",
   "execution_count": 4,
   "metadata": {},
   "outputs": [
    {
     "name": "stdout",
     "output_type": "stream",
     "text": [
      "[MicroHapulator] running version 0.3+25.gf76b495.dirty\n",
      "[MicroHapulator::sim] simulated microhaplotype variation at 50 markers\n",
      "[MicroHapulator::sim] profile JSON written to sim-profile-1.json\n"
     ]
    }
   ],
   "source": [
    "mhpl8r sim --seed 24680 --out sim-profile-1.json Iberian Iberian beta-panel.txt"
   ]
  },
  {
   "cell_type": "code",
   "execution_count": 5,
   "metadata": {},
   "outputs": [
    {
     "name": "stdout",
     "output_type": "stream",
     "text": [
      "{\n",
      "    \"markers\": {\n",
      "        \"mh01CP-016\": {\n",
      "            \"genotype\": [\n",
      "                {\n",
      "                    \"allele\": \"T,G,G\",\n",
      "                    \"haplotype\": 0\n",
      "                },\n",
      "                {\n",
      "                    \"allele\": \"T,G,G\",\n",
      "                    \"haplotype\": 1\n",
      "                }\n",
      "            ]\n",
      "        },\n",
      "        \"mh01KK-117\": {\n",
      "            \"genotype\": [\n",
      "                {\n",
      "                    \"allele\": \"A,A,C,T\",\n",
      "                    \"haplotype\": 0\n",
      "                },\n",
      "                {\n",
      "                    \"allele\": \"A,G,C,T\",\n",
      "                    \"haplotype\": 1\n",
      "                }\n",
      "            ]\n"
     ]
    }
   ],
   "source": [
    "head -n 25 sim-profile-1.json"
   ]
  },
  {
   "cell_type": "code",
   "execution_count": 6,
   "metadata": {},
   "outputs": [
    {
     "name": "stdout",
     "output_type": "stream",
     "text": [
      "[MicroHapulator] running version 0.3+25.gf76b495.dirty\n",
      "[MicroHapulator::seq] Individual seed=666410524 numreads=10000\n"
     ]
    }
   ],
   "source": [
    "mhpl8r seq --threads 2 --num-reads 10000 --seed 666410524 --out sim-reads-1a.fastq.gz sim-profile-1.json"
   ]
  },
  {
   "cell_type": "code",
   "execution_count": 7,
   "metadata": {},
   "outputs": [
    {
     "name": "stdout",
     "output_type": "stream",
     "text": [
      "40000\n"
     ]
    }
   ],
   "source": [
    "gunzip -c sim-reads-1a.fastq.gz | wc -l "
   ]
  },
  {
   "cell_type": "code",
   "execution_count": 8,
   "metadata": {},
   "outputs": [
    {
     "name": "stdout",
     "output_type": "stream",
     "text": [
      "[bwa_index] Pack FASTA... 0.00 sec\n",
      "[bwa_index] Construct BWT for the packed sequence...\n",
      "[bwa_index] 0.00 seconds elapse.\n",
      "[bwa_index] Update BWT... 0.00 sec\n",
      "[bwa_index] Pack forward-only FASTA... 0.00 sec\n",
      "[bwa_index] Construct SA from BWT and Occ... 0.00 sec\n",
      "[main] Version: 0.7.17-r1188\n",
      "[main] CMD: bwa index beta-panel.fasta\n",
      "[main] Real time: 0.040 sec; CPU: 0.015 sec\n"
     ]
    }
   ],
   "source": [
    "bwa index beta-panel.fasta\n",
    "samtools faidx beta-panel.fasta"
   ]
  },
  {
   "cell_type": "code",
   "execution_count": 9,
   "metadata": {},
   "outputs": [
    {
     "name": "stdout",
     "output_type": "stream",
     "text": [
      "[M::bwa_idx_load_from_disk] read 0 ALT contigs\n",
      "[M::process] read 10000 sequences (3010000 bp)...\n",
      "[M::mem_process_seqs] Processed 10000 reads in 1.334 CPU sec, 1.335 real sec\n",
      "[main] Version: 0.7.17-r1188\n",
      "[main] CMD: bwa mem beta-panel.fasta sim-reads-1a.fastq.gz\n",
      "[main] Real time: 1.468 sec; CPU: 1.380 sec\n"
     ]
    }
   ],
   "source": [
    "bwa mem beta-panel.fasta sim-reads-1a.fastq.gz | samtools view -bS - | samtools sort -o sim-reads-1a.bam -\n",
    "samtools index sim-reads-1a.bam"
   ]
  },
  {
   "cell_type": "code",
   "execution_count": 10,
   "metadata": {},
   "outputs": [
    {
     "name": "stdout",
     "output_type": "stream",
     "text": [
      "[MicroHapulator] running version 0.3+25.gf76b495.dirty\n",
      "[MicroHapulator::type] discarded 1624 reads with gaps or missing data at positions of interest\n"
     ]
    }
   ],
   "source": [
    "mhpl8r type --out obs-profile-1a.json beta-panel.fasta sim-reads-1a.bam"
   ]
  },
  {
   "cell_type": "code",
   "execution_count": 11,
   "metadata": {},
   "outputs": [
    {
     "name": "stdout",
     "output_type": "stream",
     "text": [
      "{\n",
      "    \"markers\": {\n",
      "        \"mh01CP-016\": {\n",
      "            \"allele_counts\": {\n",
      "                \"T,G,G\": 186\n",
      "            },\n",
      "            \"genotype\": [\n",
      "                {\n",
      "                    \"allele\": \"T,G,G\",\n",
      "                    \"haplotype\": null\n",
      "                }\n",
      "            ],\n",
      "            \"max_coverage\": 200,\n",
      "            \"mean_coverage\": 199.0,\n",
      "            \"min_coverage\": 158,\n",
      "            \"num_discarded_reads\": 12\n",
      "        },\n",
      "        \"mh01KK-117\": {\n",
      "            \"allele_counts\": {\n",
      "                \"A,A,C,G\": 1,\n",
      "                \"A,A,C,T\": 77,\n",
      "                \"A,G,C,G\": 1,\n",
      "                \"A,G,C,T\": 77\n",
      "            },\n",
      "            \"genotype\": [\n"
     ]
    }
   ],
   "source": [
    "head -n 25 obs-profile-1a.json"
   ]
  },
  {
   "cell_type": "code",
   "execution_count": 13,
   "metadata": {},
   "outputs": [
    {
     "name": "stdout",
     "output_type": "stream",
     "text": [
      "[MicroHapulator] running version 0.3+25.gf76b495.dirty\n",
      "[MicroHapulator::seq] Individual seed=3374532379 numreads=2000\n"
     ]
    }
   ],
   "source": [
    "mhpl8r seq --threads 2 --num-reads 2000 --seed 3374532379 --out sim-reads-1b.fastq.gz sim-profile-1.json"
   ]
  },
  {
   "cell_type": "code",
   "execution_count": 18,
   "metadata": {},
   "outputs": [
    {
     "name": "stdout",
     "output_type": "stream",
     "text": [
      "[M::bwa_idx_load_from_disk] read 0 ALT contigs\n",
      "[M::process] read 2000 sequences (602000 bp)...\n",
      "[M::mem_process_seqs] Processed 2000 reads in 0.249 CPU sec, 0.249 real sec\n",
      "[main] Version: 0.7.17-r1188\n",
      "[main] CMD: bwa mem beta-panel.fasta sim-reads-1b.fastq.gz\n",
      "[main] Real time: 0.273 sec; CPU: 0.260 sec\n",
      "[MicroHapulator] running version 0.3+25.gf76b495.dirty\n",
      "[MicroHapulator::type] discarded 268 reads with gaps or missing data at positions of interest\n"
     ]
    }
   ],
   "source": [
    "bwa mem beta-panel.fasta sim-reads-1b.fastq.gz | samtools view -bS - | samtools sort -o sim-reads-1b.bam -\n",
    "samtools index sim-reads-1b.bam\n",
    "mhpl8r type --out obs-profile-1b.json beta-panel.fasta sim-reads-1b.bam"
   ]
  },
  {
   "cell_type": "code",
   "execution_count": 26,
   "metadata": {},
   "outputs": [
    {
     "name": "stdout",
     "output_type": "stream",
     "text": [
      "[MicroHapulator] running version 0.3+25.gf76b495.dirty\n",
      "{\n",
      "    \"hamming_distance\": 0\n",
      "}"
     ]
    }
   ],
   "source": [
    "mhpl8r dist obs-profile-1a.json obs-profile-1b.json"
   ]
  },
  {
   "cell_type": "code",
   "execution_count": 19,
   "metadata": {},
   "outputs": [
    {
     "name": "stdout",
     "output_type": "stream",
     "text": [
      "[MicroHapulator] running version 0.3+25.gf76b495.dirty\n",
      "{\n",
      "    \"rmp_likelihood_ratio\": \"2.604E+59\"\n",
      "}"
     ]
    }
   ],
   "source": [
    "mhpl8r prob Iberian obs-profile-1a.json obs-profile-1b.json"
   ]
  },
  {
   "cell_type": "code",
   "execution_count": 20,
   "metadata": {},
   "outputs": [
    {
     "name": "stdout",
     "output_type": "stream",
     "text": [
      "[MicroHapulator] running version 0.3+25.gf76b495.dirty\n",
      "[MicroHapulator::sim] simulated microhaplotype variation at 50 markers\n",
      "[MicroHapulator::sim] profile JSON written to sim-profile-2.json\n",
      "[MicroHapulator] running version 0.3+25.gf76b495.dirty\n",
      "[MicroHapulator::seq] Individual seed=3963949764 numreads=2000\n",
      "[M::bwa_idx_load_from_disk] read 0 ALT contigs\n",
      "[M::process] read 2000 sequences (602000 bp)...\n",
      "[M::mem_process_seqs] Processed 2000 reads in 0.244 CPU sec, 0.244 real sec\n",
      "[main] Version: 0.7.17-r1188\n",
      "[main] CMD: bwa mem beta-panel.fasta sim-reads-2.fastq.gz\n",
      "[main] Real time: 0.264 sec; CPU: 0.256 sec\n",
      "[MicroHapulator] running version 0.3+25.gf76b495.dirty\n",
      "[MicroHapulator::type] discarded 314 reads with gaps or missing data at positions of interest\n"
     ]
    }
   ],
   "source": [
    "mhpl8r sim --seed 13579 --out sim-profile-2.json Iberian Iberian beta-panel.txt\n",
    "mhpl8r seq --threads 2 --num-reads 2000 --seed 3963949764 --out sim-reads-2.fastq.gz sim-profile-2.json\n",
    "bwa mem beta-panel.fasta sim-reads-2.fastq.gz | samtools view -bS - | samtools sort -o sim-reads-2.bam -\n",
    "samtools index sim-reads-2.bam\n",
    "mhpl8r type --out obs-profile-2.json beta-panel.fasta sim-reads-2.bam"
   ]
  },
  {
   "cell_type": "code",
   "execution_count": 27,
   "metadata": {},
   "outputs": [
    {
     "name": "stdout",
     "output_type": "stream",
     "text": [
      "[MicroHapulator] running version 0.3+25.gf76b495.dirty\n",
      "{\n",
      "    \"hamming_distance\": 41\n",
      "}[MicroHapulator] running version 0.3+25.gf76b495.dirty\n",
      "{\n",
      "    \"rmp_likelihood_ratio\": \"2.604E-115\"\n",
      "}"
     ]
    }
   ],
   "source": [
    "mhpl8r dist obs-profile-1b.json obs-profile-2.json\n",
    "mhpl8r prob Iberian obs-profile-1b.json obs-profile-2.json"
   ]
  },
  {
   "cell_type": "code",
   "execution_count": 30,
   "metadata": {},
   "outputs": [
    {
     "name": "stdout",
     "output_type": "stream",
     "text": [
      "[MicroHapulator] running version 0.3+25.gf76b495.dirty\n",
      "[MicroHapulator::sim] simulated microhaplotype variation at 50 markers\n",
      "[MicroHapulator::sim] profile JSON written to mix-profile-1.json\n",
      "[MicroHapulator] running version 0.3+25.gf76b495.dirty\n",
      "[MicroHapulator::sim] simulated microhaplotype variation at 50 markers\n",
      "[MicroHapulator::sim] profile JSON written to mix-profile-2.json\n",
      "[MicroHapulator] running version 0.3+25.gf76b495.dirty\n",
      "[MicroHapulator::sim] simulated microhaplotype variation at 50 markers\n",
      "[MicroHapulator::sim] profile JSON written to mix-profile-3.json\n",
      "[MicroHapulator] running version 0.3+25.gf76b495.dirty\n",
      "[MicroHapulator::seq] Individual seed=2442208038 numreads=14000\n",
      "[MicroHapulator::seq] Individual seed=3693503682 numreads=4000\n",
      "[MicroHapulator::seq] Individual seed=1629003916 numreads=2000\n"
     ]
    }
   ],
   "source": [
    "mhpl8r sim --seed 1234 --out mix-profile-1.json SA004250L SA004250L beta-panel.txt\n",
    "mhpl8r sim --seed 5678 --out mix-profile-2.json SA004250L SA004250L beta-panel.txt\n",
    "mhpl8r sim --seed 1029 --out mix-profile-3.json SA004250L SA004250L beta-panel.txt\n",
    "\n",
    "mhpl8r seq --proportions 0.7 0.2 0.1 --num-reads 20000 --threads 2 --out mix-reads.fastq.gz \\\n",
    "    mix-profile-1.json mix-profile-2.json mix-profile-3.json"
   ]
  },
  {
   "cell_type": "code",
   "execution_count": 31,
   "metadata": {},
   "outputs": [
    {
     "name": "stdout",
     "output_type": "stream",
     "text": [
      "[M::bwa_idx_load_from_disk] read 0 ALT contigs\n",
      "[M::process] read 20000 sequences (6020000 bp)...\n",
      "[M::mem_process_seqs] Processed 20000 reads in 2.424 CPU sec, 2.425 real sec\n",
      "[main] Version: 0.7.17-r1188\n",
      "[main] CMD: bwa mem beta-panel.fasta mix-reads.fastq.gz\n",
      "[main] Real time: 2.650 sec; CPU: 2.508 sec\n",
      "[MicroHapulator] running version 0.3+25.gf76b495.dirty\n",
      "[MicroHapulator::type] discarded 1577 reads with gaps or missing data at positions of interest\n"
     ]
    }
   ],
   "source": [
    "bwa mem beta-panel.fasta mix-reads.fastq.gz | samtools view -bS - | samtools sort -o mix-reads.bam -\n",
    "samtools index mix-reads.bam\n",
    "mhpl8r type --out obs-profile-mix.json beta-panel.fasta mix-reads.bam"
   ]
  },
  {
   "cell_type": "code",
   "execution_count": 33,
   "metadata": {},
   "outputs": [
    {
     "name": "stdout",
     "output_type": "stream",
     "text": [
      "[MicroHapulator] running version 0.3+25.gf76b495.dirty\n",
      "{\n",
      "    \"min_num_contrib\": 3,\n",
      "    \"num_loci_max_alleles\": 1,\n",
      "    \"perc_loci_max_alleles\": 0.02\n",
      "}"
     ]
    }
   ],
   "source": [
    "mhpl8r contrib --json obs-profile-mix.json"
   ]
  },
  {
   "cell_type": "code",
   "execution_count": 34,
   "metadata": {},
   "outputs": [
    {
     "name": "stdout",
     "output_type": "stream",
     "text": [
      "[MicroHapulator] running version 0.3+25.gf76b495.dirty\n",
      "{\n",
      "    \"containment\": 1.0,\n",
      "    \"contained_alleles\": 78,\n",
      "    \"total_alleles\": 78\n",
      "}[MicroHapulator] running version 0.3+25.gf76b495.dirty\n",
      "{\n",
      "    \"containment\": 0.9398,\n",
      "    \"contained_alleles\": 78,\n",
      "    \"total_alleles\": 83\n",
      "}[MicroHapulator] running version 0.3+25.gf76b495.dirty\n",
      "{\n",
      "    \"containment\": 0.9605,\n",
      "    \"contained_alleles\": 73,\n",
      "    \"total_alleles\": 76\n",
      "}"
     ]
    }
   ],
   "source": [
    "mhpl8r contain obs-profile-mix.json mix-profile-1.json\n",
    "mhpl8r contain obs-profile-mix.json mix-profile-2.json\n",
    "mhpl8r contain obs-profile-mix.json mix-profile-3.json"
   ]
  },
  {
   "cell_type": "code",
   "execution_count": 36,
   "metadata": {},
   "outputs": [
    {
     "name": "stdout",
     "output_type": "stream",
     "text": [
      "[MicroHapulator] running version 0.3+25.gf76b495.dirty\n",
      "[MicroHapulator::sim] simulated microhaplotype variation at 50 markers\n",
      "[MicroHapulator::sim] profile JSON written to mix-profile-4.json\n",
      "[MicroHapulator] running version 0.3+25.gf76b495.dirty\n",
      "[MicroHapulator::sim] simulated microhaplotype variation at 50 markers\n",
      "[MicroHapulator::sim] profile JSON written to mix-profile-5.json\n",
      "[MicroHapulator] running version 0.3+25.gf76b495.dirty\n",
      "{\n",
      "    \"containment\": 0.7024,\n",
      "    \"contained_alleles\": 59,\n",
      "    \"total_alleles\": 84\n",
      "}[MicroHapulator] running version 0.3+25.gf76b495.dirty\n",
      "{\n",
      "    \"containment\": 0.7326,\n",
      "    \"contained_alleles\": 63,\n",
      "    \"total_alleles\": 86\n",
      "}"
     ]
    }
   ],
   "source": [
    "mhpl8r sim --seed 3847 --out mix-profile-4.json SA004250L SA004250L beta-panel.txt\n",
    "mhpl8r sim --seed 5656 --out mix-profile-5.json SA004250L SA004250L beta-panel.txt\n",
    "mhpl8r contain obs-profile-mix.json mix-profile-4.json\n",
    "mhpl8r contain obs-profile-mix.json mix-profile-5.json"
   ]
  }
 ],
 "metadata": {
  "kernelspec": {
   "display_name": "Bash",
   "language": "bash",
   "name": "bash"
  },
  "language_info": {
   "codemirror_mode": "shell",
   "file_extension": ".sh",
   "mimetype": "text/x-sh",
   "name": "bash"
  }
 },
 "nbformat": 4,
 "nbformat_minor": 2
}
