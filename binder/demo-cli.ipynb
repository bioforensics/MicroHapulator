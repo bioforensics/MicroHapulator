{
 "cells": [
  {
   "cell_type": "markdown",
   "metadata": {},
   "source": [
    "# MicroHapulator: CLI Demo\n",
    "\n",
    "**MicroHapulator** is software for forensic analysis of microhaplotype sequence data.\n",
    "Features include the following:\n",
    "\n",
    "- simulating simple (single-contributor) and complex (multi-contributor) DNA samples\n",
    "- simulated MPS sequencing of user-specified microhap panels\n",
    "- genotyping of DNA profiles from simple and complex DNA samples\n",
    "- tools for deterministic and probabilistic interpretation of simple and complex samples\n",
    "\n",
    "MicroHapulator relies on microhap marker definitions and allele frequencies from [MicroHapDB](https://github.com/bioforensics/MicroHapDB) and MPS error models included with [InSilicoSeq](https://github.com/HadrienG/InSilicoSeq/)."
   ]
  },
  {
   "cell_type": "markdown",
   "metadata": {},
   "source": [
    "## Synopsis\n",
    "\n",
    "This notebook provides an interactive demonstration of the command line interface to MicroHapulator's analysis and interpretation tools.\n",
    "Bioinformaticians and programmers may also be interested in MicroHapulator's Python API, which is described in [demo-api.ipynb](demo-api.ipynb).\n",
    "MicroHapulator can also be used to construct mock genotypes and simulate MPS sequencing of simple and complex samples—see [demo-sim.ipynb](demo-sim.ipynb) for more details."
   ]
  },
  {
   "cell_type": "markdown",
   "metadata": {},
   "source": [
    "## Preliminaries\n",
    "\n",
    "In the two scenarios below, we will be comparing reference samples and evidentiary samples that have been measured with an MPS assay.\n",
    "The assay targets a panel of 50 microhaplotype markers.\n",
    "To genotype and interpret our samples, we must first map the reads from each sample to the target amplicon sequences.\n",
    "This requires a bit of prep work on our part.\n",
    "(These steps only need to be performed once for a particular panel design.)\n",
    "\n",
    "The identifiers for the 50 markers in our panel have been stored in a file called `beta-panel.txt`.\n",
    "We can peek at the first few lines of this file to get an idea of its contents."
   ]
  },
  {
   "cell_type": "code",
   "execution_count": 1,
   "metadata": {},
   "outputs": [
    {
     "name": "stdout",
     "output_type": "stream",
     "text": [
      "mh01KK-205\n",
      "mh01CP-016\n",
      "mh01KK-117\n",
      "mh02KK-138\n",
      "mh02KK-136\n"
     ]
    }
   ],
   "source": [
    "head -n 5 beta-panel.txt"
   ]
  },
  {
   "cell_type": "markdown",
   "metadata": {},
   "source": [
    "Detailed information about each of these markers is stored in MicroHapDB, so we'll used the `microhapdb` command to create a Fasta file of the target amplicon sequences.\n",
    "This is the file we'll use as a reference later when we're mapping MPS reads."
   ]
  },
  {
   "cell_type": "code",
   "execution_count": 2,
   "metadata": {},
   "outputs": [],
   "source": [
    "microhapdb marker --panel beta-panel.txt --format fasta > beta-panel.fasta"
   ]
  },
  {
   "cell_type": "markdown",
   "metadata": {},
   "source": [
    "We can also peek at the first several lines of this file. Each Fasta record includes the marker's name, amplicon sequence, and several bits of metadata."
   ]
  },
  {
   "cell_type": "code",
   "execution_count": 3,
   "metadata": {},
   "outputs": [
    {
     "name": "stdout",
     "output_type": "stream",
     "text": [
      ">mh01KK-205 PermID=MHDBM-1f7eaca2 GRCh38:chr1:18396197-18396351 variants=48,69,157,202 Xref=SI664550A\n",
      "ATGGGGTAATTTGGGGTCCAGAGCACCAGTTCTCATGAATCTGAGGAATTCTTCCTCCTAGCTACTTCCTTCCTTTTCCC\n",
      "TCATTACATCCCTGCCAAGGACAAATTCTGCCATTTGCATGGCAGGACTCCTCCAAAAAGGGGCTTCCTCCCTTTCCGTT\n",
      "AGTAAAGGAAGAGGTTACCTGAGACTTGACTTAACCTCCTTGGGAGGGAACATGCTTTCACTGTTGCGAATTGTTAAGTC\n",
      "AGGTCCAGAGT\n",
      ">mh01CP-016 PermID=MHDBM-021e569a GRCh38:chr1:55559012-55559056 variants=103,141,147 Xref=SI664876L\n",
      "TGAGAGAGCCCAGTGACCTAAGCAGCTCCAACCCTGAGACTGGATCTAATGATGATCCAGATAATCCAGTGCCCAGCTTA\n",
      "GAGCCTGGCACACAACAAGTGCTTATAATGAAAGCATTAGTGAGTAAAAGAGTGATCCCTGGCTTTGAACTCCCTCTAAG\n",
      "TGTACCCCCAGGCATCTGTTCTTCCCTCAGTCACAATGCTGACCCCACTTCATGACTGGTCTCCTCTCCTTTGATTGTGC\n",
      "ACACAAGGGCC\n"
     ]
    }
   ],
   "source": [
    "head -n 10 beta-panel.fasta"
   ]
  },
  {
   "cell_type": "markdown",
   "metadata": {},
   "source": [
    "Next, we need to create an index of the file to facilitate rapid lookups during the read mapping procedure.\n",
    "With this, the panel is ready to use for inferring genotype profiles from MPS reads."
   ]
  },
  {
   "cell_type": "code",
   "execution_count": 4,
   "metadata": {},
   "outputs": [
    {
     "name": "stdout",
     "output_type": "stream",
     "text": [
      "[bwa_index] Pack FASTA... 0.00 sec\n",
      "[bwa_index] Construct BWT for the packed sequence...\n",
      "[bwa_index] 0.00 seconds elapse.\n",
      "[bwa_index] Update BWT... 0.00 sec\n",
      "[bwa_index] Pack forward-only FASTA... 0.00 sec\n",
      "[bwa_index] Construct SA from BWT and Occ... 0.00 sec\n",
      "[main] Version: 0.7.17-r1188\n",
      "[main] CMD: bwa index beta-panel.fasta\n",
      "[main] Real time: 0.015 sec; CPU: 0.015 sec\n"
     ]
    }
   ],
   "source": [
    "bwa index beta-panel.fasta\n",
    "samtools faidx beta-panel.fasta"
   ]
  },
  {
   "cell_type": "markdown",
   "metadata": {},
   "source": [
    "Finally, we need to download the MPS reads for our mock scenarios."
   ]
  },
  {
   "cell_type": "code",
   "execution_count": 5,
   "metadata": {},
   "outputs": [
    {
     "name": "stdout",
     "output_type": "stream",
     "text": [
      "  % Total    % Received % Xferd  Average Speed   Time    Time     Time  Current\n",
      "                                 Dload  Upload   Total   Spent    Left  Speed\n",
      "100   459  100   459    0     0    805      0 --:--:-- --:--:-- --:--:--   803\n",
      "100  149k  100  149k    0     0  91826      0  0:00:01  0:00:01 --:--:--  887k\n",
      "  % Total    % Received % Xferd  Average Speed   Time    Time     Time  Current\n",
      "                                 Dload  Upload   Total   Spent    Left  Speed\n",
      "100   459  100   459    0     0   1176      0 --:--:-- --:--:-- --:--:--  1176\n",
      "100 96050  100 96050    0     0  76533      0  0:00:01  0:00:01 --:--:--  615k\n",
      "  % Total    % Received % Xferd  Average Speed   Time    Time     Time  Current\n",
      "                                 Dload  Upload   Total   Spent    Left  Speed\n",
      "100   459  100   459    0     0    843      0 --:--:-- --:--:-- --:--:--   842\n",
      "100 6730k  100 6730k    0     0  1249k      0  0:00:05  0:00:05 --:--:-- 1849k\n",
      "  % Total    % Received % Xferd  Average Speed   Time    Time     Time  Current\n",
      "                                 Dload  Upload   Total   Spent    Left  Speed\n",
      "100   459  100   459    0     0   1311      0 --:--:-- --:--:-- --:--:--  1307\n",
      "100 6982k  100 6982k    0     0  1785k      0  0:00:03  0:00:03 --:--:-- 2600k\n",
      "  % Total    % Received % Xferd  Average Speed   Time    Time     Time  Current\n",
      "                                 Dload  Upload   Total   Spent    Left  Speed\n",
      "100   459  100   459    0     0   1285      0 --:--:-- --:--:-- --:--:--  1282\n",
      "100 6960k  100 6960k    0     0  1332k      0  0:00:05  0:00:05 --:--:-- 1738k\n",
      "  % Total    % Received % Xferd  Average Speed   Time    Time     Time  Current\n",
      "                                 Dload  Upload   Total   Spent    Left  Speed\n",
      "100   459  100   459    0     0   1047      0 --:--:-- --:--:-- --:--:--  1047\n",
      "100 7007k  100 7007k    0     0  1267k      0  0:00:05  0:00:05 --:--:-- 1767k\n",
      "  % Total    % Received % Xferd  Average Speed   Time    Time     Time  Current\n",
      "                                 Dload  Upload   Total   Spent    Left  Speed\n",
      "100   459  100   459    0     0   1353      0 --:--:-- --:--:-- --:--:--  1350\n",
      "100 6994k  100 6994k    0     0  1662k      0  0:00:04  0:00:04 --:--:-- 2313k\n"
     ]
    }
   ],
   "source": [
    "curl -L https://osf.io/x67ze/download > reads-EVD1.fastq.gz\n",
    "curl -L https://osf.io/ukpqb/download > reads-EVD2.fastq.gz\n",
    "curl -L https://osf.io/b6h3w/download > reads-EVD3.fastq.gz\n",
    "curl -L https://osf.io/sj5d9/download > reads-REF1.fastq.gz\n",
    "curl -L https://osf.io/x48sn/download > reads-REF2.fastq.gz\n",
    "curl -L https://osf.io/p76v9/download > reads-REF3.fastq.gz\n",
    "curl -L https://osf.io/b4fn8/download > reads-REF4.fastq.gz"
   ]
  },
  {
   "cell_type": "markdown",
   "metadata": {},
   "source": [
    "## Scenario 1\n",
    "\n",
    "In this scenario, we have collected two evidentiary samples in the course of a forensic investigation.\n",
    "These samples have been labeled **EVD1** and **EVD2**.\n",
    "We have been assured that these are both single-source DNA samples.\n",
    "We also have a reference sample labeled **REF1** collected from a person of interest in the investigation.\n",
    "Each sample was assayed with our 50 microhap MPS panel, and the reads were stored in three files: `reads-EVD1.fastq.gz`, `reads-EVD2.fastq.gz`, and `reads-REFR1.fastq.gz`."
   ]
  },
  {
   "cell_type": "code",
   "execution_count": 6,
   "metadata": {},
   "outputs": [
    {
     "name": "stdout",
     "output_type": "stream",
     "text": [
      "reads-EVD1.fastq.gz\n",
      "reads-EVD2.fastq.gz\n",
      "reads-REF1.fastq.gz\n"
     ]
    }
   ],
   "source": [
    "ls -1 reads-EVD1.fastq.gz reads-EVD2.fastq.gz reads-REF1.fastq.gz"
   ]
  },
  {
   "cell_type": "markdown",
   "metadata": {},
   "source": [
    "The first step in our analysis is to map the reads in each sample to the target amplicon sequences in `beta-panel.fasta`.\n",
    "For this we use the `bwa mem` algorithm, but other algorithms such as `bowtie2` would also be appopriate to use here.\n",
    "We also use `samtools` to convert the uncompress alignments in SAM format to sorted, compressed, and indexed read alignments in BAM format.\n",
    "\n",
    "First we process sample **EVD1** with the following commands."
   ]
  },
  {
   "cell_type": "code",
   "execution_count": 7,
   "metadata": {},
   "outputs": [
    {
     "name": "stdout",
     "output_type": "stream",
     "text": [
      "[M::bwa_idx_load_from_disk] read 0 ALT contigs\n",
      "[M::process] read 5000 sequences (1505000 bp)...\n",
      "[M::mem_process_seqs] Processed 5000 reads in 0.623 CPU sec, 0.626 real sec\n",
      "[main] Version: 0.7.17-r1188\n",
      "[main] CMD: bwa mem beta-panel.fasta reads-EVD1.fastq.gz\n",
      "[main] Real time: 0.677 sec; CPU: 0.643 sec\n"
     ]
    }
   ],
   "source": [
    "bwa mem beta-panel.fasta reads-EVD1.fastq.gz | samtools view -bS - | samtools sort -o reads-EVD1.bam -\n",
    "samtools index reads-EVD1.bam"
   ]
  },
  {
   "cell_type": "markdown",
   "metadata": {},
   "source": [
    "We can repeat this for **EVD2** and **REF1**."
   ]
  },
  {
   "cell_type": "code",
   "execution_count": 8,
   "metadata": {},
   "outputs": [
    {
     "name": "stdout",
     "output_type": "stream",
     "text": [
      "[M::bwa_idx_load_from_disk] read 0 ALT contigs\n",
      "[M::process] read 5000 sequences (1505000 bp)...\n",
      "[M::mem_process_seqs] Processed 5000 reads in 0.603 CPU sec, 0.604 real sec\n",
      "[main] Version: 0.7.17-r1188\n",
      "[main] CMD: bwa mem beta-panel.fasta reads-EVD2.fastq.gz\n",
      "[main] Real time: 0.655 sec; CPU: 0.622 sec\n",
      "[M::bwa_idx_load_from_disk] read 0 ALT contigs\n",
      "[M::process] read 33224 sequences (10000424 bp)...\n",
      "[M::process] read 16726 sequences (5034526 bp)...\n",
      "[M::mem_process_seqs] Processed 33224 reads in 4.408 CPU sec, 4.372 real sec\n",
      "[M::mem_process_seqs] Processed 16726 reads in 2.175 CPU sec, 2.155 real sec\n",
      "[main] Version: 0.7.17-r1188\n",
      "[main] CMD: bwa mem beta-panel.fasta reads-REF1.fastq.gz\n",
      "[main] Real time: 6.799 sec; CPU: 6.706 sec\n"
     ]
    }
   ],
   "source": [
    "bwa mem beta-panel.fasta reads-EVD2.fastq.gz | samtools view -bS - | samtools sort -o reads-EVD2.bam -\n",
    "samtools index reads-EVD2.bam\n",
    "\n",
    "bwa mem beta-panel.fasta reads-REF1.fastq.gz | samtools view -bS - | samtools sort -o reads-REF1.bam -\n",
    "samtools index reads-REF1.bam"
   ]
  },
  {
   "cell_type": "markdown",
   "metadata": {},
   "source": [
    "We now have a `.bam` file for each sample."
   ]
  },
  {
   "cell_type": "code",
   "execution_count": 9,
   "metadata": {},
   "outputs": [
    {
     "name": "stdout",
     "output_type": "stream",
     "text": [
      "reads-EVD1.bam\n",
      "reads-EVD2.bam\n",
      "reads-REF1.bam\n"
     ]
    }
   ],
   "source": [
    "ls -1 reads-EVD1.bam reads-EVD2.bam reads-REF1.bam"
   ]
  },
  {
   "cell_type": "markdown",
   "metadata": {},
   "source": [
    "With the reads aligned, we have everything we need to infer a genotype profile for these samples.\n",
    "This is done with the `mhpl8r type` command.\n",
    "We provide it the amplicon sequences and the aligned reads, and it will stored the inferred profile in a file named `profile-EVD1.json`."
   ]
  },
  {
   "cell_type": "code",
   "execution_count": 10,
   "metadata": {},
   "outputs": [
    {
     "name": "stdout",
     "output_type": "stream",
     "text": [
      "[MicroHapulator] running version 0.3+34.gb44b810.dirty\n",
      "[MicroHapulator::type] discarded 654 reads with gaps or missing data at positions of interest\n"
     ]
    }
   ],
   "source": [
    "mhpl8r type --out profile-EVD1.json beta-panel.fasta reads-EVD1.bam"
   ]
  },
  {
   "cell_type": "markdown",
   "metadata": {},
   "source": [
    "We should peek at the top of this file to get an idea of its contents.\n",
    "The genotype profile is stored in JavaScript Object Notation (JSON), and lists the read counts for each allele observed at each microhap locus.\n",
    "These are used to make preliminary genotype calls.\n",
    "For example, marker `mh01CP-016` is called as homozygous for the allele `T,G,G` and `mh01KK-117` is heterozygous for alleles `A,A,C,T` and `A,G,C,T`.\n",
    "The haplotypes *within* each marker have been resolved by the reads spanning its variants, but MicroHapulator does not attempt to resolve the haplotypes *between* markers (as indicated by the `\"haplotype\": null` elements).\n",
    "Only the first two markers are shown here, but the rest of the file contains genotype calls for the remaining 48 markers."
   ]
  },
  {
   "cell_type": "code",
   "execution_count": 11,
   "metadata": {},
   "outputs": [
    {
     "name": "stdout",
     "output_type": "stream",
     "text": [
      "{\n",
      "    \"markers\": {\n",
      "        \"mh01CP-016\": {\n",
      "            \"allele_counts\": {\n",
      "                \"T,G,G\": 96\n",
      "            },\n",
      "            \"genotype\": [\n",
      "                {\n",
      "                    \"allele\": \"T,G,G\",\n",
      "                    \"haplotype\": null\n",
      "                }\n",
      "            ],\n",
      "            \"max_coverage\": 100,\n",
      "            \"mean_coverage\": 99.7,\n",
      "            \"min_coverage\": 86,\n",
      "            \"num_discarded_reads\": 4\n",
      "        },\n",
      "        \"mh01KK-117\": {\n",
      "            \"allele_counts\": {\n",
      "                \"A,A,C,T\": 36,\n",
      "                \"A,G,C,T\": 36\n",
      "            },\n",
      "            \"genotype\": [\n",
      "                {\n",
      "                    \"allele\": \"A,A,C,T\",\n",
      "                    \"haplotype\": null\n",
      "                },\n",
      "                {\n",
      "                    \"allele\": \"A,G,C,T\",\n",
      "                    \"haplotype\": null\n"
     ]
    }
   ],
   "source": [
    "head -n 30 profile-EVD1.json"
   ]
  },
  {
   "cell_type": "markdown",
   "metadata": {},
   "source": [
    "Now we repeat this step for **EVD2** and **REF1**."
   ]
  },
  {
   "cell_type": "code",
   "execution_count": 12,
   "metadata": {},
   "outputs": [
    {
     "name": "stdout",
     "output_type": "stream",
     "text": [
      "[MicroHapulator] running version 0.3+34.gb44b810.dirty\n",
      "[MicroHapulator::type] discarded 666 reads with gaps or missing data at positions of interest\n",
      "[MicroHapulator] running version 0.3+34.gb44b810.dirty\n",
      "[MicroHapulator::type] discarded 7206 reads with gaps or missing data at positions of interest\n"
     ]
    }
   ],
   "source": [
    "mhpl8r type --out profile-EVD2.json beta-panel.fasta reads-EVD2.bam\n",
    "mhpl8r type --out profile-REF1.json beta-panel.fasta reads-REF1.bam"
   ]
  },
  {
   "cell_type": "markdown",
   "metadata": {},
   "source": [
    "We have now inferred a genotype profile for each sample."
   ]
  },
  {
   "cell_type": "code",
   "execution_count": 13,
   "metadata": {},
   "outputs": [
    {
     "name": "stdout",
     "output_type": "stream",
     "text": [
      "profile-EVD1.json\n",
      "profile-EVD2.json\n",
      "profile-REF1.json\n"
     ]
    }
   ],
   "source": [
    "ls -1 profile-EVD1.json profile-EVD2.json profile-REF1.json"
   ]
  },
  {
   "cell_type": "markdown",
   "metadata": {},
   "source": [
    "How then do we compare evidentiary samples with the reference sample?\n",
    "MicroHapulator implements two operations for comparing single-source samples.\n",
    "The first is the `mhpl8r dist` operation, which computes a naïve Hamming distance between two sample profiles.\n",
    "Here, we define the Hamming distance as the number of markers at which the two profiles differ.\n",
    "A Hamming distance of 0 represents a perfect match, while a distance of 50 (in the case of this panel) represents a mismatch at every marker.\n",
    "Let's use the `mhpl8r dist` command to compare the reference sample and the evidentiary sample."
   ]
  },
  {
   "cell_type": "code",
   "execution_count": 14,
   "metadata": {},
   "outputs": [
    {
     "name": "stdout",
     "output_type": "stream",
     "text": [
      "[MicroHapulator] running version 0.3+34.gb44b810.dirty\n",
      "{\n",
      "    \"hamming_distance\": 0\n",
      "}"
     ]
    }
   ],
   "source": [
    "mhpl8r dist profile-REF1.json profile-EVD1.json"
   ]
  },
  {
   "cell_type": "markdown",
   "metadata": {},
   "source": [
    "Our first glance suggests that these samples are likely a match.\n",
    "However, while Hamming distance may be simple to interpret, it doesn't provide any sense of confidence and would be difficult to defend in any formal legal context.\n",
    "It would be more helpful if we could compute a likelihood ratio (LR) that quantifies the strength of the profile match.\n",
    "The second operation MicroHapulator implements for comparing single-source samples is the `mhpl8r prob` command, which assesses the relative likelihood of the following propositions.\n",
    "\n",
    "- $H_p$: the reference sample and evidentiary sample were derived from the same individual\n",
    "- $H_d$: the reference sample and evidentiary sample were derived from two unrelated individuals in the population\n",
    "\n",
    "The probability $P(H_p) = \\epsilon^R$, where $\\epsilon$ is a per-marker rate of genotyping error (default: 0.001) and $R$ is the number of allele mismatches between the reference and evidentiary samples.\n",
    "The probability $P(H_d)$ is the random match probability (RMP) of the profile.\n",
    "Note that in cases of a perfect match, $P(H_p) = 1$ and thus the LR is the reciprocal of the RMP.\n",
    "\n",
    "Now let's use `mhpl8r prob` to compare the reference and evidentiary samples.\n",
    "We specify that MicroHapulator should use the `Iberian` population allele frequency distribution for computing this LR."
   ]
  },
  {
   "cell_type": "code",
   "execution_count": 15,
   "metadata": {},
   "outputs": [
    {
     "name": "stdout",
     "output_type": "stream",
     "text": [
      "[MicroHapulator] running version 0.3+34.gb44b810.dirty\n",
      "{\n",
      "    \"likelihood_ratio\": \"2.604E+59\"\n",
      "}"
     ]
    }
   ],
   "source": [
    "mhpl8r prob Iberian profile-REF1.json profile-EVD1.json"
   ]
  },
  {
   "cell_type": "markdown",
   "metadata": {},
   "source": [
    "The result is a very large LR of $2.6 \\times 10^{59}$, strongly supporting $H_p$ over $H_d$.\n",
    "This gives us very strong evidence that **EVD1** and **REF1** are from the same individual.\n",
    "\n",
    "Now, we repeat these comparisons for **EVD2**."
   ]
  },
  {
   "cell_type": "code",
   "execution_count": 16,
   "metadata": {},
   "outputs": [
    {
     "name": "stdout",
     "output_type": "stream",
     "text": [
      "[MicroHapulator] running version 0.3+34.gb44b810.dirty\n",
      "{\n",
      "    \"hamming_distance\": 41\n",
      "}"
     ]
    }
   ],
   "source": [
    "mhpl8r dist profile-REF1.json profile-EVD2.json"
   ]
  },
  {
   "cell_type": "code",
   "execution_count": 17,
   "metadata": {},
   "outputs": [
    {
     "name": "stdout",
     "output_type": "stream",
     "text": [
      "[MicroHapulator] running version 0.3+34.gb44b810.dirty\n",
      "{\n",
      "    \"likelihood_ratio\": \"2.604E-115\"\n",
      "}"
     ]
    }
   ],
   "source": [
    "mhpl8r prob Iberian profile-REF1.json profile-EVD2.json"
   ]
  },
  {
   "cell_type": "markdown",
   "metadata": {},
   "source": [
    "Here we see a very different story.\n",
    "The Hamming distance shows differences at 41/50 markers, and the LR test statistic is very small, $2.6 \\times 10^{-115}$, strongly supporting $H_d$ over $H_p$ for this sample.\n",
    "The evidence is very strong that **EVD2** and **REF1** do not correspond to the same individual."
   ]
  },
  {
   "cell_type": "markdown",
   "metadata": {},
   "source": [
    "## Scenario 2\n",
    "\n",
    "In this scenario, we have collected an evidentiary sample (**EVD3**) in the course of a forensic investigation, and there is some suspicion that this sample has multiple DNA contributors.\n",
    "We have also collected reference samples from three persons of interest in the investigation, labeled **REF2**, **REF3**, and **REF4**.\n",
    "As in the previous scenario, all four samples have been assayed with our 50 microhap MPS panel.\n",
    "Reads are available in the following files."
   ]
  },
  {
   "cell_type": "code",
   "execution_count": 18,
   "metadata": {},
   "outputs": [
    {
     "name": "stdout",
     "output_type": "stream",
     "text": [
      "reads-EVD3.fastq.gz\n",
      "reads-REF2.fastq.gz\n",
      "reads-REF3.fastq.gz\n",
      "reads-REF4.fastq.gz\n"
     ]
    }
   ],
   "source": [
    "ls -1 reads-EVD3.fastq.gz reads-REF2.fastq.gz reads-REF3.fastq.gz reads-REF4.fastq.gz"
   ]
  },
  {
   "cell_type": "markdown",
   "metadata": {},
   "source": [
    "As before, we will use `bwa mem` and `samtools` to align, sort, and index the reads for each sample."
   ]
  },
  {
   "cell_type": "code",
   "execution_count": 19,
   "metadata": {},
   "outputs": [
    {
     "name": "stdout",
     "output_type": "stream",
     "text": [
      "[M::bwa_idx_load_from_disk] read 0 ALT contigs\n",
      "[M::process] read 33224 sequences (10000424 bp)...\n",
      "[M::process] read 16726 sequences (5034526 bp)...\n",
      "[M::mem_process_seqs] Processed 33224 reads in 4.188 CPU sec, 4.303 real sec\n",
      "[M::mem_process_seqs] Processed 16726 reads in 2.139 CPU sec, 2.152 real sec\n",
      "[main] Version: 0.7.17-r1188\n",
      "[main] CMD: bwa mem beta-panel.fasta reads-EVD3.fastq.gz\n",
      "[main] Real time: 6.711 sec; CPU: 6.450 sec\n"
     ]
    }
   ],
   "source": [
    "bwa mem beta-panel.fasta reads-EVD3.fastq.gz | samtools view -bS - | samtools sort -o reads-EVD3.bam -\n",
    "samtools index reads-EVD3.bam"
   ]
  },
  {
   "cell_type": "code",
   "execution_count": 20,
   "metadata": {},
   "outputs": [
    {
     "name": "stdout",
     "output_type": "stream",
     "text": [
      "[M::bwa_idx_load_from_disk] read 0 ALT contigs\n",
      "[M::process] read 33224 sequences (10000424 bp)...\n",
      "[M::process] read 16726 sequences (5034526 bp)...\n",
      "[M::mem_process_seqs] Processed 33224 reads in 4.256 CPU sec, 4.296 real sec\n",
      "[M::mem_process_seqs] Processed 16726 reads in 2.072 CPU sec, 2.209 real sec\n",
      "[main] Version: 0.7.17-r1188\n",
      "[main] CMD: bwa mem beta-panel.fasta reads-REF2.fastq.gz\n",
      "[main] Real time: 6.784 sec; CPU: 6.450 sec\n"
     ]
    }
   ],
   "source": [
    "bwa mem beta-panel.fasta reads-REF2.fastq.gz | samtools view -bS - | samtools sort -o reads-REF2.bam -\n",
    "samtools index reads-REF2.bam"
   ]
  },
  {
   "cell_type": "code",
   "execution_count": 21,
   "metadata": {},
   "outputs": [
    {
     "name": "stdout",
     "output_type": "stream",
     "text": [
      "[M::bwa_idx_load_from_disk] read 0 ALT contigs\n",
      "[M::process] read 33224 sequences (10000424 bp)...\n",
      "[M::process] read 16726 sequences (5034526 bp)...\n",
      "[M::mem_process_seqs] Processed 33224 reads in 4.219 CPU sec, 4.215 real sec\n",
      "[M::mem_process_seqs] Processed 16726 reads in 2.070 CPU sec, 2.047 real sec\n",
      "[main] Version: 0.7.17-r1188\n",
      "[main] CMD: bwa mem beta-panel.fasta reads-REF3.fastq.gz\n",
      "[main] Real time: 6.542 sec; CPU: 6.414 sec\n"
     ]
    }
   ],
   "source": [
    "bwa mem beta-panel.fasta reads-REF3.fastq.gz | samtools view -bS - | samtools sort -o reads-REF3.bam -\n",
    "samtools index reads-REF3.bam"
   ]
  },
  {
   "cell_type": "code",
   "execution_count": 22,
   "metadata": {},
   "outputs": [
    {
     "name": "stdout",
     "output_type": "stream",
     "text": [
      "[M::bwa_idx_load_from_disk] read 0 ALT contigs\n",
      "[M::process] read 33224 sequences (10000424 bp)...\n",
      "[M::process] read 16726 sequences (5034526 bp)...\n",
      "[M::mem_process_seqs] Processed 33224 reads in 3.990 CPU sec, 3.942 real sec\n",
      "[M::mem_process_seqs] Processed 16726 reads in 1.987 CPU sec, 1.961 real sec\n",
      "[main] Version: 0.7.17-r1188\n",
      "[main] CMD: bwa mem beta-panel.fasta reads-REF4.fastq.gz\n",
      "[main] Real time: 6.172 sec; CPU: 6.100 sec\n"
     ]
    }
   ],
   "source": [
    "bwa mem beta-panel.fasta reads-REF4.fastq.gz | samtools view -bS - | samtools sort -o reads-REF4.bam -\n",
    "samtools index reads-REF4.bam"
   ]
  },
  {
   "cell_type": "markdown",
   "metadata": {},
   "source": [
    "Next we use `mhpl8r type` to infer genotype profiles for each sample."
   ]
  },
  {
   "cell_type": "code",
   "execution_count": 23,
   "metadata": {},
   "outputs": [
    {
     "name": "stdout",
     "output_type": "stream",
     "text": [
      "[MicroHapulator] running version 0.3+34.gb44b810.dirty\n",
      "[MicroHapulator::type] discarded 3674 reads with gaps or missing data at positions of interest\n",
      "[MicroHapulator] running version 0.3+34.gb44b810.dirty\n",
      "[MicroHapulator::type] discarded 7483 reads with gaps or missing data at positions of interest\n",
      "[MicroHapulator] running version 0.3+34.gb44b810.dirty\n",
      "[MicroHapulator::type] discarded 7280 reads with gaps or missing data at positions of interest\n",
      "[MicroHapulator] running version 0.3+34.gb44b810.dirty\n",
      "[MicroHapulator::type] discarded 7456 reads with gaps or missing data at positions of interest\n"
     ]
    }
   ],
   "source": [
    "mhpl8r type --out profile-EVD3.json beta-panel.fasta reads-EVD3.bam\n",
    "mhpl8r type --out profile-REF2.json beta-panel.fasta reads-REF2.bam\n",
    "mhpl8r type --out profile-REF3.json beta-panel.fasta reads-REF3.bam\n",
    "mhpl8r type --out profile-REF4.json beta-panel.fasta reads-REF4.bam"
   ]
  },
  {
   "cell_type": "markdown",
   "metadata": {},
   "source": [
    "We must now evaluate the evidentiary sample and see if we can confirm the presence of multiple DNA contributors.\n",
    "The `mhpl8r contrib` command implements a simple check for determining the minimum number of contributors by scanning the sample profile to determine the maximum number of alleles $N_{\\text{al}}$ present at any single locus.\n",
    "From this, it can calculate the minimum number of sample contributors $C_{\\text{min}}$ as follows.\n",
    "\n",
    "$$\n",
    "C_{\\text{min}} = \\left\\lceil\\frac{N_{\\text{al}}}{2}\\right\\rceil\n",
    "$$"
   ]
  },
  {
   "cell_type": "code",
   "execution_count": 24,
   "metadata": {},
   "outputs": [
    {
     "name": "stdout",
     "output_type": "stream",
     "text": [
      "[MicroHapulator] running version 0.3+34.gb44b810.dirty\n",
      "{\n",
      "    \"min_num_contrib\": 3,\n",
      "    \"num_loci_max_alleles\": 3,\n",
      "    \"perc_loci_max_alleles\": 0.06\n",
      "}"
     ]
    }
   ],
   "source": [
    "mhpl8r contrib -j profile-EVD3.json"
   ]
  },
  {
   "cell_type": "markdown",
   "metadata": {},
   "source": [
    "The profile supports the presence of at least three DNA contributors in this evidentiary sample.\n",
    "We must now determine which of the reference samples, if any, is a contributor.\n",
    "For this we use the `mhpl8r contain` command, which calculates the \"containment\" of one sample profile in another.\n",
    "Complete containment (or near-complete containment, allowing for genotyping error) suggests the *plausibility* that a simple single-contributor profile—the \"query\"—is a contributor to the a complex mixture profile—the \"subject.\"\n",
    "(Unfortunately, it cannot give positive confirmation that the query is a contributor.)\n",
    "On the other hand, lack of complete or near-complete containment is strong evidence that the query is *not* a contributor to the subject.\n",
    "\n",
    "Let us calculate the containment of sample **REF2** in sample **EVD3**."
   ]
  },
  {
   "cell_type": "code",
   "execution_count": 25,
   "metadata": {},
   "outputs": [
    {
     "name": "stdout",
     "output_type": "stream",
     "text": [
      "[MicroHapulator] running version 0.3+34.gb44b810.dirty\n",
      "{\n",
      "    \"containment\": 1.0,\n",
      "    \"contained_alleles\": 83,\n",
      "    \"total_alleles\": 83\n",
      "}"
     ]
    }
   ],
   "source": [
    "mhpl8r contain profile-EVD3.json profile-REF2.json"
   ]
  },
  {
   "cell_type": "markdown",
   "metadata": {},
   "source": [
    "This result tells us that 100% of the alleles from **REF2** are present in **EVD3**, and suggests **REF2** is a plausible contributor to **EVD3**.\n",
    "What can we say about **REF3** and **REF4**?"
   ]
  },
  {
   "cell_type": "code",
   "execution_count": 26,
   "metadata": {},
   "outputs": [
    {
     "name": "stdout",
     "output_type": "stream",
     "text": [
      "[MicroHapulator] running version 0.3+34.gb44b810.dirty\n",
      "{\n",
      "    \"containment\": 0.7143,\n",
      "    \"contained_alleles\": 60,\n",
      "    \"total_alleles\": 84\n",
      "}"
     ]
    }
   ],
   "source": [
    "mhpl8r contain profile-EVD3.json profile-REF3.json"
   ]
  },
  {
   "cell_type": "code",
   "execution_count": 27,
   "metadata": {},
   "outputs": [
    {
     "name": "stdout",
     "output_type": "stream",
     "text": [
      "[MicroHapulator] running version 0.3+34.gb44b810.dirty\n",
      "{\n",
      "    \"containment\": 0.6977,\n",
      "    \"contained_alleles\": 60,\n",
      "    \"total_alleles\": 86\n",
      "}"
     ]
    }
   ],
   "source": [
    "mhpl8r contain profile-EVD3.json profile-REF4.json"
   ]
  },
  {
   "cell_type": "markdown",
   "metadata": {},
   "source": [
    "Only about 70% of the alleles in both of these samples are present in **EVD3**, strongly suggesting that they are not contributors to the sample.\n",
    "\n",
    "As a final note, it important acknowledge several factors that can influence the value of the containment metric.\n",
    "Minor contributors to a mixture may not be fully captured by the inferred genotype profile without some refinement of analytical thresholds, and thus may have a containment value < 1.0.\n",
    "The amount of input DNA and the depth of sequencing coverage also influence the ability to recover minor contributors in a sample profile.\n",
    "On the other hand, numerous alleles from non-contributors will likely be present in a mixture simply by chance, and as the complexity and diversity of the mixture increases so will the containment for non-contributors.\n",
    "Probabilistic genotyping methods are the preferred approach for robust interpretation of complex mixtures, although these are not yet available in MicroHapulator."
   ]
  }
 ],
 "metadata": {
  "kernelspec": {
   "display_name": "Bash",
   "language": "bash",
   "name": "bash"
  },
  "language_info": {
   "codemirror_mode": "shell",
   "file_extension": ".sh",
   "mimetype": "text/x-sh",
   "name": "bash"
  }
 },
 "nbformat": 4,
 "nbformat_minor": 2
}
