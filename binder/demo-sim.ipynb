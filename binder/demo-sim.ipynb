{
 "cells": [
  {
   "cell_type": "markdown",
   "metadata": {},
   "source": [
    "# MicroHapulator: Simulation Demo\n",
    "\n",
    "**MicroHapulator** is software for forensic analysis of microhaplotype sequence data.\n",
    "Features include the following:\n",
    "\n",
    "- simulating simple (single-contributor) and complex (multi-contributor) DNA samples\n",
    "- simulated MPS sequencing of user-specified microhap panels\n",
    "- genotyping of DNA profiles from simple and complex DNA samples\n",
    "- tools for deterministic and probabilistic interpretation of simple and complex samples\n",
    "\n",
    "MicroHapulator relies on microhap marker definitions and allele frequencies from [MicroHapDB](https://github.com/bioforensics/MicroHapDB) and MPS error models included with [InSilicoSeq](https://github.com/HadrienG/InSilicoSeq/).\n",
    "\n",
    "MPS sequence data from microhap loci of real DNA samples is not easily accessible due to a variety of reasons, including privacy, intellectual property, cost, and the novelty of microhaplotypes as a forensic marker.\n",
    "The development of methods and tools for analysis and interpretation of microhaps can therefore benefit immensely from simulated data.\n",
    "This notebook provides an interactive demonstration of MicroHapulator's features for simulating genotype profiles and targeted MPS sequencing of the corresponding loci."
   ]
  },
  {
   "cell_type": "markdown",
   "metadata": {},
   "source": [
    "## Scenario 1 — Simulating Genotypes\n",
    "\n",
    "First we will construct a hypothetical forensic scenario involving a reference sample obtained from a person of interest, as well as two evidentiary samples whose origin is unknown in the context of the investigation.\n",
    "\n",
    "To fully construct this scenario we need to simulate genotype profiles for two individuals, **i1** and **i2**.\n",
    "To do this, we must specify the population from which each parental haplotype originates and the panel of microhap markers that will be assayed.\n",
    "We invoke the `mhpl8r sim` command to simulate each genotype."
   ]
  },
  {
   "cell_type": "code",
   "execution_count": 2,
   "metadata": {},
   "outputs": [
    {
     "name": "stdout",
     "output_type": "stream",
     "text": [
      "[MicroHapulator] running version 0.3+28.g2cc0a4b.dirty\n",
      "[MicroHapulator::sim] simulated microhaplotype variation at 50 markers\n",
      "[MicroHapulator::sim] profile JSON written to genotype-i1.json\n"
     ]
    }
   ],
   "source": [
    "mhpl8r sim --seed 24680 --out genotype-i1.json Iberian Iberian beta-panel.txt"
   ]
  },
  {
   "cell_type": "markdown",
   "metadata": {},
   "source": [
    "Let's break down what each part of this command means.\n",
    "\n",
    "- `mhl8r sim`: The command to simulate a genotype profile.\n",
    "- `--seed 24680`: MicroHapulator uses a random number generator to sample alleles randomly at each marker for each parental haplotype. It's possible to set this random number generator to a predictable state using a specific \"seed\" value so that the same sequence of \"random\" numbers can be reproduced later. In other words, specifying a seed is indicating that I don't want *just any* random genotype, I want *that particular* random genotype. The seed value can be chosen arbitrarily since it has no other significance or meaning.\n",
    "- `--out genotype-i1.json`: The file to which the simulated genotype will be written.\n",
    "- `Iberian Iberian`: Use the \"Iberian\" population allele frequencies (ALFRED population \"SA004108N\") to sample alleles for both the maternal and paternal haplotypes. MicroHapulator can use allele frequency distributions from any population in the MicroHapDB database to simulate genotypes that realisticly reflect true allele frequencies. MicroHapDB includes definitions for 290 microhaplotype markers and allele frequencies for 102 global populations and cohorts, which represents nearly all published microhap data.\n",
    "- `beta-panel.txt`: A file containing identifiers for the 50 microhap markers we will assay in our hypothetical scenario.\n",
    "\n",
    "We can peek at the top of this file to explore its contents.\n",
    "As you can see, it contains marker names and genotypes in JSON (JavaScript Object Notation) format, which is easily consumed by computers and also human readable (if a bit verbose).\n",
    "For example, this genotype is homozygous for the `T,G,G` allele at marker `mh01CP-016`, and heterzygous for the alleles `A,A,C,T` and `A,G,C,T` at marker `mh01KK-117`.\n",
    "Here we can only see information for the first two markers, but information for all 50 markers is present in the remainder of the file."
   ]
  },
  {
   "cell_type": "code",
   "execution_count": 3,
   "metadata": {},
   "outputs": [
    {
     "name": "stdout",
     "output_type": "stream",
     "text": [
      "{\n",
      "    \"markers\": {\n",
      "        \"mh01CP-016\": {\n",
      "            \"genotype\": [\n",
      "                {\n",
      "                    \"allele\": \"T,G,G\",\n",
      "                    \"haplotype\": 0\n",
      "                },\n",
      "                {\n",
      "                    \"allele\": \"T,G,G\",\n",
      "                    \"haplotype\": 1\n",
      "                }\n",
      "            ]\n",
      "        },\n",
      "        \"mh01KK-117\": {\n",
      "            \"genotype\": [\n",
      "                {\n",
      "                    \"allele\": \"A,A,C,T\",\n",
      "                    \"haplotype\": 0\n",
      "                },\n",
      "                {\n",
      "                    \"allele\": \"A,G,C,T\",\n",
      "                    \"haplotype\": 1\n",
      "                }\n",
      "            ]\n"
     ]
    }
   ],
   "source": [
    "head -n 25 genotype-i1.json"
   ]
  },
  {
   "cell_type": "markdown",
   "metadata": {},
   "source": [
    "Now let's simulate our second individual, storing its genotype in the file `genotype-i2.json`."
   ]
  },
  {
   "cell_type": "code",
   "execution_count": 4,
   "metadata": {},
   "outputs": [
    {
     "name": "stdout",
     "output_type": "stream",
     "text": [
      "[MicroHapulator] running version 0.3+28.g2cc0a4b.dirty\n",
      "[MicroHapulator::sim] simulated microhaplotype variation at 50 markers\n",
      "[MicroHapulator::sim] profile JSON written to genotype-i2.json\n"
     ]
    }
   ],
   "source": [
    "mhpl8r sim --seed 13579 --out genotype-i2.json Iberian Iberian beta-panel.txt"
   ]
  },
  {
   "cell_type": "markdown",
   "metadata": {},
   "source": [
    "## Scenario 1 — Simulated MPS Sequencing\n",
    "\n",
    "Next we will simulate Illumina MiSeq sequencing of three samples from these two individuals: a reference sample **r1** and two evidentiary samples **e1** and **e2**.\n",
    "Samples **r1** and **e1** originate from individual **i1**, and sample **e2** originates from individual **i2**.\n",
    "Of course, in a real case the identity of the reference sample donor would be known, but the identity of the evidentiary sample donor(s) would be unknown.\n",
    "\n",
    "Let's start with sample **r1**."
   ]
  },
  {
   "cell_type": "code",
   "execution_count": 5,
   "metadata": {},
   "outputs": [
    {
     "name": "stdout",
     "output_type": "stream",
     "text": [
      "[MicroHapulator] running version 0.3+28.g2cc0a4b.dirty\n",
      "[MicroHapulator::seq] Individual seed=666410524 numreads=10000\n"
     ]
    }
   ],
   "source": [
    "mhpl8r seq --num-reads 10000 --out reads-r1.fastq.gz --seed 666410524 --threads 2 genotype-i1.json"
   ]
  },
  {
   "cell_type": "markdown",
   "metadata": {},
   "source": [
    "Let's break this command down.\n",
    "\n",
    "- `mhpl8r seq`: The command to simulate MPS sequencing.\n",
    "- `--num-reads 10000`: Simulate 10,000 reads.\n",
    "- `--out reads-r1.fastq.gz`: Write the results to a file named `reads-r1.fastq.gz`.\n",
    "- `--seed 666410524`: Seed the random number generator. As with `mhpl8r sim`, running `mhpl8r seq` with the same random seed on the same genotype will produce exactly the same \"random\" reads. However, running `mhpl8r seq` on the same genotype twice using two different seeds represents sequencing two independent samples of the same individual.\n",
    "- `--threads 2`: Accelerate the simulation using 2 threads. On larger machines, you may be able to use as many as 32 or 64 threads to accelerate the simulation.\n",
    "- `genotype-i1.json`: The file containing the genotype to be sequenced.\n",
    "\n",
    "Now let's create sample **e1** from the same genotype."
   ]
  },
  {
   "cell_type": "code",
   "execution_count": 6,
   "metadata": {},
   "outputs": [
    {
     "name": "stdout",
     "output_type": "stream",
     "text": [
      "[MicroHapulator] running version 0.3+28.g2cc0a4b.dirty\n",
      "[MicroHapulator::seq] Individual seed=3374532379 numreads=2000\n"
     ]
    }
   ],
   "source": [
    "mhpl8r seq --threads 2 --num-reads 2000 --seed 3374532379 --out reads-e1.fastq.gz genotype-i1.json"
   ]
  },
  {
   "cell_type": "markdown",
   "metadata": {},
   "source": [
    "And finally, sample **e2** from the genotype of individual **i2**."
   ]
  },
  {
   "cell_type": "code",
   "execution_count": 7,
   "metadata": {},
   "outputs": [
    {
     "name": "stdout",
     "output_type": "stream",
     "text": [
      "[MicroHapulator] running version 0.3+28.g2cc0a4b.dirty\n",
      "[MicroHapulator::seq] Individual seed=3963949764 numreads=2000\n"
     ]
    }
   ],
   "source": [
    "mhpl8r seq --threads 2 --num-reads 2000 --seed 3963949764 --out reads-e2.fastq.gz genotype-i2.json"
   ]
  },
  {
   "cell_type": "markdown",
   "metadata": {},
   "source": [
    "## Scenario 2\n",
    "\n",
    "More info here."
   ]
  },
  {
   "cell_type": "markdown",
   "metadata": {},
   "source": [
    "## Multiple-contributor Sample"
   ]
  },
  {
   "cell_type": "code",
   "execution_count": 9,
   "metadata": {},
   "outputs": [
    {
     "name": "stdout",
     "output_type": "stream",
     "text": [
      "[MicroHapulator] running version 0.3+28.g2cc0a4b.dirty\n",
      "[MicroHapulator::sim] simulated microhaplotype variation at 50 markers\n",
      "[MicroHapulator::sim] profile JSON written to genotype-m1.json\n",
      "[MicroHapulator] running version 0.3+28.g2cc0a4b.dirty\n",
      "[MicroHapulator::sim] simulated microhaplotype variation at 50 markers\n",
      "[MicroHapulator::sim] profile JSON written to genotype-m2.json\n",
      "[MicroHapulator] running version 0.3+28.g2cc0a4b.dirty\n",
      "[MicroHapulator::sim] simulated microhaplotype variation at 50 markers\n",
      "[MicroHapulator::sim] profile JSON written to genotype-m3.json\n",
      "[MicroHapulator] running version 0.3+28.g2cc0a4b.dirty\n",
      "[MicroHapulator::sim] simulated microhaplotype variation at 50 markers\n",
      "[MicroHapulator::sim] profile JSON written to genotype-m4.json\n",
      "[MicroHapulator] running version 0.3+28.g2cc0a4b.dirty\n",
      "[MicroHapulator::sim] simulated microhaplotype variation at 50 markers\n",
      "[MicroHapulator::sim] profile JSON written to genotype-m5.json\n"
     ]
    }
   ],
   "source": [
    "# Contributors\n",
    "mhpl8r sim --seed 1234 --out genotype-m1.json SA004250L SA004250L beta-panel.txt\n",
    "mhpl8r sim --seed 5678 --out genotype-m2.json SA004250L SA004250L beta-panel.txt\n",
    "mhpl8r sim --seed 1029 --out genotype-m3.json SA004250L SA004250L beta-panel.txt\n",
    "\n",
    "# Non-contributors\n",
    "mhpl8r sim --seed 3847 --out genotype-m4.json SA004250L SA004250L beta-panel.txt\n",
    "mhpl8r sim --seed 5656 --out genotype-m5.json SA004250L SA004250L beta-panel.txt"
   ]
  },
  {
   "cell_type": "code",
   "execution_count": 10,
   "metadata": {},
   "outputs": [
    {
     "name": "stdout",
     "output_type": "stream",
     "text": [
      "[MicroHapulator] running version 0.3+28.g2cc0a4b.dirty\n",
      "[MicroHapulator::seq] Individual seed=3944980044 numreads=14000\n",
      "[MicroHapulator::seq] Individual seed=1814986775 numreads=4000\n",
      "[MicroHapulator::seq] Individual seed=2550701427 numreads=2000\n"
     ]
    }
   ],
   "source": [
    "mhpl8r seq --proportions 0.7 0.2 0.1 --num-reads 20000 --threads 2 --out mix-reads.fastq.gz \\\n",
    "    genotype-m1.json genotype-m2.json genotype-m3.json"
   ]
  }
 ],
 "metadata": {
  "kernelspec": {
   "display_name": "Bash",
   "language": "bash",
   "name": "bash"
  },
  "language_info": {
   "codemirror_mode": "shell",
   "file_extension": ".sh",
   "mimetype": "text/x-sh",
   "name": "bash"
  }
 },
 "nbformat": 4,
 "nbformat_minor": 2
}
