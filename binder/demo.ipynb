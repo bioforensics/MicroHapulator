{
 "cells": [
  {
   "cell_type": "markdown",
   "metadata": {},
   "source": [
    "# MicroHapulator: Interactive Demo\n",
    "\n",
    "<small>Daniel Standage, 2022-01-11</small>\n",
    "\n",
    "**MicroHapulator** is an application for empirical haplotype calling, analysis, and basic forensic interpretation of microhaplotypes with NGS data.\n",
    "The software is typically run by entering commands in a shell terminal window.\n",
    "This notebook provides an interactive environment intended to introduce the software, interleaving narrative text, shell commands that the reader can execute and re-execute, the output of those commands, and explanatory commentary.\n",
    "To execute the code in the notebook, select the corresponding cell and click the `[> Run]` button at the top of the page (or as a keyboard shortcut, simultaneously press `[shift]` and `[enter]`)."
   ]
  },
  {
   "cell_type": "markdown",
   "metadata": {},
   "source": [
    "## Overview\n",
    "\n",
    "> *This demo assumes the reader is familiar with basic terminology and concepts related to biology, genomes, and NGS sequencing.\n",
    "> A [primer on forensic DNA typing](https://microhapulator.readthedocs.io/en/latest/config.html) is available for the interested reader.*\n",
    "\n",
    "MicroHapulator calls haplotypes by probing NGS reads aligned to a reference sequence for the corresponding marker.\n",
    "Consider the following mock example.\n",
    "The first line shows the reference sequence for the `mh01USC-1pD` marker.\n",
    "Each subsequent line represents an NGS read aligned to the marker sequence.\n",
    "The `*` symbols denote the locations of the SNPs present in the marker, and the `.` symbols denote locations where the NGS read matches the reference.\n",
    "\n",
    "```\n",
    "                       *                     *           *\n",
    "AAATAGCTGGGCTAATAATGAACTGAAGCAAAGTCAACTGAAATGTCCTGGGCAGCTCCAGAAACTCCAGAATGGGGAGGA\n",
    ".......................C.....................C.......\n",
    "  .....................C.....................C...........A...\n",
    "       .....A..........C.....................T...........C........\n",
    "        ...............C.....................T...........C.........\n",
    "          .............C.....................C...........A...........\n",
    "            ...........C.....................C...........A.............\n",
    "                 ......C.....................C...........A.................\n",
    "                 ......C.....................C...........A.................\n",
    "                    ...C.....................G...........A....................\n",
    "                     ..C.....................T...........C.....................\n",
    "```\n",
    "\n",
    "We can examine the aligned reads to determine the number of times each allelic combination (haplotype) occurs.\n",
    "We call this tally a *typing result*.\n",
    "The typing result for this example is as follows: the `C,C,A` haplotype is observed 5 times, the `C,T,C` haplotype is observed 3 times, and the `C,G,A` haplotype is observed 1 time.\n",
    "If we then filter out the `C,G,A` haplotype as erroneous (see below), we can infer a diploid `C,C,A / C,T,C` genotype for this marker.\n",
    "We call this process *genotype prediction*.\n",
    "\n",
    "It is helpful to point about a few observations about this example.\n",
    "- The first aligned read does not span all SNPs at the marker, so it is discarded.\n",
    "- The third aligned read shows an `A` at the 13th position of the marker reference sequence. Whether this reflects true genetic variation or is a technical artifact resulting from sequencing error, it is ignored by MicroHapulator because it is not one of the three SNPs of interest.\n",
    "- The `C,G,A` haplotype is only observed once and is likely a false haplotype resulting from sequencing error at the second SNP of interest in the haplotype. When dozens or hundreds (or thousands!) of reads are successfully sequenced and aligned to the marker reference, it is usually simple to distinguish signal (true haplotypes) from noise (false haplotypes resulting from sequencing error). When the depth of sequencing coverage is low, as it is in this example, it can be more difficult to distinguish signal from noise. Determining appropriate per-marker thresholds (detection thresholds and analytical thresholds) for filtering will typically require a non-trivial amount of testing with the laboratory's NGS sequencing instrument(s).\n",
    "\n",
    "While this mock example is helpful in building intuition about haplotype calling, manual visual examination is not feasible for performing this task on dozens of markers and (potentially) millions of NGS reads.\n",
    "The MicroHapulator software provides tools that automate haplotype calling and genotype prediction, as well as assist with basic interpretation of the forensic typing result."
   ]
  },
  {
   "cell_type": "markdown",
   "metadata": {},
   "source": [
    "## Setup\n",
    "\n",
    "Two mock scenarios are presented in this demo, in which a number of reference and evidentiary samples have been sequenced on an Illumina MiSeq.\n",
    "In both cases, the sequencing assay targeted a panel of 23 microhaplotype markers.\n",
    "The identifiers for these markers are shown below."
   ]
  },
  {
   "cell_type": "code",
   "execution_count": 1,
   "metadata": {},
   "outputs": [
    {
     "name": "stdout",
     "output_type": "stream",
     "text": [
      "mh01USC-1pD\n",
      "mh02USC-2pC\n",
      "mh03USC-3qC\n",
      "mh04USC-4pA\n",
      "mh05USC-5pA\n",
      "mh06USC-6pB\n",
      "mh07USC-7pB\n",
      "mh08USC-8pA\n",
      "mh09USC-9pA\n",
      "mh0XUSC-XqH\n",
      "mh10USC-10qC\n",
      "mh11USC-11pB\n",
      "mh12USC-12qB\n",
      "mh13USC-13qA\n",
      "mh14USC-14qA\n",
      "mh15USC-15qA\n",
      "mh16USC-16qB\n",
      "mh17USC-17pA\n",
      "mh18USC-18qC\n",
      "mh19USC-19qB\n",
      "mh20USC-20qB\n",
      "mh21USC-21qA\n",
      "mh22USC-22qB\n",
      "\u001b[?2004h"
     ]
    },
    {
     "ename": "",
     "evalue": "1",
     "output_type": "error",
     "traceback": []
    }
   ],
   "source": [
    "cat panel.txt"
   ]
  },
  {
   "cell_type": "markdown",
   "metadata": {},
   "source": [
    "Following the instructions in the [MicroHapulator configuration manual](https://microhapulator.readthedocs.io/en/latest/config.html), configuration files were prepared previously with marker reference sequences, microhaplotype SNP definitions, and haplotype frequencies for the population of interest.\n",
    "These files are listed as follows.\n",
    "(The full contents of these files are available HERE (LINK FIXME).)"
   ]
  },
  {
   "cell_type": "code",
   "execution_count": 2,
   "metadata": {},
   "outputs": [
    {
     "name": "stdout",
     "output_type": "stream",
     "text": [
      "frequencies.tsv\n",
      "marker-defn.tsv\n",
      "refr-seqs.fasta\n",
      "\u001b[?2004h"
     ]
    },
    {
     "ename": "",
     "evalue": "1",
     "output_type": "error",
     "traceback": []
    }
   ],
   "source": [
    "ls -1 refr-seqs.fasta marker-defn.tsv frequencies.tsv"
   ]
  },
  {
   "cell_type": "markdown",
   "metadata": {},
   "source": [
    "Prior to haplotype calling, the NGS reads must be mapped to the reference sequences.\n",
    "This mapping procedure requires the construction of a search index for the reference sequences.\n",
    "The indexing task only needs to be performed once for any given reference sequence file."
   ]
  },
  {
   "cell_type": "code",
   "execution_count": 3,
   "metadata": {},
   "outputs": [
    {
     "name": "stdout",
     "output_type": "stream",
     "text": [
      "[bwa_index] Pack FASTA... 0.00 sec\n",
      "[bwa_index] Construct BWT for the packed sequence...\n",
      "[bwa_index] 0.00 seconds elapse.\n",
      "[bwa_index] Update BWT... 0.00 sec\n",
      "[bwa_index] Pack forward-only FASTA... 0.00 sec\n",
      "[bwa_index] Construct SA from BWT and Occ... 0.00 sec\n",
      "[main] Version: 0.7.17-r1188\n",
      "[main] CMD: bwa index refr-seqs.fasta\n",
      "[main] Real time: 0.009 sec; CPU: 0.010 sec\n",
      "\u001b[?2004h"
     ]
    },
    {
     "ename": "",
     "evalue": "1",
     "output_type": "error",
     "traceback": []
    }
   ],
   "source": [
    "bwa index refr-seqs.fasta"
   ]
  },
  {
   "cell_type": "markdown",
   "metadata": {},
   "source": [
    "And then of course, we need to download the NGS reads for our mock scenarios."
   ]
  },
  {
   "cell_type": "code",
   "execution_count": 4,
   "metadata": {},
   "outputs": [
    {
     "name": "stdout",
     "output_type": "stream",
     "text": [
      "FIXME04l\n",
      "\u001b[?2004h"
     ]
    },
    {
     "ename": "",
     "evalue": "1",
     "output_type": "error",
     "traceback": []
    }
   ],
   "source": [
    "echo FIXME"
   ]
  },
  {
   "cell_type": "markdown",
   "metadata": {},
   "source": [
    "## Scenario 1\n",
    "\n",
    "In this scenario, we have collected two evidentiary samples in the course of a forensic investigation.\n",
    "These samples have been labeled **EVD1** and **EVD2**.\n",
    "The case worker suspects that these are both single-source DNA samples.\n",
    "We also have a reference sample labeled **REF1** collected from a person of interest in the investigation.\n",
    "Each sample was assayed with our 23-plex NGS panel, and the reads were stored in three pairs of files: `EVD1-reads-R*.fastq.gz`, `EVD2-reads-R*.fastq.gz`, and `REF1-reads-R*.fastq.gz`."
   ]
  },
  {
   "cell_type": "code",
   "execution_count": 5,
   "metadata": {},
   "outputs": [
    {
     "name": "stdout",
     "output_type": "stream",
     "text": [
      "EVD1-reads-R1.fastq.gz\n",
      "EVD1-reads-R2.fastq.gz\n",
      "EVD2-reads-R1.fastq.gz\n",
      "EVD2-reads-R2.fastq.gz\n",
      "REF1-reads-R1.fastq.gz\n",
      "REF1-reads-R2.fastq.gz\n",
      "\u001b[?2004h"
     ]
    },
    {
     "ename": "",
     "evalue": "1",
     "output_type": "error",
     "traceback": []
    }
   ],
   "source": [
    "ls -1 EVD1-reads-R*.fastq.gz EVD2-reads-R*.fastq.gz REF1-reads-R*.fastq.gz"
   ]
  },
  {
   "cell_type": "markdown",
   "metadata": {},
   "source": [
    "### Preprocessing\n",
    "\n",
    "The first step in our workflow is to merge overlapping reads pairs into a single fragment per pair.\n",
    "For this we use the FLASH program.\n",
    "We'll first merge the reads from sample **EVD1** with the following command."
   ]
  },
  {
   "cell_type": "code",
   "execution_count": 6,
   "metadata": {},
   "outputs": [
    {
     "name": "stdout",
     "output_type": "stream",
     "text": [
      "[FLASH] Starting FLASH v1.2.11\n",
      "[FLASH] Fast Length Adjustment of SHort reads\n",
      "[FLASH]  \n",
      "[FLASH] Input files:\n",
      "[FLASH]     EVD1-reads-R1.fastq.gz\n",
      "[FLASH]     EVD1-reads-R2.fastq.gz\n",
      "[FLASH]  \n",
      "[FLASH] Output files:\n",
      "[FLASH]     ./EVD1.extendedFrags.fastq\n",
      "[FLASH]     ./EVD1.notCombined_1.fastq\n",
      "[FLASH]     ./EVD1.notCombined_2.fastq\n",
      "[FLASH]     ./EVD1.hist\n",
      "[FLASH]     ./EVD1.histogram\n",
      "[FLASH]  \n",
      "[FLASH] Parameters:\n",
      "[FLASH]     Min overlap:           100\n",
      "[FLASH]     Max overlap:           325\n",
      "[FLASH]     Max mismatch density:  0.250000\n",
      "[FLASH]     Allow \"outie\" pairs:   true\n",
      "[FLASH]     Cap mismatch quals:    false\n",
      "[FLASH]     Combiner threads:      8\n",
      "[FLASH]     Input format:          FASTQ, phred_offset=33\n",
      "[FLASH]     Output format:         FASTQ, phred_offset=33\n",
      "[FLASH]  \n",
      "[FLASH] Starting reader and writer threads\n",
      "[FLASH] Starting 8 combiner threads\n",
      "[FLASH] Processed 2500 read pairs\n",
      "[FLASH]  \n",
      "[FLASH] Read combination statistics:\n",
      "[FLASH]     Total pairs:      2500\n",
      "[FLASH]     Combined pairs:   2472\n",
      "[FLASH]         Innie pairs:   1252 (50.65% of combined)\n",
      "[FLASH]         Outie pairs:   1220 (49.35% of combined)\n",
      "[FLASH]     Uncombined pairs: 28\n",
      "[FLASH]     Percent combined: 98.88%\n",
      "[FLASH]  \n",
      "[FLASH] Writing histogram files.\n",
      "[FLASH]  \n",
      "[FLASH] FLASH v1.2.11 complete!\n",
      "[FLASH] 0.028 seconds elapsed\n",
      "\u001b[?2004h"
     ]
    },
    {
     "ename": "",
     "evalue": "1",
     "output_type": "error",
     "traceback": []
    }
   ],
   "source": [
    "flash EVD1-reads-R1.fastq.gz EVD1-reads-R2.fastq.gz --min-overlap=100 --max-overlap=325 --output-prefix=EVD1 --allow-outies"
   ]
  },
  {
   "cell_type": "markdown",
   "metadata": {},
   "source": [
    "As noted in the FLASH output, we now have the reads stored with one fragment per read in the file `EVD1.extendedFrags.fastq`.\n",
    "The next step in our workflow is to map the reads to the target amplicon sequences in `refr-seqs.fasta`.\n",
    "In this notebook we use the `bwa mem` algorithm, but other algorithms such as `bowtie2` would also be appopriate to use here.\n",
    "We also use `samtools` to convert the plain text alignments in SAM format to sorted, compressed, and indexed read alignments in BAM format."
   ]
  },
  {
   "cell_type": "code",
   "execution_count": 7,
   "metadata": {},
   "outputs": [
    {
     "name": "stdout",
     "output_type": "stream",
     "text": [
      "[M::bwa_idx_load_from_disk] read 0 ALT contigs\n",
      "[M::process] read 2472 sequences (765992 bp)...\n",
      "[M::mem_process_seqs] Processed 2472 reads in 0.245 CPU sec, 0.245 real sec\n",
      "[main] Version: 0.7.17-r1188\n",
      "[main] CMD: bwa mem refr-seqs.fasta EVD1.extendedFrags.fastq\n",
      "[main] Real time: 0.269 sec; CPU: 0.259 sec\n",
      "\u001b[?2004h\u001b[?2004l"
     ]
    },
    {
     "ename": "",
     "evalue": "1",
     "output_type": "error",
     "traceback": []
    }
   ],
   "source": [
    "bwa mem refr-seqs.fasta EVD1.extendedFrags.fastq | samtools view -b | samtools sort -o EVD1-reads.bam\n",
    "samtools index EVD1-reads.bam"
   ]
  },
  {
   "cell_type": "markdown",
   "metadata": {},
   "source": [
    "We can now repeat the data preprocessing for **EVD2** and **REF1**."
   ]
  },
  {
   "cell_type": "code",
   "execution_count": 8,
   "metadata": {},
   "outputs": [
    {
     "name": "stdout",
     "output_type": "stream",
     "text": [
      "[FLASH] Starting FLASH v1.2.11\n",
      "[FLASH] Fast Length Adjustment of SHort reads\n",
      "[FLASH]  \n",
      "[FLASH] Input files:\n",
      "[FLASH]     EVD2-reads-R1.fastq.gz\n",
      "[FLASH]     EVD2-reads-R2.fastq.gz\n",
      "[FLASH]  \n",
      "[FLASH] Output files:\n",
      "[FLASH]     ./EVD2.extendedFrags.fastq\n",
      "[FLASH]     ./EVD2.notCombined_1.fastq\n",
      "[FLASH]     ./EVD2.notCombined_2.fastq\n",
      "[FLASH]     ./EVD2.hist\n",
      "[FLASH]     ./EVD2.histogram\n",
      "[FLASH]  \n",
      "[FLASH] Parameters:\n",
      "[FLASH]     Min overlap:           100\n",
      "[FLASH]     Max overlap:           325\n",
      "[FLASH]     Max mismatch density:  0.250000\n",
      "[FLASH]     Allow \"outie\" pairs:   true\n",
      "[FLASH]     Cap mismatch quals:    false\n",
      "[FLASH]     Combiner threads:      8\n",
      "[FLASH]     Input format:          FASTQ, phred_offset=33\n",
      "[FLASH]     Output format:         FASTQ, phred_offset=33\n",
      "[FLASH]  \n",
      "[FLASH] Starting reader and writer threads\n",
      "[FLASH] Starting 8 combiner threads\n",
      "[FLASH] Processed 2500 read pairs\n",
      "[FLASH]  \n",
      "[FLASH] Read combination statistics:\n",
      "[FLASH]     Total pairs:      2500\n",
      "[FLASH]     Combined pairs:   2500\n",
      "[FLASH]         Innie pairs:   1155 (46.20% of combined)\n",
      "[FLASH]         Outie pairs:   1345 (53.80% of combined)\n",
      "[FLASH]     Uncombined pairs: 0\n",
      "[FLASH]     Percent combined: 100.00%\n",
      "[FLASH]  \n",
      "[FLASH] Writing histogram files.\n",
      "[FLASH]  \n",
      "[FLASH] FLASH v1.2.11 complete!\n",
      "[FLASH] 0.029 seconds elapsed\n",
      "[M::bwa_idx_load_from_disk] read 0 ALT contigs\n",
      "[M::process] read 2500 sequences (772154 bp)...\n",
      "[M::mem_process_seqs] Processed 2500 reads in 0.209 CPU sec, 0.210 real sec\n",
      "[main] Version: 0.7.17-r1188\n",
      "[main] CMD: bwa mem refr-seqs.fasta EVD2.extendedFrags.fastq\n",
      "[main] Real time: 0.231 sec; CPU: 0.218 sec\n",
      "[FLASH] Starting FLASH v1.2.114l\n",
      "[FLASH] Fast Length Adjustment of SHort reads\n",
      "[FLASH]  \n",
      "[FLASH] Input files:\n",
      "[FLASH]     REF1-reads-R1.fastq.gz\n",
      "[FLASH]     REF1-reads-R2.fastq.gz\n",
      "[FLASH]  \n",
      "[FLASH] Output files:\n",
      "[FLASH]     ./REF1.extendedFrags.fastq\n",
      "[FLASH]     ./REF1.notCombined_1.fastq\n",
      "[FLASH]     ./REF1.notCombined_2.fastq\n",
      "[FLASH]     ./REF1.hist\n",
      "[FLASH]     ./REF1.histogram\n",
      "[FLASH]  \n",
      "[FLASH] Parameters:\n",
      "[FLASH]     Min overlap:           100\n",
      "[FLASH]     Max overlap:           325\n",
      "[FLASH]     Max mismatch density:  0.250000\n",
      "[FLASH]     Allow \"outie\" pairs:   true\n",
      "[FLASH]     Cap mismatch quals:    false\n",
      "[FLASH]     Combiner threads:      8\n",
      "[FLASH]     Input format:          FASTQ, phred_offset=33\n",
      "[FLASH]     Output format:         FASTQ, phred_offset=33\n",
      "[FLASH]  \n",
      "[FLASH] Starting reader and writer threads\n",
      "[FLASH] Starting 8 combiner threads\n",
      "[FLASH] Processed 25000 read pairs\n",
      "[FLASH] Processed 25002 read pairs\n",
      "[FLASH]  \n",
      "[FLASH] Read combination statistics:\n",
      "[FLASH]     Total pairs:      25002\n",
      "[FLASH]     Combined pairs:   24366\n",
      "[FLASH]         Innie pairs:   12470 (51.18% of combined)\n",
      "[FLASH]         Outie pairs:   11896 (48.82% of combined)\n",
      "[FLASH]     Uncombined pairs: 636\n",
      "[FLASH]     Percent combined: 97.46%\n",
      "[FLASH]  \n",
      "[FLASH] Writing histogram files.\n",
      "[FLASH]  \n",
      "[FLASH] FLASH v1.2.11 complete!\n",
      "[FLASH] 0.179 seconds elapsed\n",
      "[M::bwa_idx_load_from_disk] read 0 ALT contigs\n",
      "[M::process] read 24366 sequences (7534476 bp)...\n",
      "[M::mem_process_seqs] Processed 24366 reads in 2.155 CPU sec, 2.156 real sec\n",
      "[main] Version: 0.7.17-r1188\n",
      "[main] CMD: bwa mem refr-seqs.fasta REF1.extendedFrags.fastq\n",
      "[main] Real time: 2.377 sec; CPU: 2.215 sec\n",
      "\u001b[?2004h\u001b[?2004l"
     ]
    },
    {
     "ename": "",
     "evalue": "1",
     "output_type": "error",
     "traceback": []
    }
   ],
   "source": [
    "flash EVD2-reads-R1.fastq.gz EVD2-reads-R2.fastq.gz --min-overlap=100 --max-overlap=325 --output-prefix=EVD2 --allow-outies\n",
    "bwa mem refr-seqs.fasta EVD2.extendedFrags.fastq | samtools view -b | samtools sort -o EVD2-reads.bam\n",
    "samtools index EVD2-reads.bam\n",
    "\n",
    "flash REF1-reads-R1.fastq.gz REF1-reads-R2.fastq.gz --min-overlap=100 --max-overlap=325 --output-prefix=REF1 --allow-outies\n",
    "bwa mem refr-seqs.fasta REF1.extendedFrags.fastq | samtools view -b | samtools sort -o REF1-reads.bam\n",
    "samtools index REF1-reads.bam"
   ]
  },
  {
   "cell_type": "markdown",
   "metadata": {},
   "source": [
    "We now have a `.bam` file with aligned reads for each sample."
   ]
  },
  {
   "cell_type": "code",
   "execution_count": 9,
   "metadata": {},
   "outputs": [
    {
     "name": "stdout",
     "output_type": "stream",
     "text": [
      "EVD1-reads.bam\n",
      "EVD2-reads.bam\n",
      "REF1-reads.bam\n",
      "\u001b[?2004h"
     ]
    },
    {
     "ename": "",
     "evalue": "1",
     "output_type": "error",
     "traceback": []
    }
   ],
   "source": [
    "ls -1 EVD1-reads.bam EVD2-reads.bam REF1-reads.bam"
   ]
  },
  {
   "cell_type": "markdown",
   "metadata": {},
   "source": [
    "### Haplotype Calling and Genotype Prediction\n",
    "\n",
    "With the reads aligned to their respective reference sequences, we have everything we need to perform haplotype calling and infer a genotype for these samples.\n",
    "This is done with the `mhpl8r type` command.\n",
    "In brief, MicroHapulator iterates over each aligned read, determining both the per-SNP alleles as well as the allele of all SNPs in aggregate, i.e., the marker's haplotype.\n",
    "We'll call the complete tally of all observed haplotypes the sample's *typing result*.\n",
    "\n",
    "Due to sequencing errors, some of the haplotypes observed in a typing result will be technical artifacts.\n",
    "After computing a typing result, the `mhpl8r type` command can also apply naïve static and/or dynamic filters to distinguish true haplotypes from false and determine the genotype of the sample.\n",
    "\n",
    "In addition to the BAM file containing read alignments, we also need to specify the configuration file containing marker definitions for the 23-plex panel.\n",
    "MicroHapulator will compute both the typing result and genotype call, storing them in a file named `EVD1-result.json`."
   ]
  },
  {
   "cell_type": "code",
   "execution_count": 10,
   "metadata": {},
   "outputs": [
    {
     "name": "stdout",
     "output_type": "stream",
     "text": [
      "[MicroHapulator] running version 0.4.1+47.g2b51220.dirty\n",
      "[MicroHapulator::type] discarded 12 reads with gaps or missing data at positions of interest\n",
      "\u001b[?2004h"
     ]
    },
    {
     "ename": "",
     "evalue": "1",
     "output_type": "error",
     "traceback": []
    }
   ],
   "source": [
    "mhpl8r type marker-defn.tsv EVD1-reads.bam --dynamic 0.1 --static 5 --out EVD1-result.json"
   ]
  },
  {
   "cell_type": "markdown",
   "metadata": {},
   "source": [
    "We can peek at the first few lines of this file to get an idea of its contents.\n",
    "The data is stored in JavaScript Object Notation (JSON), and includes for each marker a handful of coverage statistics, the typing result (haplotype tallies), and a genotype call.\n",
    "In this case, the first two markers listed (`mh01USC-1pD` and `mh02USC-2pC`) are both called as heterozygous.\n",
    "Only the first two markers are shown here, but the rest of the file contains haplotype tallies and genotype calls for the remaining 21 markers."
   ]
  },
  {
   "cell_type": "code",
   "execution_count": 11,
   "metadata": {},
   "outputs": [
    {
     "name": "stdout",
     "output_type": "stream",
     "text": [
      "{[?2004l\n",
      "    \"markers\": {\n",
      "        \"mh01USC-1pD\": {\n",
      "            \"genotype\": [\n",
      "                {\n",
      "                    \"haplotype\": \"C,C,A\"\n",
      "                },\n",
      "                {\n",
      "                    \"haplotype\": \"C,C,C\"\n",
      "                }\n",
      "            ],\n",
      "            \"max_coverage\": 109,\n",
      "            \"mean_coverage\": 103.8,\n",
      "            \"min_coverage\": 4,\n",
      "            \"num_discarded_reads\": 0,\n",
      "            \"typing_result\": {\n",
      "                \"C,C,A\": 55,\n",
      "                \"C,C,C\": 54\n",
      "            }\n",
      "        },\n",
      "        \"mh02USC-2pC\": {\n",
      "            \"genotype\": [\n",
      "                {\n",
      "                    \"haplotype\": \"A,C,G,T\"\n",
      "                },\n",
      "                {\n",
      "                    \"haplotype\": \"G,C,G,T\"\n",
      "                }\n",
      "            ],\n",
      "            \"max_coverage\": 106,\n",
      "            \"mean_coverage\": 101.2,\n",
      "            \"min_coverage\": 8,\n",
      "            \"num_discarded_reads\": 0,\n",
      "            \"typing_result\": {\n",
      "                \"A,C,G,T\": 53,\n",
      "                \"G,C,G,T\": 53\n",
      "            }\n",
      "        },\n",
      "\u001b[?2004h"
     ]
    },
    {
     "ename": "",
     "evalue": "1",
     "output_type": "error",
     "traceback": []
    }
   ],
   "source": [
    "cat EVD1-result.json | head -n 38"
   ]
  },
  {
   "cell_type": "markdown",
   "metadata": {},
   "source": [
    "As a sanity check, it's always critical to examine the *interlocus balance* of a sample. Are there any markers with a disproportionately high or low number of aligned reads? We can assess this with the `mhpl8r balance` command."
   ]
  },
  {
   "cell_type": "code",
   "execution_count": 12,
   "metadata": {},
   "outputs": [
    {
     "name": "stdout",
     "output_type": "stream",
     "text": [
      "[MicroHapulator] running version 0.4.1+47.g2b51220.dirty\n",
      "\n",
      "\u001b[0mmh01USC-1pD : \u001b[0m▇▇▇▇▇▇▇▇▇▇▇▇▇▇▇▇▇▇▇▇▇▇▇▇▇▇▇▇▇▇▇▇▇▇▇▇▇▇▇▇▇▇▇▇▇▇▇▇▇▇ 109.00\n",
      "mh03USC-3qC : \u001b[0m▇▇▇▇▇▇▇▇▇▇▇▇▇▇▇▇▇▇▇▇▇▇▇▇▇▇▇▇▇▇▇▇▇▇▇▇▇▇▇▇▇▇▇▇▇▇▇▇▇▇ 109.00\n",
      "mh05USC-5pA : \u001b[0m▇▇▇▇▇▇▇▇▇▇▇▇▇▇▇▇▇▇▇▇▇▇▇▇▇▇▇▇▇▇▇▇▇▇▇▇▇▇▇▇▇▇▇▇▇▇▇▇▇▇ 109.00\n",
      "mh07USC-7pB : \u001b[0m▇▇▇▇▇▇▇▇▇▇▇▇▇▇▇▇▇▇▇▇▇▇▇▇▇▇▇▇▇▇▇▇▇▇▇▇▇▇▇▇▇▇▇▇▇▇▇▇▇▇ 109.00\n",
      "mh09USC-9pA : \u001b[0m▇▇▇▇▇▇▇▇▇▇▇▇▇▇▇▇▇▇▇▇▇▇▇▇▇▇▇▇▇▇▇▇▇▇▇▇▇▇▇▇▇▇▇▇▇▇▇▇▇▇ 109.00\n",
      "mh0XUSC-XqH : \u001b[0m▇▇▇▇▇▇▇▇▇▇▇▇▇▇▇▇▇▇▇▇▇▇▇▇▇▇▇▇▇▇▇▇▇▇▇▇▇▇▇▇▇▇▇▇▇▇▇▇▇▇ 109.00\n",
      "mh12USC-12qB: \u001b[0m▇▇▇▇▇▇▇▇▇▇▇▇▇▇▇▇▇▇▇▇▇▇▇▇▇▇▇▇▇▇▇▇▇▇▇▇▇▇▇▇▇▇▇▇▇▇▇▇▇▇ 109.00\n",
      "mh13USC-13qA: \u001b[0m▇▇▇▇▇▇▇▇▇▇▇▇▇▇▇▇▇▇▇▇▇▇▇▇▇▇▇▇▇▇▇▇▇▇▇▇▇▇▇▇▇▇▇▇▇▇▇▇▇▇ 109.00\n",
      "mh14USC-14qA: \u001b[0m▇▇▇▇▇▇▇▇▇▇▇▇▇▇▇▇▇▇▇▇▇▇▇▇▇▇▇▇▇▇▇▇▇▇▇▇▇▇▇▇▇▇▇▇▇▇▇▇▇ 108.00\n",
      "mh20USC-20qB: \u001b[0m▇▇▇▇▇▇▇▇▇▇▇▇▇▇▇▇▇▇▇▇▇▇▇▇▇▇▇▇▇▇▇▇▇▇▇▇▇▇▇▇▇▇▇▇▇▇▇▇▇ 107.00\n",
      "mh19USC-19qB: \u001b[0m▇▇▇▇▇▇▇▇▇▇▇▇▇▇▇▇▇▇▇▇▇▇▇▇▇▇▇▇▇▇▇▇▇▇▇▇▇▇▇▇▇▇▇▇▇▇▇▇▇ 107.00\n",
      "mh18USC-18qC: \u001b[0m▇▇▇▇▇▇▇▇▇▇▇▇▇▇▇▇▇▇▇▇▇▇▇▇▇▇▇▇▇▇▇▇▇▇▇▇▇▇▇▇▇▇▇▇▇▇▇▇▇ 107.00\n",
      "mh16USC-16qB: \u001b[0m▇▇▇▇▇▇▇▇▇▇▇▇▇▇▇▇▇▇▇▇▇▇▇▇▇▇▇▇▇▇▇▇▇▇▇▇▇▇▇▇▇▇▇▇▇▇▇▇▇ 107.00\n",
      "mh15USC-15qA: \u001b[0m▇▇▇▇▇▇▇▇▇▇▇▇▇▇▇▇▇▇▇▇▇▇▇▇▇▇▇▇▇▇▇▇▇▇▇▇▇▇▇▇▇▇▇▇▇▇▇▇▇ 107.00\n",
      "mh11USC-11pB: \u001b[0m▇▇▇▇▇▇▇▇▇▇▇▇▇▇▇▇▇▇▇▇▇▇▇▇▇▇▇▇▇▇▇▇▇▇▇▇▇▇▇▇▇▇▇▇▇▇▇▇▇ 107.00\n",
      "mh06USC-6pB : \u001b[0m▇▇▇▇▇▇▇▇▇▇▇▇▇▇▇▇▇▇▇▇▇▇▇▇▇▇▇▇▇▇▇▇▇▇▇▇▇▇▇▇▇▇▇▇▇▇▇▇▇ 107.00\n",
      "mh22USC-22qB: \u001b[0m▇▇▇▇▇▇▇▇▇▇▇▇▇▇▇▇▇▇▇▇▇▇▇▇▇▇▇▇▇▇▇▇▇▇▇▇▇▇▇▇▇▇▇▇▇▇▇▇▇ 107.00\n",
      "mh02USC-2pC : \u001b[0m▇▇▇▇▇▇▇▇▇▇▇▇▇▇▇▇▇▇▇▇▇▇▇▇▇▇▇▇▇▇▇▇▇▇▇▇▇▇▇▇▇▇▇▇▇▇▇▇ 106.00\n",
      "mh10USC-10qC: \u001b[0m▇▇▇▇▇▇▇▇▇▇▇▇▇▇▇▇▇▇▇▇▇▇▇▇▇▇▇▇▇▇▇▇▇▇▇▇▇▇▇▇▇▇▇▇▇▇▇▇ 106.00\n",
      "mh17USC-17pA: \u001b[0m▇▇▇▇▇▇▇▇▇▇▇▇▇▇▇▇▇▇▇▇▇▇▇▇▇▇▇▇▇▇▇▇▇▇▇▇▇▇▇▇▇▇▇▇▇▇▇▇ 106.00\n",
      "mh08USC-8pA : \u001b[0m▇▇▇▇▇▇▇▇▇▇▇▇▇▇▇▇▇▇▇▇▇▇▇▇▇▇▇▇▇▇▇▇▇▇▇▇▇▇▇▇▇▇▇▇▇▇▇▇ 106.00\n",
      "mh04USC-4pA : \u001b[0m▇▇▇▇▇▇▇▇▇▇▇▇▇▇▇▇▇▇▇▇▇▇▇▇▇▇▇▇▇▇▇▇▇▇▇▇▇▇▇▇▇▇▇▇▇▇▇▇ 106.00\n",
      "mh21USC-21qA: \u001b[0m▇▇▇▇▇▇▇▇▇▇▇▇▇▇▇▇▇▇▇▇▇▇▇▇▇▇▇▇▇▇▇▇▇▇▇▇▇▇▇▇▇▇▇▇▇▇▇▇ 106.00\n",
      "\n",
      "\u001b[0m\u001b[?2004h"
     ]
    },
    {
     "ename": "",
     "evalue": "1",
     "output_type": "error",
     "traceback": []
    }
   ],
   "source": [
    "mhpl8r balance EVD1-result.json"
   ]
  },
  {
   "cell_type": "markdown",
   "metadata": {},
   "source": [
    "Because this sample data is simulated, the interlocus balance is artificially high in this case. With real data coming off an NGS sequencer, you expect to see some variation in the number of reads aligned to each marker. Some of this variation could be due to amplification dynamics (e.g. if using multiplex PCR to amplify the target loci), and some is simply due to stochastic factors in sequencing. Interlocus balance shouldn't typically be a problem unless it is extreme, but it will have implications for accurate genotype prediction at the markers with the lowest coverage, especially for low input samples.\n",
    "\n",
    "Now we repeat these steps to complete preprocessing for **EVD2** and **REF1**."
   ]
  },
  {
   "cell_type": "code",
   "execution_count": 13,
   "metadata": {},
   "outputs": [
    {
     "name": "stdout",
     "output_type": "stream",
     "text": [
      "[MicroHapulator] running version 0.4.1+47.g2b51220.dirty\n",
      "[MicroHapulator::type] discarded 12 reads with gaps or missing data at positions of interest\n",
      "[MicroHapulator] running version 0.4.1+47.g2b51220.dirty\n",
      "\n",
      "\u001b[0mmh01USC-1pD : \u001b[0m▇▇▇▇▇▇▇▇▇▇▇▇▇▇▇▇▇▇▇▇▇▇▇▇▇▇▇▇▇▇▇▇▇▇▇▇▇▇▇▇▇▇▇▇▇▇▇▇▇▇ 109.00\n",
      "mh0XUSC-XqH : \u001b[0m▇▇▇▇▇▇▇▇▇▇▇▇▇▇▇▇▇▇▇▇▇▇▇▇▇▇▇▇▇▇▇▇▇▇▇▇▇▇▇▇▇▇▇▇▇▇▇▇▇▇ 109.00\n",
      "mh20USC-20qB: \u001b[0m▇▇▇▇▇▇▇▇▇▇▇▇▇▇▇▇▇▇▇▇▇▇▇▇▇▇▇▇▇▇▇▇▇▇▇▇▇▇▇▇▇▇▇▇▇▇▇▇▇▇ 109.00\n",
      "mh19USC-19qB: \u001b[0m▇▇▇▇▇▇▇▇▇▇▇▇▇▇▇▇▇▇▇▇▇▇▇▇▇▇▇▇▇▇▇▇▇▇▇▇▇▇▇▇▇▇▇▇▇▇▇▇▇▇ 109.00\n",
      "mh18USC-18qC: \u001b[0m▇▇▇▇▇▇▇▇▇▇▇▇▇▇▇▇▇▇▇▇▇▇▇▇▇▇▇▇▇▇▇▇▇▇▇▇▇▇▇▇▇▇▇▇▇▇▇▇▇▇ 109.00\n",
      "mh16USC-16qB: \u001b[0m▇▇▇▇▇▇▇▇▇▇▇▇▇▇▇▇▇▇▇▇▇▇▇▇▇▇▇▇▇▇▇▇▇▇▇▇▇▇▇▇▇▇▇▇▇▇▇▇▇▇ 109.00\n",
      "mh15USC-15qA: \u001b[0m▇▇▇▇▇▇▇▇▇▇▇▇▇▇▇▇▇▇▇▇▇▇▇▇▇▇▇▇▇▇▇▇▇▇▇▇▇▇▇▇▇▇▇▇▇▇▇▇▇▇ 109.00\n",
      "mh13USC-13qA: \u001b[0m▇▇▇▇▇▇▇▇▇▇▇▇▇▇▇▇▇▇▇▇▇▇▇▇▇▇▇▇▇▇▇▇▇▇▇▇▇▇▇▇▇▇▇▇▇▇▇▇▇▇ 109.00\n",
      "mh12USC-12qB: \u001b[0m▇▇▇▇▇▇▇▇▇▇▇▇▇▇▇▇▇▇▇▇▇▇▇▇▇▇▇▇▇▇▇▇▇▇▇▇▇▇▇▇▇▇▇▇▇▇▇▇▇▇ 109.00\n",
      "mh11USC-11pB: \u001b[0m▇▇▇▇▇▇▇▇▇▇▇▇▇▇▇▇▇▇▇▇▇▇▇▇▇▇▇▇▇▇▇▇▇▇▇▇▇▇▇▇▇▇▇▇▇▇▇▇▇▇ 109.00\n",
      "mh09USC-9pA : \u001b[0m▇▇▇▇▇▇▇▇▇▇▇▇▇▇▇▇▇▇▇▇▇▇▇▇▇▇▇▇▇▇▇▇▇▇▇▇▇▇▇▇▇▇▇▇▇▇▇▇▇▇ 109.00\n",
      "mh07USC-7pB : \u001b[0m▇▇▇▇▇▇▇▇▇▇▇▇▇▇▇▇▇▇▇▇▇▇▇▇▇▇▇▇▇▇▇▇▇▇▇▇▇▇▇▇▇▇▇▇▇▇▇▇▇▇ 109.00\n",
      "mh06USC-6pB : \u001b[0m▇▇▇▇▇▇▇▇▇▇▇▇▇▇▇▇▇▇▇▇▇▇▇▇▇▇▇▇▇▇▇▇▇▇▇▇▇▇▇▇▇▇▇▇▇▇▇▇▇▇ 109.00\n",
      "mh05USC-5pA : \u001b[0m▇▇▇▇▇▇▇▇▇▇▇▇▇▇▇▇▇▇▇▇▇▇▇▇▇▇▇▇▇▇▇▇▇▇▇▇▇▇▇▇▇▇▇▇▇▇▇▇▇▇ 109.00\n",
      "mh03USC-3qC : \u001b[0m▇▇▇▇▇▇▇▇▇▇▇▇▇▇▇▇▇▇▇▇▇▇▇▇▇▇▇▇▇▇▇▇▇▇▇▇▇▇▇▇▇▇▇▇▇▇▇▇▇▇ 109.00\n",
      "mh22USC-22qB: \u001b[0m▇▇▇▇▇▇▇▇▇▇▇▇▇▇▇▇▇▇▇▇▇▇▇▇▇▇▇▇▇▇▇▇▇▇▇▇▇▇▇▇▇▇▇▇▇▇▇▇▇▇ 109.00\n",
      "mh10USC-10qC: \u001b[0m▇▇▇▇▇▇▇▇▇▇▇▇▇▇▇▇▇▇▇▇▇▇▇▇▇▇▇▇▇▇▇▇▇▇▇▇▇▇▇▇▇▇▇▇▇▇▇▇▇ 108.00\n",
      "mh02USC-2pC : \u001b[0m▇▇▇▇▇▇▇▇▇▇▇▇▇▇▇▇▇▇▇▇▇▇▇▇▇▇▇▇▇▇▇▇▇▇▇▇▇▇▇▇▇▇▇▇▇▇▇▇▇ 108.00\n",
      "mh08USC-8pA : \u001b[0m▇▇▇▇▇▇▇▇▇▇▇▇▇▇▇▇▇▇▇▇▇▇▇▇▇▇▇▇▇▇▇▇▇▇▇▇▇▇▇▇▇▇▇▇▇▇▇▇▇ 108.00\n",
      "mh14USC-14qA: \u001b[0m▇▇▇▇▇▇▇▇▇▇▇▇▇▇▇▇▇▇▇▇▇▇▇▇▇▇▇▇▇▇▇▇▇▇▇▇▇▇▇▇▇▇▇▇▇▇▇▇▇ 108.00\n",
      "mh17USC-17pA: \u001b[0m▇▇▇▇▇▇▇▇▇▇▇▇▇▇▇▇▇▇▇▇▇▇▇▇▇▇▇▇▇▇▇▇▇▇▇▇▇▇▇▇▇▇▇▇▇▇▇▇▇ 108.00\n",
      "mh04USC-4pA : \u001b[0m▇▇▇▇▇▇▇▇▇▇▇▇▇▇▇▇▇▇▇▇▇▇▇▇▇▇▇▇▇▇▇▇▇▇▇▇▇▇▇▇▇▇▇▇▇▇▇▇▇ 108.00\n",
      "mh21USC-21qA: \u001b[0m▇▇▇▇▇▇▇▇▇▇▇▇▇▇▇▇▇▇▇▇▇▇▇▇▇▇▇▇▇▇▇▇▇▇▇▇▇▇▇▇▇▇▇▇▇▇▇▇▇ 108.00\n",
      "\n",
      "[MicroHapulator] running version 0.4.1+47.g2b51220.dirty\n",
      "[MicroHapulator::type] discarded 96 reads with gaps or missing data at positions of interest\n",
      "[MicroHapulator] running version 0.4.1+47.g2b51220.dirty\n",
      "\n",
      "\u001b[0mmh01USC-1pD : \u001b[0m▇▇▇▇▇▇▇▇▇▇▇▇▇▇▇▇▇▇▇▇▇▇▇▇▇▇▇▇▇▇▇▇▇▇▇▇▇▇▇▇▇▇▇▇▇▇▇▇▇▇ 1.06 K\n",
      "mh09USC-9pA : \u001b[0m▇▇▇▇▇▇▇▇▇▇▇▇▇▇▇▇▇▇▇▇▇▇▇▇▇▇▇▇▇▇▇▇▇▇▇▇▇▇▇▇▇▇▇▇▇▇▇▇▇▇ 1.06 K\n",
      "mh12USC-12qB: \u001b[0m▇▇▇▇▇▇▇▇▇▇▇▇▇▇▇▇▇▇▇▇▇▇▇▇▇▇▇▇▇▇▇▇▇▇▇▇▇▇▇▇▇▇▇▇▇▇▇▇▇ 1.06 K\n",
      "mh17USC-17pA: \u001b[0m▇▇▇▇▇▇▇▇▇▇▇▇▇▇▇▇▇▇▇▇▇▇▇▇▇▇▇▇▇▇▇▇▇▇▇▇▇▇▇▇▇▇▇▇▇▇▇▇▇ 1.06 K\n",
      "mh0XUSC-XqH : \u001b[0m▇▇▇▇▇▇▇▇▇▇▇▇▇▇▇▇▇▇▇▇▇▇▇▇▇▇▇▇▇▇▇▇▇▇▇▇▇▇▇▇▇▇▇▇▇▇▇▇▇ 1.06 K\n",
      "mh21USC-21qA: \u001b[0m▇▇▇▇▇▇▇▇▇▇▇▇▇▇▇▇▇▇▇▇▇▇▇▇▇▇▇▇▇▇▇▇▇▇▇▇▇▇▇▇▇▇▇▇▇▇▇▇▇ 1.06 K\n",
      "mh20USC-20qB: \u001b[0m▇▇▇▇▇▇▇▇▇▇▇▇▇▇▇▇▇▇▇▇▇▇▇▇▇▇▇▇▇▇▇▇▇▇▇▇▇▇▇▇▇▇▇▇▇▇▇▇▇ 1.06 K\n",
      "mh19USC-19qB: \u001b[0m▇▇▇▇▇▇▇▇▇▇▇▇▇▇▇▇▇▇▇▇▇▇▇▇▇▇▇▇▇▇▇▇▇▇▇▇▇▇▇▇▇▇▇▇▇▇▇▇▇ 1.06 K\n",
      "mh18USC-18qC: \u001b[0m▇▇▇▇▇▇▇▇▇▇▇▇▇▇▇▇▇▇▇▇▇▇▇▇▇▇▇▇▇▇▇▇▇▇▇▇▇▇▇▇▇▇▇▇▇▇▇▇▇ 1.06 K\n",
      "mh15USC-15qA: \u001b[0m▇▇▇▇▇▇▇▇▇▇▇▇▇▇▇▇▇▇▇▇▇▇▇▇▇▇▇▇▇▇▇▇▇▇▇▇▇▇▇▇▇▇▇▇▇▇▇▇▇ 1.06 K\n",
      "mh14USC-14qA: \u001b[0m▇▇▇▇▇▇▇▇▇▇▇▇▇▇▇▇▇▇▇▇▇▇▇▇▇▇▇▇▇▇▇▇▇▇▇▇▇▇▇▇▇▇▇▇▇▇▇▇▇ 1.06 K\n",
      "mh13USC-13qA: \u001b[0m▇▇▇▇▇▇▇▇▇▇▇▇▇▇▇▇▇▇▇▇▇▇▇▇▇▇▇▇▇▇▇▇▇▇▇▇▇▇▇▇▇▇▇▇▇▇▇▇▇ 1.06 K\n",
      "mh11USC-11pB: \u001b[0m▇▇▇▇▇▇▇▇▇▇▇▇▇▇▇▇▇▇▇▇▇▇▇▇▇▇▇▇▇▇▇▇▇▇▇▇▇▇▇▇▇▇▇▇▇▇▇▇▇ 1.06 K\n",
      "mh10USC-10qC: \u001b[0m▇▇▇▇▇▇▇▇▇▇▇▇▇▇▇▇▇▇▇▇▇▇▇▇▇▇▇▇▇▇▇▇▇▇▇▇▇▇▇▇▇▇▇▇▇▇▇▇▇ 1.06 K\n",
      "mh05USC-5pA : \u001b[0m▇▇▇▇▇▇▇▇▇▇▇▇▇▇▇▇▇▇▇▇▇▇▇▇▇▇▇▇▇▇▇▇▇▇▇▇▇▇▇▇▇▇▇▇▇▇▇▇▇ 1.06 K\n",
      "mh03USC-3qC : \u001b[0m▇▇▇▇▇▇▇▇▇▇▇▇▇▇▇▇▇▇▇▇▇▇▇▇▇▇▇▇▇▇▇▇▇▇▇▇▇▇▇▇▇▇▇▇▇▇▇▇▇ 1.06 K\n",
      "mh02USC-2pC : \u001b[0m▇▇▇▇▇▇▇▇▇▇▇▇▇▇▇▇▇▇▇▇▇▇▇▇▇▇▇▇▇▇▇▇▇▇▇▇▇▇▇▇▇▇▇▇▇▇▇▇▇ 1.06 K\n",
      "mh08USC-8pA : \u001b[0m▇▇▇▇▇▇▇▇▇▇▇▇▇▇▇▇▇▇▇▇▇▇▇▇▇▇▇▇▇▇▇▇▇▇▇▇▇▇▇▇▇▇▇▇▇▇▇▇▇ 1.06 K\n",
      "mh07USC-7pB : \u001b[0m▇▇▇▇▇▇▇▇▇▇▇▇▇▇▇▇▇▇▇▇▇▇▇▇▇▇▇▇▇▇▇▇▇▇▇▇▇▇▇▇▇▇▇▇▇▇▇▇▇ 1.06 K\n",
      "mh06USC-6pB : \u001b[0m▇▇▇▇▇▇▇▇▇▇▇▇▇▇▇▇▇▇▇▇▇▇▇▇▇▇▇▇▇▇▇▇▇▇▇▇▇▇▇▇▇▇▇▇▇▇▇▇▇ 1.06 K\n",
      "mh04USC-4pA : \u001b[0m▇▇▇▇▇▇▇▇▇▇▇▇▇▇▇▇▇▇▇▇▇▇▇▇▇▇▇▇▇▇▇▇▇▇▇▇▇▇▇▇▇▇▇▇▇▇▇▇▇ 1.06 K\n",
      "mh22USC-22qB: \u001b[0m▇▇▇▇▇▇▇▇▇▇▇▇▇▇▇▇▇▇▇▇▇▇▇▇▇▇▇▇▇▇▇▇▇▇▇▇▇▇▇▇▇▇▇▇▇▇▇▇▇ 1.06 K\n",
      "mh16USC-16qB: \u001b[0m▇▇▇▇▇▇▇▇▇▇▇▇▇▇▇▇▇▇▇▇▇▇▇▇▇▇▇▇▇▇▇▇▇▇▇▇▇▇▇▇▇▇▇▇▇▇▇▇▇ 1.05 K\n",
      "\n",
      "\u001b[0m\u001b[?2004h"
     ]
    },
    {
     "ename": "",
     "evalue": "1",
     "output_type": "error",
     "traceback": []
    }
   ],
   "source": [
    "mhpl8r type marker-defn.tsv EVD2-reads.bam --dynamic 0.1 --static 5 --out EVD2-result.json\n",
    "mhpl8r balance EVD2-result.json\n",
    "mhpl8r type marker-defn.tsv REF1-reads.bam --dynamic 0.1 --static 5 --out REF1-result.json\n",
    "mhpl8r balance REF1-result.json"
   ]
  },
  {
   "cell_type": "markdown",
   "metadata": {},
   "source": [
    "With a typing result for each samplke and no concerns about interlocus balance, we can now move on to forensic interpretation."
   ]
  },
  {
   "cell_type": "markdown",
   "metadata": {},
   "source": [
    "### Interpretation\n",
    "\n",
    "Forensic interpretation refers to the process of determining the conclusions, if any, that can be responsibly drawn by comparing two or more DNA profiles. How confident can one be that two single-source profiles came from the same individual? How confident can one be that one single-source profile is a contributor to a second mixture profile? A variety of approaches exist for addressing these types of questions, some very simple and some very complex. MicroHapulator implements a handful of tools for simple forensic interpretation tasks. It also supports the export of typing results to a format that can be used by state-of-the-art probabilistic genotyping (probgen) programs. Probgen is beyond the scope of this tutorial, but we will demonstrate the basic interpretation capabilities provided by MicroHapulator.\n",
    "\n",
    "One question often encountered during a study or investigation is the number of DNA contributors in an evidentiary sample (or sometimes even a sample collected from a person of interest). A single-source profile will have at most two distinct alleles at any given marker, one from each parental haplotype. However, it's likewise possible that profile with two contributors will *also* have no more than two distinct alleles, even if the contributing genotypes are different (e.g. contributor A may be homozygous for one allele and contributor B homozygous for another allele). But chances are that two or more DNA contributors will result in three or more alleles for at least a *small* number of markers. We can use this to estimate the minimum number of contributors for a profile.\n",
    "\n",
    "The `mhpl8r contrib` command implements a procedure to scan a typing result to determine the maximum number of alleles $N_{\\text{al}}$ present at any single locus. From this, it can calculate the minimum number of DNA contributors $C_{\\text{min}}$ as follows.\n",
    "\n",
    "$$\n",
    "C_{\\text{min}} = \\left\\lceil\\frac{N_{\\text{al}}}{2}\\right\\rceil\n",
    "$$\n",
    "\n",
    "We begin by applying this to the three profiles in our mock scenario."
   ]
  },
  {
   "cell_type": "code",
   "execution_count": 14,
   "metadata": {},
   "outputs": [
    {
     "name": "stdout",
     "output_type": "stream",
     "text": [
      "[MicroHapulator] running version 0.4.1+47.g2b51220.dirty\n",
      "{\n",
      "    \"min_num_contrib\": 1,\n",
      "    \"num_loci_max_alleles\": 23,\n",
      "    \"perc_loci_max_alleles\": 1.0\n",
      "[MicroHapulator] running version 0.4.1+47.g2b51220.dirty\n",
      "{\n",
      "    \"min_num_contrib\": 1,\n",
      "    \"num_loci_max_alleles\": 23,\n",
      "    \"perc_loci_max_alleles\": 1.0\n",
      "[MicroHapulator] running version 0.4.1+47.g2b51220.dirty\n",
      "{\n",
      "    \"min_num_contrib\": 1,\n",
      "    \"num_loci_max_alleles\": 23,\n",
      "    \"perc_loci_max_alleles\": 1.0\n",
      "}\u001b[?2004h"
     ]
    },
    {
     "ename": "",
     "evalue": "1",
     "output_type": "error",
     "traceback": []
    }
   ],
   "source": [
    "mhpl8r contrib EVD1-result.json\n",
    "mhpl8r contrib EVD2-result.json\n",
    "mhpl8r contrib REF1-result.json"
   ]
  },
  {
   "cell_type": "markdown",
   "metadata": {},
   "source": [
    "In all three profiles, none of the 23 markers has evidence for more than a single contributor. It would thus be reasonable to pursue additional interpretation under the assumption that these are all single-source samples.\n",
    "\n",
    "Depending on the details of the investigation, it might be necessary to investigate whether the two evidentiary came from the same individual, or whether one of the the evidentiary samples matches a reference sample collected from a person of interest. The most basic approach to addressing this question is to examine a pair of profiles and determine, marker by marker, whether there are any differences between the genotypes. Given two MicroHapulator typing results, the `mhpl8r diff` command will print any alleles that are present in one profile but not the other."
   ]
  },
  {
   "cell_type": "code",
   "execution_count": 15,
   "metadata": {},
   "outputs": [
    {
     "name": "stdout",
     "output_type": "stream",
     "text": [
      "[MicroHapulator] running version 0.4.1+47.g2b51220.dirty\n",
      "\u001b[?2004h"
     ]
    },
    {
     "ename": "",
     "evalue": "1",
     "output_type": "error",
     "traceback": []
    }
   ],
   "source": [
    "mhpl8r diff EVD1-result.json REF1-result.json"
   ]
  },
  {
   "cell_type": "code",
   "execution_count": 16,
   "metadata": {},
   "outputs": [
    {
     "name": "stdout",
     "output_type": "stream",
     "text": [
      "[MicroHapulator] running version 0.4.1+47.g2b51220.dirty\n",
      "mh01USC-1pD\n",
      ">>> C,C,C\n",
      "mh02USC-2pC\n",
      ">>> A,C,G,T\n",
      "<<< G,C,T,T\n",
      "mh03USC-3qC\n",
      ">>> A,C,C,A,G\n",
      "<<< G,T,C,G,G\n",
      "mh04USC-4pA\n",
      "<<< G,T,A,A\n",
      "mh06USC-6pB\n",
      ">>> T,A,A\n",
      "<<< C,G,A\n",
      "mh07USC-7pB\n",
      ">>> A,G,G,C\n",
      "<<< T,A,A,C\n",
      "mh08USC-8pA\n",
      ">>> A,G,T,A\n",
      "<<< A,G,T,G\n",
      "mh09USC-9pA\n",
      ">>> G,T,C,A,C\n",
      ">>> G,T,C,G,C\n",
      "<<< A,T,C,A,A\n",
      "<<< A,T,T,G,C\n",
      "mh0XUSC-XqH\n",
      ">>> T,C,T\n",
      "<<< G,T,T\n",
      "<<< T,C,C\n",
      "mh10USC-10qC\n",
      "<<< G,C,A\n",
      "mh11USC-11pB\n",
      ">>> C,A,T,G\n",
      "<<< C,G,C,G\n",
      "mh12USC-12qB\n",
      ">>> A,A,A,T\n",
      "<<< G,A,A,C\n",
      "mh13USC-13qA\n",
      ">>> A,T,A,A\n",
      "<<< A,C,A,G\n",
      "mh14USC-14qA\n",
      ">>> G,C,G\n",
      "<<< T,C,G\n",
      "mh15USC-15qA\n",
      ">>> A,C,A,A\n",
      ">>> A,T,A,G\n",
      "<<< A,T,A,A\n",
      "<<< G,T,A,A\n",
      "mh16USC-16qB\n",
      ">>> G,A,T\n",
      "<<< A,A,T\n",
      "mh17USC-17pA\n",
      ">>> T,C,A\n",
      "<<< T,C,C\n",
      "mh18USC-18qC\n",
      ">>> G,A,A,G\n",
      "mh19USC-19qB\n",
      ">>> A,G,A\n",
      ">>> G,G,G\n",
      "<<< G,C,A\n",
      "<<< G,G,A\n",
      "mh20USC-20qB\n",
      "<<< T,C,G,C\n",
      "mh21USC-21qA\n",
      ">>> G,T,G,G\n",
      "mh22USC-22qB\n",
      ">>> G,G,C,G,T\n",
      "\u001b[?2004h"
     ]
    },
    {
     "ename": "",
     "evalue": "1",
     "output_type": "error",
     "traceback": []
    }
   ],
   "source": [
    "mhpl8r diff EVD1-result.json EVD2-result.json"
   ]
  },
  {
   "cell_type": "markdown",
   "metadata": {},
   "source": [
    "The first result shows that there are no differences between the **EVD1** profile and the **REF1** profile, so there is already strong evidence that these were derived from the same individual.\n",
    "\n",
    "The second result shows numerous differences between **EVD1** and **EVD2**. It's not uncommon to see minor discrepancies between different samples originating from the same individual—variability in laboratory processing or sample degradation could explain some of these differences. But we would not typically expect to see discordant alleles at almost every marker. The much more likely explanation in this case is that **EVD1** and **EVD2** come from different individuals.\n",
    "\n",
    "But beyond a basic check for their presence or absence, an exhaustive listing of discordant alleles isn't very helpful (except perhaps for troubleshooting purposes).\n",
    "What we *really* want is a quantitative measure of our confidence in a match between two profiles.\n",
    "We derive this measure by assessing the likelihood of two competing \"propositions\" or explanations for the data.\n",
    "Depending on the details of the investigation, we might formulate the likelihood ratio (LR) test as follows.\n",
    "\n",
    "- $H_p$: **REF1** and **EVD1** originated from the same individual\n",
    "- $H_d$: **REF1** and **EVD1** originated from two unrelated individuals in the population\n",
    "\n",
    "We then compute the likelihood ratio $LR =\\frac{H_p}{H_d}$.\n",
    "Large LR values are strong evidence in favor of $H_p$, small LR values support $H_d$, and LR values close to 1.0 are inconclusive.\n",
    "\n",
    "The probability $P(H_p) = \\epsilon^R$, where $\\epsilon$ is a per-marker rate of genotyping error (default: 0.001) and $R$ is the number of markers with discordant alleles between samples.\n",
    "The probability $P(H_d)$ is the random match probability (RMP) of the profile, which is essentially the product of the observed haplotype frequencies in the population.\n",
    "Note that in cases of a perfect match, $P(H_p) = 1$ and the LR is then simply the reciprocal of the RMP.\n",
    "\n",
    "We can use `mhpl8r prob` both to compute the RMP and to perform the LR test as formulated above."
   ]
  },
  {
   "cell_type": "code",
   "execution_count": 17,
   "metadata": {},
   "outputs": [
    {
     "name": "stdout",
     "output_type": "stream",
     "text": [
      "[MicroHapulator] running version 0.4.1+47.g2b51220.dirty\n",
      "{\n",
      "    \"random_match_probability\": \"1.394E-23\"\n",
      "[MicroHapulator] running version 0.4.1+47.g2b51220.dirty\n",
      "{\n",
      "    \"likelihood_ratio\": \"7.176E+22\"\n",
      "}\u001b[?2004h"
     ]
    },
    {
     "ename": "",
     "evalue": "1",
     "output_type": "error",
     "traceback": []
    }
   ],
   "source": [
    "mhpl8r prob frequencies.tsv EVD1-result.json\n",
    "mhpl8r prob frequencies.tsv EVD1-result.json REF1-result.json"
   ]
  },
  {
   "cell_type": "markdown",
   "metadata": {},
   "source": [
    "The result is a very large LR of $7.18 \\times 10^{22}$, lending strong support to $H_p$ over $H_d$, consistent with our earlier observations.\n",
    "\n",
    "Now let's consider what would happen if, disregarding our earlier observations, we had formulated the LR test as follows.\n",
    "\n",
    "- $H_p$: **REF2** and **EVD1** originated from the same individual\n",
    "- $H_d$: **REF2** and **EVD1** originated from two unrelated individuals in the population"
   ]
  },
  {
   "cell_type": "code",
   "execution_count": 18,
   "metadata": {},
   "outputs": [
    {
     "name": "stdout",
     "output_type": "stream",
     "text": [
      "[MicroHapulator] running version 0.4.1+47.g2b51220.dirty\n",
      "{\n",
      "    \"random_match_probability\": \"1.066E-23\"\n",
      "[MicroHapulator] running version 0.4.1+47.g2b51220.dirty\n",
      "{\n",
      "    \"likelihood_ratio\": \"9.384E-59\"\n",
      "}\u001b[?2004h"
     ]
    },
    {
     "ename": "",
     "evalue": "1",
     "output_type": "error",
     "traceback": []
    }
   ],
   "source": [
    "mhpl8r prob frequencies.tsv EVD2-result.json\n",
    "mhpl8r prob frequencies.tsv EVD2-result.json REF1-result.json"
   ]
  },
  {
   "cell_type": "markdown",
   "metadata": {},
   "source": [
    "Here we see a very different result.\n",
    "The RMP for **EVD2** is of similar magnitude to that of **EVD1**, but the LR test statistic is very small.\n",
    "A tremendous amount of error would be required if **EVD2** and **REF1** were from the same individual—much more likely is that these samples originated from two unrelated individuals."
   ]
  },
  {
   "cell_type": "markdown",
   "metadata": {},
   "source": [
    "## Scenario 2\n",
    "\n",
    "In this scenario, we have collected an evidentiary sample (**EVD3**) in the course of a forensic investigation, and there is some suspicion that this sample has multiple DNA contributors.\n",
    "We have also collected reference samples from three persons of interest in the investigation, labeled **REF2**, **REF3**, and **REF4**.\n",
    "As in the previous scenario, all four samples have been assayed with our 50 microhap MPS panel.\n",
    "Reads are available in the following files."
   ]
  },
  {
   "cell_type": "code",
   "execution_count": 18,
   "metadata": {},
   "outputs": [
    {
     "name": "stdout",
     "output_type": "stream",
     "text": [
      "reads-EVD3.fastq.gz\n",
      "reads-REF2.fastq.gz\n",
      "reads-REF3.fastq.gz\n",
      "reads-REF4.fastq.gz\n"
     ]
    }
   ],
   "source": [
    "ls -1 reads-EVD3.fastq.gz reads-REF2.fastq.gz reads-REF3.fastq.gz reads-REF4.fastq.gz"
   ]
  },
  {
   "cell_type": "markdown",
   "metadata": {},
   "source": [
    "As before, we will use `bwa mem` and `samtools` to align, sort, and index the reads for each sample."
   ]
  },
  {
   "cell_type": "code",
   "execution_count": 19,
   "metadata": {},
   "outputs": [
    {
     "name": "stdout",
     "output_type": "stream",
     "text": [
      "[M::bwa_idx_load_from_disk] read 0 ALT contigs\n",
      "[M::process] read 33224 sequences (10000424 bp)...\n",
      "[M::process] read 16726 sequences (5034526 bp)...\n",
      "[M::mem_process_seqs] Processed 33224 reads in 5.250 CPU sec, 5.263 real sec\n",
      "[M::mem_process_seqs] Processed 16726 reads in 2.613 CPU sec, 2.593 real sec\n",
      "[main] Version: 0.7.17-r1188\n",
      "[main] CMD: bwa mem beta-panel.fasta reads-EVD3.fastq.gz\n",
      "[main] Real time: 8.409 sec; CPU: 8.020 sec\n"
     ]
    }
   ],
   "source": [
    "bwa mem beta-panel.fasta reads-EVD3.fastq.gz | samtools view -bS - | samtools sort -o reads-EVD3.bam -\n",
    "samtools index reads-EVD3.bam"
   ]
  },
  {
   "cell_type": "code",
   "execution_count": 20,
   "metadata": {},
   "outputs": [
    {
     "name": "stdout",
     "output_type": "stream",
     "text": [
      "[M::bwa_idx_load_from_disk] read 0 ALT contigs\n",
      "[M::process] read 33224 sequences (10000424 bp)...\n",
      "[M::process] read 16726 sequences (5034526 bp)...\n",
      "[M::mem_process_seqs] Processed 33224 reads in 4.867 CPU sec, 4.818 real sec\n",
      "[M::mem_process_seqs] Processed 16726 reads in 2.628 CPU sec, 2.589 real sec\n",
      "[main] Version: 0.7.17-r1188\n",
      "[main] CMD: bwa mem beta-panel.fasta reads-REF2.fastq.gz\n",
      "[main] Real time: 8.040 sec; CPU: 7.652 sec\n"
     ]
    }
   ],
   "source": [
    "bwa mem beta-panel.fasta reads-REF2.fastq.gz | samtools view -bS - | samtools sort -o reads-REF2.bam -\n",
    "samtools index reads-REF2.bam"
   ]
  },
  {
   "cell_type": "code",
   "execution_count": 21,
   "metadata": {},
   "outputs": [
    {
     "name": "stdout",
     "output_type": "stream",
     "text": [
      "[M::bwa_idx_load_from_disk] read 0 ALT contigs\n",
      "[M::process] read 33224 sequences (10000424 bp)...\n",
      "[M::process] read 16726 sequences (5034526 bp)...\n",
      "[M::mem_process_seqs] Processed 33224 reads in 5.123 CPU sec, 5.075 real sec\n",
      "[M::mem_process_seqs] Processed 16726 reads in 2.730 CPU sec, 2.691 real sec\n",
      "[main] Version: 0.7.17-r1188\n",
      "[main] CMD: bwa mem beta-panel.fasta reads-REF3.fastq.gz\n",
      "[main] Real time: 8.406 sec; CPU: 8.015 sec\n"
     ]
    }
   ],
   "source": [
    "bwa mem beta-panel.fasta reads-REF3.fastq.gz | samtools view -bS - | samtools sort -o reads-REF3.bam -\n",
    "samtools index reads-REF3.bam"
   ]
  },
  {
   "cell_type": "code",
   "execution_count": 22,
   "metadata": {},
   "outputs": [
    {
     "name": "stdout",
     "output_type": "stream",
     "text": [
      "[M::bwa_idx_load_from_disk] read 0 ALT contigs\n",
      "[M::process] read 33224 sequences (10000424 bp)...\n",
      "[M::process] read 16726 sequences (5034526 bp)...\n",
      "[M::mem_process_seqs] Processed 33224 reads in 5.039 CPU sec, 5.005 real sec\n",
      "[M::mem_process_seqs] Processed 16726 reads in 2.701 CPU sec, 2.647 real sec\n",
      "[main] Version: 0.7.17-r1188\n",
      "[main] CMD: bwa mem beta-panel.fasta reads-REF4.fastq.gz\n",
      "[main] Real time: 8.291 sec; CPU: 7.900 sec\n"
     ]
    }
   ],
   "source": [
    "bwa mem beta-panel.fasta reads-REF4.fastq.gz | samtools view -bS - | samtools sort -o reads-REF4.bam -\n",
    "samtools index reads-REF4.bam"
   ]
  },
  {
   "cell_type": "markdown",
   "metadata": {},
   "source": [
    "Next we use `mhpl8r type` to infer genotype profiles for each sample."
   ]
  },
  {
   "cell_type": "code",
   "execution_count": 23,
   "metadata": {},
   "outputs": [
    {
     "name": "stdout",
     "output_type": "stream",
     "text": [
      "[MicroHapulator] running version 0.4.1\n",
      "[MicroHapulator::type] discarded 3674 reads with gaps or missing data at positions of interest\n",
      "[MicroHapulator] running version 0.4.1\n",
      "[MicroHapulator::type] discarded 7483 reads with gaps or missing data at positions of interest\n",
      "[MicroHapulator] running version 0.4.1\n",
      "[MicroHapulator::type] discarded 7280 reads with gaps or missing data at positions of interest\n",
      "[MicroHapulator] running version 0.4.1\n",
      "[MicroHapulator::type] discarded 7456 reads with gaps or missing data at positions of interest\n"
     ]
    }
   ],
   "source": [
    "mhpl8r type --out profile-EVD3.json beta-panel.fasta reads-EVD3.bam\n",
    "mhpl8r type --out profile-REF2.json beta-panel.fasta reads-REF2.bam\n",
    "mhpl8r type --out profile-REF3.json beta-panel.fasta reads-REF3.bam\n",
    "mhpl8r type --out profile-REF4.json beta-panel.fasta reads-REF4.bam"
   ]
  },
  {
   "cell_type": "markdown",
   "metadata": {},
   "source": [
    "We must now evaluate the evidentiary sample and see if we can confirm the presence of multiple DNA contributors.\n",
    "The `mhpl8r contrib` command implements a simple check for determining the minimum number of contributors by scanning the sample profile to determine the maximum number of alleles $N_{\\text{al}}$ present at any single locus.\n",
    "From this, it can calculate the minimum number of sample contributors $C_{\\text{min}}$ as follows.\n",
    "\n",
    "$$\n",
    "C_{\\text{min}} = \\left\\lceil\\frac{N_{\\text{al}}}{2}\\right\\rceil\n",
    "$$"
   ]
  },
  {
   "cell_type": "code",
   "execution_count": 24,
   "metadata": {},
   "outputs": [
    {
     "name": "stdout",
     "output_type": "stream",
     "text": [
      "[MicroHapulator] running version 0.4.1\n",
      "{\n",
      "    \"min_num_contrib\": 3,\n",
      "    \"num_loci_max_alleles\": 3,\n",
      "    \"perc_loci_max_alleles\": 0.06\n",
      "}"
     ]
    }
   ],
   "source": [
    "mhpl8r contrib -j profile-EVD3.json"
   ]
  },
  {
   "cell_type": "markdown",
   "metadata": {},
   "source": [
    "The profile supports the presence of at least three DNA contributors in this evidentiary sample.\n",
    "We must now determine which of the reference samples, if any, is a contributor.\n",
    "For this we use the `mhpl8r contain` command, which calculates the \"containment\" of one sample profile in another.\n",
    "Complete containment (or near-complete containment, allowing for genotyping error) suggests the *plausibility* that a simple single-contributor profile—the \"query\"—is a contributor to the a complex mixture profile—the \"subject.\"\n",
    "(Unfortunately, it cannot give positive confirmation that the query is a contributor.)\n",
    "On the other hand, lack of complete or near-complete containment is strong evidence that the query is *not* a contributor to the subject.\n",
    "\n",
    "Let us calculate the containment of sample **REF2** in sample **EVD3**."
   ]
  },
  {
   "cell_type": "code",
   "execution_count": 25,
   "metadata": {},
   "outputs": [
    {
     "name": "stdout",
     "output_type": "stream",
     "text": [
      "[MicroHapulator] running version 0.4.1\n",
      "{\n",
      "    \"containment\": 1.0,\n",
      "    \"contained_alleles\": 83,\n",
      "    \"total_alleles\": 83\n",
      "}"
     ]
    }
   ],
   "source": [
    "mhpl8r contain profile-EVD3.json profile-REF2.json"
   ]
  },
  {
   "cell_type": "markdown",
   "metadata": {},
   "source": [
    "This result tells us that 100% of the alleles from **REF2** are present in **EVD3**, and suggests **REF2** is a plausible contributor to **EVD3**.\n",
    "What can we say about **REF3** and **REF4**?"
   ]
  },
  {
   "cell_type": "code",
   "execution_count": 26,
   "metadata": {},
   "outputs": [
    {
     "name": "stdout",
     "output_type": "stream",
     "text": [
      "[MicroHapulator] running version 0.4.1\n",
      "{\n",
      "    \"containment\": 0.7143,\n",
      "    \"contained_alleles\": 60,\n",
      "    \"total_alleles\": 84\n",
      "}"
     ]
    }
   ],
   "source": [
    "mhpl8r contain profile-EVD3.json profile-REF3.json"
   ]
  },
  {
   "cell_type": "code",
   "execution_count": 27,
   "metadata": {},
   "outputs": [
    {
     "name": "stdout",
     "output_type": "stream",
     "text": [
      "[MicroHapulator] running version 0.4.1\n",
      "{\n",
      "    \"containment\": 0.6977,\n",
      "    \"contained_alleles\": 60,\n",
      "    \"total_alleles\": 86\n",
      "}"
     ]
    }
   ],
   "source": [
    "mhpl8r contain profile-EVD3.json profile-REF4.json"
   ]
  },
  {
   "cell_type": "markdown",
   "metadata": {},
   "source": [
    "Only about 70% of the alleles in both of these samples are present in **EVD3**, strongly suggesting that they are not contributors to the sample.\n",
    "\n",
    "As a final note, it important acknowledge several factors that can influence the value of the containment metric.\n",
    "Minor contributors to a mixture may not be fully captured by the inferred genotype profile without some refinement of analytical thresholds, and thus may have a containment value < 1.0.\n",
    "The amount of input DNA and the depth of sequencing coverage also influence the ability to recover minor contributors in a sample profile.\n",
    "On the other hand, numerous alleles from non-contributors will likely be present in a mixture simply by chance, and as the complexity and diversity of the mixture increases so will the containment for non-contributors.\n",
    "Probabilistic genotyping methods are the preferred approach for robust interpretation of complex mixtures, although these are not yet available in MicroHapulator."
   ]
  }
 ],
 "metadata": {
  "kernelspec": {
   "display_name": "Bash",
   "language": "bash",
   "name": "bash"
  },
  "language_info": {
   "codemirror_mode": "shell",
   "file_extension": ".sh",
   "mimetype": "text/x-sh",
   "name": "bash"
  }
 },
 "nbformat": 4,
 "nbformat_minor": 2
}
