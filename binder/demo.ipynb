{
 "cells": [
  {
   "cell_type": "markdown",
   "metadata": {},
   "source": [
    "# MicroHapulator: Interactive Demo\n",
    "\n",
    "**MicroHapulator** is an application for empirical haplotype calling, analysis, and basic forensic interpretation of microhaplotypes from NGS data.\n",
    "The software is typically run by entering commands in a shell terminal window.\n",
    "This notebook provides an interactive introduction to the software, containing not only narrative text but also shell commands that the reader can execute and re-execute, as well as the output of those commands.\n",
    "To execute the code in the notebook, select the corresponding cell and click the `[> Run]` button at the top of the page (or as a keyboard shortcut, simultaneously press `[shift]` and `[enter]`)."
   ]
  },
  {
   "cell_type": "markdown",
   "metadata": {},
   "source": [
    "## Overview\n",
    "\n",
    "> *This demo assumes the reader is familiar with basic terminology and concepts related to biology, genomes, and NGS sequencing.\n",
    "> A [primer on forensic DNA typing](https://microhapulator.readthedocs.io/en/latest/config.html) is available for the interested reader.*\n",
    "\n",
    "MicroHapulator calls haplotypes by examining NGS reads aligned to a reference sequence for the corresponding marker.\n",
    "Consider the following mock example.\n",
    "The first line shows the reference sequence for the `mh01USC-1pD` marker.\n",
    "Each subsequent line represents an NGS read aligned to the marker sequence.\n",
    "The `*` symbols denote the locations of the SNPs present in the marker, and the `.` symbols denote locations where the NGS read matches the reference.\n",
    "\n",
    "```\n",
    "                       *                     *           *\n",
    "AAATAGCTGGGCTAATAATGAACTGAAGCAAAGTCAACTGAAATGTCCTGGGCAGCTCCAGAAACTCCAGAATGGGGAGGA\n",
    ".......................C.....................C.......\n",
    "  .....................C.....................C...........A...\n",
    "       .....A..........C.....................T...........C........\n",
    "        ...............C.....................T...........C.........\n",
    "          .............C.....................C...........A...........\n",
    "            ...........C.....................C...........A.............\n",
    "                 ......C.....................C...........A.................\n",
    "                 ......C.....................C...........A.................\n",
    "                    ...C.....................G...........A....................\n",
    "                     ..C.....................T...........C.....................\n",
    "```\n",
    "\n",
    "We can examine the aligned reads to determine the number of times each allelic combination (haplotype) occurs.\n",
    "We call this tally a *typing result*.\n",
    "The typing result for this example is as follows: the `C,C,A` haplotype is observed 5 times, the `C,T,C` haplotype is observed 3 times, and the `C,G,A` haplotype is observed 1 time.\n",
    "If we then filter out the `C,G,A` haplotype as erroneous (see below), we can infer a diploid `C,C,A / C,T,C` genotype for this marker.\n",
    "We call this process *genotype prediction*.\n",
    "\n",
    "It is helpful to point about a few observations about this example.\n",
    "- The first aligned read does not span all SNPs at the marker, so it is discarded.\n",
    "- The third aligned read shows an `A` at the 13th position of the marker reference sequence. Whether this reflects true genetic variation or is a technical artifact resulting from sequencing error, it is ignored by MicroHapulator because it is not one of the three SNPs of interest.\n",
    "- The `C,G,A` haplotype is only observed once and is likely a false haplotype resulting from sequencing error at the second SNP of interest in the haplotype. When dozens or hundreds (or thousands!) of reads are successfully sequenced and aligned to the marker reference, it is simple to distinguish signal (true haplotypes) from noise (false haplotypes resulting from sequencing error). When the depth of sequencing coverage in this example is low, as it is in this example, it can be more difficult to distinguish signal from noise. Determining appropriate per-marker thresholds (detection thresholds and analytical thresholds) for filtering will typically require a non-trivial amount of testing with the laboratory's NGS sequencing instrument(s).\n",
    "\n",
    "While this mock example is helpful in building intuition about haplotype calling, manual visual examination is not feasible for performing this task on dozens of markers and (potentially) millions of NGS reads.\n",
    "The MicroHapulator software provides tools that automate haplotype calling and genotype prediction, as well as assist with basic interpretation of the forensic typing result."
   ]
  },
  {
   "cell_type": "markdown",
   "metadata": {},
   "source": [
    "## Setup\n",
    "\n",
    "Two mock scenarios are presented in this demo, in which a number of reference and evidentiary samples have been sequenced on an Illumina MiSeq.\n",
    "In both cases, the sequencing assay targeted a panel of 23 microhaplotype markers.\n",
    "The identifiers for these markers are shown below."
   ]
  },
  {
   "cell_type": "code",
   "execution_count": 1,
   "metadata": {},
   "outputs": [
    {
     "name": "stdout",
     "output_type": "stream",
     "text": [
      "mh01USC-1pD\n",
      "mh02USC-2pC\n",
      "mh03USC-3qC\n",
      "mh04USC-4pA\n",
      "mh05USC-5pA\n",
      "mh06USC-6pB\n",
      "mh07USC-7pB\n",
      "mh08USC-8pA\n",
      "mh09USC-9pA\n",
      "mh0XUSC-XqH\n",
      "mh10USC-10qC\n",
      "mh11USC-11pB\n",
      "mh12USC-12qB\n",
      "mh13USC-13qA\n",
      "mh14USC-14qA\n",
      "mh15USC-15qA\n",
      "mh16USC-16qB\n",
      "mh17USC-17pA\n",
      "mh18USC-18qC\n",
      "mh19USC-19qB\n",
      "mh20USC-20qB\n",
      "mh21USC-21qA\n",
      "mh22USC-22qB\n",
      "\u001b[?2004h"
     ]
    },
    {
     "ename": "",
     "evalue": "1",
     "output_type": "error",
     "traceback": []
    }
   ],
   "source": [
    "cat panel.txt"
   ]
  },
  {
   "cell_type": "markdown",
   "metadata": {},
   "source": [
    "Following the instructions in the [MicroHapulator configuration manual](https://microhapulator.readthedocs.io/en/latest/config.html), configuration files were prepared previously with marker reference sequences, microhaplotype SNP definitions, and haplotype frequencies for the population of interest.\n",
    "These files are listed as follows"
   ]
  },
  {
   "cell_type": "code",
   "execution_count": 2,
   "metadata": {},
   "outputs": [
    {
     "name": "stdout",
     "output_type": "stream",
     "text": [
      "frequencies.tsv\n",
      "marker-defn.tsv\n",
      "refr-seqs.fasta\n",
      "\u001b[?2004h"
     ]
    },
    {
     "ename": "",
     "evalue": "1",
     "output_type": "error",
     "traceback": []
    }
   ],
   "source": [
    "ls -1 refr-seqs.fasta marker-defn.tsv frequencies.tsv"
   ]
  },
  {
   "cell_type": "markdown",
   "metadata": {},
   "source": [
    "Prior to haplotype calling, the NGS reads must be mapped to the reference sequences.\n",
    "This mapping procedure requires the construction of a search index for the reference sequences.\n",
    "The indexing task only needs to be performed once for any given reference sequence file."
   ]
  },
  {
   "cell_type": "code",
   "execution_count": 3,
   "metadata": {},
   "outputs": [
    {
     "name": "stdout",
     "output_type": "stream",
     "text": [
      "[bwa_index] Pack FASTA... 0.00 sec\n",
      "[bwa_index] Construct BWT for the packed sequence...\n",
      "[bwa_index] 0.00 seconds elapse.\n",
      "[bwa_index] Update BWT... 0.00 sec\n",
      "[bwa_index] Pack forward-only FASTA... 0.00 sec\n",
      "[bwa_index] Construct SA from BWT and Occ... 0.00 sec\n",
      "[main] Version: 0.7.17-r1188\n",
      "[main] CMD: bwa index refr-seqs.fasta\n",
      "[main] Real time: 0.017 sec; CPU: 0.015 sec\n",
      "\u001b[?2004h"
     ]
    },
    {
     "ename": "",
     "evalue": "1",
     "output_type": "error",
     "traceback": []
    }
   ],
   "source": [
    "bwa index refr-seqs.fasta"
   ]
  },
  {
   "cell_type": "markdown",
   "metadata": {},
   "source": [
    "And then of course, we need to download the NGS reads for our mock scenarios."
   ]
  },
  {
   "cell_type": "code",
   "execution_count": 4,
   "metadata": {},
   "outputs": [
    {
     "name": "stdout",
     "output_type": "stream",
     "text": [
      "FIXME04l\n",
      "\u001b[?2004h"
     ]
    },
    {
     "ename": "",
     "evalue": "1",
     "output_type": "error",
     "traceback": []
    }
   ],
   "source": [
    "echo FIXME"
   ]
  },
  {
   "cell_type": "markdown",
   "metadata": {},
   "source": [
    "## Scenario 1\n",
    "\n",
    "In this scenario, we have collected two evidentiary samples in the course of a forensic investigation.\n",
    "These samples have been labeled **EVD1** and **EVD2**.\n",
    "We have been assured that these are both single-source DNA samples.\n",
    "We also have a reference sample labeled **REF1** collected from a person of interest in the investigation.\n",
    "Each sample was assayed with our 23-plex NGS panel, and the reads were stored in three pairs of files: `EVD1-reads-R*.fastq.gz`, `EVD2-reads-R*.fastq.gz`, and `REF1-reads-R*.fastq.gz`."
   ]
  },
  {
   "cell_type": "code",
   "execution_count": 5,
   "metadata": {},
   "outputs": [
    {
     "name": "stdout",
     "output_type": "stream",
     "text": [
      "EVD1-reads-R1.fastq.gz\n",
      "EVD1-reads-R2.fastq.gz\n",
      "EVD2-reads-R1.fastq.gz\n",
      "EVD2-reads-R2.fastq.gz\n",
      "REF1-reads-R1.fastq.gz\n",
      "REF1-reads-R2.fastq.gz\n",
      "\u001b[?2004h"
     ]
    },
    {
     "ename": "",
     "evalue": "1",
     "output_type": "error",
     "traceback": []
    }
   ],
   "source": [
    "ls -1 EVD1-reads-R*.fastq.gz EVD2-reads-R*.fastq.gz REF1-reads-R*.fastq.gz"
   ]
  },
  {
   "cell_type": "markdown",
   "metadata": {},
   "source": [
    "### Preprocessing\n",
    "\n",
    "The first step in our workflow is to merge overlapping reads pairs into a single fragment per pair.\n",
    "For this we use the FLASH program.\n",
    "We'll first merge the reads from sample **EVD1** with the following command."
   ]
  },
  {
   "cell_type": "code",
   "execution_count": 6,
   "metadata": {},
   "outputs": [
    {
     "name": "stdout",
     "output_type": "stream",
     "text": [
      "[FLASH] Starting FLASH v1.2.11\n",
      "[FLASH] Fast Length Adjustment of SHort reads\n",
      "[FLASH]  \n",
      "[FLASH] Input files:\n",
      "[FLASH]     EVD1-reads-R1.fastq.gz\n",
      "[FLASH]     EVD1-reads-R2.fastq.gz\n",
      "[FLASH]  \n",
      "[FLASH] Output files:\n",
      "[FLASH]     ./EVD1.extendedFrags.fastq\n",
      "[FLASH]     ./EVD1.notCombined_1.fastq\n",
      "[FLASH]     ./EVD1.notCombined_2.fastq\n",
      "[FLASH]     ./EVD1.hist\n",
      "[FLASH]     ./EVD1.histogram\n",
      "[FLASH]  \n",
      "[FLASH] Parameters:\n",
      "[FLASH]     Min overlap:           100\n",
      "[FLASH]     Max overlap:           325\n",
      "[FLASH]     Max mismatch density:  0.250000\n",
      "[FLASH]     Allow \"outie\" pairs:   true\n",
      "[FLASH]     Cap mismatch quals:    false\n",
      "[FLASH]     Combiner threads:      8\n",
      "[FLASH]     Input format:          FASTQ, phred_offset=33\n",
      "[FLASH]     Output format:         FASTQ, phred_offset=33\n",
      "[FLASH]  \n",
      "[FLASH] Starting reader and writer threads\n",
      "[FLASH] Starting 8 combiner threads\n",
      "[FLASH] Processed 2500 read pairs\n",
      "[FLASH]  \n",
      "[FLASH] Read combination statistics:\n",
      "[FLASH]     Total pairs:      2500\n",
      "[FLASH]     Combined pairs:   2472\n",
      "[FLASH]         Innie pairs:   1252 (50.65% of combined)\n",
      "[FLASH]         Outie pairs:   1220 (49.35% of combined)\n",
      "[FLASH]     Uncombined pairs: 28\n",
      "[FLASH]     Percent combined: 98.88%\n",
      "[FLASH]  \n",
      "[FLASH] Writing histogram files.\n",
      "[FLASH]  \n",
      "[FLASH] FLASH v1.2.11 complete!\n",
      "[FLASH] 0.037 seconds elapsed\n",
      "\u001b[?2004h"
     ]
    },
    {
     "ename": "",
     "evalue": "1",
     "output_type": "error",
     "traceback": []
    }
   ],
   "source": [
    "flash EVD1-reads-R1.fastq.gz EVD1-reads-R2.fastq.gz --min-overlap=100 --max-overlap=325 --output-prefix=EVD1 --allow-outies"
   ]
  },
  {
   "cell_type": "markdown",
   "metadata": {},
   "source": [
    "As noted in the FLASH output, we now have the reads stored with one fragment per read in the file `EVD1.extendedFrags.fastq`.\n",
    "The next step in our workflow is to map the reads to the target amplicon sequences in `refr-seqs.fasta`.\n",
    "In this notebook we use the `bwa mem` algorithm, but other algorithms such as `bowtie2` would also be appopriate to use here.\n",
    "We also use `samtools` to convert the plain text alignments in SAM format to sorted, compressed, and indexed read alignments in BAM format."
   ]
  },
  {
   "cell_type": "code",
   "execution_count": 7,
   "metadata": {},
   "outputs": [
    {
     "name": "stdout",
     "output_type": "stream",
     "text": [
      "[M::bwa_idx_load_from_disk] read 0 ALT contigs\n",
      "[M::process] read 2472 sequences (765992 bp)...\n",
      "[M::mem_process_seqs] Processed 2472 reads in 0.212 CPU sec, 0.212 real sec\n",
      "[main] Version: 0.7.17-r1188\n",
      "[main] CMD: bwa mem refr-seqs.fasta EVD1.extendedFrags.fastq\n",
      "[main] Real time: 0.239 sec; CPU: 0.224 sec\n",
      "\u001b[?2004h\u001b[?2004l"
     ]
    },
    {
     "ename": "",
     "evalue": "1",
     "output_type": "error",
     "traceback": []
    }
   ],
   "source": [
    "bwa mem refr-seqs.fasta EVD1.extendedFrags.fastq | samtools view -b | samtools sort -o EVD1-reads.bam\n",
    "samtools index EVD1-reads.bam"
   ]
  },
  {
   "cell_type": "markdown",
   "metadata": {},
   "source": [
    "We can now repeat the data preprocessing for **EVD2** and **REF1**."
   ]
  },
  {
   "cell_type": "code",
   "execution_count": 8,
   "metadata": {},
   "outputs": [
    {
     "name": "stdout",
     "output_type": "stream",
     "text": [
      "[FLASH] Starting FLASH v1.2.11\n",
      "[FLASH] Fast Length Adjustment of SHort reads\n",
      "[FLASH]  \n",
      "[FLASH] Input files:\n",
      "[FLASH]     EVD2-reads-R1.fastq.gz\n",
      "[FLASH]     EVD2-reads-R2.fastq.gz\n",
      "[FLASH]  \n",
      "[FLASH] Output files:\n",
      "[FLASH]     ./EVD2.extendedFrags.fastq\n",
      "[FLASH]     ./EVD2.notCombined_1.fastq\n",
      "[FLASH]     ./EVD2.notCombined_2.fastq\n",
      "[FLASH]     ./EVD2.hist\n",
      "[FLASH]     ./EVD2.histogram\n",
      "[FLASH]  \n",
      "[FLASH] Parameters:\n",
      "[FLASH]     Min overlap:           100\n",
      "[FLASH]     Max overlap:           325\n",
      "[FLASH]     Max mismatch density:  0.250000\n",
      "[FLASH]     Allow \"outie\" pairs:   true\n",
      "[FLASH]     Cap mismatch quals:    false\n",
      "[FLASH]     Combiner threads:      8\n",
      "[FLASH]     Input format:          FASTQ, phred_offset=33\n",
      "[FLASH]     Output format:         FASTQ, phred_offset=33\n",
      "[FLASH]  \n",
      "[FLASH] Starting reader and writer threads\n",
      "[FLASH] Starting 8 combiner threads\n",
      "[FLASH] Processed 2500 read pairs\n",
      "[FLASH]  \n",
      "[FLASH] Read combination statistics:\n",
      "[FLASH]     Total pairs:      2500\n",
      "[FLASH]     Combined pairs:   2500\n",
      "[FLASH]         Innie pairs:   1155 (46.20% of combined)\n",
      "[FLASH]         Outie pairs:   1345 (53.80% of combined)\n",
      "[FLASH]     Uncombined pairs: 0\n",
      "[FLASH]     Percent combined: 100.00%\n",
      "[FLASH]  \n",
      "[FLASH] Writing histogram files.\n",
      "[FLASH]  \n",
      "[FLASH] FLASH v1.2.11 complete!\n",
      "[FLASH] 0.038 seconds elapsed\n",
      "[M::bwa_idx_load_from_disk] read 0 ALT contigs\n",
      "[M::process] read 2500 sequences (772154 bp)...\n",
      "[M::mem_process_seqs] Processed 2500 reads in 0.212 CPU sec, 0.212 real sec\n",
      "[main] Version: 0.7.17-r1188\n",
      "[main] CMD: bwa mem refr-seqs.fasta EVD2.extendedFrags.fastq\n",
      "[main] Real time: 0.232 sec; CPU: 0.220 sec\n",
      "[FLASH] Starting FLASH v1.2.114l\n",
      "[FLASH] Fast Length Adjustment of SHort reads\n",
      "[FLASH]  \n",
      "[FLASH] Input files:\n",
      "[FLASH]     REF1-reads-R1.fastq.gz\n",
      "[FLASH]     REF1-reads-R2.fastq.gz\n",
      "[FLASH]  \n",
      "[FLASH] Output files:\n",
      "[FLASH]     ./REF1.extendedFrags.fastq\n",
      "[FLASH]     ./REF1.notCombined_1.fastq\n",
      "[FLASH]     ./REF1.notCombined_2.fastq\n",
      "[FLASH]     ./REF1.hist\n",
      "[FLASH]     ./REF1.histogram\n",
      "[FLASH]  \n",
      "[FLASH] Parameters:\n",
      "[FLASH]     Min overlap:           100\n",
      "[FLASH]     Max overlap:           325\n",
      "[FLASH]     Max mismatch density:  0.250000\n",
      "[FLASH]     Allow \"outie\" pairs:   true\n",
      "[FLASH]     Cap mismatch quals:    false\n",
      "[FLASH]     Combiner threads:      8\n",
      "[FLASH]     Input format:          FASTQ, phred_offset=33\n",
      "[FLASH]     Output format:         FASTQ, phred_offset=33\n",
      "[FLASH]  \n",
      "[FLASH] Starting reader and writer threads\n",
      "[FLASH] Starting 8 combiner threads\n",
      "[FLASH] Processed 25000 read pairs\n",
      "[FLASH] Processed 25002 read pairs\n",
      "[FLASH]  \n",
      "[FLASH] Read combination statistics:\n",
      "[FLASH]     Total pairs:      25002\n",
      "[FLASH]     Combined pairs:   24366\n",
      "[FLASH]         Innie pairs:   12470 (51.18% of combined)\n",
      "[FLASH]         Outie pairs:   11896 (48.82% of combined)\n",
      "[FLASH]     Uncombined pairs: 636\n",
      "[FLASH]     Percent combined: 97.46%\n",
      "[FLASH]  \n",
      "[FLASH] Writing histogram files.\n",
      "[FLASH]  \n",
      "[FLASH] FLASH v1.2.11 complete!\n",
      "[FLASH] 0.180 seconds elapsed\n",
      "[M::bwa_idx_load_from_disk] read 0 ALT contigs\n",
      "[M::process] read 24366 sequences (7534476 bp)...\n",
      "[M::mem_process_seqs] Processed 24366 reads in 2.152 CPU sec, 2.155 real sec\n",
      "[main] Version: 0.7.17-r1188\n",
      "[main] CMD: bwa mem refr-seqs.fasta REF1.extendedFrags.fastq\n",
      "[main] Real time: 2.374 sec; CPU: 2.209 sec\n",
      "\u001b[?2004h\u001b[?2004l"
     ]
    },
    {
     "ename": "",
     "evalue": "1",
     "output_type": "error",
     "traceback": []
    }
   ],
   "source": [
    "flash EVD2-reads-R1.fastq.gz EVD2-reads-R2.fastq.gz --min-overlap=100 --max-overlap=325 --output-prefix=EVD2 --allow-outies\n",
    "bwa mem refr-seqs.fasta EVD2.extendedFrags.fastq | samtools view -b | samtools sort -o EVD2-reads.bam\n",
    "samtools index EVD2-reads.bam\n",
    "\n",
    "flash REF1-reads-R1.fastq.gz REF1-reads-R2.fastq.gz --min-overlap=100 --max-overlap=325 --output-prefix=REF1 --allow-outies\n",
    "bwa mem refr-seqs.fasta REF1.extendedFrags.fastq | samtools view -b | samtools sort -o REF1-reads.bam\n",
    "samtools index REF1-reads.bam"
   ]
  },
  {
   "cell_type": "markdown",
   "metadata": {},
   "source": [
    "We now have a `.bam` file with aligned reads for each sample."
   ]
  },
  {
   "cell_type": "code",
   "execution_count": 9,
   "metadata": {},
   "outputs": [
    {
     "name": "stdout",
     "output_type": "stream",
     "text": [
      "EVD1-reads.bam\n",
      "EVD2-reads.bam\n",
      "REF1-reads.bam\n",
      "\u001b[?2004h"
     ]
    },
    {
     "ename": "",
     "evalue": "1",
     "output_type": "error",
     "traceback": []
    }
   ],
   "source": [
    "ls -1 EVD1-reads.bam EVD2-reads.bam REF1-reads.bam"
   ]
  },
  {
   "cell_type": "markdown",
   "metadata": {},
   "source": [
    "### Haplotype Calling\n",
    "\n",
    "With the reads aligned to their respective reference sequences, we have everything we need to perform haplotype calling and infer a genotype for these samples.\n",
    "This is done with the `mhpl8r type` command.\n",
    "In brief, MicroHapulator iterates over each aligned read, determining both the per-SNP alleles as well as the allele of all SNPs in aggregate, i.e., the marker's haplotype.\n",
    "We'll call the complete tally of all observed haplotypes the sample's *typing result*.\n",
    "\n",
    "Due to sequencing errors, some of the haplotypes observed in a typing result will be technical artifacts.\n",
    "After computing a typing result, the `mhpl8r type` command can also apply naïve static and/or dynamic filters to distinguish true haplotypes from false and determine the genotype of the sample.\n",
    "\n",
    "In addition to the BAM file containing read alignments, we also need to specify the configuration file containing marker definitions for the 23-plex panel.\n",
    "MicroHapulator will compute both the typing result and genotype call, storing them in a file named `EVD1-result.json`."
   ]
  },
  {
   "cell_type": "code",
   "execution_count": 10,
   "metadata": {},
   "outputs": [
    {
     "name": "stdout",
     "output_type": "stream",
     "text": [
      "[MicroHapulator] running version 0.4.1+44.ge3fd75c.dirty\n",
      "[MicroHapulator::type] discarded 12 reads with gaps or missing data at positions of interest\n",
      "\u001b[?2004h"
     ]
    },
    {
     "ename": "",
     "evalue": "1",
     "output_type": "error",
     "traceback": []
    }
   ],
   "source": [
    "mhpl8r type marker-defn.tsv EVD1-reads.bam --dynamic 0.1 --static 5 -o EVD1-result.json"
   ]
  },
  {
   "cell_type": "markdown",
   "metadata": {},
   "source": [
    "~***You are here***~\n",
    "\n",
    "We can peek at the first few lines of this file to get an idea of its contents.\n",
    "The data is stored in JavaScript Object Notation (JSON), and includes the typing results, a genotype call, and a handful of coverage statistics.\n",
    "\n",
    "The ge\n",
    "\n",
    "\n",
    "lists the read counts for each allelic combination (haplotype) observed at each marker.\n",
    "\n",
    "\n",
    "The haplotypes *within* each marker have been resolved by the reads spanning the corresponding SNPs, but MicroHapulator does not attempt to resolve the haplotypes *between* markers (as indicated by the `\"haplotype\": null` elements).\n",
    "These are used to make a preliminary genotype call.\n",
    "In this case, the first two markers listed (`mh01USC-1pD` and `mh02USC-2pC`) are both called as heterozygous.\n",
    "Only the first two markers are shown here, but the rest of the file contains haplotype tallies and genotype calls for the remaining 21 markers."
   ]
  },
  {
   "cell_type": "code",
   "execution_count": 1,
   "metadata": {},
   "outputs": [
    {
     "name": "stdout",
     "output_type": "stream",
     "text": [
      "{[?2004l\n",
      "    \"markers\": {\n",
      "        \"mh01USC-1pD\": {\n",
      "            \"genotype\": [\n",
      "                {\n",
      "                    \"haplotype\": \"C,C,A\",\n",
      "                    \"index\": null\n",
      "                },\n",
      "                {\n",
      "                    \"haplotype\": \"C,C,C\",\n",
      "                    \"index\": null\n",
      "                }\n",
      "            ],\n",
      "            \"max_coverage\": 109,\n",
      "            \"mean_coverage\": 103.8,\n",
      "            \"min_coverage\": 4,\n",
      "            \"num_discarded_reads\": 0,\n",
      "            \"typing_result\": {\n",
      "                \"C,C,A\": 55,\n",
      "                \"C,C,C\": 54\n",
      "            }\n",
      "        },\n",
      "        \"mh02USC-2pC\": {\n",
      "            \"genotype\": [\n",
      "                {\n",
      "                    \"haplotype\": \"A,C,G,T\",\n",
      "                    \"index\": null\n",
      "                },\n",
      "                {\n",
      "                    \"haplotype\": \"G,C,G,T\",\n",
      "                    \"index\": null\n",
      "                }\n",
      "            ],\n",
      "            \"max_coverage\": 106,\n",
      "            \"mean_coverage\": 101.2,\n",
      "            \"min_coverage\": 8,\n",
      "            \"num_discarded_reads\": 0,\n",
      "            \"typing_result\": {\n",
      "                \"A,C,G,T\": 53,\n",
      "                \"G,C,G,T\": 53\n",
      "            }\n",
      "        },\n",
      "\u001b[?2004h"
     ]
    },
    {
     "ename": "",
     "evalue": "1",
     "output_type": "error",
     "traceback": []
    }
   ],
   "source": [
    "cat EVD1-result.json | head -n 42"
   ]
  },
  {
   "cell_type": "markdown",
   "metadata": {},
   "source": [
    "Now we repeat this step for **EVD2** and **REF1**."
   ]
  },
  {
   "cell_type": "code",
   "execution_count": 12,
   "metadata": {},
   "outputs": [
    {
     "name": "stdout",
     "output_type": "stream",
     "text": [
      "[MicroHapulator] running version 0.4.1\n",
      "[MicroHapulator::type] discarded 666 reads with gaps or missing data at positions of interest\n",
      "[MicroHapulator] running version 0.4.1\n",
      "[MicroHapulator::type] discarded 7206 reads with gaps or missing data at positions of interest\n"
     ]
    }
   ],
   "source": [
    "mhpl8r type --out profile-EVD2.json beta-panel.fasta reads-EVD2.bam\n",
    "mhpl8r type --out profile-REF1.json beta-panel.fasta reads-REF1.bam"
   ]
  },
  {
   "cell_type": "markdown",
   "metadata": {},
   "source": [
    "We have now inferred a genotype profile for each sample."
   ]
  },
  {
   "cell_type": "code",
   "execution_count": 13,
   "metadata": {},
   "outputs": [
    {
     "name": "stdout",
     "output_type": "stream",
     "text": [
      "profile-EVD1.json\n",
      "profile-EVD2.json\n",
      "profile-REF1.json\n"
     ]
    }
   ],
   "source": [
    "ls -1 profile-EVD1.json profile-EVD2.json profile-REF1.json"
   ]
  },
  {
   "cell_type": "markdown",
   "metadata": {},
   "source": [
    "How then do we compare evidentiary samples with the reference sample?\n",
    "MicroHapulator implements two operations for comparing single-source samples.\n",
    "The first is the `mhpl8r dist` operation, which computes a naïve Hamming distance between two sample profiles.\n",
    "Here, we define the Hamming distance as the number of markers at which the two profiles differ.\n",
    "A Hamming distance of 0 represents a perfect match, while a distance of 50 (in the case of this panel) represents a mismatch at every marker.\n",
    "Let's use the `mhpl8r dist` command to compare the reference sample and the evidentiary sample."
   ]
  },
  {
   "cell_type": "code",
   "execution_count": 14,
   "metadata": {},
   "outputs": [
    {
     "name": "stdout",
     "output_type": "stream",
     "text": [
      "[MicroHapulator] running version 0.4.1\n",
      "{\n",
      "    \"hamming_distance\": 0\n",
      "}"
     ]
    }
   ],
   "source": [
    "mhpl8r dist profile-REF1.json profile-EVD1.json"
   ]
  },
  {
   "cell_type": "markdown",
   "metadata": {},
   "source": [
    "Our first glance suggests that these samples are likely a match.\n",
    "However, while Hamming distance may be simple to interpret, it doesn't provide any sense of confidence and would be difficult to defend in any formal legal context.\n",
    "It would be more helpful if we could compute a likelihood ratio (LR) that quantifies the strength of the profile match.\n",
    "The second operation MicroHapulator implements for comparing single-source samples is the `mhpl8r prob` command, which assesses the relative likelihood of the following propositions.\n",
    "\n",
    "- $H_p$: the reference sample and evidentiary sample were derived from the same individual\n",
    "- $H_d$: the reference sample and evidentiary sample were derived from two unrelated individuals in the population\n",
    "\n",
    "The probability $P(H_p) = \\epsilon^R$, where $\\epsilon$ is a per-marker rate of genotyping error (default: 0.001) and $R$ is the number of allele mismatches between the reference and evidentiary samples.\n",
    "The probability $P(H_d)$ is the random match probability (RMP) of the profile.\n",
    "Note that in cases of a perfect match, $P(H_p) = 1$ and thus the LR is the reciprocal of the RMP.\n",
    "\n",
    "Now let's use `mhpl8r prob` to compare the reference and evidentiary samples.\n",
    "We specify that MicroHapulator should use the `Iberian` population allele frequency distribution for computing this LR."
   ]
  },
  {
   "cell_type": "code",
   "execution_count": 15,
   "metadata": {},
   "outputs": [
    {
     "name": "stdout",
     "output_type": "stream",
     "text": [
      "[MicroHapulator] running version 0.4.1\n",
      "{\n",
      "    \"likelihood_ratio\": \"2.604E+59\"\n",
      "}"
     ]
    }
   ],
   "source": [
    "mhpl8r prob Iberian profile-REF1.json profile-EVD1.json"
   ]
  },
  {
   "cell_type": "markdown",
   "metadata": {},
   "source": [
    "The result is a very large LR of $2.6 \\times 10^{59}$, strongly supporting $H_p$ over $H_d$.\n",
    "This gives us very strong evidence that **EVD1** and **REF1** are from the same individual.\n",
    "\n",
    "Now, we repeat these comparisons for **EVD2**."
   ]
  },
  {
   "cell_type": "code",
   "execution_count": 16,
   "metadata": {},
   "outputs": [
    {
     "name": "stdout",
     "output_type": "stream",
     "text": [
      "[MicroHapulator] running version 0.4.1\n",
      "{\n",
      "    \"hamming_distance\": 41\n",
      "}"
     ]
    }
   ],
   "source": [
    "mhpl8r dist profile-REF1.json profile-EVD2.json"
   ]
  },
  {
   "cell_type": "code",
   "execution_count": 17,
   "metadata": {},
   "outputs": [
    {
     "name": "stdout",
     "output_type": "stream",
     "text": [
      "[MicroHapulator] running version 0.4.1\n",
      "{\n",
      "    \"likelihood_ratio\": \"2.604E-115\"\n",
      "}"
     ]
    }
   ],
   "source": [
    "mhpl8r prob Iberian profile-REF1.json profile-EVD2.json"
   ]
  },
  {
   "cell_type": "markdown",
   "metadata": {},
   "source": [
    "Here we see a very different story.\n",
    "The Hamming distance shows differences at 41/50 markers, and the LR test statistic is very small, $2.6 \\times 10^{-115}$, strongly supporting $H_d$ over $H_p$ for this sample.\n",
    "The evidence is very strong that **EVD2** and **REF1** do not correspond to the same individual."
   ]
  },
  {
   "cell_type": "markdown",
   "metadata": {},
   "source": [
    "## Scenario 2\n",
    "\n",
    "In this scenario, we have collected an evidentiary sample (**EVD3**) in the course of a forensic investigation, and there is some suspicion that this sample has multiple DNA contributors.\n",
    "We have also collected reference samples from three persons of interest in the investigation, labeled **REF2**, **REF3**, and **REF4**.\n",
    "As in the previous scenario, all four samples have been assayed with our 50 microhap MPS panel.\n",
    "Reads are available in the following files."
   ]
  },
  {
   "cell_type": "code",
   "execution_count": 18,
   "metadata": {},
   "outputs": [
    {
     "name": "stdout",
     "output_type": "stream",
     "text": [
      "reads-EVD3.fastq.gz\n",
      "reads-REF2.fastq.gz\n",
      "reads-REF3.fastq.gz\n",
      "reads-REF4.fastq.gz\n"
     ]
    }
   ],
   "source": [
    "ls -1 reads-EVD3.fastq.gz reads-REF2.fastq.gz reads-REF3.fastq.gz reads-REF4.fastq.gz"
   ]
  },
  {
   "cell_type": "markdown",
   "metadata": {},
   "source": [
    "As before, we will use `bwa mem` and `samtools` to align, sort, and index the reads for each sample."
   ]
  },
  {
   "cell_type": "code",
   "execution_count": 19,
   "metadata": {},
   "outputs": [
    {
     "name": "stdout",
     "output_type": "stream",
     "text": [
      "[M::bwa_idx_load_from_disk] read 0 ALT contigs\n",
      "[M::process] read 33224 sequences (10000424 bp)...\n",
      "[M::process] read 16726 sequences (5034526 bp)...\n",
      "[M::mem_process_seqs] Processed 33224 reads in 5.250 CPU sec, 5.263 real sec\n",
      "[M::mem_process_seqs] Processed 16726 reads in 2.613 CPU sec, 2.593 real sec\n",
      "[main] Version: 0.7.17-r1188\n",
      "[main] CMD: bwa mem beta-panel.fasta reads-EVD3.fastq.gz\n",
      "[main] Real time: 8.409 sec; CPU: 8.020 sec\n"
     ]
    }
   ],
   "source": [
    "bwa mem beta-panel.fasta reads-EVD3.fastq.gz | samtools view -bS - | samtools sort -o reads-EVD3.bam -\n",
    "samtools index reads-EVD3.bam"
   ]
  },
  {
   "cell_type": "code",
   "execution_count": 20,
   "metadata": {},
   "outputs": [
    {
     "name": "stdout",
     "output_type": "stream",
     "text": [
      "[M::bwa_idx_load_from_disk] read 0 ALT contigs\n",
      "[M::process] read 33224 sequences (10000424 bp)...\n",
      "[M::process] read 16726 sequences (5034526 bp)...\n",
      "[M::mem_process_seqs] Processed 33224 reads in 4.867 CPU sec, 4.818 real sec\n",
      "[M::mem_process_seqs] Processed 16726 reads in 2.628 CPU sec, 2.589 real sec\n",
      "[main] Version: 0.7.17-r1188\n",
      "[main] CMD: bwa mem beta-panel.fasta reads-REF2.fastq.gz\n",
      "[main] Real time: 8.040 sec; CPU: 7.652 sec\n"
     ]
    }
   ],
   "source": [
    "bwa mem beta-panel.fasta reads-REF2.fastq.gz | samtools view -bS - | samtools sort -o reads-REF2.bam -\n",
    "samtools index reads-REF2.bam"
   ]
  },
  {
   "cell_type": "code",
   "execution_count": 21,
   "metadata": {},
   "outputs": [
    {
     "name": "stdout",
     "output_type": "stream",
     "text": [
      "[M::bwa_idx_load_from_disk] read 0 ALT contigs\n",
      "[M::process] read 33224 sequences (10000424 bp)...\n",
      "[M::process] read 16726 sequences (5034526 bp)...\n",
      "[M::mem_process_seqs] Processed 33224 reads in 5.123 CPU sec, 5.075 real sec\n",
      "[M::mem_process_seqs] Processed 16726 reads in 2.730 CPU sec, 2.691 real sec\n",
      "[main] Version: 0.7.17-r1188\n",
      "[main] CMD: bwa mem beta-panel.fasta reads-REF3.fastq.gz\n",
      "[main] Real time: 8.406 sec; CPU: 8.015 sec\n"
     ]
    }
   ],
   "source": [
    "bwa mem beta-panel.fasta reads-REF3.fastq.gz | samtools view -bS - | samtools sort -o reads-REF3.bam -\n",
    "samtools index reads-REF3.bam"
   ]
  },
  {
   "cell_type": "code",
   "execution_count": 22,
   "metadata": {},
   "outputs": [
    {
     "name": "stdout",
     "output_type": "stream",
     "text": [
      "[M::bwa_idx_load_from_disk] read 0 ALT contigs\n",
      "[M::process] read 33224 sequences (10000424 bp)...\n",
      "[M::process] read 16726 sequences (5034526 bp)...\n",
      "[M::mem_process_seqs] Processed 33224 reads in 5.039 CPU sec, 5.005 real sec\n",
      "[M::mem_process_seqs] Processed 16726 reads in 2.701 CPU sec, 2.647 real sec\n",
      "[main] Version: 0.7.17-r1188\n",
      "[main] CMD: bwa mem beta-panel.fasta reads-REF4.fastq.gz\n",
      "[main] Real time: 8.291 sec; CPU: 7.900 sec\n"
     ]
    }
   ],
   "source": [
    "bwa mem beta-panel.fasta reads-REF4.fastq.gz | samtools view -bS - | samtools sort -o reads-REF4.bam -\n",
    "samtools index reads-REF4.bam"
   ]
  },
  {
   "cell_type": "markdown",
   "metadata": {},
   "source": [
    "Next we use `mhpl8r type` to infer genotype profiles for each sample."
   ]
  },
  {
   "cell_type": "code",
   "execution_count": 23,
   "metadata": {},
   "outputs": [
    {
     "name": "stdout",
     "output_type": "stream",
     "text": [
      "[MicroHapulator] running version 0.4.1\n",
      "[MicroHapulator::type] discarded 3674 reads with gaps or missing data at positions of interest\n",
      "[MicroHapulator] running version 0.4.1\n",
      "[MicroHapulator::type] discarded 7483 reads with gaps or missing data at positions of interest\n",
      "[MicroHapulator] running version 0.4.1\n",
      "[MicroHapulator::type] discarded 7280 reads with gaps or missing data at positions of interest\n",
      "[MicroHapulator] running version 0.4.1\n",
      "[MicroHapulator::type] discarded 7456 reads with gaps or missing data at positions of interest\n"
     ]
    }
   ],
   "source": [
    "mhpl8r type --out profile-EVD3.json beta-panel.fasta reads-EVD3.bam\n",
    "mhpl8r type --out profile-REF2.json beta-panel.fasta reads-REF2.bam\n",
    "mhpl8r type --out profile-REF3.json beta-panel.fasta reads-REF3.bam\n",
    "mhpl8r type --out profile-REF4.json beta-panel.fasta reads-REF4.bam"
   ]
  },
  {
   "cell_type": "markdown",
   "metadata": {},
   "source": [
    "We must now evaluate the evidentiary sample and see if we can confirm the presence of multiple DNA contributors.\n",
    "The `mhpl8r contrib` command implements a simple check for determining the minimum number of contributors by scanning the sample profile to determine the maximum number of alleles $N_{\\text{al}}$ present at any single locus.\n",
    "From this, it can calculate the minimum number of sample contributors $C_{\\text{min}}$ as follows.\n",
    "\n",
    "$$\n",
    "C_{\\text{min}} = \\left\\lceil\\frac{N_{\\text{al}}}{2}\\right\\rceil\n",
    "$$"
   ]
  },
  {
   "cell_type": "code",
   "execution_count": 24,
   "metadata": {},
   "outputs": [
    {
     "name": "stdout",
     "output_type": "stream",
     "text": [
      "[MicroHapulator] running version 0.4.1\n",
      "{\n",
      "    \"min_num_contrib\": 3,\n",
      "    \"num_loci_max_alleles\": 3,\n",
      "    \"perc_loci_max_alleles\": 0.06\n",
      "}"
     ]
    }
   ],
   "source": [
    "mhpl8r contrib -j profile-EVD3.json"
   ]
  },
  {
   "cell_type": "markdown",
   "metadata": {},
   "source": [
    "The profile supports the presence of at least three DNA contributors in this evidentiary sample.\n",
    "We must now determine which of the reference samples, if any, is a contributor.\n",
    "For this we use the `mhpl8r contain` command, which calculates the \"containment\" of one sample profile in another.\n",
    "Complete containment (or near-complete containment, allowing for genotyping error) suggests the *plausibility* that a simple single-contributor profile—the \"query\"—is a contributor to the a complex mixture profile—the \"subject.\"\n",
    "(Unfortunately, it cannot give positive confirmation that the query is a contributor.)\n",
    "On the other hand, lack of complete or near-complete containment is strong evidence that the query is *not* a contributor to the subject.\n",
    "\n",
    "Let us calculate the containment of sample **REF2** in sample **EVD3**."
   ]
  },
  {
   "cell_type": "code",
   "execution_count": 25,
   "metadata": {},
   "outputs": [
    {
     "name": "stdout",
     "output_type": "stream",
     "text": [
      "[MicroHapulator] running version 0.4.1\n",
      "{\n",
      "    \"containment\": 1.0,\n",
      "    \"contained_alleles\": 83,\n",
      "    \"total_alleles\": 83\n",
      "}"
     ]
    }
   ],
   "source": [
    "mhpl8r contain profile-EVD3.json profile-REF2.json"
   ]
  },
  {
   "cell_type": "markdown",
   "metadata": {},
   "source": [
    "This result tells us that 100% of the alleles from **REF2** are present in **EVD3**, and suggests **REF2** is a plausible contributor to **EVD3**.\n",
    "What can we say about **REF3** and **REF4**?"
   ]
  },
  {
   "cell_type": "code",
   "execution_count": 26,
   "metadata": {},
   "outputs": [
    {
     "name": "stdout",
     "output_type": "stream",
     "text": [
      "[MicroHapulator] running version 0.4.1\n",
      "{\n",
      "    \"containment\": 0.7143,\n",
      "    \"contained_alleles\": 60,\n",
      "    \"total_alleles\": 84\n",
      "}"
     ]
    }
   ],
   "source": [
    "mhpl8r contain profile-EVD3.json profile-REF3.json"
   ]
  },
  {
   "cell_type": "code",
   "execution_count": 27,
   "metadata": {},
   "outputs": [
    {
     "name": "stdout",
     "output_type": "stream",
     "text": [
      "[MicroHapulator] running version 0.4.1\n",
      "{\n",
      "    \"containment\": 0.6977,\n",
      "    \"contained_alleles\": 60,\n",
      "    \"total_alleles\": 86\n",
      "}"
     ]
    }
   ],
   "source": [
    "mhpl8r contain profile-EVD3.json profile-REF4.json"
   ]
  },
  {
   "cell_type": "markdown",
   "metadata": {},
   "source": [
    "Only about 70% of the alleles in both of these samples are present in **EVD3**, strongly suggesting that they are not contributors to the sample.\n",
    "\n",
    "As a final note, it important acknowledge several factors that can influence the value of the containment metric.\n",
    "Minor contributors to a mixture may not be fully captured by the inferred genotype profile without some refinement of analytical thresholds, and thus may have a containment value < 1.0.\n",
    "The amount of input DNA and the depth of sequencing coverage also influence the ability to recover minor contributors in a sample profile.\n",
    "On the other hand, numerous alleles from non-contributors will likely be present in a mixture simply by chance, and as the complexity and diversity of the mixture increases so will the containment for non-contributors.\n",
    "Probabilistic genotyping methods are the preferred approach for robust interpretation of complex mixtures, although these are not yet available in MicroHapulator."
   ]
  }
 ],
 "metadata": {
  "kernelspec": {
   "display_name": "Bash",
   "language": "bash",
   "name": "bash"
  },
  "language_info": {
   "codemirror_mode": "shell",
   "file_extension": ".sh",
   "mimetype": "text/x-sh",
   "name": "bash"
  }
 },
 "nbformat": 4,
 "nbformat_minor": 2
}
