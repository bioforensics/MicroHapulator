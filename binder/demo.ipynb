{
 "cells": [
  {
   "cell_type": "markdown",
   "metadata": {},
   "source": [
    "# MicroHapulator: Interactive Demo\n",
    "\n",
    "<small>Daniel Standage, 2022-04-27</small>\n",
    "\n",
    "**MicroHapulator** is an application for empirical haplotype calling, analysis, and basic forensic interpretation of microhaplotypes with NGS data.\n",
    "This notebook is designed to introduce MicroHapulator to new users and demonstrate its features.\n",
    "The software is normally run by entering commands in a UNIX shell terminal window (available on Linux, MacOS, or the Windows Subsystem for Linux).\n",
    "\n",
    "<img src=\"unix.jpg\" alt=\"It's a UNIX system. I know this\" width=\"350\" />\n",
    "\n",
    "For convenience, however, this notebook provides an interactive environment that interleaves narrative text, shell commands that the reader can execute and re-execute, the output of those commands, and additional explanatory commentary.\n",
    "To execute a block of code in the notebook, select the corresponding notebook cell and then click the `[> Run]` button at the top of the page (or as a keyboard shortcut, simultaneously press `[shift]` and `[enter]`).\n",
    "As you execute each code block, the notebook will display output from the corresponding command(s)."
   ]
  },
  {
   "cell_type": "markdown",
   "metadata": {},
   "source": [
    "## Getting started\n",
    "\n",
    "This demo assumes the reader is familiar with basic terminology and concepts related to biology, genomes, and NGS sequencing.\n",
    "A [primer on forensic DNA typing](https://microhapulator.readthedocs.io/en/latest/primer.html) is available for any reader unfamiliar with the topic.\n",
    "A brief description of MicroHapulator's [core haplotype calling procedure](https://microhapulator.readthedocs.io/en/latest/typing.html) is also provided.\n",
    "These readings are recommended before beginning this demo.\n",
    "\n",
    "Finally, before we dive in, we need to define a function we'll use to display images in this interactive notebook (adapted from [this blog post](https://datascienceworkshops.com/blog/ibash-notebook/)).\n",
    "Be sure to execute this cell before proceeding with the rest of the demo."
   ]
  },
  {
   "cell_type": "code",
   "execution_count": null,
   "metadata": {},
   "outputs": [],
   "source": [
    "bind 'set enable-bracketed-paste off'\n",
    "display ()\n",
    "{\n",
    "    TMPFILE=$(mktemp ${TMPDIR-/tmp}/bash_kernel.XXXXXXXXXX);\n",
    "    cat > $TMPFILE;\n",
    "    echo \"bash_kernel: saved image data to: $TMPFILE\" 1>&2\n",
    "}"
   ]
  },
  {
   "cell_type": "markdown",
   "metadata": {},
   "source": [
    "## Setup\n",
    "\n",
    "Two mock scenarios are presented in this demo.\n",
    "In both scenarios, a number of reference and evidentiary samples have been sequenced on an Illumina MiSeq with a panel targeting 23 microhaplotype markers.\n",
    "The identifiers for these markers are shown below."
   ]
  },
  {
   "cell_type": "code",
   "execution_count": null,
   "metadata": {},
   "outputs": [],
   "source": [
    "cat panel.txt"
   ]
  },
  {
   "cell_type": "markdown",
   "metadata": {},
   "source": [
    "Following the instructions in the [MicroHapulator configuration manual](https://microhapulator.readthedocs.io/en/latest/config.html), configuration files were prepared previously with marker reference sequences, microhaplotype SNP definitions, and haplotype frequencies for the population of interest.\n",
    "These files are listed as follows.\n",
    "(The full contents of these files are available [here](https://github.com/bioforensics/MicroHapulator/tree/main/binder).)"
   ]
  },
  {
   "cell_type": "code",
   "execution_count": null,
   "metadata": {},
   "outputs": [],
   "source": [
    "ls -1 refr-seqs.fasta marker-defn.tsv frequencies.tsv"
   ]
  },
  {
   "cell_type": "markdown",
   "metadata": {},
   "source": [
    "One of the initial steps in data analysis is mapping the NGS reads to the marker reference sequences.\n",
    "This mapping procedure requires the construction of a search index for the reference sequences.\n",
    "The indexing task only needs to be performed once for any given reference sequence file."
   ]
  },
  {
   "cell_type": "code",
   "execution_count": null,
   "metadata": {},
   "outputs": [],
   "source": [
    "bwa index refr-seqs.fasta"
   ]
  },
  {
   "cell_type": "markdown",
   "metadata": {},
   "source": [
    "And then of course, we need to download the NGS reads for our mock scenarios."
   ]
  },
  {
   "cell_type": "code",
   "execution_count": null,
   "metadata": {},
   "outputs": [],
   "source": [
    "curl -sL https://osf.io/2m3bq/download > EVD1-reads-R1.fastq.gz\n",
    "curl -sL https://osf.io/swbma/download > EVD1-reads-R2.fastq.gz\n",
    "curl -sL https://osf.io/vr2dn/download > EVD2-reads-R1.fastq.gz\n",
    "curl -sL https://osf.io/93s8v/download > EVD2-reads-R2.fastq.gz\n",
    "curl -sL https://osf.io/ytmqs/download > EVD3-reads-R1.fastq.gz\n",
    "curl -sL https://osf.io/uyghd/download > EVD3-reads-R2.fastq.gz\n",
    "curl -sL https://osf.io/v87zw/download > REF1-reads-R1.fastq.gz\n",
    "curl -sL https://osf.io/akpvr/download > REF1-reads-R2.fastq.gz\n",
    "curl -sL https://osf.io/fgqsu/download > REF2-reads-R1.fastq.gz\n",
    "curl -sL https://osf.io/4kbc6/download > REF2-reads-R2.fastq.gz\n",
    "curl -sL https://osf.io/fptma/download > REF3-reads-R1.fastq.gz\n",
    "curl -sL https://osf.io/hyagb/download > REF3-reads-R2.fastq.gz\n",
    "curl -sL https://osf.io/axfcw/download > REF4-reads-R1.fastq.gz\n",
    "curl -sL https://osf.io/jgesz/download > REF4-reads-R2.fastq.gz"
   ]
  },
  {
   "cell_type": "markdown",
   "metadata": {},
   "source": [
    "## Data Preprocessing and Haplotype Calling\n",
    "\n",
    "Before diving in to our mock scenarios, let us first demonstrate how to compute a typing result.\n",
    "The paired-end reads generated for each sample by the Illumina MiSeq instrument are stored in paired files, as shown below for the `EVD1` sample."
   ]
  },
  {
   "cell_type": "code",
   "execution_count": null,
   "metadata": {},
   "outputs": [],
   "source": [
    "ls -1 EVD1-reads-R*.fastq.gz"
   ]
  },
  {
   "cell_type": "markdown",
   "metadata": {},
   "source": [
    "Because of the size of the target amplicons and the length of each sequenced fragment, we expect most read pairs to have a substantial amount of overlap.\n",
    "Rather than aligning and probing the paired fragments separately, we will first attempt to merge each read pair into a single sequence.\n",
    "For this we use the FLASH program."
   ]
  },
  {
   "cell_type": "code",
   "execution_count": null,
   "metadata": {},
   "outputs": [],
   "source": [
    "flash EVD1-reads-R1.fastq.gz EVD1-reads-R2.fastq.gz --allow-outies -m 100 -M 325 -o EVD1"
   ]
  },
  {
   "cell_type": "markdown",
   "metadata": {},
   "source": [
    "As noted in the FLASH output, we now have merged reads stored in the file `EVD1.extendedFrags.fastq`.\n",
    "The next step in our workflow is to map the reads to the target amplicon sequences in `refr-seqs.fasta`.\n",
    "In this notebook we use the `bwa mem` algorithm, but other algorithms such as `bowtie2` would also be appopriate to use here.\n",
    "We also use `samtools` to convert the plain text alignments in SAM format to sorted, compressed, and indexed read alignments in BAM format."
   ]
  },
  {
   "cell_type": "code",
   "execution_count": null,
   "metadata": {},
   "outputs": [],
   "source": [
    "bwa mem refr-seqs.fasta EVD1.extendedFrags.fastq | samtools view -b | samtools sort -o EVD1-reads.bam\n",
    "samtools index EVD1-reads.bam"
   ]
  },
  {
   "cell_type": "markdown",
   "metadata": {},
   "source": [
    "With the aligned reads stored in `EVD1-reads.bam`, we can now use `mhpl8r type` to compute the typing result for this sample.\n",
    "In addition to the BAM file containing read alignments, we also need to specify the configuration file containing marker definitions for the 23-plex panel.\n",
    "\n",
    "Due to sequencing errors, some of the haplotypes observed in a typing result will be technical artifacts.\n",
    "While computing a typing result, the `mhpl8r filter` command can apply naïve static and/or dynamic filters to distinguish true and false haplotypes and determine the sample's genotype.\n",
    "We call the filtered typing result a *genotype call*.\n",
    "\n",
    "We'll store the typing results and genotype calls in `EVD1-result.json` and then peek at the first several lines of this file."
   ]
  },
  {
   "cell_type": "code",
   "execution_count": null,
   "metadata": {},
   "outputs": [],
   "source": [
    "mhpl8r type marker-defn.tsv EVD1-reads.bam --out EVD1-result-raw.json\n",
    "mhpl8r filter EVD1-result-raw.json --dynamic 0.1 --out EVD1-result.json\n",
    "cat EVD1-result.json | head -n 38"
   ]
  },
  {
   "cell_type": "markdown",
   "metadata": {},
   "source": [
    "The data is stored in JavaScript Object Notation (JSON), and includes for each marker a handful of coverage statistics, the quantitative typing result, and the genotype call.\n",
    "Here we see the first two entries in the file, corresponding to the markers `mh01USC-1pD` and `mh02USC-2pC` which appear to be heterozygous for this sample.\n",
    "\n",
    "As a final sanity check, examining the *interlocus balance* and *heterozygote balance* of each sample can reveal potential issues with the sequencing run.\n",
    "Interlocus balance looks at whether there are any markers with a disproportionately high or low number of aligned reads.\n",
    "This variation could be due to any combination of factors, such as primer kinetics, off-target amplification, or stochastic effects in sequencing.\n",
    "With the application of appropriate thresholds, interlocus imbalance shouldn't cause serious problems with forensic  interpretation of a sample except in cases of extreme imbalance or the presence of DNA contributor(s) at very low levels in a sample.\n",
    "When assessing interlocus balance, MicroHapulator peforms a chi-square goodness-of-fit test assuming uniform read coverage across markers.\n",
    "The reported chi-square statistic measures the extent of imbalance, and can be compared among samples sequenced using the same panel: the minimum value of 0 represents perfectly uniform coverage, while the maximum value of D occurs when all reads map to a single marker (D represents the degrees of freedom, or the number of markers minus 1).\n",
    "\n",
    "We assess interlocus balance with the `mhpl8r locbalance` command.\n",
    "\n",
    "> The `--dpi` and `--figsize` arguments produce a figure convenient for display in this notebook.\n",
    "> Without these optional arguments, the command produces a large high-resolution graphic by default."
   ]
  },
  {
   "cell_type": "code",
   "execution_count": null,
   "metadata": {},
   "outputs": [],
   "source": [
    "mhpl8r locbalance EVD1-result.json --quiet --figure EVD1-locbalance.png --dpi 100 --figsize 4 4\n",
    "display < EVD1-locbalance.png"
   ]
  },
  {
   "cell_type": "markdown",
   "metadata": {},
   "source": [
    "Because this is simulated data, the coverage among markers is unusually even.\n",
    "A more typical plot of interlocus balance may look something like this."
   ]
  },
  {
   "cell_type": "code",
   "execution_count": null,
   "metadata": {},
   "outputs": [],
   "source": [
    "display < locbalance-example-1.png"
   ]
  },
  {
   "cell_type": "markdown",
   "metadata": {},
   "source": [
    "Heterozygote balance looks only at markers with two alleles, and compares the relative abundance of the major and minor alleles.\n",
    "Large differences in abundance between major and minor alleles can be a source of allelic drop-out, and should be accounted for in interpretation.\n",
    "This could also signify the possible presence of a second DNA contributor present at low levels in the sample.\n",
    "When assessing heterozygote balance, MicroHapulator performs a paired t-test and reports the t-statistic as a measure of heterozygote imbalance."
   ]
  },
  {
   "cell_type": "code",
   "execution_count": null,
   "metadata": {},
   "outputs": [],
   "source": [
    "mhpl8r hetbalance EVD1-result.json --figure EVD1-hetbalance.png --dpi 100 --figsize 4 4\n",
    "display < EVD1-hetbalance.png"
   ]
  },
  {
   "cell_type": "markdown",
   "metadata": {},
   "source": [
    "It is not uncommon to see very even balance between major and minor alleles, even with real data.\n",
    "A large difference in the heights of any pair of orange and blue bars is a potential source of concern.\n",
    "\n",
    "Conveniently, there are no concerns for this simulated mock data, and we can proceed with our analysis and interpretation."
   ]
  },
  {
   "cell_type": "markdown",
   "metadata": {},
   "source": [
    "## Scenario 1\n",
    "\n",
    "In our first scenario, two evidentiary samples have been collected in the course of a forensic investigation.\n",
    "The case worker has leveled these samples **EVD1** and **EVD2** and suspects that both have only a single DNA contributor.\n",
    "We also have a reference sample labeled **REF1** collected from a person of interest in the investigation.\n",
    "All three samples were assayed with our 23-plex NGS panel, and the reads were stored in the pairs of files: `EVD1-reads-R*.fastq.gz`, `EVD2-reads-R*.fastq.gz`, and `REF1-reads-R*.fastq.gz`."
   ]
  },
  {
   "cell_type": "code",
   "execution_count": null,
   "metadata": {},
   "outputs": [],
   "source": [
    "ls -1 EVD1-reads-R*.fastq.gz EVD2-reads-R*.fastq.gz REF1-reads-R*.fastq.gz"
   ]
  },
  {
   "cell_type": "markdown",
   "metadata": {},
   "source": [
    "We have already shown how to merge and align the NGS reads and call haplotypes for a sample with **EVD1**.\n",
    "Let us repeat the process for **EVD2** and **REF1**."
   ]
  },
  {
   "cell_type": "code",
   "execution_count": null,
   "metadata": {},
   "outputs": [],
   "source": [
    "flash EVD2-reads-R1.fastq.gz EVD2-reads-R2.fastq.gz --allow-outies -m 100 -M 325 -o EVD2\n",
    "bwa mem refr-seqs.fasta EVD2.extendedFrags.fastq | samtools view -b | samtools sort -o EVD2-reads.bam\n",
    "samtools index EVD2-reads.bam\n",
    "mhpl8r type marker-defn.tsv EVD2-reads.bam --out EVD2-result-raw.json\n",
    "mhpl8r filter EVD2-result-raw.json --dynamic 0.1 --out EVD2-result.json\n",
    "\n",
    "flash REF1-reads-R1.fastq.gz REF1-reads-R2.fastq.gz --allow-outies -m 100 -M 325 -o REF1\n",
    "bwa mem refr-seqs.fasta REF1.extendedFrags.fastq | samtools view -b | samtools sort -o REF1-reads.bam\n",
    "samtools index REF1-reads.bam\n",
    "mhpl8r type marker-defn.tsv REF1-reads.bam --out REF1-result-raw.json\n",
    "mhpl8r filter REF1-result-raw.json --dynamic 0.1 --out REF1-result.json"
   ]
  },
  {
   "cell_type": "markdown",
   "metadata": {},
   "source": [
    "> Normally we would examine interlocus balance or heterozygote balance before proceeding with forensic interpretation, but we'll skip this step since we're working with simulated mock data.\n",
    "\n",
    "Forensic interpretation refers to the process of determining the conclusions, if any, that can be responsibly drawn by comparing two or more DNA profiles.\n",
    "How confident can one be that two single-source profiles came from the same individual?\n",
    "How confident can one be that one single-source profile is a contributor to a second mixture profile?\n",
    "A variety of approaches exist for addressing these types of questions, some very simple and some very complex.\n",
    "MicroHapulator implements a handful of tools for simple forensic interpretation tasks.\n",
    "It also supports the export of typing results to a format that can be used by state-of-the-art probabilistic genotyping (probgen) programs.\n",
    "Probgen is beyond the scope of this tutorial, but we will demonstrate the basic interpretation capabilities provided by MicroHapulator.\n",
    "\n",
    "One question often encountered during a study or investigation is the number of DNA contributors in an evidentiary sample (or sometimes even a sample collected from a person of interest).\n",
    "A single-source profile will have at most two distinct alleles at any given marker, one from each parental haplotype.\n",
    "However, it's likewise possible that a profile with two contributors will *also* have no more than two distinct alleles, even if the contributing genotypes are different (e.g. contributor A may be homozygous for one allele and contributor B homozygous for another allele).\n",
    "But chances are that two or more DNA contributors will result in three or more alleles for at least a *small* number of markers.\n",
    "We can use this observation to estimate the minimum number of contributors for a profile.\n",
    "\n",
    "The `mhpl8r contrib` command implements a procedure to scan a typing result to determine the maximum number of alleles $N_{\\text{al}}$ present at any single locus. From this, it can calculate the minimum number of DNA contributors $C_{\\text{min}}$ as follows.\n",
    "\n",
    "$$\n",
    "C_{\\text{min}} = \\left\\lceil\\frac{N_{\\text{al}}}{2}\\right\\rceil\n",
    "$$\n",
    "\n",
    "We begin by applying this to the three profiles in our mock scenario."
   ]
  },
  {
   "cell_type": "code",
   "execution_count": null,
   "metadata": {},
   "outputs": [],
   "source": [
    "mhpl8r contrib EVD1-result.json\n",
    "mhpl8r contrib EVD2-result.json\n",
    "mhpl8r contrib REF1-result.json"
   ]
  },
  {
   "cell_type": "markdown",
   "metadata": {},
   "source": [
    "In all three profiles, none of the 23 markers has evidence for more than a single contributor.\n",
    "It would thus be reasonable to pursue additional interpretation under the assumption that these are all single-source samples.\n",
    "\n",
    "Depending on the details of the investigation, it might be necessary to investigate whether the two evidentiary sampled came from the same individual, or whether one of the the evidentiary samples matches a reference sample collected from a person of interest.\n",
    "The most basic approach to addressing this question is to examine a pair of profiles and determine, marker by marker, whether there are any differences between the genotypes.\n",
    "Given two MicroHapulator typing results, the `mhpl8r diff` command will print any alleles that are present in one profile but not the other."
   ]
  },
  {
   "cell_type": "code",
   "execution_count": null,
   "metadata": {},
   "outputs": [],
   "source": [
    "mhpl8r diff EVD1-result.json REF1-result.json"
   ]
  },
  {
   "cell_type": "code",
   "execution_count": null,
   "metadata": {},
   "outputs": [],
   "source": [
    "mhpl8r diff EVD1-result.json EVD2-result.json"
   ]
  },
  {
   "cell_type": "markdown",
   "metadata": {},
   "source": [
    "The first result shows that there are no differences between the **EVD1** profile and the **REF1** profile, so there is already strong evidence that these were derived from the same individual.\n",
    "\n",
    "The second result shows numerous differences between **EVD1** and **EVD2**.\n",
    "It's not uncommon to see minor discrepancies between different samples originating from the same individual—variability in laboratory processing or sample degradation could explain some of these differences.\n",
    "But if this were the case we would not typically expect to see discordant alleles at almost every marker.\n",
    "The much more likely explanation in this case is that **EVD1** and **EVD2** come from different individuals.\n",
    "\n",
    "But beyond a basic check for their presence or absence, an exhaustive listing of discordant alleles isn't very helpful (except perhaps for troubleshooting purposes).\n",
    "What we *really* want is a quantitative measure of our confidence in a match between two profiles.\n",
    "We derive this measure by assessing the likelihood of two propositions—two competing hypotheses or explanations for the data.\n",
    "Depending on the details of the investigation, we might formulate the likelihood ratio (LR) test as something like the following.\n",
    "\n",
    "- $H_1$: **REF1** and **EVD1** originated from the same individual\n",
    "- $H_2$: **REF1** and **EVD1** originated from two unrelated individuals in the population\n",
    "\n",
    "We then compute the ratio of the two hypotheses' probabilities as $LR = \\frac{P(H_1)}{P(H_2)}$.\n",
    "Larger LR values are strong evidence in favor of $H_1$, smaller LR values support $H_2$, and LR values close to 1.0 are inconclusive.\n",
    "(The precise verbal scale specified by the U.S. Department of Justice, ranging from \"uninformative\" to \"very strong support\", is specified in [this document](https://www.justice.gov/olp/page/file/1095961).)\n",
    "\n",
    "The probability $P(H_1) = \\epsilon^R$, where $\\epsilon$ is a per-marker rate of genotyping error (default: 0.01) and $R$ is the number of markers with discordant alleles between samples.\n",
    "The probability $P(H_2)$ is the random match probability (RMP) of the profile, which is essentially the product of the observed haplotype frequencies in the population.\n",
    "Note that in cases of a perfect profile match, $P(H_1) = 1$ and the LR is then simply the reciprocal of the RMP.\n",
    "\n",
    "We can use `mhpl8r prob` both to compute the RMP for the evidence and to perform the LR test as formulated above."
   ]
  },
  {
   "cell_type": "code",
   "execution_count": null,
   "metadata": {},
   "outputs": [],
   "source": [
    "mhpl8r prob frequencies.tsv EVD1-result.json\n",
    "mhpl8r prob frequencies.tsv EVD1-result.json REF1-result.json"
   ]
  },
  {
   "cell_type": "markdown",
   "metadata": {},
   "source": [
    "The result is a very large LR of $7.18 \\times 10^{22}$, lending \"very strong support\" to $H_1$ over $H_2$, consistent with our earlier observations.\n",
    "\n",
    "Now let's consider what would happen if, disregarding our earlier observations, we had formulated the LR test as follows.\n",
    "\n",
    "- $H_1$: **REF1** and **EVD2** originated from the same individual\n",
    "- $H_2$: **REF1** and **EVD2** originated from two unrelated individuals in the population"
   ]
  },
  {
   "cell_type": "code",
   "execution_count": null,
   "metadata": {},
   "outputs": [],
   "source": [
    "mhpl8r prob frequencies.tsv EVD2-result.json\n",
    "mhpl8r prob frequencies.tsv EVD2-result.json REF1-result.json"
   ]
  },
  {
   "cell_type": "markdown",
   "metadata": {},
   "source": [
    "Here we see a very different result.\n",
    "The RMP for **EVD2** is of similar magnitude to that of **EVD1**, but the LR test statistic is very small, indicating \"very strong support\" *against* this forensic interpretation.\n",
    "A tremendous amount of error would be required if **EVD2** and **REF1** were from the same individual—much more likely is that these samples originated from two unrelated individuals."
   ]
  },
  {
   "cell_type": "markdown",
   "metadata": {},
   "source": [
    "## Scenario 2\n",
    "\n",
    "In this scenario, the case worker has collected an evidentiary sample (**EVD3**) in the course of a forensic investigation, and there is some suspicion that this sample has multiple DNA contributors.\n",
    "We have also collected reference samples from three persons of interest in the investigation, labeled **REF2**, **REF3**, and **REF4**.\n",
    "As in the previous scenario, all four samples have been sequenced with our 23-microhap NGS panel.\n",
    "Reads are available in the following files."
   ]
  },
  {
   "cell_type": "code",
   "execution_count": null,
   "metadata": {},
   "outputs": [],
   "source": [
    "ls -1 EVD3-reads-R*.fastq.gz REF2-reads-R*.fastq.gz REF3-reads-R*.fastq.gz REF4-reads-R*.fastq.gz"
   ]
  },
  {
   "cell_type": "markdown",
   "metadata": {},
   "source": [
    "As before, we will merge the read pairs, align the merged reads to the reference sequences, and compute a typing result for each sample."
   ]
  },
  {
   "cell_type": "code",
   "execution_count": null,
   "metadata": {},
   "outputs": [],
   "source": [
    "flash EVD3-reads-R1.fastq.gz EVD3-reads-R2.fastq.gz --allow-outies -m 100 -M 325 -o EVD3 --quiet\n",
    "bwa mem refr-seqs.fasta EVD3.extendedFrags.fastq | samtools view -b | samtools sort -o EVD3-reads.bam\n",
    "samtools index EVD3-reads.bam\n",
    "mhpl8r type marker-defn.tsv EVD3-reads.bam --out EVD3-result-raw.json\n",
    "mhpl8r filter EVD3-result-raw.json --dynamic 0.1 --out EVD3-result.json\n",
    "\n",
    "flash REF2-reads-R1.fastq.gz REF2-reads-R2.fastq.gz --allow-outies -m 100 -M 325 -o REF2 --quiet\n",
    "bwa mem refr-seqs.fasta REF2.extendedFrags.fastq | samtools view -b | samtools sort -o REF2-reads.bam\n",
    "samtools index REF2-reads.bam\n",
    "mhpl8r type marker-defn.tsv REF2-reads.bam --out REF2-result-raw.json\n",
    "mhpl8r filter REF2-result-raw.json --dynamic 0.1 --out REF2-result.json\n",
    "\n",
    "flash REF3-reads-R1.fastq.gz REF3-reads-R2.fastq.gz --allow-outies -m 100 -M 325 -o REF3 --quiet\n",
    "bwa mem refr-seqs.fasta REF3.extendedFrags.fastq | samtools view -b | samtools sort -o REF3-reads.bam\n",
    "samtools index REF3-reads.bam\n",
    "mhpl8r type marker-defn.tsv REF3-reads.bam --out REF3-result-raw.json\n",
    "mhpl8r filter REF3-result-raw.json --dynamic 0.1 --out REF3-result.json\n",
    "\n",
    "flash REF4-reads-R1.fastq.gz REF4-reads-R2.fastq.gz --allow-outies -m 100 -M 325 -o REF4 --quiet\n",
    "bwa mem refr-seqs.fasta REF4.extendedFrags.fastq | samtools view -b | samtools sort -o REF4-reads.bam\n",
    "samtools index REF4-reads.bam\n",
    "mhpl8r type marker-defn.tsv REF4-reads.bam --out REF4-result-raw.json\n",
    "mhpl8r filter REF4-result-raw.json --dynamic 0.1 --out REF4-result.json"
   ]
  },
  {
   "cell_type": "markdown",
   "metadata": {},
   "source": [
    "We now want to examine the evidentiary sample and investigate the presence of multiple DNA contributors."
   ]
  },
  {
   "cell_type": "code",
   "execution_count": null,
   "metadata": {},
   "outputs": [],
   "source": [
    "mhpl8r contrib EVD3-result.json"
   ]
  },
  {
   "cell_type": "markdown",
   "metadata": {},
   "source": [
    "In this sample, we observe two loci that provide evidence for at least three DNA contributors, i.e. five or more distinct haplotypes.\n",
    "If you examine `EVD3-result.json`, there are numerous markers with three or four haplotypes, but the two markers with 5 haplotypes are strong evidence for three DNA contributors.\n",
    "\n",
    "We can then test whether any of the reference samples is a contributor to the evidentiary mixture.\n",
    "MicroHapulator implements a simple containment test to investigate this question.\n",
    "In brief, the containment test examines each marker and determines whether the genotype in a profile of interest is compatible with the genotype of a mixture profile.\n",
    "For example, if a reference sample **REF99** has a `A,C,T / A,T,T` genotype at a marker and an evidentiary mixture sample **EVD99** has a `A,C,G / A,C,T / A,T,T` genotype, **REF99** is compatible, e.g. a plausible contributor to **EVD99**.\n",
    "On the other hand, if the **REF99** genotype at a different marker is `G,G,A,T / C,G,T,T` and the **EVD99** genotype is `G,G,A,T / G,G,T,T`, **REF99** is not a plausible contributor to **EVD99**.\n",
    "In the end, the containment test reports the percentage of markers in one profile with compatible genotypes to another (mixture) profile.\n",
    "\n",
    "We can use the `mhpl8r contrib` command to perform the containment test for **REF2**."
   ]
  },
  {
   "cell_type": "code",
   "execution_count": null,
   "metadata": {},
   "outputs": [],
   "source": [
    "mhpl8r contain EVD3-result.json REF2-result.json"
   ]
  },
  {
   "cell_type": "markdown",
   "metadata": {},
   "source": [
    "This tells us that 100% of the haplotypes observed in **REF2** are present in **EVD3**, suggesting that **REF2** is a plausible contributor to **EVD3**.\n",
    "What can we say about **REF3** and **REF4**?"
   ]
  },
  {
   "cell_type": "code",
   "execution_count": null,
   "metadata": {},
   "outputs": [],
   "source": [
    "mhpl8r contain EVD3-result.json REF3-result.json\n",
    "mhpl8r contain EVD3-result.json REF4-result.json"
   ]
  },
  {
   "cell_type": "markdown",
   "metadata": {},
   "source": [
    "Only about 70-85% of the alleles in both of these samples are present in **EVD3**, suggesting that they are unlikely to be contributors to the sample.\n",
    "\n",
    "As a final note, it is important acknowledge several factors that can influence the the containment statistic.\n",
    "It is not always possible to develop thresholds that eliminate all errors and detect all true haplotypes.\n",
    "This is especially the case for low-input samples or mixtures with an imbalance between major and minor contributors.\n",
    "MicroHapulator's containment test does not account for allelic drop-in (false positives) or drop-out (false negatives).\n",
    "We also note that many haplotypes from non-contributors will be present in a mixture simply by chance, and there is no simple theoretical threshold we can apply to distinguish between \"true\" and \"false\" containment.\n",
    "The containment test is a basic tool that provides a quick check to guide an investigation.\n",
    "Probabilistic genotyping (probgen) methods, on the other hand, provide for a much more robust interpretation of forensic propositions, with models for drop-in and drop-out evaluated in a maximum likelihood framework.\n",
    "Probgen is beyond the scope of this tutorial, but the use of probgen tools such as [LRmix Studio](https://github.com/smartrank/lrmixstudio) or [EuroForMix](http://www.euroformix.com/) is recommended for definitive interpretation of DNA mixtures.\n"
   ]
  }
 ],
 "metadata": {
  "kernelspec": {
   "display_name": "Bash",
   "language": "bash",
   "name": "bash"
  },
  "language_info": {
   "codemirror_mode": "shell",
   "file_extension": ".sh",
   "mimetype": "text/x-sh",
   "name": "bash"
  }
 },
 "nbformat": 4,
 "nbformat_minor": 2
}
