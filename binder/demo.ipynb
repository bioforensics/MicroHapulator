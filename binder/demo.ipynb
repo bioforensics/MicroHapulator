{
 "cells": [
  {
   "cell_type": "markdown",
   "metadata": {},
   "source": [
    "# MicroHapulator: Interactive Demo\n",
    "\n",
    "<small>Daniel Standage, 2022-01-12</small>\n",
    "\n",
    "**MicroHapulator** is an application for empirical haplotype calling, analysis, and basic forensic interpretation of microhaplotypes with NGS data.\n",
    "This notebook is designed to introduce MicroHapulator to new users and demonstrate its features.\n",
    "The software is normally run by entering commands in a shell terminal window.\n",
    "For convenience, however, this notebook provides an interactive environment that interleaves narrative text, shell commands that the reader can execute and re-execute, the output of those commands, and additional explanatory commentary.\n",
    "To execute a block of code in the notebook, select the corresponding notebook cell and then click the `[> Run]` button at the top of the page (or as a keyboard shortcut, simultaneously press `[shift]` and `[enter]`)."
   ]
  },
  {
   "cell_type": "markdown",
   "metadata": {},
   "source": [
    "## Overview\n",
    "\n",
    "> *This demo assumes the reader is familiar with basic terminology and concepts related to biology, genomes, and NGS sequencing.\n",
    "> A [primer on forensic DNA typing](https://microhapulator.readthedocs.io/en/latest/config.html) is available for the interested reader.*\n",
    "\n",
    "MicroHapulator calls haplotypes by probing NGS reads aligned to a reference sequence for the corresponding marker.\n",
    "Consider the following mock example.\n",
    "The first line shows the reference sequence for the `mh01USC-1pD` marker.\n",
    "Each subsequent line represents an NGS read aligned to the marker sequence.\n",
    "The `*` symbols denote the locations of the SNPs present in the marker, and the `.` symbols denote locations where the NGS read matches the reference.\n",
    "\n",
    "```\n",
    "                       *                     *           *\n",
    "AAATAGCTGGGCTAATAATGAACTGAAGCAAAGTCAACTGAAATGTCCTGGGCAGCTCCAGAAACTCCAGAATGGGGAGGA\n",
    ".......................C.....................C.......\n",
    "  .....................C.....................C...........A...\n",
    "       .....A..........C.....................T...........C........\n",
    "        ...............C.....................T...........C.........\n",
    "          .............C.....................C...........A...........\n",
    "            ...........C.....................C...........A.............\n",
    "                 ......C.....................C...........A.................\n",
    "                 ......C.....................C...........A.................\n",
    "                    ...C.....................G...........A....................\n",
    "                     ..C.....................T...........C.....................\n",
    "```\n",
    "\n",
    "We can examine the aligned reads to determine the number of times each allelic combination (haplotype) occurs.\n",
    "We call this tally a *typing result*.\n",
    "The typing result for this example is as follows: the `C,C,A` haplotype is observed 5 times, the `C,T,C` haplotype is observed 3 times, and the `C,G,A` haplotype is observed 1 time.\n",
    "If we then filter out the `C,G,A` haplotype as erroneous (see below), we can infer a diploid `C,C,A / C,T,C` genotype for this marker.\n",
    "We call this process *genotype prediction*.\n",
    "\n",
    "It is helpful to point about a few observations about this example.\n",
    "- The first aligned read does not span all SNPs at the marker, so it is discarded.\n",
    "- The third aligned read shows an `A` at the 13th position of the marker reference sequence. Whether this reflects true genetic variation or is a technical artifact resulting from sequencing error, it is ignored by MicroHapulator because it is not one of the three SNPs of interest.\n",
    "- The `C,G,A` haplotype is only observed once and is likely a false haplotype resulting from sequencing error at the second SNP of interest in the haplotype. When dozens or hundreds (or thousands!) of reads are successfully sequenced and aligned to the marker reference, it is usually simple to distinguish signal (true haplotypes) from noise (false haplotypes resulting from sequencing error). When the depth of sequencing coverage is low, as it is in this example, it can be more difficult to distinguish signal from noise. Determining appropriate per-marker thresholds (detection thresholds and analytical thresholds) for filtering will typically require a non-trivial amount of testing with the laboratory's NGS sequencing instrument(s).\n",
    "\n",
    "While this mock example is helpful in building intuition about haplotype calling, manual visual examination is not feasible for performing this task on dozens of markers and (potentially) millions of NGS reads.\n",
    "The MicroHapulator software provides tools that automate haplotype calling and genotype prediction, as well as assist with basic interpretation of the forensic typing result."
   ]
  },
  {
   "cell_type": "markdown",
   "metadata": {},
   "source": [
    "## Setup\n",
    "\n",
    "Two mock scenarios are presented in this demo.\n",
    "In both scenarios, a number of reference and evidentiary samples have been sequenced on an Illumina MiSeq with a panel targeting 23 microhaplotype markers.\n",
    "The identifiers for these markers are shown below."
   ]
  },
  {
   "cell_type": "code",
   "execution_count": null,
   "metadata": {},
   "outputs": [],
   "source": [
    "cat panel.txt"
   ]
  },
  {
   "cell_type": "markdown",
   "metadata": {},
   "source": [
    "Following the instructions in the [MicroHapulator configuration manual](https://microhapulator.readthedocs.io/en/latest/config.html), configuration files were prepared previously with marker reference sequences, microhaplotype SNP definitions, and haplotype frequencies for the population of interest.\n",
    "These files are listed as follows.\n",
    "(The full contents of these files are available HERE (LINK FIXME).)"
   ]
  },
  {
   "cell_type": "code",
   "execution_count": null,
   "metadata": {},
   "outputs": [],
   "source": [
    "ls -1 refr-seqs.fasta marker-defn.tsv frequencies.tsv"
   ]
  },
  {
   "cell_type": "markdown",
   "metadata": {},
   "source": [
    "One of the initial steps in data analysis is mapping the NGS reads to the marker reference sequences.\n",
    "This mapping procedure requires the construction of a search index for the reference sequences.\n",
    "The indexing task only needs to be performed once for any given reference sequence file."
   ]
  },
  {
   "cell_type": "code",
   "execution_count": null,
   "metadata": {},
   "outputs": [],
   "source": [
    "bwa index refr-seqs.fasta"
   ]
  },
  {
   "cell_type": "markdown",
   "metadata": {},
   "source": [
    "And then of course, we need to download the NGS reads for our mock scenarios."
   ]
  },
  {
   "cell_type": "code",
   "execution_count": null,
   "metadata": {},
   "outputs": [],
   "source": [
    "echo FIXME"
   ]
  },
  {
   "cell_type": "markdown",
   "metadata": {},
   "source": [
    "## Data Preprocessing and Haplotype Calling\n",
    "\n",
    "Before diving in to our mock scenarios, let us first demonstrate how to compute a typing result.\n",
    "The paired-end reads generated for each sample by the Illumina MiSeq instrument are stored in paired files, as shown below for the `EVD1` sample."
   ]
  },
  {
   "cell_type": "code",
   "execution_count": null,
   "metadata": {},
   "outputs": [],
   "source": [
    "ls -1 EVD1-reads-R*.fastq.gz"
   ]
  },
  {
   "cell_type": "markdown",
   "metadata": {},
   "source": [
    "Because of the size of the target amplicons and the length of each sequenced fragment, we expect most read pairs to have a substantial amount of overlap.\n",
    "Rather than aligning and probing the paired fragments separately, we will first attempt to merge each read pair into a single sequence.\n",
    "For this we use the FLASH program."
   ]
  },
  {
   "cell_type": "code",
   "execution_count": null,
   "metadata": {},
   "outputs": [],
   "source": [
    "flash EVD1-reads-R1.fastq.gz EVD1-reads-R2.fastq.gz --min-overlap=100 --max-overlap=325 --output-prefix=EVD1 --allow-outies"
   ]
  },
  {
   "cell_type": "markdown",
   "metadata": {},
   "source": [
    "As noted in the FLASH output, we now have merged reads stored in the file `EVD1.extendedFrags.fastq`.\n",
    "The next step in our workflow is to map the reads to the target amplicon sequences in `refr-seqs.fasta`.\n",
    "In this notebook we use the `bwa mem` algorithm, but other algorithms such as `bowtie2` would also be appopriate to use here.\n",
    "We also use `samtools` to convert the plain text alignments in SAM format to sorted, compressed, and indexed read alignments in BAM format."
   ]
  },
  {
   "cell_type": "code",
   "execution_count": null,
   "metadata": {},
   "outputs": [],
   "source": [
    "bwa mem refr-seqs.fasta EVD1.extendedFrags.fastq | samtools view -b | samtools sort -o EVD1-reads.bam\n",
    "samtools index EVD1-reads.bam"
   ]
  },
  {
   "cell_type": "markdown",
   "metadata": {},
   "source": [
    "With the aligned reads stored in `EVD1-reads.bam`, we can now compute the typing result for this sample with MicroHapulator.\n",
    "In addition to the BAM file containing read alignments, we also need to specify the configuration file containing marker definitions for the 23-plex panel.\n",
    "We'll store the result in `EVD1-result.json` and then peek at the first several lines of this file.\n",
    "\n",
    "Due to sequencing errors, some of the haplotypes observed in a typing result will be technical artifacts.\n",
    "While computing a typing result, the `mhpl8r type` command can also apply naïve static and/or dynamic filters to distinguish true haplotypes from false and determine the genotype of the sample.\n",
    "We call the filtered typing result a *genotype call*."
   ]
  },
  {
   "cell_type": "code",
   "execution_count": null,
   "metadata": {},
   "outputs": [],
   "source": [
    "mhpl8r type marker-defn.tsv EVD1-reads.bam --dynamic 0.1 --out EVD1-result.json\n",
    "cat EVD1-result.json | head -n 38"
   ]
  },
  {
   "cell_type": "markdown",
   "metadata": {},
   "source": [
    "The data is stored in JavaScript Object Notation (JSON), and includes for each marker a handful of coverage statistics, the quantitative typing result, and the genotype call.\n",
    "Here we see the first two entries in the file, corresponding to the markers `mh01USC-1pD` and `mh02USC-2pC` which appear to be heterozygous for this sample.\n",
    "\n",
    "As a final sanity check, it's always critical to examine the *interlocus balance* of a sample.\n",
    "Are there any markers with a disproportionately high or low number of aligned reads?\n",
    "It is normal to observe some variation in the number of reads aligned to each marker.\n",
    "This variation could be due to any combination of factors, such as primer kinetics, off-target amplification, or stochastic effects in sequencing.\n",
    "With the application of appropriate thresholds, interlocus imbalance shouldn't cause serious problems with analysis and interpretation of a sample except in cases of extreme imbalance or the presence of DNA contributor(s) at very low levels in a sample.\n",
    "\n",
    "We assess interlocus balance with the `mhpl8r balance` command."
   ]
  },
  {
   "cell_type": "code",
   "execution_count": null,
   "metadata": {},
   "outputs": [],
   "source": [
    "mhpl8r balance EVD1-result.json"
   ]
  },
  {
   "cell_type": "markdown",
   "metadata": {},
   "source": [
    "Conveniently, the interlocus balance for this sample is high—artificially high in fact because it's simulated mock data.\n",
    "We would expect to see more variation in real data coming off an NGS sequencer.\n",
    "But observing no significant imbalance, we can proceed with our analysis and interpretation."
   ]
  },
  {
   "cell_type": "markdown",
   "metadata": {},
   "source": [
    "## Scenario 1\n",
    "\n",
    "In our first scenario, two evidentiary samples have been collected in the course of a forensic investigation.\n",
    "The case worker has leveled these samples **EVD1** and **EVD2** and suspects that both have only a single DNA contributor.\n",
    "We also have a reference sample labeled **REF1** collected from a person of interest in the investigation.\n",
    "All three samples were assayed with our 23-plex NGS panel, and the reads were stored in the pairs of files: `EVD1-reads-R*.fastq.gz`, `EVD2-reads-R*.fastq.gz`, and `REF1-reads-R*.fastq.gz`."
   ]
  },
  {
   "cell_type": "code",
   "execution_count": null,
   "metadata": {},
   "outputs": [],
   "source": [
    "ls -1 EVD1-reads-R*.fastq.gz EVD2-reads-R*.fastq.gz REF1-reads-R*.fastq.gz"
   ]
  },
  {
   "cell_type": "markdown",
   "metadata": {},
   "source": [
    "We have already shown how to merge and align the NGS reads and call haplotypes for a sample with **EVD1**.\n",
    "Let us repeat the process for **EVD2** and **REF1**."
   ]
  },
  {
   "cell_type": "code",
   "execution_count": null,
   "metadata": {},
   "outputs": [],
   "source": [
    "flash EVD2-reads-R1.fastq.gz EVD2-reads-R2.fastq.gz --min-overlap=100 --max-overlap=325 --output-prefix=EVD2 --allow-outies\n",
    "bwa mem refr-seqs.fasta EVD2.extendedFrags.fastq | samtools view -b | samtools sort -o EVD2-reads.bam\n",
    "samtools index EVD2-reads.bam\n",
    "mhpl8r type marker-defn.tsv EVD2-reads.bam --dynamic 0.1 --out EVD2-result.json\n",
    "\n",
    "flash REF1-reads-R1.fastq.gz REF1-reads-R2.fastq.gz --min-overlap=100 --max-overlap=325 --output-prefix=REF1 --allow-outies\n",
    "bwa mem refr-seqs.fasta REF1.extendedFrags.fastq | samtools view -b | samtools sort -o REF1-reads.bam\n",
    "samtools index REF1-reads.bam\n",
    "mhpl8r type marker-defn.tsv REF1-reads.bam --dynamic 0.1 --out REF1-result.json"
   ]
  },
  {
   "cell_type": "markdown",
   "metadata": {},
   "source": [
    "And let's also assess interlocus balance."
   ]
  },
  {
   "cell_type": "code",
   "execution_count": null,
   "metadata": {},
   "outputs": [],
   "source": [
    "mhpl8r balance EVD2-result.json\n",
    "mhpl8r balance REF1-result.json"
   ]
  },
  {
   "cell_type": "markdown",
   "metadata": {},
   "source": [
    "With no concerns about interlocus balance, we can move on to forensic interpretation.\n",
    "Forensic interpretation refers to the process of determining the conclusions, if any, that can be responsibly drawn by comparing two or more DNA profiles.\n",
    "How confident can one be that two single-source profiles came from the same individual?\n",
    "How confident can one be that one single-source profile is a contributor to a second mixture profile?\n",
    "A variety of approaches exist for addressing these types of questions, some very simple and some very complex.\n",
    "MicroHapulator implements a handful of tools for simple forensic interpretation tasks.\n",
    "It also supports the export of typing results to a format that can be used by state-of-the-art probabilistic genotyping (probgen) programs.\n",
    "Probgen is beyond the scope of this tutorial, but we will demonstrate the basic interpretation capabilities provided by MicroHapulator.\n",
    "\n",
    "One question often encountered during a study or investigation is the number of DNA contributors in an evidentiary sample (or sometimes even a sample collected from a person of interest).\n",
    "A single-source profile will have at most two distinct alleles at any given marker, one from each parental haplotype.\n",
    "However, it's likewise possible that profile with two contributors will *also* have no more than two distinct alleles, even if the contributing genotypes are different (e.g. contributor A may be homozygous for one allele and contributor B homozygous for another allele).\n",
    "But chances are that two or more DNA contributors will result in three or more alleles for at least a *small* number of markers.\n",
    "We can use this observation to estimate the minimum number of contributors for a profile.\n",
    "\n",
    "The `mhpl8r contrib` command implements a procedure to scan a typing result to determine the maximum number of alleles $N_{\\text{al}}$ present at any single locus. From this, it can calculate the minimum number of DNA contributors $C_{\\text{min}}$ as follows.\n",
    "\n",
    "$$\n",
    "C_{\\text{min}} = \\left\\lceil\\frac{N_{\\text{al}}}{2}\\right\\rceil\n",
    "$$\n",
    "\n",
    "We begin by applying this to the three profiles in our mock scenario."
   ]
  },
  {
   "cell_type": "code",
   "execution_count": null,
   "metadata": {},
   "outputs": [],
   "source": [
    "mhpl8r contrib EVD1-result.json\n",
    "mhpl8r contrib EVD2-result.json\n",
    "mhpl8r contrib REF1-result.json"
   ]
  },
  {
   "cell_type": "markdown",
   "metadata": {},
   "source": [
    "In all three profiles, none of the 23 markers has evidence for more than a single contributor.\n",
    "It would thus be reasonable to pursue additional interpretation under the assumption that these are all single-source samples.\n",
    "\n",
    "Depending on the details of the investigation, it might be necessary to investigate whether the two evidentiary came from the same individual, or whether one of the the evidentiary samples matches a reference sample collected from a person of interest.\n",
    "The most basic approach to addressing this question is to examine a pair of profiles and determine, marker by marker, whether there are any differences between the genotypes.\n",
    "Given two MicroHapulator typing results, the `mhpl8r diff` command will print any alleles that are present in one profile but not the other."
   ]
  },
  {
   "cell_type": "code",
   "execution_count": null,
   "metadata": {},
   "outputs": [],
   "source": [
    "mhpl8r diff EVD1-result.json REF1-result.json"
   ]
  },
  {
   "cell_type": "code",
   "execution_count": null,
   "metadata": {},
   "outputs": [],
   "source": [
    "mhpl8r diff EVD1-result.json EVD2-result.json"
   ]
  },
  {
   "cell_type": "markdown",
   "metadata": {},
   "source": [
    "The first result shows that there are no differences between the **EVD1** profile and the **REF1** profile, so there is already strong evidence that these were derived from the same individual.\n",
    "\n",
    "The second result shows numerous differences between **EVD1** and **EVD2**.\n",
    "It's not uncommon to see minor discrepancies between different samples originating from the same individual—variability in laboratory processing or sample degradation could explain some of these differences.\n",
    "But if this were the case we would not typically expect to see discordant alleles at almost every marker.\n",
    "The much more likely explanation in this case is that **EVD1** and **EVD2** come from different individuals.\n",
    "\n",
    "But beyond a basic check for their presence or absence, an exhaustive listing of discordant alleles isn't very helpful (except perhaps for troubleshooting purposes).\n",
    "What we *really* want is a quantitative measure of our confidence in a match between two profiles.\n",
    "We derive this measure by assessing the likelihood of two propositions—two competing hypotheses or explanations for the data.\n",
    "Depending on the details of the investigation, we might formulate the likelihood ratio (LR) test as something like the following.\n",
    "\n",
    "- $H_p$: **REF1** and **EVD1** originated from the same individual\n",
    "- $H_d$: **REF1** and **EVD1** originated from two unrelated individuals in the population\n",
    "\n",
    "We then compute the ratio of the two hypotheses' probabilities as $LR = \\frac{P(H_p)}{P(H_d)}$.\n",
    "Large LR values are strong evidence in favor of $H_p$, small LR values support $H_d$, and LR values close to 1.0 are inconclusive.\n",
    "\n",
    "The probability $P(H_p) = \\epsilon^R$, where $\\epsilon$ is a per-marker rate of genotyping error (default: 0.001) and $R$ is the number of markers with discordant alleles between samples.\n",
    "The probability $P(H_d)$ is the random match probability (RMP) of the profile, which is essentially the product of the observed haplotype frequencies in the population.\n",
    "Note that in cases of a perfect profile match, $P(H_p) = 1$ and the LR is then simply the reciprocal of the RMP.\n",
    "\n",
    "We can use `mhpl8r prob` both to compute the RMP for the evidence and to perform the LR test as formulated above."
   ]
  },
  {
   "cell_type": "code",
   "execution_count": null,
   "metadata": {},
   "outputs": [],
   "source": [
    "mhpl8r prob frequencies.tsv EVD1-result.json\n",
    "mhpl8r prob frequencies.tsv EVD1-result.json REF1-result.json"
   ]
  },
  {
   "cell_type": "markdown",
   "metadata": {},
   "source": [
    "The result is a very large LR of $7.18 \\times 10^{22}$, lending strong support to $H_p$ over $H_d$, consistent with our earlier observations.\n",
    "\n",
    "Now let's consider what would happen if, disregarding our earlier observations, we had formulated the LR test as follows.\n",
    "\n",
    "- $H_p$: **REF2** and **EVD1** originated from the same individual\n",
    "- $H_d$: **REF2** and **EVD1** originated from two unrelated individuals in the population"
   ]
  },
  {
   "cell_type": "code",
   "execution_count": null,
   "metadata": {},
   "outputs": [],
   "source": [
    "mhpl8r prob frequencies.tsv EVD2-result.json\n",
    "mhpl8r prob frequencies.tsv EVD2-result.json REF1-result.json"
   ]
  },
  {
   "cell_type": "markdown",
   "metadata": {},
   "source": [
    "Here we see a very different result.\n",
    "The RMP for **EVD2** is of similar magnitude to that of **EVD1**, but the LR test statistic is very small.\n",
    "A tremendous amount of error would be required if **EVD2** and **REF1** were from the same individual—much more likely is that these samples originated from two unrelated individuals."
   ]
  },
  {
   "cell_type": "markdown",
   "metadata": {},
   "source": [
    "## Scenario 2\n",
    "\n",
    "In this scenario, the case worker has collected an evidentiary sample (**EVD3**) in the course of a forensic investigation, and there is some suspicion that this sample has multiple DNA contributors.\n",
    "We have also collected reference samples from three persons of interest in the investigation, labeled **REF2**, **REF3**, and **REF4**.\n",
    "As in the previous scenario, all four samples have been sequenced with our 23-microhap NGS panel.\n",
    "Reads are available in the following files."
   ]
  },
  {
   "cell_type": "code",
   "execution_count": null,
   "metadata": {},
   "outputs": [],
   "source": [
    "ls -1 EVD3-reads-R*.fastq.gz REF2-reads-R*.fastq.gz REF3-reads-R*.fastq.gz REF4-reads-R*.fastq.gz"
   ]
  },
  {
   "cell_type": "markdown",
   "metadata": {},
   "source": [
    "As before, we will merge the read pairs, align the merged reads to the reference sequences, and compute a typing result for each sample."
   ]
  },
  {
   "cell_type": "code",
   "execution_count": null,
   "metadata": {},
   "outputs": [],
   "source": [
    "flash EVD3-reads-R1.fastq.gz EVD3-reads-R2.fastq.gz --min-overlap=100 --max-overlap=325 --output-prefix=EVD3 --allow-outies\n",
    "bwa mem refr-seqs.fasta EVD3.extendedFrags.fastq | samtools view -b | samtools sort -o EVD3-reads.bam\n",
    "samtools index EVD3-reads.bam\n",
    "mhpl8r type marker-defn.tsv EVD3-reads.bam --dynamic 0.1 --out EVD3-result.json\n",
    "\n",
    "flash REF2-reads-R1.fastq.gz REF2-reads-R2.fastq.gz --min-overlap=100 --max-overlap=325 --output-prefix=REF2 --allow-outies\n",
    "bwa mem refr-seqs.fasta REF2.extendedFrags.fastq | samtools view -b | samtools sort -o REF2-reads.bam\n",
    "samtools index REF2-reads.bam\n",
    "mhpl8r type marker-defn.tsv REF2-reads.bam --dynamic 0.1 --out REF2-result.json\n",
    "\n",
    "flash REF3-reads-R1.fastq.gz REF3-reads-R2.fastq.gz --min-overlap=100 --max-overlap=325 --output-prefix=REF3 --allow-outies\n",
    "bwa mem refr-seqs.fasta REF3.extendedFrags.fastq | samtools view -b | samtools sort -o REF3-reads.bam\n",
    "samtools index REF3-reads.bam\n",
    "mhpl8r type marker-defn.tsv REF3-reads.bam --dynamic 0.1 --out REF3-result.json\n",
    "\n",
    "flash REF4-reads-R1.fastq.gz REF4-reads-R2.fastq.gz --min-overlap=100 --max-overlap=325 --output-prefix=REF4 --allow-outies\n",
    "bwa mem refr-seqs.fasta REF4.extendedFrags.fastq | samtools view -b | samtools sort -o REF4-reads.bam\n",
    "samtools index REF4-reads.bam\n",
    "mhpl8r type marker-defn.tsv REF4-reads.bam --dynamic 0.1 --out REF4-result.json"
   ]
  },
  {
   "cell_type": "markdown",
   "metadata": {},
   "source": [
    "As always, we assess interlocus balance."
   ]
  },
  {
   "cell_type": "code",
   "execution_count": null,
   "metadata": {},
   "outputs": [],
   "source": [
    "mhpl8r balance EVD3-result.json\n",
    "mhpl8r balance REF2-result.json\n",
    "mhpl8r balance REF3-result.json\n",
    "mhpl8r balance REF4-result.json"
   ]
  },
  {
   "cell_type": "markdown",
   "metadata": {},
   "source": [
    "We now want to examine the evidentiary sample and investigate the presence of multiple DNA contributors."
   ]
  },
  {
   "cell_type": "code",
   "execution_count": null,
   "metadata": {},
   "outputs": [],
   "source": [
    "mhpl8r contrib profile-EVD3.json"
   ]
  },
  {
   "cell_type": "markdown",
   "metadata": {},
   "source": [
    "In this sample, we observe three loci that have evidence for at least three DNA contributors (i.e. five or more distinct haplotypes).\n",
    "We can then test whether any of the reference samples is a contributor to the evidentiary mixture.\n",
    "MicroHapulator implements a simple containment test to investigate this question.\n",
    "In brief, the containment test examines each marker and determines whether the genotype in a profile of interest is compatible with the genotype of a mixture profile.\n",
    "For example, if a reference sample **REF99** has a `A,C,T / A,T,T` genotype at a marker and an evidentiary mixture sample **EVD99** has a `A,C,G / A,C,T / A,T,T` genotype, **REF99** is compatible, e.g. a plausible contributor to **EVD99**.\n",
    "On the other hand, if the **REF99** genotype at a different marker is `G,G,A,T / C,G,T,T` and the **EVD99** genotype is `G,G,A,T / G,G,T,T`, **REF99** is not a plausible contributor to **EVD99**.\n",
    "In the end, the containment test reports the percentage of markers in one profile with compatible genotypes to another (mixture) profile.\n",
    "\n",
    "We can use the `mhpl8r contrib` command to perform the containment test for **REF2**."
   ]
  },
  {
   "cell_type": "code",
   "execution_count": null,
   "metadata": {},
   "outputs": [],
   "source": [
    "mhpl8r contain EVD3-result.json REF2-result.json"
   ]
  },
  {
   "cell_type": "markdown",
   "metadata": {},
   "source": [
    "This tells us that 100% of the haplotypes observed in **REF2** are present in **EVD3**, suggesting that **REF2** is a plausible contributor to **EVD3**.\n",
    "What can we say about **REF3** and **REF4**?"
   ]
  },
  {
   "cell_type": "code",
   "execution_count": null,
   "metadata": {},
   "outputs": [],
   "source": [
    "mhpl8r contain EVD3-result.json REF3-result.json\n",
    "mhpl8r contain EVD3-result.json REF4-result.json"
   ]
  },
  {
   "cell_type": "markdown",
   "metadata": {},
   "source": [
    "Only about FIXME% of the alleles in both of these samples are present in **EVD3**, suggesting that they are unlikely to be contributors to the sample.\n",
    "\n",
    "As a final note, it important acknowledge several factors that can influence the the containment statistic.\n",
    "It is not always possible to develop thresholds that eliminate all errors and detects all true haplotypes.\n",
    "This is especially the case for low-input samples or mixtures with an imbalance between major and minor contributors.\n",
    "MicroHapulator's containment test does not account for allelic drop-in (false positives) or drop-out (false negatives).\n",
    "We also note that many haplotypes from non-contributors will be present in a mixture simply by chance, and there is no simple theoretical threshold we can apply to distinguish between \"true\" and \"false\" containment.\n",
    "The containment test is a basic tool that provides a quick check to guide an investigation.\n",
    "Probabilistic genotyping (probgen) methods, on the other hand, provide for a much more robust interpretation of forensic propositions, with models for drop-in and drop-out evaluated in a maximum likelihood framework.\n",
    "Probgen is beyond the scope of this tutorial, but the use of probgen tools such as LRMix Studio or EuroForMix is recommended for definitive interpretation of DNA mixtures.\n"
   ]
  }
 ],
 "metadata": {
  "kernelspec": {
   "display_name": "Bash",
   "language": "bash",
   "name": "bash"
  },
  "language_info": {
   "codemirror_mode": "shell",
   "file_extension": ".sh",
   "mimetype": "text/x-sh",
   "name": "bash"
  }
 },
 "nbformat": 4,
 "nbformat_minor": 2
}
