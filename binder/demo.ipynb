{
 "cells": [
  {
   "cell_type": "markdown",
   "metadata": {},
   "source": [
    "# MicroHapulator: Interactive Demo\n",
    "\n",
    "<small>Daniel Standage, 2022-04-25</small>\n",
    "\n",
    "**MicroHapulator** is an application for empirical haplotype calling, analysis, and basic forensic interpretation of microhaplotypes with NGS data.\n",
    "This notebook is designed to introduce MicroHapulator to new users and demonstrate its features.\n",
    "The software is normally run by entering commands in a UNIX shell terminal window (available on Linux, MacOS, or the Windows Subsystem for Linux).\n",
    "\n",
    "<img src=\"https://www.siliconrepublic.com/wp-content/uploads/2014/12/201503/unix-jurassic-park-718x523.jpeg\" alt=\"It's a UNIX system. I know this\" width=\"350\" />\n",
    "\n",
    "For convenience, however, this notebook provides an interactive environment that interleaves narrative text, shell commands that the reader can execute and re-execute, the output of those commands, and additional explanatory commentary.\n",
    "To execute a block of code in the notebook, select the corresponding notebook cell and then click the `[> Run]` button at the top of the page (or as a keyboard shortcut, simultaneously press `[shift]` and `[enter]`).\n",
    "As you execute each code block, the notebook will display output from the corresponding command(s)."
   ]
  },
  {
   "cell_type": "markdown",
   "metadata": {},
   "source": [
    "## Getting started\n",
    "\n",
    "This demo assumes the reader is familiar with basic terminology and concepts related to biology, genomes, and NGS sequencing.\n",
    "A [primer on forensic DNA typing](https://microhapulator.readthedocs.io/en/latest/primer.html) is available for any reader unfamiliar with the topic.\n",
    "A brief description of MicroHapulator's [core haplotype calling procedure](https://microhapulator.readthedocs.io/en/latest/typing.html) is also provided.\n",
    "These readings are recommended before beginning this demo.\n",
    "\n",
    "Finally, before we dive in, we need to define a function we'll use to display images in this interactive notebook.\n",
    "Be sure to execute this cell before proceeding with the rest of the demo."
   ]
  },
  {
   "cell_type": "code",
   "execution_count": 1,
   "metadata": {},
   "outputs": [],
   "source": [
    "display ()\n",
    "{\n",
    "    TMPFILE=$(mktemp ${TMPDIR-/tmp}/bash_kernel.XXXXXXXXXX);\n",
    "    cat > $TMPFILE;\n",
    "    echo \"bash_kernel: saved image data to: $TMPFILE\" 1>&2\n",
    "}"
   ]
  },
  {
   "cell_type": "markdown",
   "metadata": {},
   "source": [
    "## Setup\n",
    "\n",
    "Two mock scenarios are presented in this demo.\n",
    "In both scenarios, a number of reference and evidentiary samples have been sequenced on an Illumina MiSeq with a panel targeting 23 microhaplotype markers.\n",
    "The identifiers for these markers are shown below."
   ]
  },
  {
   "cell_type": "code",
   "execution_count": 2,
   "metadata": {},
   "outputs": [
    {
     "name": "stdout",
     "output_type": "stream",
     "text": [
      "mh01USC-1pD\n",
      "mh02USC-2pC\n",
      "mh03USC-3qC\n",
      "mh04USC-4pA\n",
      "mh05USC-5pA\n",
      "mh06USC-6pB\n",
      "mh07USC-7pB\n",
      "mh08USC-8pA\n",
      "mh09USC-9pA\n",
      "mh0XUSC-XqH\n",
      "mh10USC-10qC\n",
      "mh11USC-11pB\n",
      "mh12USC-12qB\n",
      "mh13USC-13qA\n",
      "mh14USC-14qA\n",
      "mh15USC-15qA\n",
      "mh16USC-16qB\n",
      "mh17USC-17pA\n",
      "mh18USC-18qC\n",
      "mh19USC-19qB\n",
      "mh20USC-20qB\n",
      "mh21USC-21qA\n",
      "mh22USC-22qB\n"
     ]
    }
   ],
   "source": [
    "cat panel.txt"
   ]
  },
  {
   "cell_type": "markdown",
   "metadata": {},
   "source": [
    "Following the instructions in the [MicroHapulator configuration manual](https://microhapulator.readthedocs.io/en/latest/config.html), configuration files were prepared previously with marker reference sequences, microhaplotype SNP definitions, and haplotype frequencies for the population of interest.\n",
    "These files are listed as follows.\n",
    "(The full contents of these files are available [here](https://github.com/bioforensics/MicroHapulator/tree/main/binder).)"
   ]
  },
  {
   "cell_type": "code",
   "execution_count": 3,
   "metadata": {},
   "outputs": [
    {
     "name": "stdout",
     "output_type": "stream",
     "text": [
      "frequencies.tsv\n",
      "marker-defn.tsv\n",
      "refr-seqs.fasta\n"
     ]
    }
   ],
   "source": [
    "ls -1 refr-seqs.fasta marker-defn.tsv frequencies.tsv"
   ]
  },
  {
   "cell_type": "markdown",
   "metadata": {},
   "source": [
    "One of the initial steps in data analysis is mapping the NGS reads to the marker reference sequences.\n",
    "This mapping procedure requires the construction of a search index for the reference sequences.\n",
    "The indexing task only needs to be performed once for any given reference sequence file."
   ]
  },
  {
   "cell_type": "code",
   "execution_count": 4,
   "metadata": {},
   "outputs": [
    {
     "name": "stdout",
     "output_type": "stream",
     "text": [
      "[bwa_index] Pack FASTA... 0.00 sec\n",
      "[bwa_index] Construct BWT for the packed sequence...\n",
      "[bwa_index] 0.00 seconds elapse.\n",
      "[bwa_index] Update BWT... 0.00 sec\n",
      "[bwa_index] Pack forward-only FASTA... 0.00 sec\n",
      "[bwa_index] Construct SA from BWT and Occ... 0.00 sec\n",
      "[main] Version: 0.7.17-r1188\n",
      "[main] CMD: bwa index refr-seqs.fasta\n",
      "[main] Real time: 0.011 sec; CPU: 0.014 sec\n"
     ]
    }
   ],
   "source": [
    "bwa index refr-seqs.fasta"
   ]
  },
  {
   "cell_type": "markdown",
   "metadata": {},
   "source": [
    "And then of course, we need to download the NGS reads for our mock scenarios."
   ]
  },
  {
   "cell_type": "code",
   "execution_count": 5,
   "metadata": {},
   "outputs": [],
   "source": [
    "curl -sL https://osf.io/2m3bq/download > EVD1-reads-R1.fastq.gz\n",
    "curl -sL https://osf.io/swbma/download > EVD1-reads-R2.fastq.gz\n",
    "curl -sL https://osf.io/vr2dn/download > EVD2-reads-R1.fastq.gz\n",
    "curl -sL https://osf.io/93s8v/download > EVD2-reads-R2.fastq.gz\n",
    "curl -sL https://osf.io/ytmqs/download > EVD3-reads-R1.fastq.gz\n",
    "curl -sL https://osf.io/uyghd/download > EVD3-reads-R2.fastq.gz\n",
    "curl -sL https://osf.io/v87zw/download > REF1-reads-R1.fastq.gz\n",
    "curl -sL https://osf.io/akpvr/download > REF1-reads-R2.fastq.gz\n",
    "curl -sL https://osf.io/fgqsu/download > REF2-reads-R1.fastq.gz\n",
    "curl -sL https://osf.io/4kbc6/download > REF2-reads-R2.fastq.gz\n",
    "curl -sL https://osf.io/fptma/download > REF3-reads-R1.fastq.gz\n",
    "curl -sL https://osf.io/hyagb/download > REF3-reads-R2.fastq.gz\n",
    "curl -sL https://osf.io/axfcw/download > REF4-reads-R1.fastq.gz\n",
    "curl -sL https://osf.io/jgesz/download > REF4-reads-R2.fastq.gz"
   ]
  },
  {
   "cell_type": "markdown",
   "metadata": {},
   "source": [
    "## Data Preprocessing and Haplotype Calling\n",
    "\n",
    "Before diving in to our mock scenarios, let us first demonstrate how to compute a typing result.\n",
    "The paired-end reads generated for each sample by the Illumina MiSeq instrument are stored in paired files, as shown below for the `EVD1` sample."
   ]
  },
  {
   "cell_type": "code",
   "execution_count": 6,
   "metadata": {},
   "outputs": [
    {
     "name": "stdout",
     "output_type": "stream",
     "text": [
      "EVD1-reads-R1.fastq.gz\n",
      "EVD1-reads-R2.fastq.gz\n"
     ]
    }
   ],
   "source": [
    "ls -1 EVD1-reads-R*.fastq.gz"
   ]
  },
  {
   "cell_type": "markdown",
   "metadata": {},
   "source": [
    "Because of the size of the target amplicons and the length of each sequenced fragment, we expect most read pairs to have a substantial amount of overlap.\n",
    "Rather than aligning and probing the paired fragments separately, we will first attempt to merge each read pair into a single sequence.\n",
    "For this we use the FLASH program."
   ]
  },
  {
   "cell_type": "code",
   "execution_count": 7,
   "metadata": {},
   "outputs": [
    {
     "name": "stdout",
     "output_type": "stream",
     "text": [
      "[FLASH] Starting FLASH v1.2.11\n",
      "[FLASH] Fast Length Adjustment of SHort reads\n",
      "[FLASH]  \n",
      "[FLASH] Input files:\n",
      "[FLASH]     EVD1-reads-R1.fastq.gz\n",
      "[FLASH]     EVD1-reads-R2.fastq.gz\n",
      "[FLASH]  \n",
      "[FLASH] Output files:\n",
      "[FLASH]     ./EVD1.extendedFrags.fastq\n",
      "[FLASH]     ./EVD1.notCombined_1.fastq\n",
      "[FLASH]     ./EVD1.notCombined_2.fastq\n",
      "[FLASH]     ./EVD1.hist\n",
      "[FLASH]     ./EVD1.histogram\n",
      "[FLASH]  \n",
      "[FLASH] Parameters:\n",
      "[FLASH]     Min overlap:           100\n",
      "[FLASH]     Max overlap:           325\n",
      "[FLASH]     Max mismatch density:  0.250000\n",
      "[FLASH]     Allow \"outie\" pairs:   true\n",
      "[FLASH]     Cap mismatch quals:    false\n",
      "[FLASH]     Combiner threads:      8\n",
      "[FLASH]     Input format:          FASTQ, phred_offset=33\n",
      "[FLASH]     Output format:         FASTQ, phred_offset=33\n",
      "[FLASH]  \n",
      "[FLASH] Starting reader and writer threads\n",
      "[FLASH] Starting 8 combiner threads\n",
      "[FLASH] Processed 2500 read pairs\n",
      "[FLASH]  \n",
      "[FLASH] Read combination statistics:\n",
      "[FLASH]     Total pairs:      2500\n",
      "[FLASH]     Combined pairs:   2472\n",
      "[FLASH]         Innie pairs:   1252 (50.65% of combined)\n",
      "[FLASH]         Outie pairs:   1220 (49.35% of combined)\n",
      "[FLASH]     Uncombined pairs: 28\n",
      "[FLASH]     Percent combined: 98.88%\n",
      "[FLASH]  \n",
      "[FLASH] Writing histogram files.\n",
      "[FLASH]  \n",
      "[FLASH] FLASH v1.2.11 complete!\n",
      "[FLASH] 0.038 seconds elapsed\n"
     ]
    }
   ],
   "source": [
    "flash EVD1-reads-R1.fastq.gz EVD1-reads-R2.fastq.gz --allow-outies -m 100 -M 325 -o EVD1"
   ]
  },
  {
   "cell_type": "markdown",
   "metadata": {},
   "source": [
    "As noted in the FLASH output, we now have merged reads stored in the file `EVD1.extendedFrags.fastq`.\n",
    "The next step in our workflow is to map the reads to the target amplicon sequences in `refr-seqs.fasta`.\n",
    "In this notebook we use the `bwa mem` algorithm, but other algorithms such as `bowtie2` would also be appopriate to use here.\n",
    "We also use `samtools` to convert the plain text alignments in SAM format to sorted, compressed, and indexed read alignments in BAM format."
   ]
  },
  {
   "cell_type": "code",
   "execution_count": 8,
   "metadata": {},
   "outputs": [
    {
     "name": "stdout",
     "output_type": "stream",
     "text": [
      "[M::bwa_idx_load_from_disk] read 0 ALT contigs\n",
      "[M::process] read 2472 sequences (765992 bp)...\n",
      "[M::mem_process_seqs] Processed 2472 reads in 0.233 CPU sec, 0.234 real sec\n",
      "[main] Version: 0.7.17-r1188\n",
      "[main] CMD: bwa mem refr-seqs.fasta EVD1.extendedFrags.fastq\n",
      "[main] Real time: 0.258 sec; CPU: 0.246 sec\n"
     ]
    }
   ],
   "source": [
    "bwa mem refr-seqs.fasta EVD1.extendedFrags.fastq | samtools view -b | samtools sort -o EVD1-reads.bam\n",
    "samtools index EVD1-reads.bam"
   ]
  },
  {
   "cell_type": "markdown",
   "metadata": {},
   "source": [
    "With the aligned reads stored in `EVD1-reads.bam`, we can now use `mhpl8r type` to compute the typing result for this sample.\n",
    "In addition to the BAM file containing read alignments, we also need to specify the configuration file containing marker definitions for the 23-plex panel.\n",
    "\n",
    "Due to sequencing errors, some of the haplotypes observed in a typing result will be technical artifacts.\n",
    "While computing a typing result, the `mhpl8r filter` command can apply naïve static and/or dynamic filters to distinguish true and false haplotypes and determine the sample's genotype.\n",
    "We call the filtered typing result a *genotype call*.\n",
    "\n",
    "We'll store the typing results and genotype calls in `EVD1-result.json` and then peek at the first several lines of this file."
   ]
  },
  {
   "cell_type": "code",
   "execution_count": 9,
   "metadata": {},
   "outputs": [
    {
     "name": "stdout",
     "output_type": "stream",
     "text": [
      "[MicroHapulator] running version 0.5+71.g8725f3b.dirty\n",
      "[MicroHapulator::type] discarded 12 reads with gaps or missing data at positions of interest\n",
      "[MicroHapulator] running version 0.5+71.g8725f3b.dirty\n",
      "{\n",
      "    \"markers\": {\n",
      "        \"mh01USC-1pD\": {\n",
      "            \"genotype\": [\n",
      "                {\n",
      "                    \"haplotype\": \"C,C,A\"\n",
      "                },\n",
      "                {\n",
      "                    \"haplotype\": \"C,C,C\"\n",
      "                }\n",
      "            ],\n",
      "            \"max_coverage\": 109,\n",
      "            \"mean_coverage\": 103.8,\n",
      "            \"min_coverage\": 4,\n",
      "            \"num_discarded_reads\": 0,\n",
      "            \"typing_result\": {\n",
      "                \"C,C,A\": 55,\n",
      "                \"C,C,C\": 54\n",
      "            }\n",
      "        },\n",
      "        \"mh02USC-2pC\": {\n",
      "            \"genotype\": [\n",
      "                {\n",
      "                    \"haplotype\": \"A,C,G,T\"\n",
      "                },\n",
      "                {\n",
      "                    \"haplotype\": \"G,C,G,T\"\n",
      "                }\n",
      "            ],\n",
      "            \"max_coverage\": 106,\n",
      "            \"mean_coverage\": 101.2,\n",
      "            \"min_coverage\": 8,\n",
      "            \"num_discarded_reads\": 0,\n",
      "            \"typing_result\": {\n",
      "                \"A,C,G,T\": 53,\n",
      "                \"G,C,G,T\": 53\n",
      "            }\n",
      "        },\n"
     ]
    }
   ],
   "source": [
    "mhpl8r type marker-defn.tsv EVD1-reads.bam --out EVD1-result-raw.json\n",
    "mhpl8r filter EVD1-result-raw.json --dynamic 0.1 --out EVD1-result.json\n",
    "cat EVD1-result.json | head -n 38"
   ]
  },
  {
   "cell_type": "markdown",
   "metadata": {},
   "source": [
    "The data is stored in JavaScript Object Notation (JSON), and includes for each marker a handful of coverage statistics, the quantitative typing result, and the genotype call.\n",
    "Here we see the first two entries in the file, corresponding to the markers `mh01USC-1pD` and `mh02USC-2pC` which appear to be heterozygous for this sample.\n",
    "\n",
    "As a final sanity check, examining the *interlocus balance* and *heterozygote balance* of each sample can reveal potential issues with the sequencing run.\n",
    "Interlocus balance looks at whether there are any markers with a disproportionately high or low number of aligned reads.\n",
    "This variation could be due to any combination of factors, such as primer kinetics, off-target amplification, or stochastic effects in sequencing.\n",
    "With the application of appropriate thresholds, interlocus imbalance shouldn't cause serious problems with forensic  interpretation of a sample except in cases of extreme imbalance or the presence of DNA contributor(s) at very low levels in a sample.\n",
    "When assessing interlocus balance, MicroHapulator peforms a chi-square goodness-of-fit test assuming uniform read coverage across markers.\n",
    "The reported chi-square statistic measures the extent of imbalance, and can be compared among samples sequenced using the same panel: the minimum value of 0 represents perfectly uniform coverage, while the maximum value of D occurs when all reads map to a single marker (D represents the degrees of freedom, or the number of markers minus 1).\n",
    "\n",
    "We assess interlocus balance with the `mhpl8r locbalance` command.\n",
    "\n",
    "> The `--dpi` and `--figsize` arguments produce a figure convenient for display in this notebook.\n",
    "> Without these optional arguments, the command produces a large high-resolution graphic by default."
   ]
  },
  {
   "cell_type": "code",
   "execution_count": 10,
   "metadata": {},
   "outputs": [
    {
     "name": "stdout",
     "output_type": "stream",
     "text": [
      "[MicroHapulator] running version 0.5+71.g8725f3b.dirty\n",
      "Extent of imbalance (chi-square statistic): 0.0001\n"
     ]
    },
    {
     "data": {
      "image/png": "[encoded data removed]"
     },
     "metadata": {},
     "output_type": "display_data"
    }
   ],
   "source": [
    "mhpl8r locbalance EVD1-result.json --quiet --figure EVD1-locbalance.png --dpi 100 --figsize 4 4\n",
    "display < EVD1-locbalance.png"
   ]
  },
  {
   "cell_type": "markdown",
   "metadata": {},
   "source": [
    "Heterozygote balance looks only at markers with two alleles, and compares the relative abundance of the major and minor alleles.\n",
    "Large differences in abundance between major and minor alleles can be a source of allelic drop-out, and should be accounted for in interpretation.\n",
    "This could also signify the possible presence of a second DNA contributor present at low levels in the sample.\n",
    "When assessing heterozygote balance, MicroHapulator performs a paired t-test and reports the t-statistic as a measure of heterozygote imbalance."
   ]
  },
  {
   "cell_type": "code",
   "execution_count": 11,
   "metadata": {},
   "outputs": [
    {
     "name": "stdout",
     "output_type": "stream",
     "text": [
      "[MicroHapulator] running version 0.5+71.g8725f3b.dirty\n",
      "Extent of imbalance (t-statistic): 6.1936\n"
     ]
    },
    {
     "data": {
      "image/png": "[encoded data removed]"
     },
     "metadata": {},
     "output_type": "display_data"
    }
   ],
   "source": [
    "mhpl8r hetbalance EVD1-result.json --figure EVD1-hetbalance.png --dpi 100 --figsize 4 4\n",
    "display < EVD1-hetbalance.png"
   ]
  },
  {
   "cell_type": "markdown",
   "metadata": {},
   "source": [
    "Conveniently, there are no concerns for this simulated mock data.\n",
    "We would expect to see more variation in real data coming off an NGS sequencer.\n",
    "But observing no significant imbalance, we can proceed with our analysis and interpretation."
   ]
  },
  {
   "cell_type": "markdown",
   "metadata": {},
   "source": [
    "## Scenario 1\n",
    "\n",
    "In our first scenario, two evidentiary samples have been collected in the course of a forensic investigation.\n",
    "The case worker has leveled these samples **EVD1** and **EVD2** and suspects that both have only a single DNA contributor.\n",
    "We also have a reference sample labeled **REF1** collected from a person of interest in the investigation.\n",
    "All three samples were assayed with our 23-plex NGS panel, and the reads were stored in the pairs of files: `EVD1-reads-R*.fastq.gz`, `EVD2-reads-R*.fastq.gz`, and `REF1-reads-R*.fastq.gz`."
   ]
  },
  {
   "cell_type": "code",
   "execution_count": 12,
   "metadata": {},
   "outputs": [
    {
     "name": "stdout",
     "output_type": "stream",
     "text": [
      "EVD1-reads-R1.fastq.gz\n",
      "EVD1-reads-R2.fastq.gz\n",
      "EVD2-reads-R1.fastq.gz\n",
      "EVD2-reads-R2.fastq.gz\n",
      "REF1-reads-R1.fastq.gz\n",
      "REF1-reads-R2.fastq.gz\n"
     ]
    }
   ],
   "source": [
    "ls -1 EVD1-reads-R*.fastq.gz EVD2-reads-R*.fastq.gz REF1-reads-R*.fastq.gz"
   ]
  },
  {
   "cell_type": "markdown",
   "metadata": {},
   "source": [
    "We have already shown how to merge and align the NGS reads and call haplotypes for a sample with **EVD1**.\n",
    "Let us repeat the process for **EVD2** and **REF1**."
   ]
  },
  {
   "cell_type": "code",
   "execution_count": 13,
   "metadata": {},
   "outputs": [
    {
     "name": "stdout",
     "output_type": "stream",
     "text": [
      "[FLASH] Starting FLASH v1.2.11\n",
      "[FLASH] Fast Length Adjustment of SHort reads\n",
      "[FLASH]  \n",
      "[FLASH] Input files:\n",
      "[FLASH]     EVD2-reads-R1.fastq.gz\n",
      "[FLASH]     EVD2-reads-R2.fastq.gz\n",
      "[FLASH]  \n",
      "[FLASH] Output files:\n",
      "[FLASH]     ./EVD2.extendedFrags.fastq\n",
      "[FLASH]     ./EVD2.notCombined_1.fastq\n",
      "[FLASH]     ./EVD2.notCombined_2.fastq\n",
      "[FLASH]     ./EVD2.hist\n",
      "[FLASH]     ./EVD2.histogram\n",
      "[FLASH]  \n",
      "[FLASH] Parameters:\n",
      "[FLASH]     Min overlap:           100\n",
      "[FLASH]     Max overlap:           325\n",
      "[FLASH]     Max mismatch density:  0.250000\n",
      "[FLASH]     Allow \"outie\" pairs:   true\n",
      "[FLASH]     Cap mismatch quals:    false\n",
      "[FLASH]     Combiner threads:      8\n",
      "[FLASH]     Input format:          FASTQ, phred_offset=33\n",
      "[FLASH]     Output format:         FASTQ, phred_offset=33\n",
      "[FLASH]  \n",
      "[FLASH] Starting reader and writer threads\n",
      "[FLASH] Starting 8 combiner threads\n",
      "[FLASH] Processed 2500 read pairs\n",
      "[FLASH]  \n",
      "[FLASH] Read combination statistics:\n",
      "[FLASH]     Total pairs:      2500\n",
      "[FLASH]     Combined pairs:   2500\n",
      "[FLASH]         Innie pairs:   1155 (46.20% of combined)\n",
      "[FLASH]         Outie pairs:   1345 (53.80% of combined)\n",
      "[FLASH]     Uncombined pairs: 0\n",
      "[FLASH]     Percent combined: 100.00%\n",
      "[FLASH]  \n",
      "[FLASH] Writing histogram files.\n",
      "[FLASH]  \n",
      "[FLASH] FLASH v1.2.11 complete!\n",
      "[FLASH] 0.036 seconds elapsed\n",
      "[M::bwa_idx_load_from_disk] read 0 ALT contigs\n",
      "[M::process] read 2500 sequences (772154 bp)...\n",
      "[M::mem_process_seqs] Processed 2500 reads in 0.229 CPU sec, 0.230 real sec\n",
      "[main] Version: 0.7.17-r1188\n",
      "[main] CMD: bwa mem refr-seqs.fasta EVD2.extendedFrags.fastq\n",
      "[main] Real time: 0.249 sec; CPU: 0.236 sec\n",
      "[MicroHapulator] running version 0.5+71.g8725f3b.dirty\n",
      "[MicroHapulator::type] discarded 12 reads with gaps or missing data at positions of interest\n",
      "[MicroHapulator] running version 0.5+71.g8725f3b.dirty\n",
      "[FLASH] Starting FLASH v1.2.11\n",
      "[FLASH] Fast Length Adjustment of SHort reads\n",
      "[FLASH]  \n",
      "[FLASH] Input files:\n",
      "[FLASH]     REF1-reads-R1.fastq.gz\n",
      "[FLASH]     REF1-reads-R2.fastq.gz\n",
      "[FLASH]  \n",
      "[FLASH] Output files:\n",
      "[FLASH]     ./REF1.extendedFrags.fastq\n",
      "[FLASH]     ./REF1.notCombined_1.fastq\n",
      "[FLASH]     ./REF1.notCombined_2.fastq\n",
      "[FLASH]     ./REF1.hist\n",
      "[FLASH]     ./REF1.histogram\n",
      "[FLASH]  \n",
      "[FLASH] Parameters:\n",
      "[FLASH]     Min overlap:           100\n",
      "[FLASH]     Max overlap:           325\n",
      "[FLASH]     Max mismatch density:  0.250000\n",
      "[FLASH]     Allow \"outie\" pairs:   true\n",
      "[FLASH]     Cap mismatch quals:    false\n",
      "[FLASH]     Combiner threads:      8\n",
      "[FLASH]     Input format:          FASTQ, phred_offset=33\n",
      "[FLASH]     Output format:         FASTQ, phred_offset=33\n",
      "[FLASH]  \n",
      "[FLASH] Starting reader and writer threads\n",
      "[FLASH] Starting 8 combiner threads\n",
      "[FLASH] Processed 25000 read pairs\n",
      "[FLASH] Processed 25002 read pairs\n",
      "[FLASH]  \n",
      "[FLASH] Read combination statistics:\n",
      "[FLASH]     Total pairs:      25002\n",
      "[FLASH]     Combined pairs:   24366\n",
      "[FLASH]         Innie pairs:   12470 (51.18% of combined)\n",
      "[FLASH]         Outie pairs:   11896 (48.82% of combined)\n",
      "[FLASH]     Uncombined pairs: 636\n",
      "[FLASH]     Percent combined: 97.46%\n",
      "[FLASH]  \n",
      "[FLASH] Writing histogram files.\n",
      "[FLASH]  \n",
      "[FLASH] FLASH v1.2.11 complete!\n",
      "[FLASH] 0.199 seconds elapsed\n",
      "[M::bwa_idx_load_from_disk] read 0 ALT contigs\n",
      "[M::process] read 24366 sequences (7534476 bp)...\n",
      "[M::mem_process_seqs] Processed 24366 reads in 2.252 CPU sec, 2.270 real sec\n",
      "[main] Version: 0.7.17-r1188\n",
      "[main] CMD: bwa mem refr-seqs.fasta REF1.extendedFrags.fastq\n",
      "[main] Real time: 2.501 sec; CPU: 2.311 sec\n",
      "[MicroHapulator] running version 0.5+71.g8725f3b.dirty\n",
      "[MicroHapulator::type] discarded 96 reads with gaps or missing data at positions of interest\n",
      "[MicroHapulator] running version 0.5+71.g8725f3b.dirty\n"
     ]
    }
   ],
   "source": [
    "flash EVD2-reads-R1.fastq.gz EVD2-reads-R2.fastq.gz --allow-outies -m 100 -M 325 -o EVD2\n",
    "bwa mem refr-seqs.fasta EVD2.extendedFrags.fastq | samtools view -b | samtools sort -o EVD2-reads.bam\n",
    "samtools index EVD2-reads.bam\n",
    "mhpl8r type marker-defn.tsv EVD2-reads.bam --out EVD2-result-raw.json\n",
    "mhpl8r filter EVD2-result-raw.json --dynamic 0.1 --out EVD2-result.json\n",
    "\n",
    "flash REF1-reads-R1.fastq.gz REF1-reads-R2.fastq.gz --allow-outies -m 100 -M 325 -o REF1\n",
    "bwa mem refr-seqs.fasta REF1.extendedFrags.fastq | samtools view -b | samtools sort -o REF1-reads.bam\n",
    "samtools index REF1-reads.bam\n",
    "mhpl8r type marker-defn.tsv REF1-reads.bam --out REF1-result-raw.json\n",
    "mhpl8r filter REF1-result-raw.json --dynamic 0.1 --out REF1-result.json"
   ]
  },
  {
   "cell_type": "markdown",
   "metadata": {},
   "source": [
    "> Normally we would examine interlocus balance or heterozygote balance before proceeding with forensic interpretation, but we'll skip this step since we're working with simulated mock data.\n",
    "\n",
    "Forensic interpretation refers to the process of determining the conclusions, if any, that can be responsibly drawn by comparing two or more DNA profiles.\n",
    "How confident can one be that two single-source profiles came from the same individual?\n",
    "How confident can one be that one single-source profile is a contributor to a second mixture profile?\n",
    "A variety of approaches exist for addressing these types of questions, some very simple and some very complex.\n",
    "MicroHapulator implements a handful of tools for simple forensic interpretation tasks.\n",
    "It also supports the export of typing results to a format that can be used by state-of-the-art probabilistic genotyping (probgen) programs.\n",
    "Probgen is beyond the scope of this tutorial, but we will demonstrate the basic interpretation capabilities provided by MicroHapulator.\n",
    "\n",
    "One question often encountered during a study or investigation is the number of DNA contributors in an evidentiary sample (or sometimes even a sample collected from a person of interest).\n",
    "A single-source profile will have at most two distinct alleles at any given marker, one from each parental haplotype.\n",
    "However, it's likewise possible that profile with two contributors will *also* have no more than two distinct alleles, even if the contributing genotypes are different (e.g. contributor A may be homozygous for one allele and contributor B homozygous for another allele).\n",
    "But chances are that two or more DNA contributors will result in three or more alleles for at least a *small* number of markers.\n",
    "We can use this observation to estimate the minimum number of contributors for a profile.\n",
    "\n",
    "The `mhpl8r contrib` command implements a procedure to scan a typing result to determine the maximum number of alleles $N_{\\text{al}}$ present at any single locus. From this, it can calculate the minimum number of DNA contributors $C_{\\text{min}}$ as follows.\n",
    "\n",
    "$$\n",
    "C_{\\text{min}} = \\left\\lceil\\frac{N_{\\text{al}}}{2}\\right\\rceil\n",
    "$$\n",
    "\n",
    "We begin by applying this to the three profiles in our mock scenario."
   ]
  },
  {
   "cell_type": "code",
   "execution_count": 14,
   "metadata": {},
   "outputs": [
    {
     "name": "stdout",
     "output_type": "stream",
     "text": [
      "[MicroHapulator] running version 0.5+71.g8725f3b.dirty\n",
      "{\n",
      "    \"min_num_contrib\": 1,\n",
      "    \"num_loci_max_alleles\": 23,\n",
      "    \"perc_loci_max_alleles\": 1.0\n",
      "}[MicroHapulator] running version 0.5+71.g8725f3b.dirty\n",
      "{\n",
      "    \"min_num_contrib\": 1,\n",
      "    \"num_loci_max_alleles\": 23,\n",
      "    \"perc_loci_max_alleles\": 1.0\n",
      "}[MicroHapulator] running version 0.5+71.g8725f3b.dirty\n",
      "{\n",
      "    \"min_num_contrib\": 1,\n",
      "    \"num_loci_max_alleles\": 23,\n",
      "    \"perc_loci_max_alleles\": 1.0\n",
      "}"
     ]
    }
   ],
   "source": [
    "mhpl8r contrib EVD1-result.json\n",
    "mhpl8r contrib EVD2-result.json\n",
    "mhpl8r contrib REF1-result.json"
   ]
  },
  {
   "cell_type": "markdown",
   "metadata": {},
   "source": [
    "In all three profiles, none of the 23 markers has evidence for more than a single contributor.\n",
    "It would thus be reasonable to pursue additional interpretation under the assumption that these are all single-source samples.\n",
    "\n",
    "Depending on the details of the investigation, it might be necessary to investigate whether the two evidentiary came from the same individual, or whether one of the the evidentiary samples matches a reference sample collected from a person of interest.\n",
    "The most basic approach to addressing this question is to examine a pair of profiles and determine, marker by marker, whether there are any differences between the genotypes.\n",
    "Given two MicroHapulator typing results, the `mhpl8r diff` command will print any alleles that are present in one profile but not the other."
   ]
  },
  {
   "cell_type": "code",
   "execution_count": 15,
   "metadata": {},
   "outputs": [
    {
     "name": "stdout",
     "output_type": "stream",
     "text": [
      "[MicroHapulator] running version 0.5+71.g8725f3b.dirty\n"
     ]
    }
   ],
   "source": [
    "mhpl8r diff EVD1-result.json REF1-result.json"
   ]
  },
  {
   "cell_type": "code",
   "execution_count": 16,
   "metadata": {},
   "outputs": [
    {
     "name": "stdout",
     "output_type": "stream",
     "text": [
      "[MicroHapulator] running version 0.5+71.g8725f3b.dirty\n",
      "mh01USC-1pD\n",
      ">>> C,C,C\n",
      "mh02USC-2pC\n",
      ">>> A,C,G,T\n",
      "<<< G,C,T,T\n",
      "mh03USC-3qC\n",
      ">>> A,C,C,A,G\n",
      "<<< G,T,C,G,G\n",
      "mh04USC-4pA\n",
      "<<< G,T,A,A\n",
      "mh06USC-6pB\n",
      ">>> T,A,A\n",
      "<<< C,G,A\n",
      "mh07USC-7pB\n",
      ">>> A,G,G,C\n",
      "<<< T,A,A,C\n",
      "mh08USC-8pA\n",
      ">>> A,G,T,A\n",
      "<<< A,G,T,G\n",
      "mh09USC-9pA\n",
      ">>> G,T,C,A,C\n",
      ">>> G,T,C,G,C\n",
      "<<< A,T,C,A,A\n",
      "<<< A,T,T,G,C\n",
      "mh0XUSC-XqH\n",
      ">>> T,C,T\n",
      "<<< G,T,T\n",
      "<<< T,C,C\n",
      "mh10USC-10qC\n",
      "<<< G,C,A\n",
      "mh11USC-11pB\n",
      ">>> C,A,T,G\n",
      "<<< C,G,C,G\n",
      "mh12USC-12qB\n",
      ">>> A,A,A,T\n",
      "<<< G,A,A,C\n",
      "mh13USC-13qA\n",
      ">>> A,T,A,A\n",
      "<<< A,C,A,G\n",
      "mh14USC-14qA\n",
      ">>> G,C,G\n",
      "<<< T,C,G\n",
      "mh15USC-15qA\n",
      ">>> A,C,A,A\n",
      ">>> A,T,A,G\n",
      "<<< A,T,A,A\n",
      "<<< G,T,A,A\n",
      "mh16USC-16qB\n",
      ">>> G,A,T\n",
      "<<< A,A,T\n",
      "mh17USC-17pA\n",
      ">>> T,C,A\n",
      "<<< T,C,C\n",
      "mh18USC-18qC\n",
      ">>> G,A,A,G\n",
      "mh19USC-19qB\n",
      ">>> A,G,A\n",
      ">>> G,G,G\n",
      "<<< G,C,A\n",
      "<<< G,G,A\n",
      "mh20USC-20qB\n",
      "<<< T,C,G,C\n",
      "mh21USC-21qA\n",
      ">>> G,T,G,G\n",
      "mh22USC-22qB\n",
      ">>> G,G,C,G,T\n"
     ]
    }
   ],
   "source": [
    "mhpl8r diff EVD1-result.json EVD2-result.json"
   ]
  },
  {
   "cell_type": "markdown",
   "metadata": {},
   "source": [
    "The first result shows that there are no differences between the **EVD1** profile and the **REF1** profile, so there is already strong evidence that these were derived from the same individual.\n",
    "\n",
    "The second result shows numerous differences between **EVD1** and **EVD2**.\n",
    "It's not uncommon to see minor discrepancies between different samples originating from the same individual—variability in laboratory processing or sample degradation could explain some of these differences.\n",
    "But if this were the case we would not typically expect to see discordant alleles at almost every marker.\n",
    "The much more likely explanation in this case is that **EVD1** and **EVD2** come from different individuals.\n",
    "\n",
    "But beyond a basic check for their presence or absence, an exhaustive listing of discordant alleles isn't very helpful (except perhaps for troubleshooting purposes).\n",
    "What we *really* want is a quantitative measure of our confidence in a match between two profiles.\n",
    "We derive this measure by assessing the likelihood of two propositions—two competing hypotheses or explanations for the data.\n",
    "Depending on the details of the investigation, we might formulate the likelihood ratio (LR) test as something like the following.\n",
    "\n",
    "- $H_p$: **REF1** and **EVD1** originated from the same individual\n",
    "- $H_d$: **REF1** and **EVD1** originated from two unrelated individuals in the population\n",
    "\n",
    "We then compute the ratio of the two hypotheses' probabilities as $LR = \\frac{P(H_p)}{P(H_d)}$.\n",
    "Large LR values are strong evidence in favor of $H_p$, small LR values support $H_d$, and LR values close to 1.0 are inconclusive.\n",
    "\n",
    "The probability $P(H_p) = \\epsilon^R$, where $\\epsilon$ is a per-marker rate of genotyping error (default: 0.001) and $R$ is the number of markers with discordant alleles between samples.\n",
    "The probability $P(H_d)$ is the random match probability (RMP) of the profile, which is essentially the product of the observed haplotype frequencies in the population.\n",
    "Note that in cases of a perfect profile match, $P(H_p) = 1$ and the LR is then simply the reciprocal of the RMP.\n",
    "\n",
    "We can use `mhpl8r prob` both to compute the RMP for the evidence and to perform the LR test as formulated above."
   ]
  },
  {
   "cell_type": "code",
   "execution_count": 17,
   "metadata": {},
   "outputs": [
    {
     "name": "stdout",
     "output_type": "stream",
     "text": [
      "[MicroHapulator] running version 0.5+71.g8725f3b.dirty\n",
      "{\n",
      "    \"random_match_probability\": \"1.394E-23\"\n",
      "}[MicroHapulator] running version 0.5+71.g8725f3b.dirty\n",
      "{\n",
      "    \"likelihood_ratio\": \"7.176E+22\"\n",
      "}"
     ]
    }
   ],
   "source": [
    "mhpl8r prob frequencies.tsv EVD1-result.json\n",
    "mhpl8r prob frequencies.tsv EVD1-result.json REF1-result.json"
   ]
  },
  {
   "cell_type": "markdown",
   "metadata": {},
   "source": [
    "The result is a very large LR of $7.18 \\times 10^{22}$, lending strong support to $H_p$ over $H_d$, consistent with our earlier observations.\n",
    "\n",
    "Now let's consider what would happen if, disregarding our earlier observations, we had formulated the LR test as follows.\n",
    "\n",
    "- $H_p$: **REF2** and **EVD1** originated from the same individual\n",
    "- $H_d$: **REF2** and **EVD1** originated from two unrelated individuals in the population"
   ]
  },
  {
   "cell_type": "code",
   "execution_count": 18,
   "metadata": {},
   "outputs": [
    {
     "name": "stdout",
     "output_type": "stream",
     "text": [
      "[MicroHapulator] running version 0.5+71.g8725f3b.dirty\n",
      "{\n",
      "    \"random_match_probability\": \"1.066E-23\"\n",
      "}[MicroHapulator] running version 0.5+71.g8725f3b.dirty\n",
      "{\n",
      "    \"likelihood_ratio\": \"9.384E-59\"\n",
      "}"
     ]
    }
   ],
   "source": [
    "mhpl8r prob frequencies.tsv EVD2-result.json\n",
    "mhpl8r prob frequencies.tsv EVD2-result.json REF1-result.json"
   ]
  },
  {
   "cell_type": "markdown",
   "metadata": {},
   "source": [
    "Here we see a very different result.\n",
    "The RMP for **EVD2** is of similar magnitude to that of **EVD1**, but the LR test statistic is very small.\n",
    "A tremendous amount of error would be required if **EVD2** and **REF1** were from the same individual—much more likely is that these samples originated from two unrelated individuals."
   ]
  },
  {
   "cell_type": "markdown",
   "metadata": {},
   "source": [
    "## Scenario 2\n",
    "\n",
    "In this scenario, the case worker has collected an evidentiary sample (**EVD3**) in the course of a forensic investigation, and there is some suspicion that this sample has multiple DNA contributors.\n",
    "We have also collected reference samples from three persons of interest in the investigation, labeled **REF2**, **REF3**, and **REF4**.\n",
    "As in the previous scenario, all four samples have been sequenced with our 23-microhap NGS panel.\n",
    "Reads are available in the following files."
   ]
  },
  {
   "cell_type": "code",
   "execution_count": 19,
   "metadata": {},
   "outputs": [
    {
     "name": "stdout",
     "output_type": "stream",
     "text": [
      "EVD3-reads-R1.fastq.gz\n",
      "EVD3-reads-R2.fastq.gz\n",
      "REF2-reads-R1.fastq.gz\n",
      "REF2-reads-R2.fastq.gz\n",
      "REF3-reads-R1.fastq.gz\n",
      "REF3-reads-R2.fastq.gz\n",
      "REF4-reads-R1.fastq.gz\n",
      "REF4-reads-R2.fastq.gz\n"
     ]
    }
   ],
   "source": [
    "ls -1 EVD3-reads-R*.fastq.gz REF2-reads-R*.fastq.gz REF3-reads-R*.fastq.gz REF4-reads-R*.fastq.gz"
   ]
  },
  {
   "cell_type": "markdown",
   "metadata": {},
   "source": [
    "As before, we will merge the read pairs, align the merged reads to the reference sequences, and compute a typing result for each sample."
   ]
  },
  {
   "cell_type": "code",
   "execution_count": 20,
   "metadata": {},
   "outputs": [
    {
     "name": "stdout",
     "output_type": "stream",
     "text": [
      "[M::bwa_idx_load_from_disk] read 0 ALT contigs\n",
      "[M::process] read 4976 sequences (1538831 bp)...\n",
      "[M::mem_process_seqs] Processed 4976 reads in 0.424 CPU sec, 0.424 real sec\n",
      "[main] Version: 0.7.17-r1188\n",
      "[main] CMD: bwa mem refr-seqs.fasta EVD3.extendedFrags.fastq\n",
      "[main] Real time: 0.464 sec; CPU: 0.443 sec\n",
      "[MicroHapulator] running version 0.5+71.g8725f3b.dirty\n",
      "[MicroHapulator::type] discarded 26 reads with gaps or missing data at positions of interest\n",
      "[MicroHapulator] running version 0.5+71.g8725f3b.dirty\n",
      "[M::bwa_idx_load_from_disk] read 0 ALT contigs\n",
      "[M::process] read 32352 sequences (10000334 bp)...\n",
      "[M::process] read 16695 sequences (5162223 bp)...\n",
      "[M::mem_process_seqs] Processed 32352 reads in 2.511 CPU sec, 2.499 real sec\n",
      "[M::mem_process_seqs] Processed 16695 reads in 1.573 CPU sec, 1.570 real sec\n",
      "[main] Version: 0.7.17-r1188\n",
      "[main] CMD: bwa mem refr-seqs.fasta REF2.extendedFrags.fastq\n",
      "[main] Real time: 4.253 sec; CPU: 4.142 sec\n",
      "[MicroHapulator] running version 0.5+71.g8725f3b.dirty\n",
      "[MicroHapulator::type] discarded 258 reads with gaps or missing data at positions of interest\n",
      "[MicroHapulator] running version 0.5+71.g8725f3b.dirty\n",
      "[M::bwa_idx_load_from_disk] read 0 ALT contigs\n",
      "[M::process] read 32348 sequences (10000314 bp)...\n",
      "[M::process] read 17071 sequences (5277939 bp)...\n",
      "[M::mem_process_seqs] Processed 32348 reads in 2.838 CPU sec, 2.824 real sec\n",
      "[M::mem_process_seqs] Processed 17071 reads in 1.674 CPU sec, 1.649 real sec\n",
      "[main] Version: 0.7.17-r1188\n",
      "[main] CMD: bwa mem refr-seqs.fasta REF3.extendedFrags.fastq\n",
      "[main] Real time: 4.648 sec; CPU: 4.574 sec\n",
      "[MicroHapulator] running version 0.5+71.g8725f3b.dirty\n",
      "[MicroHapulator::type] discarded 200 reads with gaps or missing data at positions of interest\n",
      "[MicroHapulator] running version 0.5+71.g8725f3b.dirty\n",
      "[M::bwa_idx_load_from_disk] read 0 ALT contigs\n",
      "[M::process] read 32354 sequences (10000080 bp)...\n",
      "[M::process] read 16869 sequences (5214184 bp)...\n",
      "[M::mem_process_seqs] Processed 32354 reads in 2.731 CPU sec, 2.722 real sec\n",
      "[M::mem_process_seqs] Processed 16869 reads in 1.489 CPU sec, 1.463 real sec\n",
      "[main] Version: 0.7.17-r1188\n",
      "[main] CMD: bwa mem refr-seqs.fasta REF4.extendedFrags.fastq\n",
      "[main] Real time: 4.359 sec; CPU: 4.279 sec\n",
      "[MicroHapulator] running version 0.5+71.g8725f3b.dirty\n",
      "[MicroHapulator::type] discarded 202 reads with gaps or missing data at positions of interest\n",
      "[MicroHapulator] running version 0.5+71.g8725f3b.dirty\n"
     ]
    }
   ],
   "source": [
    "flash EVD3-reads-R1.fastq.gz EVD3-reads-R2.fastq.gz --allow-outies -m 100 -M 325 -o EVD3 --quiet\n",
    "bwa mem refr-seqs.fasta EVD3.extendedFrags.fastq | samtools view -b | samtools sort -o EVD3-reads.bam\n",
    "samtools index EVD3-reads.bam\n",
    "mhpl8r type marker-defn.tsv EVD3-reads.bam --out EVD3-result-raw.json\n",
    "mhpl8r filter EVD3-result-raw.json --dynamic 0.1 --out EVD3-result.json\n",
    "\n",
    "flash REF2-reads-R1.fastq.gz REF2-reads-R2.fastq.gz --allow-outies -m 100 -M 325 -o REF2 --quiet\n",
    "bwa mem refr-seqs.fasta REF2.extendedFrags.fastq | samtools view -b | samtools sort -o REF2-reads.bam\n",
    "samtools index REF2-reads.bam\n",
    "mhpl8r type marker-defn.tsv REF2-reads.bam --out REF2-result-raw.json\n",
    "mhpl8r filter REF2-result-raw.json --dynamic 0.1 --out REF2-result.json\n",
    "\n",
    "flash REF3-reads-R1.fastq.gz REF3-reads-R2.fastq.gz --allow-outies -m 100 -M 325 -o REF3 --quiet\n",
    "bwa mem refr-seqs.fasta REF3.extendedFrags.fastq | samtools view -b | samtools sort -o REF3-reads.bam\n",
    "samtools index REF3-reads.bam\n",
    "mhpl8r type marker-defn.tsv REF3-reads.bam --out REF3-result-raw.json\n",
    "mhpl8r filter REF3-result-raw.json --dynamic 0.1 --out REF3-result.json\n",
    "\n",
    "flash REF4-reads-R1.fastq.gz REF4-reads-R2.fastq.gz --allow-outies -m 100 -M 325 -o REF4 --quiet\n",
    "bwa mem refr-seqs.fasta REF4.extendedFrags.fastq | samtools view -b | samtools sort -o REF4-reads.bam\n",
    "samtools index REF4-reads.bam\n",
    "mhpl8r type marker-defn.tsv REF4-reads.bam --out REF4-result-raw.json\n",
    "mhpl8r filter REF4-result-raw.json --dynamic 0.1 --out REF4-result.json"
   ]
  },
  {
   "cell_type": "markdown",
   "metadata": {},
   "source": [
    "We now want to examine the evidentiary sample and investigate the presence of multiple DNA contributors."
   ]
  },
  {
   "cell_type": "code",
   "execution_count": 21,
   "metadata": {},
   "outputs": [
    {
     "name": "stdout",
     "output_type": "stream",
     "text": [
      "[MicroHapulator] running version 0.5+71.g8725f3b.dirty\n",
      "{\n",
      "    \"min_num_contrib\": 3,\n",
      "    \"num_loci_max_alleles\": 2,\n",
      "    \"perc_loci_max_alleles\": 0.087\n",
      "}"
     ]
    }
   ],
   "source": [
    "mhpl8r contrib EVD3-result.json"
   ]
  },
  {
   "cell_type": "markdown",
   "metadata": {},
   "source": [
    "In this sample, we observe two loci that provide evidence for at least three DNA contributors, i.e. five or more distinct haplotypes.\n",
    "If you examine `EVD3-result.json`, there are numerous markers with three or four haplotypes, but the two markers with 5 haplotypes are strong evidence for three DNA contributors.\n",
    "\n",
    "We can then test whether any of the reference samples is a contributor to the evidentiary mixture.\n",
    "MicroHapulator implements a simple containment test to investigate this question.\n",
    "In brief, the containment test examines each marker and determines whether the genotype in a profile of interest is compatible with the genotype of a mixture profile.\n",
    "For example, if a reference sample **REF99** has a `A,C,T / A,T,T` genotype at a marker and an evidentiary mixture sample **EVD99** has a `A,C,G / A,C,T / A,T,T` genotype, **REF99** is compatible, e.g. a plausible contributor to **EVD99**.\n",
    "On the other hand, if the **REF99** genotype at a different marker is `G,G,A,T / C,G,T,T` and the **EVD99** genotype is `G,G,A,T / G,G,T,T`, **REF99** is not a plausible contributor to **EVD99**.\n",
    "In the end, the containment test reports the percentage of markers in one profile with compatible genotypes to another (mixture) profile.\n",
    "\n",
    "We can use the `mhpl8r contrib` command to perform the containment test for **REF2**."
   ]
  },
  {
   "cell_type": "code",
   "execution_count": 22,
   "metadata": {},
   "outputs": [
    {
     "name": "stdout",
     "output_type": "stream",
     "text": [
      "[MicroHapulator] running version 0.5+71.g8725f3b.dirty\n",
      "{\n",
      "    \"containment\": 1.0,\n",
      "    \"contained_alleles\": 39,\n",
      "    \"total_alleles\": 39\n",
      "}"
     ]
    }
   ],
   "source": [
    "mhpl8r contain EVD3-result.json REF2-result.json"
   ]
  },
  {
   "cell_type": "markdown",
   "metadata": {},
   "source": [
    "This tells us that 100% of the haplotypes observed in **REF2** are present in **EVD3**, suggesting that **REF2** is a plausible contributor to **EVD3**.\n",
    "What can we say about **REF3** and **REF4**?"
   ]
  },
  {
   "cell_type": "code",
   "execution_count": 23,
   "metadata": {},
   "outputs": [
    {
     "name": "stdout",
     "output_type": "stream",
     "text": [
      "[MicroHapulator] running version 0.5+71.g8725f3b.dirty\n",
      "{\n",
      "    \"containment\": 0.7297,\n",
      "    \"contained_alleles\": 27,\n",
      "    \"total_alleles\": 37\n",
      "}[MicroHapulator] running version 0.5+71.g8725f3b.dirty\n",
      "{\n",
      "    \"containment\": 0.8649,\n",
      "    \"contained_alleles\": 32,\n",
      "    \"total_alleles\": 37\n",
      "}"
     ]
    }
   ],
   "source": [
    "mhpl8r contain EVD3-result.json REF3-result.json\n",
    "mhpl8r contain EVD3-result.json REF4-result.json"
   ]
  },
  {
   "cell_type": "markdown",
   "metadata": {},
   "source": [
    "Only about 70-85% of the alleles in both of these samples are present in **EVD3**, suggesting that they are unlikely to be contributors to the sample.\n",
    "\n",
    "As a final note, it important acknowledge several factors that can influence the the containment statistic.\n",
    "It is not always possible to develop thresholds that eliminate all errors and detects all true haplotypes.\n",
    "This is especially the case for low-input samples or mixtures with an imbalance between major and minor contributors.\n",
    "MicroHapulator's containment test does not account for allelic drop-in (false positives) or drop-out (false negatives).\n",
    "We also note that many haplotypes from non-contributors will be present in a mixture simply by chance, and there is no simple theoretical threshold we can apply to distinguish between \"true\" and \"false\" containment.\n",
    "The containment test is a basic tool that provides a quick check to guide an investigation.\n",
    "Probabilistic genotyping (probgen) methods, on the other hand, provide for a much more robust interpretation of forensic propositions, with models for drop-in and drop-out evaluated in a maximum likelihood framework.\n",
    "Probgen is beyond the scope of this tutorial, but the use of probgen tools such as LRMix Studio or EuroForMix is recommended for definitive interpretation of DNA mixtures.\n"
   ]
  }
 ],
 "metadata": {
  "kernelspec": {
   "display_name": "Bash",
   "language": "bash",
   "name": "bash"
  },
  "language_info": {
   "codemirror_mode": "shell",
   "file_extension": ".sh",
   "mimetype": "text/x-sh",
   "name": "bash"
  }
 },
 "nbformat": 4,
 "nbformat_minor": 2
}
