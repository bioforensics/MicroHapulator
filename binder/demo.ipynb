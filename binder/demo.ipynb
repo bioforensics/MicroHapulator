{
 "cells": [
  {
   "cell_type": "markdown",
   "metadata": {},
   "source": [
    "# MicroHapulator Demo\n",
    "\n",
    "**MicroHapulator** is a package for simulating and analyzing microhaplotype sequence data for forensic analysis.\n",
    "In addition to simulating targeted sequencing of selected microhap loci, it can be used for calling genotypes and performing sample matching and mixture analysis.\n",
    "MicroHapulator relies on microhap annotations and population allele frequencies from [MicroHapDB](https://github.com/bioforensics/microhapdb) and the Illumina error models included with [InSilicoSeq](https://github.com/HadrienG/InSilicoSeq/).\n",
    "\n",
    "This notebook provides an interactive demonstration of MicroHapulator's command-line interface and Python API.\n",
    "The demo includes both shell commands and Python code.\n",
    "All shell commands begin with a `!` character.\n",
    "Any line ending with `\\` indicates that the command is continued on the next line."
   ]
  },
  {
   "cell_type": "markdown",
   "metadata": {},
   "source": [
    "> **NOTE**: *Unless otherwise specified, locus and population IDs used throughout the notebook are derived from MicroHapDB data.*"
   ]
  },
  {
   "cell_type": "code",
   "execution_count": 1,
   "metadata": {},
   "outputs": [
    {
     "name": "stdout",
     "output_type": "stream",
     "text": [
      "             ID                Name  Source\n",
      "0   MHDBP000001              Adygei  ALFRED\n",
      "1   MHDBP000002              Africa    LOVD\n",
      "2   MHDBP000003   African Americans  ALFRED\n",
      "3   MHDBP000004   African Americans  ALFRED\n",
      "4   MHDBP000005     Afro-Caribbeans  ALFRED\n",
      "5   MHDBP000006                 Ami  ALFRED\n",
      "6   MHDBP000007                Asia    LOVD\n",
      "7   MHDBP000008              Atayal  ALFRED\n",
      "8   MHDBP000009             Bengali  ALFRED\n",
      "              ID Reference  Chrom      Start        End   AvgAe  Source\n",
      "0    MHDBL000001    GRCh38   chr1    1551453    1551679  2.6731  ALFRED\n",
      "1    MHDBL000002    GRCh38   chr1    3826567    3826827  3.1300  ALFRED\n",
      "2    MHDBL000003    GRCh38   chr1    4167403    4167574  2.5802  ALFRED\n",
      "3    MHDBL000004    GRCh38   chr1   11794399   11794419  1.8063  ALFRED\n",
      "4    MHDBL000005    GRCh38   chr1   12788891   12788908  2.5194  ALFRED\n",
      "5    MHDBL000006    GRCh38   chr1   14503432   14503449  2.4662  ALFRED\n",
      "6    MHDBL000007    GRCh38   chr1   18396197   18396352  3.8190  ALFRED\n",
      "7    MHDBL000008    GRCh38   chr1   22815857   22816003  2.1627  ALFRED\n",
      "8    MHDBL000009    GRCh38   chr1   55559012   55559057  2.8581  ALFRED\n"
     ]
    }
   ],
   "source": [
    "!microhapdb --table population | head\n",
    "!microhapdb --table locus | head"
   ]
  },
  {
   "cell_type": "markdown",
   "metadata": {},
   "source": [
    "## Preliminaries\n",
    "\n",
    "Before using MicroHapulator for the first time, the human reference genome must be downloaded to a dedicated package directory.\n",
    "Use the following command to execute the download."
   ]
  },
  {
   "cell_type": "code",
   "execution_count": 2,
   "metadata": {},
   "outputs": [
    {
     "name": "stdout",
     "output_type": "stream",
     "text": [
      "[MicroHapulator] running version 0.2\n",
      "[MicroHapulator::getrefr] Downloading GRCh38 reference\n",
      "[MicroHapulator::getrefr] Decompressing reference\n",
      "[MicroHapulator::getrefr] Indexing reference\n"
     ]
    }
   ],
   "source": [
    "!mhpl8r getrefr"
   ]
  },
  {
   "cell_type": "markdown",
   "metadata": {},
   "source": [
    "## Simulate and analyze a simple sample\n",
    "\n",
    "First, let's simulate a simple sample with a single contributor.\n",
    "Providing a seed with the `--hap-seed` flag makes sure we simulate the exact same \"random\" genotype.\n",
    "The locus identifier `MHDBP000037` indicates that we want to use population allele frequency data simulate an Iberian individual.\n",
    "We specify the desired panel with the `--panel` flag.\n",
    "In this case we'll use a preset panel of 50 microhap loci (nicknamed \"beta\") with reasonably optimal discriminating power.\n",
    "However, MicroHapulator supports simulation of any arbitrary panel by providing a list of locus identifiers."
   ]
  },
  {
   "cell_type": "code",
   "execution_count": 20,
   "metadata": {},
   "outputs": [
    {
     "name": "stdout",
     "output_type": "stream",
     "text": [
      "[MicroHapulator] running version 0.2+6.ge86b341.dirty\n",
      "[MicroHapulator::sim] simulated microhaplotype variation at 50 loci\n",
      "INFO:iss.app:Starting iss generate\n",
      "INFO:iss.app:Using kde ErrorModel\n",
      "WARNING:iss.app:--draft is in early experimental stage.\n",
      "WARNING:iss.app:--draft disables --abundance_file and --coverage\n",
      "WARNING:iss.app:Defaulting to --abundance.\n",
      "INFO:iss.util:Stitching input files together\n",
      "INFO:iss.app:Using lognormal abundance distribution\n",
      "INFO:iss.app:Using 2 cpus for read generation\n",
      "INFO:iss.app:Generating 20000 reads\n",
      "INFO:iss.app:Generating reads for record: MHDBL000007:hap1\n",
      "INFO:iss.app:Generating reads for record: MHDBL000007:hap2\n",
      "INFO:iss.app:Generating reads for record: MHDBL000009:hap1\n",
      "INFO:iss.app:Generating reads for record: MHDBL000009:hap2\n",
      "INFO:iss.app:Generating reads for record: MHDBL000013:hap1\n",
      "INFO:iss.app:Generating reads for record: MHDBL000013:hap2\n",
      "INFO:iss.app:Generating reads for record: MHDBL000019:hap1\n",
      "INFO:iss.app:Generating reads for record: MHDBL000019:hap2\n",
      "INFO:iss.app:Generating reads for record: MHDBL000020:hap1\n",
      "INFO:iss.app:Generating reads for record: MHDBL000020:hap2\n",
      "INFO:iss.app:Generating reads for record: MHDBL000027:hap1\n",
      "INFO:iss.app:Generating reads for record: MHDBL000027:hap2\n",
      "INFO:iss.app:Generating reads for record: MHDBL000030:hap1\n",
      "INFO:iss.app:Generating reads for record: MHDBL000030:hap2\n",
      "INFO:iss.app:Generating reads for record: MHDBL000036:hap1\n",
      "INFO:iss.app:Generating reads for record: MHDBL000036:hap2\n",
      "INFO:iss.app:Generating reads for record: MHDBL000038:hap1\n",
      "INFO:iss.app:Generating reads for record: MHDBL000038:hap2\n",
      "INFO:iss.app:Generating reads for record: MHDBL000048:hap1\n",
      "INFO:iss.app:Generating reads for record: MHDBL000048:hap2\n",
      "INFO:iss.app:Generating reads for record: MHDBL000051:hap1\n",
      "INFO:iss.app:Generating reads for record: MHDBL000051:hap2\n",
      "INFO:iss.app:Generating reads for record: MHDBL000055:hap1\n",
      "INFO:iss.app:Generating reads for record: MHDBL000055:hap2\n",
      "INFO:iss.app:Generating reads for record: MHDBL000056:hap1\n",
      "INFO:iss.app:Generating reads for record: MHDBL000056:hap2\n",
      "INFO:iss.app:Generating reads for record: MHDBL000063:hap1\n",
      "INFO:iss.app:Generating reads for record: MHDBL000063:hap2\n",
      "INFO:iss.app:Generating reads for record: MHDBL000066:hap1\n",
      "INFO:iss.app:Generating reads for record: MHDBL000066:hap2\n",
      "INFO:iss.app:Generating reads for record: MHDBL000068:hap1\n",
      "INFO:iss.app:Generating reads for record: MHDBL000068:hap2\n",
      "INFO:iss.app:Generating reads for record: MHDBL000072:hap1\n",
      "INFO:iss.app:Generating reads for record: MHDBL000072:hap2\n",
      "INFO:iss.app:Generating reads for record: MHDBL000080:hap1\n",
      "INFO:iss.app:Generating reads for record: MHDBL000080:hap2\n",
      "INFO:iss.app:Generating reads for record: MHDBL000085:hap1\n",
      "INFO:iss.app:Generating reads for record: MHDBL000085:hap2\n",
      "INFO:iss.app:Generating reads for record: MHDBL000092:hap1\n",
      "INFO:iss.app:Generating reads for record: MHDBL000092:hap2\n",
      "INFO:iss.app:Generating reads for record: MHDBL000095:hap1\n",
      "INFO:iss.app:Generating reads for record: MHDBL000095:hap2\n",
      "INFO:iss.app:Generating reads for record: MHDBL000103:hap1\n",
      "INFO:iss.app:Generating reads for record: MHDBL000103:hap2\n",
      "INFO:iss.app:Generating reads for record: MHDBL000105:hap1\n",
      "INFO:iss.app:Generating reads for record: MHDBL000105:hap2\n",
      "INFO:iss.app:Generating reads for record: MHDBL000108:hap1\n",
      "INFO:iss.app:Generating reads for record: MHDBL000108:hap2\n",
      "INFO:iss.app:Generating reads for record: MHDBL000111:hap1\n",
      "INFO:iss.app:Generating reads for record: MHDBL000111:hap2\n",
      "INFO:iss.app:Generating reads for record: MHDBL000113:hap1\n",
      "INFO:iss.app:Generating reads for record: MHDBL000113:hap2\n",
      "INFO:iss.app:Generating reads for record: MHDBL000115:hap1\n",
      "INFO:iss.app:Generating reads for record: MHDBL000115:hap2\n",
      "INFO:iss.app:Generating reads for record: MHDBL000129:hap1\n",
      "INFO:iss.app:Generating reads for record: MHDBL000129:hap2\n",
      "INFO:iss.app:Generating reads for record: MHDBL000131:hap1\n",
      "INFO:iss.app:Generating reads for record: MHDBL000131:hap2\n",
      "INFO:iss.app:Generating reads for record: MHDBL000132:hap1\n",
      "INFO:iss.app:Generating reads for record: MHDBL000132:hap2\n",
      "INFO:iss.app:Generating reads for record: MHDBL000135:hap1\n",
      "INFO:iss.app:Generating reads for record: MHDBL000135:hap2\n",
      "INFO:iss.app:Generating reads for record: MHDBL000142:hap1\n",
      "INFO:iss.app:Generating reads for record: MHDBL000142:hap2\n",
      "INFO:iss.app:Generating reads for record: MHDBL000145:hap1\n",
      "INFO:iss.app:Generating reads for record: MHDBL000145:hap2\n",
      "INFO:iss.app:Generating reads for record: MHDBL000147:hap1\n",
      "INFO:iss.app:Generating reads for record: MHDBL000147:hap2\n",
      "INFO:iss.app:Generating reads for record: MHDBL000148:hap1\n",
      "INFO:iss.app:Generating reads for record: MHDBL000148:hap2\n",
      "INFO:iss.app:Generating reads for record: MHDBL000153:hap1\n",
      "INFO:iss.app:Generating reads for record: MHDBL000153:hap2\n",
      "INFO:iss.app:Generating reads for record: MHDBL000156:hap1\n",
      "INFO:iss.app:Generating reads for record: MHDBL000156:hap2\n",
      "INFO:iss.app:Generating reads for record: MHDBL000163:hap1\n",
      "INFO:iss.app:Generating reads for record: MHDBL000163:hap2\n",
      "INFO:iss.app:Generating reads for record: MHDBL000167:hap1\n",
      "INFO:iss.app:Generating reads for record: MHDBL000167:hap2\n",
      "INFO:iss.app:Generating reads for record: MHDBL000185:hap1\n",
      "INFO:iss.app:Generating reads for record: MHDBL000185:hap2\n",
      "INFO:iss.app:Generating reads for record: MHDBL000187:hap1\n",
      "INFO:iss.app:Generating reads for record: MHDBL000187:hap2\n",
      "INFO:iss.app:Generating reads for record: MHDBL000195:hap1\n",
      "INFO:iss.app:Generating reads for record: MHDBL000195:hap2\n",
      "INFO:iss.app:Generating reads for record: MHDBL000197:hap1\n",
      "INFO:iss.app:Generating reads for record: MHDBL000197:hap2\n",
      "INFO:iss.app:Generating reads for record: MHDBL000199:hap1\n",
      "INFO:iss.app:Generating reads for record: MHDBL000199:hap2\n",
      "INFO:iss.app:Generating reads for record: MHDBL000200:hap1\n",
      "INFO:iss.app:Generating reads for record: MHDBL000200:hap2\n",
      "INFO:iss.app:Generating reads for record: MHDBL000204:hap1\n",
      "INFO:iss.app:Generating reads for record: MHDBL000204:hap2\n",
      "INFO:iss.app:Generating reads for record: MHDBL000205:hap1\n",
      "INFO:iss.app:Generating reads for record: MHDBL000205:hap2\n",
      "INFO:iss.app:Generating reads for record: MHDBL000207:hap1\n",
      "INFO:iss.app:Generating reads for record: MHDBL000207:hap2\n",
      "INFO:iss.app:Generating reads for record: MHDBL000211:hap1\n",
      "INFO:iss.app:Generating reads for record: MHDBL000211:hap2\n",
      "INFO:iss.app:Generating reads for record: MHDBL000212:hap1\n",
      "INFO:iss.app:Generating reads for record: MHDBL000212:hap2\n",
      "INFO:iss.util:Stitching input files together\n",
      "INFO:iss.util:Stitching input files together\n",
      "INFO:iss.util:Cleaning up\n",
      "INFO:iss.app:Read generation complete\n"
     ]
    }
   ],
   "source": [
    "!mhpl8r sim --panel beta --hap-seed 24680 --seq-threads 2 --num-reads 10000 \\\n",
    "    --genotype sim-genotype.json --out sim.fastq.gz MHDBP000037"
   ]
  },
  {
   "cell_type": "markdown",
   "metadata": {},
   "source": [
    "Let's confirm that MicroHapulator simulated 10,000 reads as requested.\n",
    "We'll do this by counting the number of lines in the reads file."
   ]
  },
  {
   "cell_type": "code",
   "execution_count": 2,
   "metadata": {},
   "outputs": [
    {
     "name": "stdout",
     "output_type": "stream",
     "text": [
      "   40000\r\n"
     ]
    }
   ],
   "source": [
    "!gunzip -c sim.fastq.gz | wc -l"
   ]
  },
  {
   "cell_type": "markdown",
   "metadata": {},
   "source": [
    "Looks good: 40,000 lines at 4 lines per record = 10,000 reads!"
   ]
  },
  {
   "cell_type": "markdown",
   "metadata": {},
   "source": [
    "In addition to the simulated reads, MicroHapulator can also output the fully phased simulated haplotypes using the `--genotype` flag.\n",
    "We can use this later to see whether can correctly infer genotypes directly from the reads.\n",
    "Let's take a look at the first several lines of this file."
   ]
  },
  {
   "cell_type": "code",
   "execution_count": 21,
   "metadata": {},
   "outputs": [
    {
     "name": "stdout",
     "output_type": "stream",
     "text": [
      "{\r\n",
      "    \"loci\": {\r\n",
      "        \"MHDBL000007\": {\r\n",
      "            \"genotype\": [\r\n",
      "                {\r\n",
      "                    \"allele\": \"T,C,A,G\",\r\n",
      "                    \"haplotype\": 0\r\n",
      "                },\r\n",
      "                {\r\n",
      "                    \"allele\": \"T,T,A,G\",\r\n",
      "                    \"haplotype\": 1\r\n",
      "                }\r\n",
      "            ]\r\n",
      "        },\r\n",
      "        \"MHDBL000009\": {\r\n",
      "            \"genotype\": [\r\n",
      "                {\r\n",
      "                    \"allele\": \"T,G,G\",\r\n",
      "                    \"haplotype\": 0\r\n",
      "                },\r\n",
      "                {\r\n",
      "                    \"allele\": \"T,G,G\",\r\n",
      "                    \"haplotype\": 1\r\n",
      "                }\r\n",
      "            ]\r\n"
     ]
    }
   ],
   "source": [
    "!head -n 25 sim-genotype.json"
   ]
  },
  {
   "cell_type": "markdown",
   "metadata": {},
   "source": [
    "This JSON file indicates the genotype of each microhaplotype locus.\n",
    "For example, microhap MHDBL000007 has a heterozygous genotype of `T,C,A,G` and `T,T,A,G` while microhap MHDBL000009 has a homozygous genotype of `T,G,G`."
   ]
  },
  {
   "cell_type": "markdown",
   "metadata": {},
   "source": [
    "Now, to compute genotypes we need to first align the reads back to the loci of interest.\n",
    "First let's retrieve the locus sequences for our \"beta\" panel."
   ]
  },
  {
   "cell_type": "code",
   "execution_count": 5,
   "metadata": {},
   "outputs": [
    {
     "name": "stdout",
     "output_type": "stream",
     "text": [
      "[MicroHapulator] running version 0.2+6.ge86b341.dirty\r\n"
     ]
    }
   ],
   "source": [
    "!mhpl8r refr --out beta-panel.fasta beta"
   ]
  },
  {
   "cell_type": "markdown",
   "metadata": {},
   "source": [
    "This creates a Fasta file with a single record for each microhap locus, including its absolute coordinates in the human reference genome and the offsets of the variants that define the microhap."
   ]
  },
  {
   "cell_type": "code",
   "execution_count": 6,
   "metadata": {},
   "outputs": [
    {
     "name": "stdout",
     "output_type": "stream",
     "text": [
      ">MHDBL000007 GRCh38:chr1:18396099-18396450 variants=98:119:207:252\r\n",
      "GCTGAGGGAAGTCTGGGCTCTGATGCAGAGAGACCTAGAAGAAAGCACTAATGGGGTAATTTGGGGTCCAGAGCACCAGTTCTCATGAATCTGAGGAATTCTTCCTCCTAGCTACTTCCTTCCTTTTCCCTCATTACATCCCTGCCAAGGACAAATTCTGCCATTTGCATGGCAGGACTCCTCCAAAAAGGGGCTTCCTCCCTTTCCGTTAGTAAAGGAAGAGGTTACCTGAGACTTGACTTAACCTCCTTGGGAGGGAACATGCTTTCACTGTTGCGAATTGTTAAGTCAGGTCCAGAGTGATCCAGTCACTTATCATGAGTCATACAGTAACCAGAGGTTGAGTTGACT\r\n",
      ">MHDBL000009 GRCh38:chr1:55558859-55559210 variants=153:191:197\r\n",
      "CCAGAAGCCTAGGCCTCTGGGAATAGCATTATGTCCTAGGCGTAAATGGATGAGAGAGCCCAGTGACCTAAGCAGCTCCAACCCTGAGACTGGATCTAATGATGATCCAGATAATCCAGTGCCCAGCTTAGAGCCTGGCACACAACAAGTGCTTATAATGAAAGCATTAGTGAGTAAAAGAGTGATCCCTGGCTTTGAACTCCCTCTAAGTGTACCCCCAGGCATCTGTTCTTCCCTCAGTCACAATGCTGACCCCACTTCATGACTGGTCTCCTCTCCTTTGATTGTGCACACAAGGGCCAGTCTTGTGTCTTATTTTAGTATCTTTAGCACCTAGAATAGTATCTGGCA\r\n",
      ">MHDBL000013 GRCh38:chr1:204664129-204664480 variants=82:139:242:268\r\n",
      "GAGGTCATTGCTGCCCCTGCCTCAGTTAAAAAATTAGAAATCCTCCCCACCCAGCTCTGTTTGTCTCCCCACAAAGCATTGCAGAAGAAAACACGGAAGCCGCCAGCACTATTATGCATTCATGATTCCAGCTTCAACCAGTCCTCTCTGCTGCAATCCCTTTATTCCTCCTCTGCAGCTGCCCCGGCACCTCTGCACAGTCCTTTTCTGAATCTGCCCCTCACCGTGCTCCCCACCTGCACGCCGTCCTCAGAACAGATTGCCTTGCCTGACCTCCTGAGGCCGACGGAGATGGTGATGTGACCTCCTTTGCCCTCCATCACTGTGCCTCCCACACCTCTGCGCAGCTCG\r\n"
     ]
    }
   ],
   "source": [
    "!head -n 6 beta-panel.fasta"
   ]
  },
  {
   "cell_type": "markdown",
   "metadata": {},
   "source": [
    "Subsequent steps require that we index the genome for read mapping and for random access, so we'll take care of that now."
   ]
  },
  {
   "cell_type": "code",
   "execution_count": 7,
   "metadata": {},
   "outputs": [
    {
     "name": "stdout",
     "output_type": "stream",
     "text": [
      "[bwa_index] Pack FASTA... 0.00 sec\r\n",
      "[bwa_index] Construct BWT for the packed sequence...\r\n",
      "[bwa_index] 0.01 seconds elapse.\r\n",
      "[bwa_index] Update BWT... 0.00 sec\r\n",
      "[bwa_index] Pack forward-only FASTA... 0.00 sec\r\n",
      "[bwa_index] Construct SA from BWT and Occ... 0.00 sec\r\n",
      "[main] Version: 0.7.17-r1188\r\n",
      "[main] CMD: bwa index beta-panel.fasta\r\n",
      "[main] Real time: 0.016 sec; CPU: 0.029 sec\r\n"
     ]
    }
   ],
   "source": [
    "!bwa index beta-panel.fasta\n",
    "!faidx beta-panel.fasta > /dev/null"
   ]
  },
  {
   "cell_type": "markdown",
   "metadata": {},
   "source": [
    "Now let's map the reads to the reference loci."
   ]
  },
  {
   "cell_type": "code",
   "execution_count": 8,
   "metadata": {},
   "outputs": [
    {
     "name": "stdout",
     "output_type": "stream",
     "text": [
      "[M::bwa_idx_load_from_disk] read 0 ALT contigs\n",
      "[M::process] read 10000 sequences (3010000 bp)...\n",
      "[M::mem_process_seqs] Processed 10000 reads in 1.856 CPU sec, 1.888 real sec\n",
      "[main] Version: 0.7.17-r1188\n",
      "[main] CMD: bwa mem beta-panel.fasta sim.fastq.gz\n",
      "[main] Real time: 2.251 sec; CPU: 1.926 sec\n"
     ]
    }
   ],
   "source": [
    "!bwa mem beta-panel.fasta sim.fastq.gz \\\n",
    "    | samtools view -bS \\\n",
    "    | samtools sort -o sim.bam -\n",
    "!samtools index sim.bam"
   ]
  },
  {
   "cell_type": "markdown",
   "metadata": {},
   "source": [
    "With a sorted and indexed BAM file, we're ready to call genotypes.\n",
    "This is done with the `mhpl8r type` command."
   ]
  },
  {
   "cell_type": "code",
   "execution_count": 10,
   "metadata": {},
   "outputs": [
    {
     "name": "stdout",
     "output_type": "stream",
     "text": [
      "[MicroHapulator] running version 0.2+6.ge86b341.dirty\n",
      "[MicroHapulator::type] discarded 1561 reads with gaps or missing data at positions of interest\n"
     ]
    }
   ],
   "source": [
    "!mhpl8r type --out obs-genotype.json beta-panel.fasta sim.bam"
   ]
  },
  {
   "cell_type": "markdown",
   "metadata": {},
   "source": [
    "This command computes various bits of genotype, mapping, and coverage information and outputs it in JSON format.\n",
    "Let's take a quick look at the top of the output file."
   ]
  },
  {
   "cell_type": "code",
   "execution_count": 12,
   "metadata": {},
   "outputs": [
    {
     "name": "stdout",
     "output_type": "stream",
     "text": [
      "{\r\n",
      "    \"loci\": {\r\n",
      "        \"MHDBL000007\": {\r\n",
      "            \"allele_counts\": {\r\n",
      "                \"T,C,A,G\": 79,\r\n",
      "                \"T,T,A,G\": 79\r\n",
      "            },\r\n",
      "            \"genotype\": [\r\n",
      "                {\r\n",
      "                    \"allele\": \"T,C,A,G\",\r\n",
      "                    \"haplotype\": null\r\n",
      "                },\r\n",
      "                {\r\n",
      "                    \"allele\": \"T,T,A,G\",\r\n",
      "                    \"haplotype\": null\r\n",
      "                }\r\n",
      "            ],\r\n",
      "            \"max_coverage\": 200,\r\n",
      "            \"mean_coverage\": 172.4,\r\n",
      "            \"min_coverage\": 4,\r\n",
      "            \"num_discarded_reads\": 42\r\n",
      "        },\r\n",
      "        \"MHDBL000009\": {\r\n",
      "            \"allele_counts\": {\r\n",
      "                \"T,G,G\": 173\r\n"
     ]
    }
   ],
   "source": [
    "!head -n 25 obs-genotype.json"
   ]
  },
  {
   "cell_type": "markdown",
   "metadata": {},
   "source": [
    "The output looks similar to the `sim-genotype.json` file above, except it now includes additional count/coverage data and haplotype phasing hasn't been inferred.\n",
    "If you want to access this data programmatically, the `microhapulator.genotype` module provides the generic `Genotype` class and the specific `SimulatedGenotype` and `ObservedGenotype` classes.\n",
    "Alternatively, you can simply use Python's standard JSON library to load and process the data."
   ]
  },
  {
   "cell_type": "code",
   "execution_count": 22,
   "metadata": {},
   "outputs": [
    {
     "name": "stdout",
     "output_type": "stream",
     "text": [
      "Simulated genotype for locus \"MHDBL000007\" {'T,T,A,G', 'T,C,A,G'}\n",
      "\n",
      "Observed genotype for locus \"MHDBL000007\" {'T,T,A,G', 'T,C,A,G'}\n",
      "\n",
      "All loci MHDBL000007 MHDBL000009 MHDBL000013 MHDBL000019 MHDBL000020 MHDBL000027 MHDBL000030 MHDBL000036 MHDBL000038 MHDBL000048 MHDBL000051 MHDBL000055 MHDBL000056 MHDBL000063 MHDBL000066 MHDBL000068 MHDBL000072 MHDBL000080 MHDBL000085 MHDBL000092 MHDBL000095 MHDBL000103 MHDBL000105 MHDBL000108 MHDBL000111 MHDBL000113 MHDBL000115 MHDBL000129 MHDBL000131 MHDBL000132 MHDBL000135 MHDBL000142 MHDBL000145 MHDBL000147 MHDBL000148 MHDBL000153 MHDBL000156 MHDBL000163 MHDBL000167 MHDBL000185 MHDBL000187 MHDBL000195 MHDBL000197 MHDBL000199 MHDBL000200 MHDBL000204 MHDBL000205 MHDBL000207 MHDBL000211 MHDBL000212\n",
      "\n",
      "Per locus mean coverage: [172.4, 171.7, 171.7, 172.3, 172.2, 171.8, 172.3, 172.3, 172.2, 172.2, 172.1, 172.3, 171.9, 172.3, 172.2, 171.7, 172.4, 172.3, 171.7, 171.9, 171.7, 172.1, 172.8, 171.9, 172.2, 171.7, 171.8, 171.8, 171.7, 172.3, 172.2, 171.7, 171.8, 172.4, 172.2, 171.8, 171.8, 171.8, 171.8, 171.9, 171.8, 172.4, 172.2, 172.3, 172.3, 171.8, 171.8, 172.3, 171.7, 171.6]\n"
     ]
    }
   ],
   "source": [
    "import microhapulator\n",
    "simgt = microhapulator.genotype.SimulatedGenotype('sim-genotype.json')\n",
    "obsgt = microhapulator.genotype.ObservedGenotype('obs-genotype.json')\n",
    "print('Simulated genotype for locus \"MHDBL000007\"', simgt.alleles('MHDBL000007'), end='\\n\\n')\n",
    "print('Observed genotype for locus \"MHDBL000007\"', obsgt.alleles('MHDBL000007'), end='\\n\\n')\n",
    "loci = sorted(obsgt.loci())\n",
    "print('All loci', *loci, end='\\n\\n')\n",
    "print('Per locus mean coverage:', [obsgt.data['loci'][l]['mean_coverage'] for l in loci])"
   ]
  },
  {
   "cell_type": "markdown",
   "metadata": {},
   "source": [
    "Once we have loaded genotypes into memory, we can compare any pair of `SimulatedGenotype` or `ObservedGenotype` objects using native Python operators."
   ]
  },
  {
   "cell_type": "code",
   "execution_count": 23,
   "metadata": {},
   "outputs": [
    {
     "data": {
      "text/plain": [
       "True"
      ]
     },
     "execution_count": 23,
     "metadata": {},
     "output_type": "execute_result"
    }
   ],
   "source": [
    "obsgt == simgt"
   ]
  },
  {
   "cell_type": "markdown",
   "metadata": {},
   "source": [
    "Awesome! `True` indicates perfect agreement.\n",
    "We can also compute the Hamming distance between any pair of genotypes using the `microhapulator.dist` module or the `mhpl8r dist` command."
   ]
  },
  {
   "cell_type": "code",
   "execution_count": 24,
   "metadata": {},
   "outputs": [
    {
     "data": {
      "text/plain": [
       "0"
      ]
     },
     "execution_count": 24,
     "metadata": {},
     "output_type": "execute_result"
    }
   ],
   "source": [
    "microhapulator.dist.dist(obsgt, simgt)"
   ]
  },
  {
   "cell_type": "markdown",
   "metadata": {},
   "source": [
    "A distance of 0 indicates perfect agreement, as we already determined.\n",
    "If we modify the simulated genotype at two loci and then recompute the distance, we should observe a distance of 2."
   ]
  },
  {
   "cell_type": "code",
   "execution_count": 27,
   "metadata": {},
   "outputs": [
    {
     "data": {
      "text/plain": [
       "2"
      ]
     },
     "execution_count": 27,
     "metadata": {},
     "output_type": "execute_result"
    }
   ],
   "source": [
    "simgt.add(hapid=0, locusid='MHDBL000105', allele='A,C,A,T')\n",
    "simgt.add(hapid=0, locusid='MHDBL000211', allele='C,A,C')\n",
    "microhapulator.dist.dist(obsgt, simgt)"
   ]
  },
  {
   "cell_type": "markdown",
   "metadata": {},
   "source": [
    "## Simulate a mixture (multiple contributor) sample\n",
    "\n",
    "MicroHapulator can also simulate and analyze mixtures.\n",
    "Using the `mhpl8r mixture` command, we can specify each individual in the mixture with a dedicated `--indiv` flag followed by one or two population identifiers.\n",
    "Earlier we used MicroHapDB IDs, but were we show that IDs from the database of origin (ALFRED in this case) are supported as well.\n",
    "This mixture will contain 50,000 reads from three individuals of Mexican, Finn, and Punjabi origin.\n",
    "By default, the mixture contains even contributions from each individual, but here we specify uneven contributions using the `--proportions` flag."
   ]
  },
  {
   "cell_type": "code",
   "execution_count": 14,
   "metadata": {},
   "outputs": [
    {
     "name": "stdout",
     "output_type": "stream",
     "text": [
      "[MicroHapulator] running version 0.2\n",
      "[MicroHapulator::mixture] Individual population=SA004049R numreads=35000\n",
      "[MicroHapulator::sim] simulated microhaplotype variation at 50 loci\n",
      "INFO:iss.app:Starting iss generate\n",
      "INFO:iss.app:Using kde ErrorModel\n",
      "INFO:iss.app:Setting random seed to 2106520924\n",
      "WARNING:iss.app:--draft is in early experimental stage.\n",
      "WARNING:iss.app:--draft disables --abundance_file and --coverage\n",
      "WARNING:iss.app:Defaulting to --abundance.\n",
      "INFO:iss.util:Stitching input files together\n",
      "INFO:iss.app:Using lognormal abundance distribution\n",
      "INFO:iss.app:Using 2 cpus for read generation\n",
      "INFO:iss.app:Generating 70000 reads\n",
      "INFO:iss.app:Generating reads for record: MHDBL000007:hap1\n",
      "INFO:iss.app:Generating reads for record: MHDBL000007:hap2\n",
      "INFO:iss.app:Generating reads for record: MHDBL000009:hap1\n",
      "INFO:iss.app:Generating reads for record: MHDBL000009:hap2\n",
      "INFO:iss.app:Generating reads for record: MHDBL000013:hap1\n",
      "INFO:iss.app:Generating reads for record: MHDBL000013:hap2\n",
      "INFO:iss.app:Generating reads for record: MHDBL000019:hap1\n",
      "INFO:iss.app:Generating reads for record: MHDBL000019:hap2\n",
      "INFO:iss.app:Generating reads for record: MHDBL000020:hap1\n",
      "INFO:iss.app:Generating reads for record: MHDBL000020:hap2\n",
      "INFO:iss.app:Generating reads for record: MHDBL000027:hap1\n",
      "INFO:iss.app:Generating reads for record: MHDBL000027:hap2\n",
      "INFO:iss.app:Generating reads for record: MHDBL000030:hap1\n",
      "INFO:iss.app:Generating reads for record: MHDBL000030:hap2\n",
      "INFO:iss.app:Generating reads for record: MHDBL000036:hap1\n",
      "INFO:iss.app:Generating reads for record: MHDBL000036:hap2\n",
      "INFO:iss.app:Generating reads for record: MHDBL000038:hap1\n",
      "INFO:iss.app:Generating reads for record: MHDBL000038:hap2\n",
      "INFO:iss.app:Generating reads for record: MHDBL000048:hap1\n",
      "INFO:iss.app:Generating reads for record: MHDBL000048:hap2\n",
      "INFO:iss.app:Generating reads for record: MHDBL000051:hap1\n",
      "INFO:iss.app:Generating reads for record: MHDBL000051:hap2\n",
      "INFO:iss.app:Generating reads for record: MHDBL000055:hap1\n",
      "INFO:iss.app:Generating reads for record: MHDBL000055:hap2\n",
      "INFO:iss.app:Generating reads for record: MHDBL000056:hap1\n",
      "INFO:iss.app:Generating reads for record: MHDBL000056:hap2\n",
      "INFO:iss.app:Generating reads for record: MHDBL000063:hap1\n",
      "INFO:iss.app:Generating reads for record: MHDBL000063:hap2\n",
      "INFO:iss.app:Generating reads for record: MHDBL000066:hap1\n",
      "INFO:iss.app:Generating reads for record: MHDBL000066:hap2\n",
      "INFO:iss.app:Generating reads for record: MHDBL000068:hap1\n",
      "INFO:iss.app:Generating reads for record: MHDBL000068:hap2\n",
      "INFO:iss.app:Generating reads for record: MHDBL000072:hap1\n",
      "INFO:iss.app:Generating reads for record: MHDBL000072:hap2\n",
      "INFO:iss.app:Generating reads for record: MHDBL000080:hap1\n",
      "INFO:iss.app:Generating reads for record: MHDBL000080:hap2\n",
      "INFO:iss.app:Generating reads for record: MHDBL000085:hap1\n",
      "INFO:iss.app:Generating reads for record: MHDBL000085:hap2\n",
      "INFO:iss.app:Generating reads for record: MHDBL000092:hap1\n",
      "INFO:iss.app:Generating reads for record: MHDBL000092:hap2\n",
      "INFO:iss.app:Generating reads for record: MHDBL000095:hap1\n",
      "INFO:iss.app:Generating reads for record: MHDBL000095:hap2\n",
      "INFO:iss.app:Generating reads for record: MHDBL000103:hap1\n",
      "INFO:iss.app:Generating reads for record: MHDBL000103:hap2\n",
      "INFO:iss.app:Generating reads for record: MHDBL000105:hap1\n",
      "INFO:iss.app:Generating reads for record: MHDBL000105:hap2\n",
      "INFO:iss.app:Generating reads for record: MHDBL000108:hap1\n",
      "INFO:iss.app:Generating reads for record: MHDBL000108:hap2\n",
      "INFO:iss.app:Generating reads for record: MHDBL000111:hap1\n",
      "INFO:iss.app:Generating reads for record: MHDBL000111:hap2\n",
      "INFO:iss.app:Generating reads for record: MHDBL000113:hap1\n",
      "INFO:iss.app:Generating reads for record: MHDBL000113:hap2\n",
      "INFO:iss.app:Generating reads for record: MHDBL000115:hap1\n",
      "INFO:iss.app:Generating reads for record: MHDBL000115:hap2\n",
      "INFO:iss.app:Generating reads for record: MHDBL000129:hap1\n",
      "INFO:iss.app:Generating reads for record: MHDBL000129:hap2\n",
      "INFO:iss.app:Generating reads for record: MHDBL000131:hap1\n",
      "INFO:iss.app:Generating reads for record: MHDBL000131:hap2\n",
      "INFO:iss.app:Generating reads for record: MHDBL000132:hap1\n",
      "INFO:iss.app:Generating reads for record: MHDBL000132:hap2\n",
      "INFO:iss.app:Generating reads for record: MHDBL000135:hap1\n",
      "INFO:iss.app:Generating reads for record: MHDBL000135:hap2\n",
      "INFO:iss.app:Generating reads for record: MHDBL000142:hap1\n",
      "INFO:iss.app:Generating reads for record: MHDBL000142:hap2\n",
      "INFO:iss.app:Generating reads for record: MHDBL000145:hap1\n",
      "INFO:iss.app:Generating reads for record: MHDBL000145:hap2\n",
      "INFO:iss.app:Generating reads for record: MHDBL000147:hap1\n",
      "INFO:iss.app:Generating reads for record: MHDBL000147:hap2\n",
      "INFO:iss.app:Generating reads for record: MHDBL000148:hap1\n",
      "INFO:iss.app:Generating reads for record: MHDBL000148:hap2\n",
      "INFO:iss.app:Generating reads for record: MHDBL000153:hap1\n",
      "INFO:iss.app:Generating reads for record: MHDBL000153:hap2\n",
      "INFO:iss.app:Generating reads for record: MHDBL000156:hap1\n",
      "INFO:iss.app:Generating reads for record: MHDBL000156:hap2\n",
      "INFO:iss.app:Generating reads for record: MHDBL000163:hap1\n",
      "INFO:iss.app:Generating reads for record: MHDBL000163:hap2\n",
      "INFO:iss.app:Generating reads for record: MHDBL000167:hap1\n",
      "INFO:iss.app:Generating reads for record: MHDBL000167:hap2\n",
      "INFO:iss.app:Generating reads for record: MHDBL000185:hap1\n",
      "INFO:iss.app:Generating reads for record: MHDBL000185:hap2\n",
      "INFO:iss.app:Generating reads for record: MHDBL000187:hap1\n",
      "INFO:iss.app:Generating reads for record: MHDBL000187:hap2\n",
      "INFO:iss.app:Generating reads for record: MHDBL000195:hap1\n",
      "INFO:iss.app:Generating reads for record: MHDBL000195:hap2\n",
      "INFO:iss.app:Generating reads for record: MHDBL000197:hap1\n",
      "INFO:iss.app:Generating reads for record: MHDBL000197:hap2\n",
      "INFO:iss.app:Generating reads for record: MHDBL000199:hap1\n",
      "INFO:iss.app:Generating reads for record: MHDBL000199:hap2\n",
      "INFO:iss.app:Generating reads for record: MHDBL000200:hap1\n",
      "INFO:iss.app:Generating reads for record: MHDBL000200:hap2\n",
      "INFO:iss.app:Generating reads for record: MHDBL000204:hap1\n",
      "INFO:iss.app:Generating reads for record: MHDBL000204:hap2\n",
      "INFO:iss.app:Generating reads for record: MHDBL000205:hap1\n",
      "INFO:iss.app:Generating reads for record: MHDBL000205:hap2\n",
      "INFO:iss.app:Generating reads for record: MHDBL000207:hap1\n",
      "INFO:iss.app:Generating reads for record: MHDBL000207:hap2\n",
      "INFO:iss.app:Generating reads for record: MHDBL000211:hap1\n",
      "INFO:iss.app:Generating reads for record: MHDBL000211:hap2\n",
      "INFO:iss.app:Generating reads for record: MHDBL000212:hap1\n",
      "INFO:iss.app:Generating reads for record: MHDBL000212:hap2\n",
      "INFO:iss.util:Stitching input files together\n",
      "INFO:iss.util:Stitching input files together\n",
      "INFO:iss.util:Cleaning up\n",
      "INFO:iss.app:Read generation complete\n",
      "[MicroHapulator::mixture] Individual population=SA004110G numreads=10000\n",
      "[MicroHapulator::sim] simulated microhaplotype variation at 50 loci\n",
      "INFO:iss.app:Starting iss generate\n",
      "INFO:iss.app:Using kde ErrorModel\n",
      "INFO:iss.app:Setting random seed to 1678565043\n",
      "WARNING:iss.app:--draft is in early experimental stage.\n",
      "WARNING:iss.app:--draft disables --abundance_file and --coverage\n",
      "WARNING:iss.app:Defaulting to --abundance.\n",
      "INFO:iss.util:Stitching input files together\n",
      "INFO:iss.app:Using lognormal abundance distribution\n",
      "INFO:iss.app:Using 2 cpus for read generation\n",
      "INFO:iss.app:Generating 20000 reads\n",
      "INFO:iss.app:Generating reads for record: MHDBL000007:hap1\n",
      "INFO:iss.app:Generating reads for record: MHDBL000007:hap2\n",
      "INFO:iss.app:Generating reads for record: MHDBL000009:hap1\n",
      "INFO:iss.app:Generating reads for record: MHDBL000009:hap2\n",
      "INFO:iss.app:Generating reads for record: MHDBL000013:hap1\n",
      "INFO:iss.app:Generating reads for record: MHDBL000013:hap2\n",
      "INFO:iss.app:Generating reads for record: MHDBL000019:hap1\n",
      "INFO:iss.app:Generating reads for record: MHDBL000019:hap2\n",
      "INFO:iss.app:Generating reads for record: MHDBL000020:hap1\n",
      "INFO:iss.app:Generating reads for record: MHDBL000020:hap2\n",
      "INFO:iss.app:Generating reads for record: MHDBL000027:hap1\n",
      "INFO:iss.app:Generating reads for record: MHDBL000027:hap2\n",
      "INFO:iss.app:Generating reads for record: MHDBL000030:hap1\n",
      "INFO:iss.app:Generating reads for record: MHDBL000030:hap2\n",
      "INFO:iss.app:Generating reads for record: MHDBL000036:hap1\n",
      "INFO:iss.app:Generating reads for record: MHDBL000036:hap2\n"
     ]
    },
    {
     "name": "stdout",
     "output_type": "stream",
     "text": [
      "INFO:iss.app:Generating reads for record: MHDBL000038:hap1\n",
      "INFO:iss.app:Generating reads for record: MHDBL000038:hap2\n",
      "INFO:iss.app:Generating reads for record: MHDBL000048:hap1\n",
      "INFO:iss.app:Generating reads for record: MHDBL000048:hap2\n",
      "INFO:iss.app:Generating reads for record: MHDBL000051:hap1\n",
      "INFO:iss.app:Generating reads for record: MHDBL000051:hap2\n",
      "INFO:iss.app:Generating reads for record: MHDBL000055:hap1\n",
      "INFO:iss.app:Generating reads for record: MHDBL000055:hap2\n",
      "INFO:iss.app:Generating reads for record: MHDBL000056:hap1\n",
      "INFO:iss.app:Generating reads for record: MHDBL000056:hap2\n",
      "INFO:iss.app:Generating reads for record: MHDBL000063:hap1\n",
      "INFO:iss.app:Generating reads for record: MHDBL000063:hap2\n",
      "INFO:iss.app:Generating reads for record: MHDBL000066:hap1\n",
      "INFO:iss.app:Generating reads for record: MHDBL000066:hap2\n",
      "INFO:iss.app:Generating reads for record: MHDBL000068:hap1\n",
      "INFO:iss.app:Generating reads for record: MHDBL000068:hap2\n",
      "INFO:iss.app:Generating reads for record: MHDBL000072:hap1\n",
      "INFO:iss.app:Generating reads for record: MHDBL000072:hap2\n",
      "INFO:iss.app:Generating reads for record: MHDBL000080:hap1\n",
      "INFO:iss.app:Generating reads for record: MHDBL000080:hap2\n",
      "INFO:iss.app:Generating reads for record: MHDBL000085:hap1\n",
      "INFO:iss.app:Generating reads for record: MHDBL000085:hap2\n",
      "INFO:iss.app:Generating reads for record: MHDBL000092:hap1\n",
      "INFO:iss.app:Generating reads for record: MHDBL000092:hap2\n",
      "INFO:iss.app:Generating reads for record: MHDBL000095:hap1\n",
      "INFO:iss.app:Generating reads for record: MHDBL000095:hap2\n",
      "INFO:iss.app:Generating reads for record: MHDBL000103:hap1\n",
      "INFO:iss.app:Generating reads for record: MHDBL000103:hap2\n",
      "INFO:iss.app:Generating reads for record: MHDBL000105:hap1\n",
      "INFO:iss.app:Generating reads for record: MHDBL000105:hap2\n",
      "INFO:iss.app:Generating reads for record: MHDBL000108:hap1\n",
      "INFO:iss.app:Generating reads for record: MHDBL000108:hap2\n",
      "INFO:iss.app:Generating reads for record: MHDBL000111:hap1\n",
      "INFO:iss.app:Generating reads for record: MHDBL000111:hap2\n",
      "INFO:iss.app:Generating reads for record: MHDBL000113:hap1\n",
      "INFO:iss.app:Generating reads for record: MHDBL000113:hap2\n",
      "INFO:iss.app:Generating reads for record: MHDBL000115:hap1\n",
      "INFO:iss.app:Generating reads for record: MHDBL000115:hap2\n",
      "INFO:iss.app:Generating reads for record: MHDBL000129:hap1\n",
      "INFO:iss.app:Generating reads for record: MHDBL000129:hap2\n",
      "INFO:iss.app:Generating reads for record: MHDBL000131:hap1\n",
      "INFO:iss.app:Generating reads for record: MHDBL000131:hap2\n",
      "INFO:iss.app:Generating reads for record: MHDBL000132:hap1\n",
      "INFO:iss.app:Generating reads for record: MHDBL000132:hap2\n",
      "INFO:iss.app:Generating reads for record: MHDBL000135:hap1\n",
      "INFO:iss.app:Generating reads for record: MHDBL000135:hap2\n",
      "INFO:iss.app:Generating reads for record: MHDBL000142:hap1\n",
      "INFO:iss.app:Generating reads for record: MHDBL000142:hap2\n",
      "INFO:iss.app:Generating reads for record: MHDBL000145:hap1\n",
      "INFO:iss.app:Generating reads for record: MHDBL000145:hap2\n",
      "INFO:iss.app:Generating reads for record: MHDBL000147:hap1\n",
      "INFO:iss.app:Generating reads for record: MHDBL000147:hap2\n",
      "INFO:iss.app:Generating reads for record: MHDBL000148:hap1\n",
      "INFO:iss.app:Generating reads for record: MHDBL000148:hap2\n",
      "INFO:iss.app:Generating reads for record: MHDBL000153:hap1\n",
      "INFO:iss.app:Generating reads for record: MHDBL000153:hap2\n",
      "INFO:iss.app:Generating reads for record: MHDBL000156:hap1\n",
      "INFO:iss.app:Generating reads for record: MHDBL000156:hap2\n",
      "INFO:iss.app:Generating reads for record: MHDBL000163:hap1\n",
      "INFO:iss.app:Generating reads for record: MHDBL000163:hap2\n",
      "INFO:iss.app:Generating reads for record: MHDBL000167:hap1\n",
      "INFO:iss.app:Generating reads for record: MHDBL000167:hap2\n",
      "INFO:iss.app:Generating reads for record: MHDBL000185:hap1\n",
      "INFO:iss.app:Generating reads for record: MHDBL000185:hap2\n",
      "INFO:iss.app:Generating reads for record: MHDBL000187:hap1\n",
      "INFO:iss.app:Generating reads for record: MHDBL000187:hap2\n",
      "INFO:iss.app:Generating reads for record: MHDBL000195:hap1\n",
      "INFO:iss.app:Generating reads for record: MHDBL000195:hap2\n",
      "INFO:iss.app:Generating reads for record: MHDBL000197:hap1\n",
      "INFO:iss.app:Generating reads for record: MHDBL000197:hap2\n",
      "INFO:iss.app:Generating reads for record: MHDBL000199:hap1\n",
      "INFO:iss.app:Generating reads for record: MHDBL000199:hap2\n",
      "INFO:iss.app:Generating reads for record: MHDBL000200:hap1\n",
      "INFO:iss.app:Generating reads for record: MHDBL000200:hap2\n",
      "INFO:iss.app:Generating reads for record: MHDBL000204:hap1\n",
      "INFO:iss.app:Generating reads for record: MHDBL000204:hap2\n",
      "INFO:iss.app:Generating reads for record: MHDBL000205:hap1\n",
      "INFO:iss.app:Generating reads for record: MHDBL000205:hap2\n",
      "INFO:iss.app:Generating reads for record: MHDBL000207:hap1\n",
      "INFO:iss.app:Generating reads for record: MHDBL000207:hap2\n",
      "INFO:iss.app:Generating reads for record: MHDBL000211:hap1\n",
      "INFO:iss.app:Generating reads for record: MHDBL000211:hap2\n",
      "INFO:iss.app:Generating reads for record: MHDBL000212:hap1\n",
      "INFO:iss.app:Generating reads for record: MHDBL000212:hap2\n",
      "INFO:iss.util:Stitching input files together\n",
      "INFO:iss.util:Stitching input files together\n",
      "INFO:iss.util:Cleaning up\n",
      "INFO:iss.app:Read generation complete\n",
      "[MicroHapulator::mixture] Individual population=SA004240K numreads=5000\n",
      "[MicroHapulator::sim] simulated microhaplotype variation at 50 loci\n",
      "INFO:iss.app:Starting iss generate\n",
      "INFO:iss.app:Using kde ErrorModel\n",
      "INFO:iss.app:Setting random seed to 3129266835\n",
      "WARNING:iss.app:--draft is in early experimental stage.\n",
      "WARNING:iss.app:--draft disables --abundance_file and --coverage\n",
      "WARNING:iss.app:Defaulting to --abundance.\n",
      "INFO:iss.util:Stitching input files together\n",
      "INFO:iss.app:Using lognormal abundance distribution\n",
      "INFO:iss.app:Using 2 cpus for read generation\n",
      "INFO:iss.app:Generating 10000 reads\n",
      "INFO:iss.app:Generating reads for record: MHDBL000007:hap1\n",
      "INFO:iss.app:Generating reads for record: MHDBL000007:hap2\n",
      "INFO:iss.app:Generating reads for record: MHDBL000009:hap1\n",
      "INFO:iss.app:Generating reads for record: MHDBL000009:hap2\n",
      "INFO:iss.app:Generating reads for record: MHDBL000013:hap1\n",
      "INFO:iss.app:Generating reads for record: MHDBL000013:hap2\n",
      "INFO:iss.app:Generating reads for record: MHDBL000019:hap1\n",
      "INFO:iss.app:Generating reads for record: MHDBL000019:hap2\n",
      "INFO:iss.app:Generating reads for record: MHDBL000020:hap1\n",
      "INFO:iss.app:Generating reads for record: MHDBL000020:hap2\n",
      "INFO:iss.app:Generating reads for record: MHDBL000027:hap1\n",
      "INFO:iss.app:Generating reads for record: MHDBL000027:hap2\n",
      "INFO:iss.app:Generating reads for record: MHDBL000030:hap1\n",
      "INFO:iss.app:Generating reads for record: MHDBL000030:hap2\n",
      "INFO:iss.app:Generating reads for record: MHDBL000036:hap1\n",
      "INFO:iss.app:Generating reads for record: MHDBL000036:hap2\n",
      "INFO:iss.app:Generating reads for record: MHDBL000038:hap1\n",
      "INFO:iss.app:Generating reads for record: MHDBL000038:hap2\n",
      "INFO:iss.app:Generating reads for record: MHDBL000048:hap1\n",
      "INFO:iss.app:Generating reads for record: MHDBL000048:hap2\n",
      "INFO:iss.app:Generating reads for record: MHDBL000051:hap1\n",
      "INFO:iss.app:Generating reads for record: MHDBL000051:hap2\n",
      "INFO:iss.app:Generating reads for record: MHDBL000055:hap1\n",
      "INFO:iss.app:Generating reads for record: MHDBL000055:hap2\n",
      "INFO:iss.app:Generating reads for record: MHDBL000056:hap1\n",
      "INFO:iss.app:Generating reads for record: MHDBL000056:hap2\n",
      "INFO:iss.app:Generating reads for record: MHDBL000063:hap1\n",
      "INFO:iss.app:Generating reads for record: MHDBL000063:hap2\n",
      "INFO:iss.app:Generating reads for record: MHDBL000066:hap1\n",
      "INFO:iss.app:Generating reads for record: MHDBL000066:hap2\n",
      "INFO:iss.app:Generating reads for record: MHDBL000068:hap1\n",
      "INFO:iss.app:Generating reads for record: MHDBL000068:hap2\n",
      "INFO:iss.app:Generating reads for record: MHDBL000072:hap1\n",
      "INFO:iss.app:Generating reads for record: MHDBL000072:hap2\n",
      "INFO:iss.app:Generating reads for record: MHDBL000080:hap1\n",
      "INFO:iss.app:Generating reads for record: MHDBL000080:hap2\n",
      "INFO:iss.app:Generating reads for record: MHDBL000085:hap1\n",
      "INFO:iss.app:Generating reads for record: MHDBL000085:hap2\n",
      "INFO:iss.app:Generating reads for record: MHDBL000092:hap1\n",
      "INFO:iss.app:Generating reads for record: MHDBL000092:hap2\n",
      "INFO:iss.app:Generating reads for record: MHDBL000095:hap1\n",
      "INFO:iss.app:Generating reads for record: MHDBL000095:hap2\n",
      "INFO:iss.app:Generating reads for record: MHDBL000103:hap1\n"
     ]
    },
    {
     "name": "stdout",
     "output_type": "stream",
     "text": [
      "INFO:iss.app:Generating reads for record: MHDBL000103:hap2\n",
      "INFO:iss.app:Generating reads for record: MHDBL000105:hap1\n",
      "INFO:iss.app:Generating reads for record: MHDBL000105:hap2\n",
      "INFO:iss.app:Generating reads for record: MHDBL000108:hap1\n",
      "INFO:iss.app:Generating reads for record: MHDBL000108:hap2\n",
      "INFO:iss.app:Generating reads for record: MHDBL000111:hap1\n",
      "INFO:iss.app:Generating reads for record: MHDBL000111:hap2\n",
      "INFO:iss.app:Generating reads for record: MHDBL000113:hap1\n",
      "INFO:iss.app:Generating reads for record: MHDBL000113:hap2\n",
      "INFO:iss.app:Generating reads for record: MHDBL000115:hap1\n",
      "INFO:iss.app:Generating reads for record: MHDBL000115:hap2\n",
      "INFO:iss.app:Generating reads for record: MHDBL000129:hap1\n",
      "INFO:iss.app:Generating reads for record: MHDBL000129:hap2\n",
      "INFO:iss.app:Generating reads for record: MHDBL000131:hap1\n",
      "INFO:iss.app:Generating reads for record: MHDBL000131:hap2\n",
      "INFO:iss.app:Generating reads for record: MHDBL000132:hap1\n",
      "INFO:iss.app:Generating reads for record: MHDBL000132:hap2\n",
      "INFO:iss.app:Generating reads for record: MHDBL000135:hap1\n",
      "INFO:iss.app:Generating reads for record: MHDBL000135:hap2\n",
      "INFO:iss.app:Generating reads for record: MHDBL000142:hap1\n",
      "INFO:iss.app:Generating reads for record: MHDBL000142:hap2\n",
      "INFO:iss.app:Generating reads for record: MHDBL000145:hap1\n",
      "INFO:iss.app:Generating reads for record: MHDBL000145:hap2\n",
      "INFO:iss.app:Generating reads for record: MHDBL000147:hap1\n",
      "INFO:iss.app:Generating reads for record: MHDBL000147:hap2\n",
      "INFO:iss.app:Generating reads for record: MHDBL000148:hap1\n",
      "INFO:iss.app:Generating reads for record: MHDBL000148:hap2\n",
      "INFO:iss.app:Generating reads for record: MHDBL000153:hap1\n",
      "INFO:iss.app:Generating reads for record: MHDBL000153:hap2\n",
      "INFO:iss.app:Generating reads for record: MHDBL000156:hap1\n",
      "INFO:iss.app:Generating reads for record: MHDBL000156:hap2\n",
      "INFO:iss.app:Generating reads for record: MHDBL000163:hap1\n",
      "INFO:iss.app:Generating reads for record: MHDBL000163:hap2\n",
      "INFO:iss.app:Generating reads for record: MHDBL000167:hap1\n",
      "INFO:iss.app:Generating reads for record: MHDBL000167:hap2\n",
      "INFO:iss.app:Generating reads for record: MHDBL000185:hap1\n",
      "INFO:iss.app:Generating reads for record: MHDBL000185:hap2\n",
      "INFO:iss.app:Generating reads for record: MHDBL000187:hap1\n",
      "INFO:iss.app:Generating reads for record: MHDBL000187:hap2\n",
      "INFO:iss.app:Generating reads for record: MHDBL000195:hap1\n",
      "INFO:iss.app:Generating reads for record: MHDBL000195:hap2\n",
      "INFO:iss.app:Generating reads for record: MHDBL000197:hap1\n",
      "INFO:iss.app:Generating reads for record: MHDBL000197:hap2\n",
      "INFO:iss.app:Generating reads for record: MHDBL000199:hap1\n",
      "INFO:iss.app:Generating reads for record: MHDBL000199:hap2\n",
      "INFO:iss.app:Generating reads for record: MHDBL000200:hap1\n",
      "INFO:iss.app:Generating reads for record: MHDBL000200:hap2\n",
      "INFO:iss.app:Generating reads for record: MHDBL000204:hap1\n",
      "INFO:iss.app:Generating reads for record: MHDBL000204:hap2\n",
      "INFO:iss.app:Generating reads for record: MHDBL000205:hap1\n",
      "INFO:iss.app:Generating reads for record: MHDBL000205:hap2\n",
      "INFO:iss.app:Generating reads for record: MHDBL000207:hap1\n",
      "INFO:iss.app:Generating reads for record: MHDBL000207:hap2\n",
      "INFO:iss.app:Generating reads for record: MHDBL000211:hap1\n",
      "INFO:iss.app:Generating reads for record: MHDBL000211:hap2\n",
      "INFO:iss.app:Generating reads for record: MHDBL000212:hap1\n",
      "INFO:iss.app:Generating reads for record: MHDBL000212:hap2\n",
      "INFO:iss.util:Stitching input files together\n",
      "INFO:iss.util:Stitching input files together\n",
      "INFO:iss.util:Cleaning up\n",
      "INFO:iss.app:Read generation complete\n"
     ]
    }
   ],
   "source": [
    "!mhpl8r mixture --indiv SA004049R --indiv SA004110G --indiv SA004240K --proportions 0.7 0.2 0.1 \\\n",
    "    --num-reads 50000 --genotype mixture-sim-genotype.json --out mixture.fastq.gz --panel beta"
   ]
  },
  {
   "cell_type": "markdown",
   "metadata": {},
   "source": [
    "As before, let's align the reads to the loci of interest."
   ]
  },
  {
   "cell_type": "code",
   "execution_count": 15,
   "metadata": {},
   "outputs": [
    {
     "name": "stdout",
     "output_type": "stream",
     "text": [
      "[M::bwa_idx_load_from_disk] read 0 ALT contigs\n",
      "[M::process] read 33224 sequences (10000424 bp)...\n",
      "[M::process] read 16726 sequences (5034526 bp)...\n",
      "[M::mem_process_seqs] Processed 33224 reads in 5.370 CPU sec, 5.358 real sec\n",
      "[M::mem_process_seqs] Processed 16726 reads in 2.500 CPU sec, 2.478 real sec\n",
      "[main] Version: 0.7.17-r1188\n",
      "[main] CMD: bwa mem beta-panel.fasta mixture.fastq.gz\n",
      "[main] Real time: 8.083 sec; CPU: 7.994 sec\n"
     ]
    }
   ],
   "source": [
    "!bwa mem beta-panel.fasta mixture.fastq.gz \\\n",
    "    | samtools view -bS \\\n",
    "    | samtools sort -o mixture.bam -\n",
    "!samtools index mixture.bam"
   ]
  },
  {
   "cell_type": "markdown",
   "metadata": {},
   "source": [
    "And compute the genotype."
   ]
  },
  {
   "cell_type": "code",
   "execution_count": 16,
   "metadata": {},
   "outputs": [
    {
     "name": "stdout",
     "output_type": "stream",
     "text": [
      "[MicroHapulator] running version 0.2\n",
      "[MicroHapulator::type] discarded 7305 reads with gaps or missing data at positions of interest\n"
     ]
    }
   ],
   "source": [
    "!mhpl8r type --out mixture-obs-genotype.json beta-panel.fasta mixture.bam"
   ]
  },
  {
   "cell_type": "markdown",
   "metadata": {},
   "source": [
    "Let's take a look at the inferred genotypes for the mixture sample."
   ]
  },
  {
   "cell_type": "code",
   "execution_count": 17,
   "metadata": {},
   "outputs": [
    {
     "name": "stdout",
     "output_type": "stream",
     "text": [
      "{\r\n",
      "    \"MHDBL000007\": {\r\n",
      "        \"allele_counts\": {\r\n",
      "            \"C,C,A,G\": 1,\r\n",
      "            \"C,T,A,A\": 1,\r\n",
      "            \"T,C,A,G\": 317,\r\n",
      "            \"T,C,G,G\": 1,\r\n",
      "            \"T,T,A,A\": 365,\r\n",
      "            \"T,T,A,G\": 1,\r\n",
      "            \"T,T,G,A\": 1,\r\n",
      "            \"T,T,G,G\": 126\r\n",
      "        },\r\n",
      "        \"genotype\": [\r\n",
      "            \"T,C,A,G\",\r\n",
      "            \"T,T,A,A\",\r\n",
      "            \"T,T,G,G\"\r\n",
      "        ],\r\n",
      "        \"max_coverage\": 1000,\r\n",
      "        \"mean_coverage\": 858.9,\r\n",
      "        \"min_coverage\": 10,\r\n",
      "        \"num_discarded_reads\": 187\r\n",
      "    },\r\n",
      "    \"MHDBL000009\": {\r\n",
      "        \"allele_counts\": {\r\n",
      "            \"T,A,A\": 810,\r\n"
     ]
    }
   ],
   "source": [
    "!head -n 25 mixture-obs-genotype.json"
   ]
  },
  {
   "cell_type": "markdown",
   "metadata": {},
   "source": [
    "Because our first sample was so low coverage, we saw few if any false alleles.\n",
    "Here we have 5 times higher coverage, and so we being to see some false alleles.\n",
    "However, it is trivial to distinguish the true alleles from the false based on coverage, as MicroHapulator has done.\n",
    "\n",
    "Now that genotypes have been called, we can test whether MicroHapulator inferred the genotypes correctly by comparing the inferred genotype JSON to the simulated genotype JSON.\n",
    "We can also estimate the number of contributors to the sample by looking at the number of alleles observed at each locus."
   ]
  },
  {
   "cell_type": "code",
   "execution_count": 18,
   "metadata": {},
   "outputs": [
    {
     "name": "stdout",
     "output_type": "stream",
     "text": [
      "[MicroHapulator] running version 0.2\r\n",
      "{\r\n",
      "    \"min_num_contrib\": 3,\r\n",
      "    \"num_loci_max_alleles\": 2,\r\n",
      "    \"perc_loci_max_alleles\": 0.04\r\n",
      "}"
     ]
    }
   ],
   "source": [
    "!mhpl8r dist mixture-sim-genotype.json mixture-obs-genotype.json\n",
    "!mhpl8r contrib --json mixture-obs-genotype.json"
   ]
  },
  {
   "cell_type": "markdown",
   "metadata": {},
   "source": [
    "In this case, MicroHapulator's estimate of 3 contributors is correct!"
   ]
  },
  {
   "cell_type": "markdown",
   "metadata": {},
   "source": [
    "## Python API\n",
    "\n",
    "The `mhpl8r` command is the most convenient way to invoke MicroHapulator, but all of the `mhpl8r` commands above can also be easily scripted using MicroHapulator's Python API.\n",
    "The following Python code shows how this would be done."
   ]
  },
  {
   "cell_type": "code",
   "execution_count": 19,
   "metadata": {},
   "outputs": [
    {
     "name": "stderr",
     "output_type": "stream",
     "text": [
      "[MicroHapulator::sim] simulated microhaplotype variation at 50 loci\n"
     ]
    },
    {
     "name": "stdout",
     "output_type": "stream",
     "text": [
      "DEBUG simulated 1000 reads!\n",
      "{'mean_coverage': 171.7, 'min_coverage': 1, 'max_coverage': 200, 'num_discarded_reads': 20, 'allele_counts': {'A,G,G': 91, 'T,A,T': 88}, 'genotype': ['A,G,G', 'T,A,T']}\n"
     ]
    },
    {
     "name": "stderr",
     "output_type": "stream",
     "text": [
      "[MicroHapulator::type] discarded 1535 reads with gaps or missing data at positions of interest\n"
     ]
    }
   ],
   "source": [
    "# Simulate simple sample\n",
    "simulator = microhapulator.sim.sim(\n",
    "    ['MHDBP000037'], ['beta'], hapseed=24680, gtfile='sim.gt.bed',\n",
    "    seqthreads=2, numreads=1000,\n",
    ")\n",
    "with microhapulator.open('sim-again.fastq.gz', 'w') as fh:\n",
    "    for record in simulator:\n",
    "        n, defline, sequence, qualities = record\n",
    "        print(defline, sequence, '+\\n', qualities, sep='', end='', file=fh)\n",
    "print('DEBUG simulated', n, 'reads!')\n",
    "\n",
    "# Align reads separately using shell or Python's subprocess module\n",
    "\n",
    "# Infer genotype\n",
    "genotype = microhapulator.type.type('sim.bam', 'beta-panel.fasta')\n",
    "print(genotype.data['loci']['MHDBL000187'])"
   ]
  },
  {
   "cell_type": "markdown",
   "metadata": {},
   "source": [
    "There is not yet any deliberate documentation of the Python API, but all `mhpl8r` subcommand modules observe the following pattern.\n",
    "\n",
    "- a \"main\" function that implements the core operation; the name of this function matches the name of the module; for example, for `mhpl8r mixture` the main function is `microhapulator.mixture.mixture`\n",
    "- a \"driver\" function that accepts a single `args` argument, typically obtained from calling `parse_args()` on an `argparse.ArgumentParser` object; the name of this driver function is always (ironically) `main`\n",
    "\n",
    "By inspecting the MicroHapulator code and observing these patterns, it should be straightforward to determine the Python code needed to replace a shell command that invokes `mhpl8r`."
   ]
  }
 ],
 "metadata": {
  "kernelspec": {
   "display_name": "Python 3",
   "language": "python",
   "name": "python3"
  },
  "language_info": {
   "codemirror_mode": {
    "name": "ipython",
    "version": 3
   },
   "file_extension": ".py",
   "mimetype": "text/x-python",
   "name": "python",
   "nbconvert_exporter": "python",
   "pygments_lexer": "ipython3",
   "version": "3.6.7"
  }
 },
 "nbformat": 4,
 "nbformat_minor": 2
}
