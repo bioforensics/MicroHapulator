{
 "cells": [
  {
   "cell_type": "code",
   "execution_count": 90,
   "id": "7540ff48-7b09-4567-bcfd-5e0ac983b63a",
   "metadata": {},
   "outputs": [],
   "source": [
    "import json\n",
    "from matplotlib import pyplot as plt\n",
    "import microhapdb\n",
    "import pandas as pd\n",
    "from pathlib import Path"
   ]
  },
  {
   "cell_type": "code",
   "execution_count": 2,
   "id": "615003c8-d909-43b7-9ac1-855207634f82",
   "metadata": {},
   "outputs": [
    {
     "data": {
      "text/plain": [
       "'0.11+8.gb390ac6.dirty'"
      ]
     },
     "execution_count": 2,
     "metadata": {},
     "output_type": "execute_result"
    }
   ],
   "source": [
    "microhapdb.__version__"
   ]
  },
  {
   "cell_type": "code",
   "execution_count": null,
   "id": "44b9d9d5-4980-48e3-8586-49ea8e5d6034",
   "metadata": {},
   "outputs": [],
   "source": [
    "def aggregate_counts_and_averages():\n",
    "    counts = pd.concat(map(sample_read_counts, (\"SRM8398-1\", \"SRM8398-2\", \"SRM8398-3\", \"SRM8398-4\")))\n",
    "    counts = all_agg.sort_values([\"Marker\", \"Sample\"]).reset_index()\n",
    "    averages = list()\n",
    "    for markerid, subset in counts.groupby(\"Marker\"):\n",
    "        avg_type_rate = sum(subset.TypingRate) / len(subset.TypingRate)\n",
    "        averages.append((markerid, avg_type_rate, subset.Length.iloc[0], subset.Ae.iloc[0]))\n",
    "    averages = pd.DataFrame(averages, columns=[\"Marker\", \"TypingRate\", \"Length\", \"Ae\"])\n",
    "    averages[\"Locus\"] = averages.Marker.apply(lambda x: x.split(\".\")[0]).sort_values(\"Ae\", ascending=False).drop_duplicates(\"Locus\", keep=\"first\")\n",
    "    return counts, averages"
   ]
  },
  {
   "cell_type": "code",
   "execution_count": 3,
   "id": "42c69012-369f-48f5-9a61-79961c63af09",
   "metadata": {},
   "outputs": [],
   "source": [
    "def sample_read_counts(sample_name):\n",
    "    type_path = f\"../scratch/WD_hybcap3_2023-11-07/analysis/{sample_name}/{sample_name}-type.json\"\n",
    "    repeat_path = f\"../scratch/WD_hybcap3_2023-11-07/analysis/{sample_name}/{sample_name}-repetitive-reads.csv\"\n",
    "    table = parse_typed_read_counts(type_path)\n",
    "    table = flag_repetitive_markers(table, repeat_path)\n",
    "    table = incorporate_length_and_ae(table)\n",
    "    table[\"Sample\"] = sample_name\n",
    "    return table[[\"Sample\", \"TotalReads\", \"TypedReads\", \"RepetitiveReads\", \"RepFlagged\", \"Length\", \"Ae\"]].reset_index()"
   ]
  },
  {
   "cell_type": "code",
   "execution_count": 4,
   "id": "398e4c47-00b9-4c06-b303-ee74ea29831f",
   "metadata": {},
   "outputs": [],
   "source": [
    "def parse_typed_read_counts(typing_counts_path):\n",
    "    data = list()\n",
    "    with open(typing_counts_path, \"r\") as fh:\n",
    "        result = json.load(fh)\n",
    "    for marker in result[\"markers\"]:\n",
    "        typed_reads = sum(result[\"markers\"][marker][\"typing_result\"].values())\n",
    "        untyped_reads = result[\"markers\"][marker][\"num_discarded_reads\"]\n",
    "        total_reads = typed_reads + untyped_reads\n",
    "        data.append((marker, total_reads, typed_reads))\n",
    "    return pd.DataFrame(data, columns=[\"Marker\", \"TotalReads\", \"TypedReads\"]).set_index(\"Marker\")"
   ]
  },
  {
   "cell_type": "code",
   "execution_count": 5,
   "id": "bb8d9c9e-cb81-439f-808c-59beda607573",
   "metadata": {},
   "outputs": [],
   "source": [
    "def flag_repetitive_markers(table, repeat_counts_path):\n",
    "    data = pd.read_csv(repeat_counts_path)\n",
    "    data[\"RepFlagged\"] = data.Marker.apply(lambda x: x in microhapdb.repeats.index)\n",
    "    data = data.set_index(\"Marker\")\n",
    "    return table.join(data, on=\"Marker\")"
   ]
  },
  {
   "cell_type": "code",
   "execution_count": 6,
   "id": "d47d6339-2705-4624-bbf8-19ee2c6b4913",
   "metadata": {},
   "outputs": [],
   "source": [
    "def incorporate_length_and_ae(table):\n",
    "    data = microhapdb.markers[[\"Name\", \"Extent\", \"Ae\"]].copy().rename(columns={\"Name\": \"Marker\", \"Extent\": \"Length\"}).set_index(\"Marker\")\n",
    "    return table.join(data, on=\"Marker\")"
   ]
  },
  {
   "cell_type": "code",
   "execution_count": 7,
   "id": "0dc583d3-b343-4e22-b2d1-36cd7eb4a876",
   "metadata": {},
   "outputs": [
    {
     "data": {
      "text/html": [
       "<div>\n",
       "<style scoped>\n",
       "    .dataframe tbody tr th:only-of-type {\n",
       "        vertical-align: middle;\n",
       "    }\n",
       "\n",
       "    .dataframe tbody tr th {\n",
       "        vertical-align: top;\n",
       "    }\n",
       "\n",
       "    .dataframe thead th {\n",
       "        text-align: right;\n",
       "    }\n",
       "</style>\n",
       "<table border=\"1\" class=\"dataframe\">\n",
       "  <thead>\n",
       "    <tr style=\"text-align: right;\">\n",
       "      <th></th>\n",
       "      <th>index</th>\n",
       "      <th>Marker</th>\n",
       "      <th>Sample</th>\n",
       "      <th>TotalReads</th>\n",
       "      <th>TypedReads</th>\n",
       "      <th>RepetitiveReads</th>\n",
       "      <th>RepFlagged</th>\n",
       "      <th>Length</th>\n",
       "      <th>Ae</th>\n",
       "    </tr>\n",
       "  </thead>\n",
       "  <tbody>\n",
       "    <tr>\n",
       "      <th>0</th>\n",
       "      <td>0</td>\n",
       "      <td>mh01CP-007</td>\n",
       "      <td>SRM8398-1</td>\n",
       "      <td>7058</td>\n",
       "      <td>6827</td>\n",
       "      <td>4562</td>\n",
       "      <td>True</td>\n",
       "      <td>17</td>\n",
       "      <td>1.330</td>\n",
       "    </tr>\n",
       "    <tr>\n",
       "      <th>1</th>\n",
       "      <td>0</td>\n",
       "      <td>mh01CP-007</td>\n",
       "      <td>SRM8398-2</td>\n",
       "      <td>8148</td>\n",
       "      <td>7880</td>\n",
       "      <td>5559</td>\n",
       "      <td>True</td>\n",
       "      <td>17</td>\n",
       "      <td>1.330</td>\n",
       "    </tr>\n",
       "    <tr>\n",
       "      <th>2</th>\n",
       "      <td>0</td>\n",
       "      <td>mh01CP-007</td>\n",
       "      <td>SRM8398-3</td>\n",
       "      <td>6066</td>\n",
       "      <td>5861</td>\n",
       "      <td>4038</td>\n",
       "      <td>True</td>\n",
       "      <td>17</td>\n",
       "      <td>1.330</td>\n",
       "    </tr>\n",
       "    <tr>\n",
       "      <th>3</th>\n",
       "      <td>0</td>\n",
       "      <td>mh01CP-007</td>\n",
       "      <td>SRM8398-4</td>\n",
       "      <td>8491</td>\n",
       "      <td>8186</td>\n",
       "      <td>5881</td>\n",
       "      <td>True</td>\n",
       "      <td>17</td>\n",
       "      <td>1.330</td>\n",
       "    </tr>\n",
       "    <tr>\n",
       "      <th>4</th>\n",
       "      <td>1</td>\n",
       "      <td>mh01CP-008</td>\n",
       "      <td>SRM8398-1</td>\n",
       "      <td>4120</td>\n",
       "      <td>3150</td>\n",
       "      <td>4120</td>\n",
       "      <td>True</td>\n",
       "      <td>17</td>\n",
       "      <td>2.697</td>\n",
       "    </tr>\n",
       "    <tr>\n",
       "      <th>...</th>\n",
       "      <td>...</td>\n",
       "      <td>...</td>\n",
       "      <td>...</td>\n",
       "      <td>...</td>\n",
       "      <td>...</td>\n",
       "      <td>...</td>\n",
       "      <td>...</td>\n",
       "      <td>...</td>\n",
       "      <td>...</td>\n",
       "    </tr>\n",
       "    <tr>\n",
       "      <th>2627</th>\n",
       "      <td>656</td>\n",
       "      <td>mh22USC-22qB.v2</td>\n",
       "      <td>SRM8398-4</td>\n",
       "      <td>6079</td>\n",
       "      <td>105</td>\n",
       "      <td>3</td>\n",
       "      <td>True</td>\n",
       "      <td>261</td>\n",
       "      <td>8.161</td>\n",
       "    </tr>\n",
       "    <tr>\n",
       "      <th>2628</th>\n",
       "      <td>657</td>\n",
       "      <td>mh22USC-22qB.v3</td>\n",
       "      <td>SRM8398-1</td>\n",
       "      <td>4927</td>\n",
       "      <td>410</td>\n",
       "      <td>1</td>\n",
       "      <td>True</td>\n",
       "      <td>251</td>\n",
       "      <td>8.337</td>\n",
       "    </tr>\n",
       "    <tr>\n",
       "      <th>2629</th>\n",
       "      <td>657</td>\n",
       "      <td>mh22USC-22qB.v3</td>\n",
       "      <td>SRM8398-2</td>\n",
       "      <td>5886</td>\n",
       "      <td>582</td>\n",
       "      <td>2</td>\n",
       "      <td>True</td>\n",
       "      <td>251</td>\n",
       "      <td>8.337</td>\n",
       "    </tr>\n",
       "    <tr>\n",
       "      <th>2630</th>\n",
       "      <td>657</td>\n",
       "      <td>mh22USC-22qB.v3</td>\n",
       "      <td>SRM8398-3</td>\n",
       "      <td>4167</td>\n",
       "      <td>399</td>\n",
       "      <td>1</td>\n",
       "      <td>True</td>\n",
       "      <td>251</td>\n",
       "      <td>8.337</td>\n",
       "    </tr>\n",
       "    <tr>\n",
       "      <th>2631</th>\n",
       "      <td>657</td>\n",
       "      <td>mh22USC-22qB.v3</td>\n",
       "      <td>SRM8398-4</td>\n",
       "      <td>6108</td>\n",
       "      <td>124</td>\n",
       "      <td>3</td>\n",
       "      <td>True</td>\n",
       "      <td>251</td>\n",
       "      <td>8.337</td>\n",
       "    </tr>\n",
       "  </tbody>\n",
       "</table>\n",
       "<p>2632 rows × 9 columns</p>\n",
       "</div>"
      ],
      "text/plain": [
       "      index           Marker     Sample  TotalReads  TypedReads  \\\n",
       "0         0       mh01CP-007  SRM8398-1        7058        6827   \n",
       "1         0       mh01CP-007  SRM8398-2        8148        7880   \n",
       "2         0       mh01CP-007  SRM8398-3        6066        5861   \n",
       "3         0       mh01CP-007  SRM8398-4        8491        8186   \n",
       "4         1       mh01CP-008  SRM8398-1        4120        3150   \n",
       "...     ...              ...        ...         ...         ...   \n",
       "2627    656  mh22USC-22qB.v2  SRM8398-4        6079         105   \n",
       "2628    657  mh22USC-22qB.v3  SRM8398-1        4927         410   \n",
       "2629    657  mh22USC-22qB.v3  SRM8398-2        5886         582   \n",
       "2630    657  mh22USC-22qB.v3  SRM8398-3        4167         399   \n",
       "2631    657  mh22USC-22qB.v3  SRM8398-4        6108         124   \n",
       "\n",
       "      RepetitiveReads  RepFlagged  Length     Ae  \n",
       "0                4562        True      17  1.330  \n",
       "1                5559        True      17  1.330  \n",
       "2                4038        True      17  1.330  \n",
       "3                5881        True      17  1.330  \n",
       "4                4120        True      17  2.697  \n",
       "...               ...         ...     ...    ...  \n",
       "2627                3        True     261  8.161  \n",
       "2628                1        True     251  8.337  \n",
       "2629                2        True     251  8.337  \n",
       "2630                1        True     251  8.337  \n",
       "2631                3        True     251  8.337  \n",
       "\n",
       "[2632 rows x 9 columns]"
      ]
     },
     "execution_count": 7,
     "metadata": {},
     "output_type": "execute_result"
    }
   ],
   "source": [
    "all_agg = pd.concat(map(aggregate_sample_data, (\"SRM8398-1\", \"SRM8398-2\", \"SRM8398-3\", \"SRM8398-4\")))\n",
    "all_agg = all_agg.sort_values([\"Marker\", \"Sample\"]).reset_index()\n",
    "all_agg"
   ]
  },
  {
   "cell_type": "code",
   "execution_count": 44,
   "id": "f1134d6e-6825-4a3d-91b0-3f08b4a7c5b2",
   "metadata": {},
   "outputs": [],
   "source": [
    "all_agg = all_agg[~all_agg.RepFlagged]\n",
    "all_agg[\"TypingRate\"] = all_agg.apply(lambda row: row.TypedReads / row.TotalReads if row.TotalReads > 0 else 0.0, axis=1)"
   ]
  },
  {
   "cell_type": "code",
   "execution_count": 57,
   "id": "9669e70b-7a81-486a-9145-cfff10907d46",
   "metadata": {},
   "outputs": [],
   "source": [
    "avg_agg = list()\n",
    "for markerid, subset in all_agg.groupby(\"Marker\"):\n",
    "    avg_type_rate = sum(subset.TypingRate) / len(subset.TypingRate)\n",
    "    avg_agg.append((markerid, avg_type_rate, subset.Length.iloc[0], subset.Ae.iloc[0]))\n",
    "avg_agg = pd.DataFrame(avg_agg, columns=[\"Marker\", \"TypingRate\", \"Length\", \"Ae\"])\n",
    "avg_agg[\"Locus\"] = avg_agg.Marker.apply(lambda x: x.split(\".\")[0])"
   ]
  },
  {
   "cell_type": "code",
   "execution_count": 63,
   "id": "d96cbf22-3a2f-4788-99a8-8b71c99ad061",
   "metadata": {},
   "outputs": [
    {
     "name": "stdout",
     "output_type": "stream",
     "text": [
      "(101, 5)\n",
      "101\n"
     ]
    },
    {
     "data": {
      "image/png": "[encoded data removed]",
      "text/plain": [
       "<Figure size 640x480 with 1 Axes>"
      ]
     },
     "metadata": {},
     "output_type": "display_data"
    }
   ],
   "source": [
    "plot_data = avg_agg[(avg_agg.TypingRate > 0.5) & (avg_agg.Ae >= 3)].sort_values(\"Ae\").drop_duplicates(\"Locus\", keep=\"first\")\n",
    "#fig = plt.figure()\n",
    "#ax = fig.add_subplot(111, projection=\"3d\")\n",
    "ax = plt.gca()\n",
    "#ax.scatter(all_agg.TypingRate, all_agg.Ae, all_agg.Length, marker=\".\")\n",
    "#ax.scatter(all_agg.TypingRate, all_agg.Length, marker=\".\")\n",
    "ax.scatter(plot_data.Length, plot_data.Ae, marker=\".\")\n",
    "#ax.set_xlabel(\"Typing Rate\")\n",
    "#ax.set_ylabel(\"$A_e$\")\n",
    "print(plot_data.shape)\n",
    "print(len(plot_data.Locus.unique()))"
   ]
  },
  {
   "cell_type": "code",
   "execution_count": 59,
   "id": "d8b78609-c40d-4de2-8907-6514b80358f7",
   "metadata": {},
   "outputs": [
    {
     "data": {
      "text/plain": [
       "(array([24., 36., 26., 25., 16., 11., 11., 11.,  6.,  7., 11., 13., 14.,\n",
       "        20., 21., 25., 25., 33., 32., 14.]),\n",
       " array([0.00792507, 0.05752882, 0.10713256, 0.15673631, 0.20634006,\n",
       "        0.2559438 , 0.30554755, 0.3551513 , 0.40475504, 0.45435879,\n",
       "        0.50396253, 0.55356628, 0.60317003, 0.65277377, 0.70237752,\n",
       "        0.75198127, 0.80158501, 0.85118876, 0.90079251, 0.95039625,\n",
       "        1.        ]),\n",
       " <BarContainer object of 20 artists>)"
      ]
     },
     "execution_count": 59,
     "metadata": {},
     "output_type": "execute_result"
    },
    {
     "data": {
      "image/png": "[encoded data removed]",
      "text/plain": [
       "<Figure size 640x480 with 1 Axes>"
      ]
     },
     "metadata": {},
     "output_type": "display_data"
    }
   ],
   "source": [
    "plt.hist(avg_agg.TypingRate, bins=20)"
   ]
  },
  {
   "cell_type": "code",
   "execution_count": 68,
   "id": "8a75e992-6304-4dad-a5c0-576050ca944d",
   "metadata": {},
   "outputs": [
    {
     "data": {
      "text/plain": [
       "['mh01CP-012',\n",
       " 'mh01KK-002',\n",
       " 'mh01KK-211.v2',\n",
       " 'mh01NH-04.v1',\n",
       " 'mh01USC-1pA',\n",
       " 'mh01USC-1pB',\n",
       " 'mh01USC-1pD',\n",
       " 'mh01USC-1qD',\n",
       " 'mh02CP-004',\n",
       " 'mh02KK-134.v4',\n",
       " 'mh02KK-213',\n",
       " 'mh02USC-2pA',\n",
       " 'mh02USC-2pB',\n",
       " 'mh02USC-2pC',\n",
       " 'mh02USC-2qB.v1',\n",
       " 'mh02USC-2qE',\n",
       " 'mh03USC-3pA',\n",
       " 'mh03USC-3pC',\n",
       " 'mh03USC-3qA',\n",
       " 'mh03USC-3qC.v1',\n",
       " 'mh04CP-007',\n",
       " 'mh04KK-010.v1',\n",
       " 'mh04USC-4qB',\n",
       " 'mh04USC-4qD',\n",
       " 'mh05CP-004',\n",
       " 'mh05CP-006',\n",
       " 'mh05USC-5qA',\n",
       " 'mh05USC-5qB',\n",
       " 'mh05USC-5qD',\n",
       " 'mh06CP-007',\n",
       " 'mh06KK-030',\n",
       " 'mh06USC-6pA',\n",
       " 'mh06USC-6qA',\n",
       " 'mh06USC-6qD',\n",
       " 'mh07USC-7pB',\n",
       " 'mh07USC-7pC',\n",
       " 'mh07USC-7qA',\n",
       " 'mh07USC-7qB',\n",
       " 'mh08USC-8pA',\n",
       " 'mh08USC-8pB',\n",
       " 'mh08USC-8qA',\n",
       " 'mh08USC-8qB',\n",
       " 'mh09KK-033.v1',\n",
       " 'mh09KK-153.v1',\n",
       " 'mh09NH-13',\n",
       " 'mh09USC-9pA.v1',\n",
       " 'mh09USC-9pB',\n",
       " 'mh09USC-9qB',\n",
       " 'mh09USC-9qC',\n",
       " 'mh0XUSC-XpA',\n",
       " 'mh0XUSC-XpC',\n",
       " 'mh0XUSC-XqG',\n",
       " 'mh10CP-006',\n",
       " 'mh11CP-005',\n",
       " 'mh11KK-180.v4',\n",
       " 'mh11NH-17',\n",
       " 'mh11PK-62906',\n",
       " 'mh11PK-63643.v2',\n",
       " 'mh12CP-003',\n",
       " 'mh12CP-007',\n",
       " 'mh12KK-046.v1',\n",
       " 'mh12KK-201.v4',\n",
       " 'mh12USC-12pB',\n",
       " 'mh12USC-12qA',\n",
       " 'mh12USC-12qC',\n",
       " 'mh13KK-223.v4',\n",
       " 'mh13KK-225.v1',\n",
       " 'mh13USC-13qA.v1',\n",
       " 'mh13USC-13qB',\n",
       " 'mh13USC-13qC',\n",
       " 'mh13USC-13qD',\n",
       " 'mh14NH-21',\n",
       " 'mh14USC-14qA',\n",
       " 'mh14USC-14qB',\n",
       " 'mh14USC-14qC',\n",
       " 'mh15KK-066.v1',\n",
       " 'mh15USC-15qD',\n",
       " 'mh16CP-001',\n",
       " 'mh16KK-302.v1',\n",
       " 'mh16PK-83483',\n",
       " 'mh16USC-16qA',\n",
       " 'mh16USC-16qB',\n",
       " 'mh17CP-001',\n",
       " 'mh17CP-002',\n",
       " 'mh17KK-014',\n",
       " 'mh17KK-054',\n",
       " 'mh17KK-272.v3',\n",
       " 'mh17USC-17pA',\n",
       " 'mh17USC-17qB',\n",
       " 'mh17USC-17qC',\n",
       " 'mh18KK-285.v2',\n",
       " 'mh18USC-18qA',\n",
       " 'mh19KK-299.v4',\n",
       " 'mh19USC-19qA.v1',\n",
       " 'mh19USC-19qB.v1',\n",
       " 'mh20USC-20pA',\n",
       " 'mh20USC-20qB',\n",
       " 'mh21KK-324.v4',\n",
       " 'mh21USC-21qA',\n",
       " 'mh22NH-27',\n",
       " 'mh22USC-22qA']"
      ]
     },
     "execution_count": 68,
     "metadata": {},
     "output_type": "execute_result"
    }
   ],
   "source": [
    "sorted(plot_data.Marker)"
   ]
  },
  {
   "cell_type": "code",
   "execution_count": 87,
   "id": "4fd2193c-fc9f-4e1d-9942-cca5f377e5ce",
   "metadata": {},
   "outputs": [
    {
     "name": "stdout",
     "output_type": "stream",
     "text": [
      "(318, 12)\n"
     ]
    },
    {
     "data": {
      "image/png": "[encoded data removed]",
      "text/plain": [
       "<Figure size 640x480 with 1 Axes>"
      ]
     },
     "metadata": {},
     "output_type": "display_data"
    }
   ],
   "source": [
    "panel_ids = [\n",
    "    m.name for m in microhapdb.Marker.objectify(microhapdb.markers) if\n",
    "    (len(m) < 130) and (m.data.Ae > 3.0) and (m.name not in microhapdb.repeats.index)\n",
    "]\n",
    "panel_redund = microhapdb.markers[microhapdb.markers.Name.isin(panel_ids)].copy()\n",
    "panel_redund[\"Locus\"] = panel_redund.Name.apply(lambda x: x.split(\".\")[0])\n",
    "panel = panel_redund.sort_values(\"Ae\", ascending=False).drop_duplicates(\"Locus\", keep=\"first\")\n",
    "plt.scatter(panel.Extent, panel.Ae, marker=\".\")\n",
    "print(panel.shape)"
   ]
  },
  {
   "cell_type": "code",
   "execution_count": 88,
   "id": "4569477c-31ba-4536-9e9e-d75e617762bd",
   "metadata": {},
   "outputs": [
    {
     "name": "stdout",
     "output_type": "stream",
     "text": [
      "['mh01CP-012', 'mh01FHL-009.v2', 'mh01KK-001.v5', 'mh01KK-002', 'mh01KK-211.v2', 'mh01KK-212.v5', 'mh01LS-1pA', 'mh01NH-04.v1', 'mh01USC-1pA', 'mh01USC-1pB', 'mh01USC-1pD', 'mh01USC-1qD', 'mh01WL-008.v3', 'mh01WL-033.v1', 'mh01WL-037', 'mh01WL-038.v2', 'mh01WL-053.v1', 'mh01WL-058', 'mh01WL-059.v2', 'mh01WL-077.v2', 'mh01WL-087', 'mh01WL-110', 'mh01WL-115', 'mh01ZHA-012.v2', 'mh02CP-004', 'mh02KK-134.v2', 'mh02KK-213', 'mh02LS-2pB', 'mh02SHY-002.v2', 'mh02SHY-004.v1', 'mh02USC-2pA', 'mh02USC-2pB', 'mh02USC-2pC', 'mh02USC-2qB.v2', 'mh02USC-2qE', 'mh02WL-028.v2', 'mh02WL-050', 'mh02WL-054', 'mh02WL-060', 'mh02WL-079', 'mh02WL-084', 'mh02WL-090', 'mh02WL-097', 'mh02WL-099', 'mh02WL-100', 'mh02WL-105', 'mh02WL-108', 'mh02WL-112', 'mh02ZHA-012', 'mh03FHL-001.v1', 'mh03FHL-003.v2', 'mh03LS-3qD', 'mh03LS-3qE', 'mh03LS-3qF', 'mh03LV-06.v3', 'mh03SHY-005.v2', 'mh03USC-3pA', 'mh03USC-3pC', 'mh03USC-3qA', 'mh03USC-3qC.v1', 'mh03WL-005.v2', 'mh03WL-006.v4', 'mh03WL-010', 'mh03WL-011.v2', 'mh03WL-013', 'mh03WL-021.v2', 'mh03WL-038', 'mh03WL-047', 'mh03WL-070.v4', 'mh03WL-072', 'mh03WL-077', 'mh03WL-082', 'mh03WL-084', 'mh04CP-007', 'mh04FHL-005.v6', 'mh04KK-010.v1', 'mh04KK-030.v1', 'mh04LS-4pD', 'mh04SHY-001.v1', 'mh04SHY-003', 'mh04USC-4qB', 'mh04USC-4qD', 'mh04WL-012.v1', 'mh04WL-023.v3', 'mh04WL-028.v1', 'mh04WL-044', 'mh04WL-048', 'mh04WL-080', 'mh04WL-082.v2', 'mh04WL-085', 'mh04WL-086', 'mh04WL-096', 'mh04WL-097', 'mh04ZHA-002.v4', 'mh05CP-004', 'mh05CP-006', 'mh05LS-5pB', 'mh05LS-5pC', 'mh05USC-5qA', 'mh05USC-5qB', 'mh05USC-5qD', 'mh05WL-003.v2', 'mh05WL-008', 'mh05WL-013.v2', 'mh05WL-028', 'mh05WL-058.v2', 'mh06CP-007', 'mh06FHL-001', 'mh06KK-030', 'mh06LS-6pA', 'mh06LS-6qB', 'mh06LS-6qD', 'mh06LS-6qE', 'mh06SHY-004', 'mh06USC-6pA', 'mh06USC-6qA', 'mh06USC-6qD', 'mh06WL-017.v2', 'mh06WL-032.v2', 'mh06WL-041', 'mh06WL-047', 'mh06WL-071.v2', 'mh06WL-072.v1', 'mh06WL-073.v1', 'mh06WL-076', 'mh06WL-077', 'mh06WL-078', 'mh06WL-080', 'mh07LS-7pC', 'mh07SCUZJ-0380111.v2', 'mh07USC-7pB', 'mh07USC-7pC', 'mh07USC-7qA', 'mh07USC-7qB', 'mh07WL-007.v1', 'mh07WL-009.v2', 'mh07WL-012', 'mh07WL-022.v1', 'mh07WL-023', 'mh07WL-039', 'mh07WL-043', 'mh07WL-044', 'mh07WL-062.v1', 'mh07WL-067', 'mh07WL-069', 'mh07WL-072', 'mh07WL-081', 'mh07WL-088', 'mh08SCUZJ-0523897', 'mh08USC-8pA', 'mh08USC-8pB', 'mh08USC-8qA', 'mh08USC-8qB', 'mh08WL-023', 'mh08WL-030', 'mh08WL-035', 'mh08WL-045.v2', 'mh08ZHA-011', 'mh09FHL-002.v2', 'mh09KK-020', 'mh09KK-033.v2', 'mh09KK-153.v1', 'mh09LS-9qC', 'mh09NH-13', 'mh09SHY-003', 'mh09SHY-004.v2', 'mh09USC-9pA.v1', 'mh09USC-9pB', 'mh09USC-9qB', 'mh09USC-9qC', 'mh09WL-020', 'mh09WL-021', 'mh09WL-023.v2', 'mh09WL-044.v1', 'mh09ZBF-001', 'mh0XUSC-XpA', 'mh0XUSC-XpC', 'mh0XUSC-XqG', 'mh10CP-006', 'mh10KK-163.v2', 'mh10LS-10qB', 'mh10LS-10qF', 'mh10LS-10qH', 'mh10WL-012.v2', 'mh10WL-015', 'mh10WL-026', 'mh10WL-028', 'mh10WL-042', 'mh10WL-051', 'mh10WL-054.v2', 'mh10WL-055', 'mh10WL-060', 'mh11CP-005', 'mh11KK-180.v4', 'mh11KK-181.v2', 'mh11LS-11qF', 'mh11LS-11qG', 'mh11NH-17', 'mh11PK-62906', 'mh11PK-63643.v1', 'mh11WL-024.v1', 'mh11WL-026', 'mh11WL-028', 'mh11WL-050', 'mh11ZHA-006a', 'mh12CP-003', 'mh12CP-007', 'mh12KK-046.v1', 'mh12KK-201.v4', 'mh12LS-12qB', 'mh12LS-12qF', 'mh12SHY-001.v1', 'mh12USC-12pA', 'mh12USC-12pB', 'mh12USC-12qA', 'mh12USC-12qC', 'mh12WL-024', 'mh12WL-031.v1', 'mh12WL-033', 'mh12WL-034', 'mh12WL-052.v2', 'mh13KK-223.v4', 'mh13KK-225.v2', 'mh13LS-13qD', 'mh13LS-13qH', 'mh13SHY-001.v2', 'mh13USC-13qA.v4', 'mh13USC-13qB', 'mh13USC-13qC', 'mh13USC-13qD', 'mh13WL-001.v3', 'mh13WL-005', 'mh13WL-020', 'mh14LS-14qF', 'mh14LW-35', 'mh14NH-21', 'mh14SHY-002.v2', 'mh14SHY-003.v4', 'mh14USC-14qA', 'mh14USC-14qB', 'mh14USC-14qC', 'mh14WL-004.v1', 'mh14WL-020', 'mh14WL-023', 'mh14WL-028.v2', 'mh14WL-034', 'mh14WL-036.v1', 'mh14WL-043.v1', 'mh14WL-044', 'mh14WL-045', 'mh15KK-066.v1', 'mh15KK-067.v1', 'mh15USC-15qD', 'mh15WL-001.v3', 'mh15WL-004.v3', 'mh15WL-015.v2', 'mh15WL-039', 'mh15WL-042', 'mh16CP-001', 'mh16KK-302.v1', 'mh16LS-16qA', 'mh16PK-83483', 'mh16USC-16qA', 'mh16USC-16qB', 'mh16WL-005', 'mh16WL-008', 'mh16WL-023', 'mh16WL-034', 'mh16WL-038', 'mh16WL-040.v1', 'mh16WL-045', 'mh17CP-001', 'mh17CP-002', 'mh17KK-014', 'mh17KK-054', 'mh17KK-272.v3', 'mh17USC-17pA', 'mh17USC-17qB', 'mh17USC-17qC', 'mh17WL-003', 'mh17WL-022.v3', 'mh17WL-037', 'mh18KK-285.v2', 'mh18LS-18pA', 'mh18LW-46', 'mh18SCUZJ-0052717.v2', 'mh18USC-18qA', 'mh18WL-018', 'mh18WL-026', 'mh18WL-027.v2', 'mh18WL-032', 'mh19KK-299.v4', 'mh19LS-19qA', 'mh19SHY-001.v2', 'mh19USC-19qA.v4', 'mh19USC-19qB.v2', 'mh19WL-018', 'mh19WL-026', 'mh20LS-20pB', 'mh20USC-20pA', 'mh20USC-20qB', 'mh20WL-023.v3', 'mh20WL-026.v1', 'mh21FHL-002.v3', 'mh21KK-324.v4', 'mh21LS-21qD', 'mh21USC-21qA', 'mh21WL-007', 'mh21WL-010', 'mh21WL-020.v1', 'mh22LS-22qB', 'mh22LS-22qC', 'mh22NH-27', 'mh22USC-22qA', 'mh22WL-004.v3', 'mh22WL-005.v2', 'mh22ZBF-001', 'mh22ZHA-008']\n"
     ]
    }
   ],
   "source": [
    "print(sorted(panel.Name))"
   ]
  },
  {
   "cell_type": "code",
   "execution_count": 89,
   "id": "bcfeeed0-3775-479e-a5da-432a97021a5d",
   "metadata": {},
   "outputs": [
    {
     "data": {
      "text/html": [
       "<div>\n",
       "<style scoped>\n",
       "    .dataframe tbody tr th:only-of-type {\n",
       "        vertical-align: middle;\n",
       "    }\n",
       "\n",
       "    .dataframe tbody tr th {\n",
       "        vertical-align: top;\n",
       "    }\n",
       "\n",
       "    .dataframe thead th {\n",
       "        text-align: right;\n",
       "    }\n",
       "</style>\n",
       "<table border=\"1\" class=\"dataframe\">\n",
       "  <thead>\n",
       "    <tr style=\"text-align: right;\">\n",
       "      <th></th>\n",
       "      <th>Name</th>\n",
       "      <th>NumVars</th>\n",
       "      <th>Extent</th>\n",
       "      <th>Chrom</th>\n",
       "      <th>Start</th>\n",
       "      <th>End</th>\n",
       "      <th>Positions</th>\n",
       "      <th>Positions37</th>\n",
       "      <th>RSIDs</th>\n",
       "      <th>Source</th>\n",
       "      <th>Ae</th>\n",
       "      <th>Locus</th>\n",
       "    </tr>\n",
       "  </thead>\n",
       "  <tbody>\n",
       "    <tr>\n",
       "      <th>2572</th>\n",
       "      <td>mh16WL-038</td>\n",
       "      <td>7</td>\n",
       "      <td>125</td>\n",
       "      <td>chr16</td>\n",
       "      <td>88727378</td>\n",
       "      <td>88727502</td>\n",
       "      <td>88727378;88727403;88727405;88727415;88727435;8...</td>\n",
       "      <td>88793786;88793811;88793813;88793823;88793843;8...</td>\n",
       "      <td>rs2242168;rs2340980;rs8057198;rs2879904;rs2242...</td>\n",
       "      <td>Yu2022G1</td>\n",
       "      <td>10.836</td>\n",
       "      <td>mh16WL-038</td>\n",
       "    </tr>\n",
       "    <tr>\n",
       "      <th>1687</th>\n",
       "      <td>mh10WL-012.v2</td>\n",
       "      <td>6</td>\n",
       "      <td>88</td>\n",
       "      <td>chr10</td>\n",
       "      <td>4259581</td>\n",
       "      <td>4259668</td>\n",
       "      <td>4259581;4259596;4259627;4259631;4259652;4259668</td>\n",
       "      <td>4301773;4301788;4301819;4301823;4301844;4301860</td>\n",
       "      <td>rs4880667;rs4880668;rs10904212;rs11252408;rs41...</td>\n",
       "      <td>Yu2022G4</td>\n",
       "      <td>9.940</td>\n",
       "      <td>mh10WL-012</td>\n",
       "    </tr>\n",
       "  </tbody>\n",
       "</table>\n",
       "</div>"
      ],
      "text/plain": [
       "               Name  NumVars  Extent  Chrom     Start       End  \\\n",
       "2572     mh16WL-038        7     125  chr16  88727378  88727502   \n",
       "1687  mh10WL-012.v2        6      88  chr10   4259581   4259668   \n",
       "\n",
       "                                              Positions  \\\n",
       "2572  88727378;88727403;88727405;88727415;88727435;8...   \n",
       "1687    4259581;4259596;4259627;4259631;4259652;4259668   \n",
       "\n",
       "                                            Positions37  \\\n",
       "2572  88793786;88793811;88793813;88793823;88793843;8...   \n",
       "1687    4301773;4301788;4301819;4301823;4301844;4301860   \n",
       "\n",
       "                                                  RSIDs    Source      Ae  \\\n",
       "2572  rs2242168;rs2340980;rs8057198;rs2879904;rs2242...  Yu2022G1  10.836   \n",
       "1687  rs4880667;rs4880668;rs10904212;rs11252408;rs41...  Yu2022G4   9.940   \n",
       "\n",
       "           Locus  \n",
       "2572  mh16WL-038  \n",
       "1687  mh10WL-012  "
      ]
     },
     "execution_count": 89,
     "metadata": {},
     "output_type": "execute_result"
    }
   ],
   "source": [
    "panel[panel.Ae > 9]"
   ]
  },
  {
   "cell_type": "code",
   "execution_count": null,
   "id": "02623265-94a0-4cf4-ba68-fceb72b36402",
   "metadata": {},
   "outputs": [],
   "source": []
  }
 ],
 "metadata": {
  "kernelspec": {
   "display_name": "Python 3 (ipykernel)",
   "language": "python",
   "name": "python3"
  },
  "language_info": {
   "codemirror_mode": {
    "name": "ipython",
    "version": 3
   },
   "file_extension": ".py",
   "mimetype": "text/x-python",
   "name": "python",
   "nbconvert_exporter": "python",
   "pygments_lexer": "ipython3",
   "version": "3.9.18"
  }
 },
 "nbformat": 4,
 "nbformat_minor": 5
}
