{
 "cells": [
  {
   "cell_type": "markdown",
   "metadata": {},
   "source": [
    "# Microhaplotypes and Sample Matching\n",
    "\n",
    "To evaluate the utility of microhaplotype sequencing for individualization, 500 individuals were sampled randomly from a mock population of 8,000 individuals roughly matching the demographics of the United States.\n",
    "Targeted Illumina MiSeq sequencing of a microhaplotype panel was simulated for these 500 individuals, and genotypes were inferred by mapping reads back to the microhap loci.\n",
    "\n",
    "Then, for each of the 500 individuals, the sample was compared to three \"background\" test sets.\n",
    "For each pairwise comparison, a naïve Hamming distance and the conventional RMP-based likelihood ratio test statistic were computed.\n",
    "\n",
    "- background 1 (**reseq**): 3 replicates of simulated re-sequencing of the same individual\n",
    "- background 2 (**samepop**): 3 individuals sampled randomly from the same sub-population as the focal individual\n",
    "- background 3 (**allpop**): 3 individuals sampled randomly from the entire mock population\n",
    "\n",
    "Finally, 100 pairs of individuals were sampled from the population and \"mated\" to create an offspring.\n",
    "The offspring was then compared to each parent by computing the Hamming distance and LR test statistic (**related**).\n",
    "\n",
    "\n",
    "## Hamming Distance\n",
    "\n",
    "We define the Hamming distance between two genotype profiles as the number of loci at which the annotated alleles differ between profiles.\n",
    "We do not distinguish partial allele matches (\"het AB vs homo A\" or \"het AB vs het BC\") from full mismatches (\"homo A vs homo B\" or \"het AB vs het CD\").\n",
    "\n",
    "\n",
    "## LR Test Statistic\n",
    "\n",
    "This statistic is based on comparing the likelihood of the following two hypotheses.\n",
    "\n",
    "- $H_1$: that the test sample and a reference sample were derived from the same individual; and\n",
    "- $H_0$: that the test sample and the reference sample were derived from two random (unrelated) individuals.\n",
    "\n",
    "The probability $P(H_0)$ is the *random match probability*\n",
    "\n",
    "$$\n",
    "P_{RM} = \\prod\\limits_{a \\in G} P(a \\mid F)\n",
    "$$\n",
    "\n",
    "where $G$ is the complete genotype profile of the test sample, $a$ is an observed allele in $G$, and $P(a \\mid F)$ is the population allele frequency of $a$.\n",
    "The probability $P\\left (H_1 \\right )$ is $\\epsilon^R$, where $\\epsilon$ is the rate of genotyping error and $R$ is the number of mismatches between the test sample and reference sample.\n",
    "Typically $R$ is expected to be either 0 (perfect matches at all loci) or very low (small number of mismatches due to genotyping error).\n",
    "The likelihood ratio statistic is then computed as follows.\n",
    "\n",
    "$$\n",
    "LR = \\frac{P(H_1)}{P(H_0)}\n",
    "$$\n",
    "\n",
    "Thus in the typical case when $P(H_1) = \\epsilon^0 = 1$, the LR statistic is the reciprocal of the RMP.\n",
    "As the number of microhaplotype loci assayed increases, $LR$ grows very rapidly, indicating that $H_1$ is the much more likely scenario.\n",
    "On the other hand, when $R$ grows, $LR$ shrinks rapidly, suggesting that a sample mismatch better explains the observed differences rather than genotyping error."
   ]
  },
  {
   "cell_type": "code",
   "execution_count": 1,
   "metadata": {},
   "outputs": [],
   "source": [
    "%matplotlib inline\n",
    "import matplotlib\n",
    "from matplotlib import pyplot as plt\n",
    "import microhapulator\n",
    "import numpy\n",
    "import pandas\n",
    "import seaborn\n",
    "\n",
    "matplotlib.rcParams['axes.labelsize'] = 16\n",
    "matplotlib.rcParams['xtick.labelsize'] = 12\n",
    "matplotlib.rcParams['ytick.labelsize'] = 12\n",
    "matplotlib.rcParams['savefig.dpi'] = 300\n",
    "seaborn.set_context({\"figure.figsize\": (12, 8)})"
   ]
  },
  {
   "cell_type": "markdown",
   "metadata": {},
   "source": [
    "## Data Import and Inspection"
   ]
  },
  {
   "cell_type": "code",
   "execution_count": 2,
   "metadata": {},
   "outputs": [],
   "source": [
    "reseq = pandas.read_csv('sample-match-reseq-eval.tsv', sep='\\t')\n",
    "samepop = pandas.read_csv('sample-match-samepop-eval.tsv', sep='\\t')\n",
    "allpop = pandas.read_csv('sample-match-allpop-eval.tsv', sep='\\t')\n",
    "related = pandas.read_csv('sample-match-related-eval.tsv', sep='\\t')"
   ]
  },
  {
   "cell_type": "code",
   "execution_count": 3,
   "metadata": {},
   "outputs": [
    {
     "data": {
      "text/html": [
       "<div>\n",
       "<style scoped>\n",
       "    .dataframe tbody tr th:only-of-type {\n",
       "        vertical-align: middle;\n",
       "    }\n",
       "\n",
       "    .dataframe tbody tr th {\n",
       "        vertical-align: top;\n",
       "    }\n",
       "\n",
       "    .dataframe thead th {\n",
       "        text-align: right;\n",
       "    }\n",
       "</style>\n",
       "<table border=\"1\" class=\"dataframe\">\n",
       "  <thead>\n",
       "    <tr style=\"text-align: right;\">\n",
       "      <th></th>\n",
       "      <th>ID</th>\n",
       "      <th>HaploPops</th>\n",
       "      <th>TestSample</th>\n",
       "      <th>HammingDist</th>\n",
       "      <th>LRTest</th>\n",
       "    </tr>\n",
       "  </thead>\n",
       "  <tbody>\n",
       "    <tr>\n",
       "      <th>0</th>\n",
       "      <td>uMOxTAD</td>\n",
       "      <td>MHDBP000077,MHDBP000077</td>\n",
       "      <td>uMOxTAD-repl1</td>\n",
       "      <td>0</td>\n",
       "      <td>1.144050e+61</td>\n",
       "    </tr>\n",
       "    <tr>\n",
       "      <th>1</th>\n",
       "      <td>uMOxTAD</td>\n",
       "      <td>MHDBP000077,MHDBP000077</td>\n",
       "      <td>uMOxTAD-repl2</td>\n",
       "      <td>0</td>\n",
       "      <td>1.144050e+61</td>\n",
       "    </tr>\n",
       "    <tr>\n",
       "      <th>2</th>\n",
       "      <td>uMOxTAD</td>\n",
       "      <td>MHDBP000077,MHDBP000077</td>\n",
       "      <td>uMOxTAD-repl3</td>\n",
       "      <td>0</td>\n",
       "      <td>1.144050e+61</td>\n",
       "    </tr>\n",
       "    <tr>\n",
       "      <th>3</th>\n",
       "      <td>rOAtSSp</td>\n",
       "      <td>MHDBP000022,MHDBP000032</td>\n",
       "      <td>rOAtSSp-repl1</td>\n",
       "      <td>0</td>\n",
       "      <td>3.769265e+72</td>\n",
       "    </tr>\n",
       "    <tr>\n",
       "      <th>4</th>\n",
       "      <td>rOAtSSp</td>\n",
       "      <td>MHDBP000022,MHDBP000032</td>\n",
       "      <td>rOAtSSp-repl2</td>\n",
       "      <td>0</td>\n",
       "      <td>3.769265e+72</td>\n",
       "    </tr>\n",
       "  </tbody>\n",
       "</table>\n",
       "</div>"
      ],
      "text/plain": [
       "        ID                HaploPops     TestSample  HammingDist        LRTest\n",
       "0  uMOxTAD  MHDBP000077,MHDBP000077  uMOxTAD-repl1            0  1.144050e+61\n",
       "1  uMOxTAD  MHDBP000077,MHDBP000077  uMOxTAD-repl2            0  1.144050e+61\n",
       "2  uMOxTAD  MHDBP000077,MHDBP000077  uMOxTAD-repl3            0  1.144050e+61\n",
       "3  rOAtSSp  MHDBP000022,MHDBP000032  rOAtSSp-repl1            0  3.769265e+72\n",
       "4  rOAtSSp  MHDBP000022,MHDBP000032  rOAtSSp-repl2            0  3.769265e+72"
      ]
     },
     "execution_count": 3,
     "metadata": {},
     "output_type": "execute_result"
    }
   ],
   "source": [
    "reseq.head()"
   ]
  },
  {
   "cell_type": "code",
   "execution_count": 4,
   "metadata": {},
   "outputs": [
    {
     "data": {
      "text/html": [
       "<div>\n",
       "<style scoped>\n",
       "    .dataframe tbody tr th:only-of-type {\n",
       "        vertical-align: middle;\n",
       "    }\n",
       "\n",
       "    .dataframe tbody tr th {\n",
       "        vertical-align: top;\n",
       "    }\n",
       "\n",
       "    .dataframe thead th {\n",
       "        text-align: right;\n",
       "    }\n",
       "</style>\n",
       "<table border=\"1\" class=\"dataframe\">\n",
       "  <thead>\n",
       "    <tr style=\"text-align: right;\">\n",
       "      <th></th>\n",
       "      <th>ID</th>\n",
       "      <th>HaploPops</th>\n",
       "      <th>TestSample</th>\n",
       "      <th>HammingDist</th>\n",
       "      <th>LRTest</th>\n",
       "    </tr>\n",
       "  </thead>\n",
       "  <tbody>\n",
       "    <tr>\n",
       "      <th>0</th>\n",
       "      <td>uMOxTAD</td>\n",
       "      <td>MHDBP000077,MHDBP000077</td>\n",
       "      <td>RjuzDui</td>\n",
       "      <td>45</td>\n",
       "      <td>1.144050e-113</td>\n",
       "    </tr>\n",
       "    <tr>\n",
       "      <th>1</th>\n",
       "      <td>uMOxTAD</td>\n",
       "      <td>MHDBP000077,MHDBP000077</td>\n",
       "      <td>rQFDlqD</td>\n",
       "      <td>40</td>\n",
       "      <td>1.144050e-98</td>\n",
       "    </tr>\n",
       "    <tr>\n",
       "      <th>2</th>\n",
       "      <td>uMOxTAD</td>\n",
       "      <td>MHDBP000077,MHDBP000077</td>\n",
       "      <td>cksC3EM</td>\n",
       "      <td>42</td>\n",
       "      <td>1.144050e-110</td>\n",
       "    </tr>\n",
       "    <tr>\n",
       "      <th>3</th>\n",
       "      <td>rOAtSSp</td>\n",
       "      <td>MHDBP000022,MHDBP000032</td>\n",
       "      <td>i4L0t4T</td>\n",
       "      <td>44</td>\n",
       "      <td>3.769265e-84</td>\n",
       "    </tr>\n",
       "    <tr>\n",
       "      <th>4</th>\n",
       "      <td>rOAtSSp</td>\n",
       "      <td>MHDBP000022,MHDBP000032</td>\n",
       "      <td>OMOB2XC</td>\n",
       "      <td>44</td>\n",
       "      <td>3.769265e-132</td>\n",
       "    </tr>\n",
       "  </tbody>\n",
       "</table>\n",
       "</div>"
      ],
      "text/plain": [
       "        ID                HaploPops TestSample  HammingDist         LRTest\n",
       "0  uMOxTAD  MHDBP000077,MHDBP000077    RjuzDui           45  1.144050e-113\n",
       "1  uMOxTAD  MHDBP000077,MHDBP000077    rQFDlqD           40   1.144050e-98\n",
       "2  uMOxTAD  MHDBP000077,MHDBP000077    cksC3EM           42  1.144050e-110\n",
       "3  rOAtSSp  MHDBP000022,MHDBP000032    i4L0t4T           44   3.769265e-84\n",
       "4  rOAtSSp  MHDBP000022,MHDBP000032    OMOB2XC           44  3.769265e-132"
      ]
     },
     "execution_count": 4,
     "metadata": {},
     "output_type": "execute_result"
    }
   ],
   "source": [
    "samepop.head()"
   ]
  },
  {
   "cell_type": "code",
   "execution_count": 5,
   "metadata": {},
   "outputs": [
    {
     "data": {
      "text/html": [
       "<div>\n",
       "<style scoped>\n",
       "    .dataframe tbody tr th:only-of-type {\n",
       "        vertical-align: middle;\n",
       "    }\n",
       "\n",
       "    .dataframe tbody tr th {\n",
       "        vertical-align: top;\n",
       "    }\n",
       "\n",
       "    .dataframe thead th {\n",
       "        text-align: right;\n",
       "    }\n",
       "</style>\n",
       "<table border=\"1\" class=\"dataframe\">\n",
       "  <thead>\n",
       "    <tr style=\"text-align: right;\">\n",
       "      <th></th>\n",
       "      <th>ID</th>\n",
       "      <th>HaploPops</th>\n",
       "      <th>TestSample</th>\n",
       "      <th>HammingDist</th>\n",
       "      <th>LRTest</th>\n",
       "    </tr>\n",
       "  </thead>\n",
       "  <tbody>\n",
       "    <tr>\n",
       "      <th>0</th>\n",
       "      <td>uMOxTAD</td>\n",
       "      <td>MHDBP000077,MHDBP000077</td>\n",
       "      <td>SNsOo3X</td>\n",
       "      <td>43</td>\n",
       "      <td>1.832905e-122</td>\n",
       "    </tr>\n",
       "    <tr>\n",
       "      <th>1</th>\n",
       "      <td>uMOxTAD</td>\n",
       "      <td>MHDBP000077,MHDBP000077</td>\n",
       "      <td>vlBFFQu</td>\n",
       "      <td>46</td>\n",
       "      <td>1.832905e-119</td>\n",
       "    </tr>\n",
       "    <tr>\n",
       "      <th>2</th>\n",
       "      <td>uMOxTAD</td>\n",
       "      <td>MHDBP000077,MHDBP000077</td>\n",
       "      <td>A2q3Egr</td>\n",
       "      <td>39</td>\n",
       "      <td>1.832905e-95</td>\n",
       "    </tr>\n",
       "    <tr>\n",
       "      <th>3</th>\n",
       "      <td>rOAtSSp</td>\n",
       "      <td>MHDBP000022,MHDBP000032</td>\n",
       "      <td>jlEpKst</td>\n",
       "      <td>49</td>\n",
       "      <td>3.769265e-135</td>\n",
       "    </tr>\n",
       "    <tr>\n",
       "      <th>4</th>\n",
       "      <td>rOAtSSp</td>\n",
       "      <td>MHDBP000022,MHDBP000032</td>\n",
       "      <td>XGQ6K4W</td>\n",
       "      <td>42</td>\n",
       "      <td>3.348116e-68</td>\n",
       "    </tr>\n",
       "  </tbody>\n",
       "</table>\n",
       "</div>"
      ],
      "text/plain": [
       "        ID                HaploPops TestSample  HammingDist         LRTest\n",
       "0  uMOxTAD  MHDBP000077,MHDBP000077    SNsOo3X           43  1.832905e-122\n",
       "1  uMOxTAD  MHDBP000077,MHDBP000077    vlBFFQu           46  1.832905e-119\n",
       "2  uMOxTAD  MHDBP000077,MHDBP000077    A2q3Egr           39   1.832905e-95\n",
       "3  rOAtSSp  MHDBP000022,MHDBP000032    jlEpKst           49  3.769265e-135\n",
       "4  rOAtSSp  MHDBP000022,MHDBP000032    XGQ6K4W           42   3.348116e-68"
      ]
     },
     "execution_count": 5,
     "metadata": {},
     "output_type": "execute_result"
    }
   ],
   "source": [
    "allpop.head()"
   ]
  },
  {
   "cell_type": "code",
   "execution_count": 6,
   "metadata": {},
   "outputs": [
    {
     "data": {
      "text/html": [
       "<div>\n",
       "<style scoped>\n",
       "    .dataframe tbody tr th:only-of-type {\n",
       "        vertical-align: middle;\n",
       "    }\n",
       "\n",
       "    .dataframe tbody tr th {\n",
       "        vertical-align: top;\n",
       "    }\n",
       "\n",
       "    .dataframe thead th {\n",
       "        text-align: right;\n",
       "    }\n",
       "</style>\n",
       "<table border=\"1\" class=\"dataframe\">\n",
       "  <thead>\n",
       "    <tr style=\"text-align: right;\">\n",
       "      <th></th>\n",
       "      <th>ID</th>\n",
       "      <th>Relative</th>\n",
       "      <th>HammingDist</th>\n",
       "      <th>LRTest</th>\n",
       "    </tr>\n",
       "  </thead>\n",
       "  <tbody>\n",
       "    <tr>\n",
       "      <th>0</th>\n",
       "      <td>cJrPNQb</td>\n",
       "      <td>joFS9e9</td>\n",
       "      <td>31</td>\n",
       "      <td>2.824093e-34</td>\n",
       "    </tr>\n",
       "    <tr>\n",
       "      <th>1</th>\n",
       "      <td>cJrPNQb</td>\n",
       "      <td>fkvrHkG</td>\n",
       "      <td>36</td>\n",
       "      <td>2.824093e-49</td>\n",
       "    </tr>\n",
       "    <tr>\n",
       "      <th>2</th>\n",
       "      <td>olCqrn6</td>\n",
       "      <td>khKkVJ0</td>\n",
       "      <td>27</td>\n",
       "      <td>7.577221e-24</td>\n",
       "    </tr>\n",
       "    <tr>\n",
       "      <th>3</th>\n",
       "      <td>olCqrn6</td>\n",
       "      <td>kRZqYdW</td>\n",
       "      <td>34</td>\n",
       "      <td>7.577221e-45</td>\n",
       "    </tr>\n",
       "    <tr>\n",
       "      <th>4</th>\n",
       "      <td>CY6Zida</td>\n",
       "      <td>IgLtywv</td>\n",
       "      <td>34</td>\n",
       "      <td>2.093538e-42</td>\n",
       "    </tr>\n",
       "  </tbody>\n",
       "</table>\n",
       "</div>"
      ],
      "text/plain": [
       "        ID Relative  HammingDist        LRTest\n",
       "0  cJrPNQb  joFS9e9           31  2.824093e-34\n",
       "1  cJrPNQb  fkvrHkG           36  2.824093e-49\n",
       "2  olCqrn6  khKkVJ0           27  7.577221e-24\n",
       "3  olCqrn6  kRZqYdW           34  7.577221e-45\n",
       "4  CY6Zida  IgLtywv           34  2.093538e-42"
      ]
     },
     "execution_count": 6,
     "metadata": {},
     "output_type": "execute_result"
    }
   ],
   "source": [
    "related.head()"
   ]
  },
  {
   "cell_type": "markdown",
   "metadata": {},
   "source": [
    "## Distributions of Hamming distances"
   ]
  },
  {
   "cell_type": "code",
   "execution_count": 7,
   "metadata": {},
   "outputs": [
    {
     "data": {
      "image/png": "[encoded data removed]",
      "text/plain": [
       "<Figure size 864x576 with 1 Axes>"
      ]
     },
     "metadata": {
      "needs_background": "light"
     },
     "output_type": "display_data"
    }
   ],
   "source": [
    "seaborn.set_context({\"figure.figsize\": (12, 8)})\n",
    "_, bins, _ = plt.hist(reseq.HammingDist, range=[0, 50], bins=50, density=True, color='green', alpha=0.6, label='Same Individual')\n",
    "_ = plt.hist(related.HammingDist, bins=bins, density=True, color='#FF9900', alpha=0.6, label='Same family')\n",
    "_ = plt.hist(samepop.HammingDist, bins=bins, density=True, color='red', alpha=0.6, label='Same subpopulation')\n",
    "_ = plt.hist(allpop.HammingDist, bins=bins, density=True, color='blue', alpha=0.6, label='Whole population')\n",
    "_ = plt.yticks([])\n",
    "_ = plt.xticks(range(0, 60, 10))\n",
    "_ = plt.xlabel('Hamming Distance')\n",
    "_ = plt.legend(loc='upper right')\n",
    "_ = plt.savefig('hamming-distance.pdf')\n",
    "_ = plt.show()"
   ]
  },
  {
   "cell_type": "code",
   "execution_count": 8,
   "metadata": {},
   "outputs": [
    {
     "name": "stdout",
     "output_type": "stream",
     "text": [
      "7\n"
     ]
    },
    {
     "data": {
      "text/html": [
       "<div>\n",
       "<style scoped>\n",
       "    .dataframe tbody tr th:only-of-type {\n",
       "        vertical-align: middle;\n",
       "    }\n",
       "\n",
       "    .dataframe tbody tr th {\n",
       "        vertical-align: top;\n",
       "    }\n",
       "\n",
       "    .dataframe thead th {\n",
       "        text-align: right;\n",
       "    }\n",
       "</style>\n",
       "<table border=\"1\" class=\"dataframe\">\n",
       "  <thead>\n",
       "    <tr style=\"text-align: right;\">\n",
       "      <th></th>\n",
       "      <th>ID</th>\n",
       "      <th>HaploPops</th>\n",
       "      <th>TestSample</th>\n",
       "      <th>HammingDist</th>\n",
       "      <th>LRTest</th>\n",
       "    </tr>\n",
       "  </thead>\n",
       "  <tbody>\n",
       "    <tr>\n",
       "      <th>76</th>\n",
       "      <td>eF6AaD8</td>\n",
       "      <td>MHDBP000022,MHDBP000022</td>\n",
       "      <td>eF6AaD8-repl2</td>\n",
       "      <td>1</td>\n",
       "      <td>1.961303e+57</td>\n",
       "    </tr>\n",
       "    <tr>\n",
       "      <th>269</th>\n",
       "      <td>3nHxp1k</td>\n",
       "      <td>MHDBP000065,MHDBP000065</td>\n",
       "      <td>3nHxp1k-repl3</td>\n",
       "      <td>1</td>\n",
       "      <td>6.440983e+54</td>\n",
       "    </tr>\n",
       "    <tr>\n",
       "      <th>487</th>\n",
       "      <td>ZQ0CCLm</td>\n",
       "      <td>MHDBP000022,MHDBP000022</td>\n",
       "      <td>ZQ0CCLm-repl2</td>\n",
       "      <td>1</td>\n",
       "      <td>1.321742e+55</td>\n",
       "    </tr>\n",
       "    <tr>\n",
       "      <th>1020</th>\n",
       "      <td>6AYI0Sj</td>\n",
       "      <td>MHDBP000003,MHDBP000003</td>\n",
       "      <td>6AYI0Sj-repl1</td>\n",
       "      <td>1</td>\n",
       "      <td>2.647009e+63</td>\n",
       "    </tr>\n",
       "    <tr>\n",
       "      <th>1268</th>\n",
       "      <td>KZROaZ2</td>\n",
       "      <td>MHDBP000022,MHDBP000022</td>\n",
       "      <td>KZROaZ2-repl3</td>\n",
       "      <td>1</td>\n",
       "      <td>2.289395e+55</td>\n",
       "    </tr>\n",
       "    <tr>\n",
       "      <th>1458</th>\n",
       "      <td>rJjNdGk</td>\n",
       "      <td>MHDBP000022,MHDBP000022</td>\n",
       "      <td>rJjNdGk-repl1</td>\n",
       "      <td>1</td>\n",
       "      <td>6.829843e+50</td>\n",
       "    </tr>\n",
       "    <tr>\n",
       "      <th>1484</th>\n",
       "      <td>FhNI9V6</td>\n",
       "      <td>MHDBP000022,MHDBP000022</td>\n",
       "      <td>FhNI9V6-repl3</td>\n",
       "      <td>1</td>\n",
       "      <td>4.263112e+55</td>\n",
       "    </tr>\n",
       "  </tbody>\n",
       "</table>\n",
       "</div>"
      ],
      "text/plain": [
       "           ID                HaploPops     TestSample  HammingDist  \\\n",
       "76    eF6AaD8  MHDBP000022,MHDBP000022  eF6AaD8-repl2            1   \n",
       "269   3nHxp1k  MHDBP000065,MHDBP000065  3nHxp1k-repl3            1   \n",
       "487   ZQ0CCLm  MHDBP000022,MHDBP000022  ZQ0CCLm-repl2            1   \n",
       "1020  6AYI0Sj  MHDBP000003,MHDBP000003  6AYI0Sj-repl1            1   \n",
       "1268  KZROaZ2  MHDBP000022,MHDBP000022  KZROaZ2-repl3            1   \n",
       "1458  rJjNdGk  MHDBP000022,MHDBP000022  rJjNdGk-repl1            1   \n",
       "1484  FhNI9V6  MHDBP000022,MHDBP000022  FhNI9V6-repl3            1   \n",
       "\n",
       "            LRTest  \n",
       "76    1.961303e+57  \n",
       "269   6.440983e+54  \n",
       "487   1.321742e+55  \n",
       "1020  2.647009e+63  \n",
       "1268  2.289395e+55  \n",
       "1458  6.829843e+50  \n",
       "1484  4.263112e+55  "
      ]
     },
     "execution_count": 8,
     "metadata": {},
     "output_type": "execute_result"
    }
   ],
   "source": [
    "d1 = reseq[reseq.HammingDist > 0]\n",
    "print(len(d1))\n",
    "d1"
   ]
  },
  {
   "cell_type": "markdown",
   "metadata": {},
   "source": [
    "## Distributions of LR Test Statistics"
   ]
  },
  {
   "cell_type": "code",
   "execution_count": 9,
   "metadata": {},
   "outputs": [
    {
     "name": "stdout",
     "output_type": "stream",
     "text": [
      "2.6424894544906185e+45\n",
      "3.578680907493239e-162\n",
      "4.686083500087399e-162\n",
      "9.109757315832566e-67\n"
     ]
    }
   ],
   "source": [
    "print(min([x for x in reseq.LRTest if x > 0.0]))\n",
    "print(min([x for x in samepop.LRTest if x > 0.0]))\n",
    "print(min([x for x in allpop.LRTest if x > 0.0]))\n",
    "print(min([x for x in related.LRTest if x > 0.0]))"
   ]
  },
  {
   "cell_type": "code",
   "execution_count": 10,
   "metadata": {},
   "outputs": [],
   "source": [
    "reseq_vals = numpy.log10(reseq.LRTest)\n",
    "related_vals = numpy.log10(related.LRTest)\n",
    "samepop_vals = numpy.log10(samepop.LRTest)\n",
    "allpop_vals = numpy.log10(allpop.LRTest)"
   ]
  },
  {
   "cell_type": "code",
   "execution_count": 11,
   "metadata": {},
   "outputs": [
    {
     "data": {
      "image/png": "[encoded data removed]",
      "text/plain": [
       "<Figure size 864x576 with 1 Axes>"
      ]
     },
     "metadata": {
      "needs_background": "light"
     },
     "output_type": "display_data"
    }
   ],
   "source": [
    "seaborn.set_context({\"figure.figsize\": (12, 8)})\n",
    "_, bins, _ = plt.hist(reseq_vals, range=[-170, 100], bins=80, density=True, color='green', alpha=0.6, label='Same Individual')\n",
    "_ = plt.hist(related_vals, bins=bins, density=True, color='#FF9900', alpha=0.6, label='Same family')\n",
    "_ = plt.hist(samepop_vals, bins=bins, density=True, color='red', alpha=0.6, label='Same subpopulation')\n",
    "_ = plt.hist(allpop_vals, bins=bins, density=True, color='blue', alpha=0.6, label='Whole population')\n",
    "_ = plt.yticks([])\n",
    "_ = plt.xticks(range(-150, 101, 50))\n",
    "_ = plt.xlabel(r'LR Test Statistic ($\\log_{10}$)')\n",
    "_ = plt.legend(loc='upper left')\n",
    "_ = plt.savefig('sample-matching.pdf')\n",
    "_ = plt.show()"
   ]
  },
  {
   "cell_type": "code",
   "execution_count": null,
   "metadata": {},
   "outputs": [],
   "source": []
  }
 ],
 "metadata": {
  "kernelspec": {
   "display_name": "Python 3",
   "language": "python",
   "name": "python3"
  },
  "language_info": {
   "codemirror_mode": {
    "name": "ipython",
    "version": 3
   },
   "file_extension": ".py",
   "mimetype": "text/x-python",
   "name": "python",
   "nbconvert_exporter": "python",
   "pygments_lexer": "ipython3",
   "version": "3.6.7"
  }
 },
 "nbformat": 4,
 "nbformat_minor": 2
}
