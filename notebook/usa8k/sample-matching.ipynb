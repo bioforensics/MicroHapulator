{
 "cells": [
  {
   "cell_type": "code",
   "execution_count": 1,
   "metadata": {},
   "outputs": [],
   "source": [
    "%matplotlib inline\n",
    "import matplotlib\n",
    "from matplotlib import pyplot as plt\n",
    "import microhapulator\n",
    "import numpy\n",
    "import pandas\n",
    "import seaborn\n",
    "\n",
    "matplotlib.rcParams['axes.labelsize'] = 16\n",
    "matplotlib.rcParams['xtick.labelsize'] = 12\n",
    "matplotlib.rcParams['ytick.labelsize'] = 12\n",
    "matplotlib.rcParams['savefig.dpi'] = 300\n",
    "seaborn.set_context({\"figure.figsize\": (16, 8)})"
   ]
  },
  {
   "cell_type": "code",
   "execution_count": 2,
   "metadata": {},
   "outputs": [],
   "source": [
    "reseq = pandas.read_csv('sample-match-reseq-eval.tsv', sep='\\t')\n",
    "samepop = pandas.read_csv('sample-match-samepop-eval.tsv', sep='\\t')\n",
    "allpop = pandas.read_csv('sample-match-allpop-eval.tsv', sep='\\t')"
   ]
  },
  {
   "cell_type": "code",
   "execution_count": 3,
   "metadata": {},
   "outputs": [
    {
     "data": {
      "text/html": [
       "<div>\n",
       "<style scoped>\n",
       "    .dataframe tbody tr th:only-of-type {\n",
       "        vertical-align: middle;\n",
       "    }\n",
       "\n",
       "    .dataframe tbody tr th {\n",
       "        vertical-align: top;\n",
       "    }\n",
       "\n",
       "    .dataframe thead th {\n",
       "        text-align: right;\n",
       "    }\n",
       "</style>\n",
       "<table border=\"1\" class=\"dataframe\">\n",
       "  <thead>\n",
       "    <tr style=\"text-align: right;\">\n",
       "      <th></th>\n",
       "      <th>ID</th>\n",
       "      <th>HaploPops</th>\n",
       "      <th>TestSample</th>\n",
       "      <th>HammingDist</th>\n",
       "      <th>LRTest</th>\n",
       "    </tr>\n",
       "  </thead>\n",
       "  <tbody>\n",
       "    <tr>\n",
       "      <th>0</th>\n",
       "      <td>uMOxTAD</td>\n",
       "      <td>MHDBP000077,MHDBP000077</td>\n",
       "      <td>uMOxTAD-repl1</td>\n",
       "      <td>0</td>\n",
       "      <td>7.675932e+102</td>\n",
       "    </tr>\n",
       "    <tr>\n",
       "      <th>1</th>\n",
       "      <td>uMOxTAD</td>\n",
       "      <td>MHDBP000077,MHDBP000077</td>\n",
       "      <td>uMOxTAD-repl2</td>\n",
       "      <td>0</td>\n",
       "      <td>7.675932e+102</td>\n",
       "    </tr>\n",
       "    <tr>\n",
       "      <th>2</th>\n",
       "      <td>uMOxTAD</td>\n",
       "      <td>MHDBP000077,MHDBP000077</td>\n",
       "      <td>uMOxTAD-repl3</td>\n",
       "      <td>0</td>\n",
       "      <td>7.675932e+102</td>\n",
       "    </tr>\n",
       "    <tr>\n",
       "      <th>3</th>\n",
       "      <td>rOAtSSp</td>\n",
       "      <td>MHDBP000022,MHDBP000032</td>\n",
       "      <td>rOAtSSp-repl1</td>\n",
       "      <td>0</td>\n",
       "      <td>6.018047e+133</td>\n",
       "    </tr>\n",
       "    <tr>\n",
       "      <th>4</th>\n",
       "      <td>rOAtSSp</td>\n",
       "      <td>MHDBP000022,MHDBP000032</td>\n",
       "      <td>rOAtSSp-repl2</td>\n",
       "      <td>0</td>\n",
       "      <td>6.018047e+133</td>\n",
       "    </tr>\n",
       "  </tbody>\n",
       "</table>\n",
       "</div>"
      ],
      "text/plain": [
       "        ID                HaploPops     TestSample  HammingDist         LRTest\n",
       "0  uMOxTAD  MHDBP000077,MHDBP000077  uMOxTAD-repl1            0  7.675932e+102\n",
       "1  uMOxTAD  MHDBP000077,MHDBP000077  uMOxTAD-repl2            0  7.675932e+102\n",
       "2  uMOxTAD  MHDBP000077,MHDBP000077  uMOxTAD-repl3            0  7.675932e+102\n",
       "3  rOAtSSp  MHDBP000022,MHDBP000032  rOAtSSp-repl1            0  6.018047e+133\n",
       "4  rOAtSSp  MHDBP000022,MHDBP000032  rOAtSSp-repl2            0  6.018047e+133"
      ]
     },
     "execution_count": 3,
     "metadata": {},
     "output_type": "execute_result"
    }
   ],
   "source": [
    "reseq.head()"
   ]
  },
  {
   "cell_type": "code",
   "execution_count": 4,
   "metadata": {},
   "outputs": [
    {
     "data": {
      "text/plain": [
       "array([0])"
      ]
     },
     "execution_count": 4,
     "metadata": {},
     "output_type": "execute_result"
    }
   ],
   "source": [
    "reseq.HammingDist.unique()"
   ]
  },
  {
   "cell_type": "code",
   "execution_count": 5,
   "metadata": {},
   "outputs": [],
   "source": [
    "hd1 = reseq[reseq.HammingDist > 0]"
   ]
  },
  {
   "cell_type": "code",
   "execution_count": 6,
   "metadata": {},
   "outputs": [
    {
     "data": {
      "text/html": [
       "<div>\n",
       "<style scoped>\n",
       "    .dataframe tbody tr th:only-of-type {\n",
       "        vertical-align: middle;\n",
       "    }\n",
       "\n",
       "    .dataframe tbody tr th {\n",
       "        vertical-align: top;\n",
       "    }\n",
       "\n",
       "    .dataframe thead th {\n",
       "        text-align: right;\n",
       "    }\n",
       "</style>\n",
       "<table border=\"1\" class=\"dataframe\">\n",
       "  <thead>\n",
       "    <tr style=\"text-align: right;\">\n",
       "      <th></th>\n",
       "      <th>ID</th>\n",
       "      <th>HaploPops</th>\n",
       "      <th>TestSample</th>\n",
       "      <th>HammingDist</th>\n",
       "      <th>LRTest</th>\n",
       "    </tr>\n",
       "  </thead>\n",
       "  <tbody>\n",
       "  </tbody>\n",
       "</table>\n",
       "</div>"
      ],
      "text/plain": [
       "Empty DataFrame\n",
       "Columns: [ID, HaploPops, TestSample, HammingDist, LRTest]\n",
       "Index: []"
      ]
     },
     "execution_count": 6,
     "metadata": {},
     "output_type": "execute_result"
    }
   ],
   "source": [
    "hd1"
   ]
  },
  {
   "cell_type": "code",
   "execution_count": 7,
   "metadata": {},
   "outputs": [
    {
     "data": {
      "text/plain": [
       "0"
      ]
     },
     "execution_count": 7,
     "metadata": {},
     "output_type": "execute_result"
    }
   ],
   "source": [
    "len(hd1)"
   ]
  },
  {
   "cell_type": "code",
   "execution_count": 8,
   "metadata": {},
   "outputs": [
    {
     "data": {
      "image/png": "[encoded data removed]",
      "text/plain": [
       "<Figure size 432x288 with 1 Axes>"
      ]
     },
     "metadata": {
      "needs_background": "light"
     },
     "output_type": "display_data"
    }
   ],
   "source": [
    "_ = plt.hist(numpy.log10(reseq.LRTest), bins=20)\n",
    "_ = plt.xlim(70, 155)\n",
    "_ = plt.yticks([])\n",
    "_ = plt.xlabel(r'LR Test Statistic ($\\log_{10}$)')"
   ]
  },
  {
   "cell_type": "code",
   "execution_count": 9,
   "metadata": {},
   "outputs": [
    {
     "name": "stdout",
     "output_type": "stream",
     "text": [
      "3.1951625041269066e+81\n",
      "5.675786839158448e+148\n"
     ]
    }
   ],
   "source": [
    "print(min(reseq.LRTest))\n",
    "print(max(reseq.LRTest))"
   ]
  },
  {
   "cell_type": "code",
   "execution_count": 10,
   "metadata": {},
   "outputs": [
    {
     "data": {
      "text/html": [
       "<div>\n",
       "<style scoped>\n",
       "    .dataframe tbody tr th:only-of-type {\n",
       "        vertical-align: middle;\n",
       "    }\n",
       "\n",
       "    .dataframe tbody tr th {\n",
       "        vertical-align: top;\n",
       "    }\n",
       "\n",
       "    .dataframe thead th {\n",
       "        text-align: right;\n",
       "    }\n",
       "</style>\n",
       "<table border=\"1\" class=\"dataframe\">\n",
       "  <thead>\n",
       "    <tr style=\"text-align: right;\">\n",
       "      <th></th>\n",
       "      <th>ID</th>\n",
       "      <th>HaploPops</th>\n",
       "      <th>TestSample</th>\n",
       "      <th>HammingDist</th>\n",
       "      <th>LRTest</th>\n",
       "    </tr>\n",
       "  </thead>\n",
       "  <tbody>\n",
       "    <tr>\n",
       "      <th>0</th>\n",
       "      <td>uMOxTAD</td>\n",
       "      <td>MHDBP000077,MHDBP000077</td>\n",
       "      <td>RjuzDui</td>\n",
       "      <td>85</td>\n",
       "      <td>0.000000e+00</td>\n",
       "    </tr>\n",
       "    <tr>\n",
       "      <th>1</th>\n",
       "      <td>uMOxTAD</td>\n",
       "      <td>MHDBP000077,MHDBP000077</td>\n",
       "      <td>rQFDlqD</td>\n",
       "      <td>88</td>\n",
       "      <td>0.000000e+00</td>\n",
       "    </tr>\n",
       "    <tr>\n",
       "      <th>2</th>\n",
       "      <td>uMOxTAD</td>\n",
       "      <td>MHDBP000077,MHDBP000077</td>\n",
       "      <td>cksC3EM</td>\n",
       "      <td>72</td>\n",
       "      <td>7.675932e-168</td>\n",
       "    </tr>\n",
       "    <tr>\n",
       "      <th>3</th>\n",
       "      <td>rOAtSSp</td>\n",
       "      <td>MHDBP000022,MHDBP000032</td>\n",
       "      <td>i4L0t4T</td>\n",
       "      <td>77</td>\n",
       "      <td>6.018047e-176</td>\n",
       "    </tr>\n",
       "    <tr>\n",
       "      <th>4</th>\n",
       "      <td>rOAtSSp</td>\n",
       "      <td>MHDBP000022,MHDBP000032</td>\n",
       "      <td>OMOB2XC</td>\n",
       "      <td>79</td>\n",
       "      <td>6.018047e-179</td>\n",
       "    </tr>\n",
       "  </tbody>\n",
       "</table>\n",
       "</div>"
      ],
      "text/plain": [
       "        ID                HaploPops TestSample  HammingDist         LRTest\n",
       "0  uMOxTAD  MHDBP000077,MHDBP000077    RjuzDui           85   0.000000e+00\n",
       "1  uMOxTAD  MHDBP000077,MHDBP000077    rQFDlqD           88   0.000000e+00\n",
       "2  uMOxTAD  MHDBP000077,MHDBP000077    cksC3EM           72  7.675932e-168\n",
       "3  rOAtSSp  MHDBP000022,MHDBP000032    i4L0t4T           77  6.018047e-176\n",
       "4  rOAtSSp  MHDBP000022,MHDBP000032    OMOB2XC           79  6.018047e-179"
      ]
     },
     "execution_count": 10,
     "metadata": {},
     "output_type": "execute_result"
    }
   ],
   "source": [
    "samepop.head()"
   ]
  },
  {
   "cell_type": "code",
   "execution_count": 11,
   "metadata": {},
   "outputs": [
    {
     "data": {
      "image/png": "[encoded data removed]",
      "text/plain": [
       "<Figure size 432x288 with 1 Axes>"
      ]
     },
     "metadata": {
      "needs_background": "light"
     },
     "output_type": "display_data"
    }
   ],
   "source": [
    "themin = numpy.log10(min([x for x in samepop.LRTest if x > 0.0]))\n",
    "lrt = [numpy.log10(x) if x > 0.0 else themin for x in samepop.LRTest]\n",
    "lrt = [x for x in lrt if x < 0.0]\n",
    "_ = plt.hist(lrt, bins=20)\n",
    "_ = plt.xlim(-240, -110)\n",
    "_ = plt.yticks([])\n",
    "_ = plt.xlabel(r'LR Test Statistic ($\\log_{10}$)')"
   ]
  },
  {
   "cell_type": "code",
   "execution_count": 12,
   "metadata": {},
   "outputs": [
    {
     "data": {
      "text/plain": [
       "2.697104485157545e-233"
      ]
     },
     "execution_count": 12,
     "metadata": {},
     "output_type": "execute_result"
    }
   ],
   "source": [
    "min([x for x in samepop.LRTest if x > 0.0])"
   ]
  },
  {
   "cell_type": "code",
   "execution_count": 13,
   "metadata": {},
   "outputs": [
    {
     "data": {
      "text/html": [
       "<div>\n",
       "<style scoped>\n",
       "    .dataframe tbody tr th:only-of-type {\n",
       "        vertical-align: middle;\n",
       "    }\n",
       "\n",
       "    .dataframe tbody tr th {\n",
       "        vertical-align: top;\n",
       "    }\n",
       "\n",
       "    .dataframe thead th {\n",
       "        text-align: right;\n",
       "    }\n",
       "</style>\n",
       "<table border=\"1\" class=\"dataframe\">\n",
       "  <thead>\n",
       "    <tr style=\"text-align: right;\">\n",
       "      <th></th>\n",
       "      <th>ID</th>\n",
       "      <th>HaploPops</th>\n",
       "      <th>TestSample</th>\n",
       "      <th>HammingDist</th>\n",
       "      <th>LRTest</th>\n",
       "    </tr>\n",
       "  </thead>\n",
       "  <tbody>\n",
       "    <tr>\n",
       "      <th>850</th>\n",
       "      <td>rZQEBWU</td>\n",
       "      <td>MHDBP000043,MHDBP000083</td>\n",
       "      <td>rZQEBWU</td>\n",
       "      <td>0</td>\n",
       "      <td>5.107112e+111</td>\n",
       "    </tr>\n",
       "    <tr>\n",
       "      <th>952</th>\n",
       "      <td>QAUIbRe</td>\n",
       "      <td>MHDBP000042,MHDBP000065</td>\n",
       "      <td>QAUIbRe</td>\n",
       "      <td>0</td>\n",
       "      <td>2.915278e+119</td>\n",
       "    </tr>\n",
       "  </tbody>\n",
       "</table>\n",
       "</div>"
      ],
      "text/plain": [
       "          ID                HaploPops TestSample  HammingDist         LRTest\n",
       "850  rZQEBWU  MHDBP000043,MHDBP000083    rZQEBWU            0  5.107112e+111\n",
       "952  QAUIbRe  MHDBP000042,MHDBP000065    QAUIbRe            0  2.915278e+119"
      ]
     },
     "execution_count": 13,
     "metadata": {},
     "output_type": "execute_result"
    }
   ],
   "source": [
    "samepop[samepop.LRTest > 1.0]"
   ]
  },
  {
   "cell_type": "code",
   "execution_count": 14,
   "metadata": {},
   "outputs": [
    {
     "data": {
      "text/plain": [
       "2.9152779103307708e+119"
      ]
     },
     "execution_count": 14,
     "metadata": {},
     "output_type": "execute_result"
    }
   ],
   "source": [
    "max(samepop.LRTest)"
   ]
  },
  {
   "cell_type": "code",
   "execution_count": 15,
   "metadata": {},
   "outputs": [
    {
     "data": {
      "image/png": "[encoded data removed]",
      "text/plain": [
       "<Figure size 432x288 with 1 Axes>"
      ]
     },
     "metadata": {
      "needs_background": "light"
     },
     "output_type": "display_data"
    }
   ],
   "source": [
    "themin = numpy.log10(min([x for x in allpop.LRTest if x > 0.0]))\n",
    "lrt = [numpy.log10(x) if x > 0.0 else themin for x in allpop.LRTest]\n",
    "_ = plt.hist(lrt, bins=20)\n",
    "#_ = plt.xlim(-240, -110)\n",
    "_ = plt.yticks([])\n",
    "_ = plt.xlabel(r'LR Test Statistic ($\\log_{10}$)')"
   ]
  },
  {
   "cell_type": "code",
   "execution_count": 16,
   "metadata": {},
   "outputs": [],
   "source": [
    "reseq_vals = numpy.log10(reseq.LRTest)\n",
    "# Uh oh, two self-comparisons. Need to fix the simulation?\n",
    "# lrt = [numpy.log10(x) if x > 0.0 else -245 for x in samepop.LRTest]\n",
    "# samepop_vals = [x for x in lrt if x < 0.0]\n",
    "samepop_vals = [numpy.log10(x) if x > 0.0 else -245 for x in samepop.LRTest]\n",
    "allpop_vals = [numpy.log10(x) if x > 0.0 else -250 for x in allpop.LRTest]"
   ]
  },
  {
   "cell_type": "code",
   "execution_count": 17,
   "metadata": {},
   "outputs": [
    {
     "data": {
      "image/png": "[encoded data removed]",
      "text/plain": [
       "<Figure size 1152x576 with 1 Axes>"
      ]
     },
     "metadata": {
      "needs_background": "light"
     },
     "output_type": "display_data"
    }
   ],
   "source": [
    "seaborn.set_context({\"figure.figsize\": (16, 8)})\n",
    "_, bins, _ = plt.hist(reseq_vals, range=[-250, 150], color='green', bins=150, label='Same Individual')\n",
    "_ = plt.hist(samepop_vals, bins=bins, color='red', label='Same subpopulation')\n",
    "_ = plt.hist(allpop_vals, bins=bins, color='blue', label='Whole population')\n",
    "_ = plt.yticks([])\n",
    "_ = plt.xticks(range(-250, 151, 50))\n",
    "_ = plt.xlabel(r'LR Test Statistic ($\\log_{10}$)')\n",
    "_ = plt.legend(loc='upper right')\n",
    "_ = plt.savefig('sample-matching.pdf')\n",
    "_ = plt.show()"
   ]
  },
  {
   "cell_type": "code",
   "execution_count": 18,
   "metadata": {},
   "outputs": [
    {
     "data": {
      "text/plain": [
       "[-10, -8, -6, -4, -2, 0, 2, 4, 6, 8]"
      ]
     },
     "execution_count": 18,
     "metadata": {},
     "output_type": "execute_result"
    }
   ],
   "source": [
    "list(range(-10, 10, 2))"
   ]
  },
  {
   "cell_type": "code",
   "execution_count": 19,
   "metadata": {},
   "outputs": [
    {
     "data": {
      "text/plain": [
       "-250.0"
      ]
     },
     "execution_count": 19,
     "metadata": {},
     "output_type": "execute_result"
    }
   ],
   "source": [
    "numpy.log10(1e-250)"
   ]
  },
  {
   "cell_type": "code",
   "execution_count": null,
   "metadata": {},
   "outputs": [],
   "source": []
  }
 ],
 "metadata": {
  "kernelspec": {
   "display_name": "Python 3",
   "language": "python",
   "name": "python3"
  },
  "language_info": {
   "codemirror_mode": {
    "name": "ipython",
    "version": 3
   },
   "file_extension": ".py",
   "mimetype": "text/x-python",
   "name": "python",
   "nbconvert_exporter": "python",
   "pygments_lexer": "ipython3",
   "version": "3.6.7"
  }
 },
 "nbformat": 4,
 "nbformat_minor": 2
}
