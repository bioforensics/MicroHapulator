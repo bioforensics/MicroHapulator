{
 "cells": [
  {
   "cell_type": "markdown",
   "metadata": {},
   "source": [
    "# Microhaplotypes and Sample Matching\n",
    "\n",
    "To evaluate the utility of microhaplotype sequencing for individualization, 500 individuals were sampled randomly from a mock population of 8,000 individuals roughly matching the demographics of the United States.\n",
    "Targeted Illumina MiSeq sequencing of a microhaplotype panel was simulated for these 500 individuals, and genotypes were inferred by mapping reads back to the microhap loci.\n",
    "\n",
    "Then, for each of the 500 individuals, the sample was compared to three \"background\" test sets.\n",
    "For each pairwise comparison, a naïve Hamming distance and the conventional RMP-based likelihood ratio test statistic were computed.\n",
    "\n",
    "- background 1 (**reseq**): 3 replicates of simulated re-sequencing of the same individual\n",
    "- background 2 (**samepop**): 3 individuals sampled randomly from the same sub-population as the focal individual\n",
    "- background 3 (**allpop**): 3 individuals sampled randomly from the entire mock population\n",
    "\n",
    "Finally, 100 pairs of individuals were sampled from the population and \"mated\" to create an offspring.\n",
    "The offspring was then compared to each parent by computing the Hamming distance and LR test statistic (**related**).\n",
    "\n",
    "\n",
    "## Hamming Distance\n",
    "\n",
    "We define the Hamming distance between two genotype profiles as the number of loci at which the annotated alleles differ between profiles.\n",
    "We do not distinguish partial allele matches (\"het AB vs homo A\" or \"het AB vs het BC\") from full mismatches (\"homo A vs homo B\" or \"het AB vs het CD\").\n",
    "\n",
    "\n",
    "## LR Test Statistic\n",
    "\n",
    "This statistic is based on comparing the likelihood of the following two hypotheses.\n",
    "\n",
    "- $H_1$: that the test sample and a reference sample were derived from the same individual; and\n",
    "- $H_0$: that the test sample and the reference sample were derived from two random (unrelated) individuals.\n",
    "\n",
    "The probability $P(H_0)$ is the *random match probability*\n",
    "\n",
    "$$\n",
    "P_{RM} = \\prod\\limits_{a \\in G} P(a \\mid F)\n",
    "$$\n",
    "\n",
    "where $G$ is the complete genotype profile of the test sample, $a$ is an observed allele in $G$, and $P(a \\mid F)$ is the population allele frequency of $a$.\n",
    "The probability $P\\left (H_1 \\right )$ is $\\epsilon^R$, where $\\epsilon$ is the rate of genotyping error and $R$ is the number of mismatches between the test sample and reference sample.\n",
    "Typically $R$ is expected to be either 0 (perfect matches at all loci) or very low (small number of mismatches due to genotyping error).\n",
    "The likelihood ratio statistic is then computed as follows.\n",
    "\n",
    "$$\n",
    "LR = \\frac{P(H_1)}{P(H_0)}\n",
    "$$\n",
    "\n",
    "Thus in the typical case when $P(H_1) = \\epsilon^0 = 1$, the LR statistic is the reciprocal of the RMP.\n",
    "As the number of microhaplotype loci assayed increases, $LR$ grows very rapidly, indicating that $H_1$ is the much more likely scenario.\n",
    "On the other hand, when $R$ grows, $LR$ shrinks rapidly, suggesting that a sample mismatch better explains the observed differences rather than genotyping error."
   ]
  },
  {
   "cell_type": "code",
   "execution_count": 1,
   "metadata": {},
   "outputs": [],
   "source": [
    "%matplotlib inline\n",
    "import matplotlib\n",
    "from matplotlib import pyplot as plt\n",
    "import microhapulator\n",
    "import numpy\n",
    "import pandas\n",
    "import seaborn\n",
    "\n",
    "matplotlib.rcParams['axes.labelsize'] = 16\n",
    "matplotlib.rcParams['xtick.labelsize'] = 12\n",
    "matplotlib.rcParams['ytick.labelsize'] = 12\n",
    "matplotlib.rcParams['savefig.dpi'] = 300\n",
    "seaborn.set_context({\"figure.figsize\": (12, 8)})"
   ]
  },
  {
   "cell_type": "markdown",
   "metadata": {},
   "source": [
    "## Data Import and Inspection"
   ]
  },
  {
   "cell_type": "code",
   "execution_count": 2,
   "metadata": {},
   "outputs": [],
   "source": [
    "reseq = pandas.read_csv('sample-match-reseq-eval.tsv', sep='\\t')\n",
    "samepop = pandas.read_csv('sample-match-samepop-eval.tsv', sep='\\t')\n",
    "allpop = pandas.read_csv('sample-match-allpop-eval.tsv', sep='\\t')\n",
    "related = pandas.read_csv('sample-match-related-eval.tsv', sep='\\t')"
   ]
  },
  {
   "cell_type": "code",
   "execution_count": 3,
   "metadata": {},
   "outputs": [
    {
     "data": {
      "text/html": [
       "<div>\n",
       "<style scoped>\n",
       "    .dataframe tbody tr th:only-of-type {\n",
       "        vertical-align: middle;\n",
       "    }\n",
       "\n",
       "    .dataframe tbody tr th {\n",
       "        vertical-align: top;\n",
       "    }\n",
       "\n",
       "    .dataframe thead th {\n",
       "        text-align: right;\n",
       "    }\n",
       "</style>\n",
       "<table border=\"1\" class=\"dataframe\">\n",
       "  <thead>\n",
       "    <tr style=\"text-align: right;\">\n",
       "      <th></th>\n",
       "      <th>ID</th>\n",
       "      <th>HaploPops</th>\n",
       "      <th>TestSample</th>\n",
       "      <th>HammingDist</th>\n",
       "      <th>LRTest</th>\n",
       "    </tr>\n",
       "  </thead>\n",
       "  <tbody>\n",
       "    <tr>\n",
       "      <th>0</th>\n",
       "      <td>uMOxTAD</td>\n",
       "      <td>MHDBP000077,MHDBP000077</td>\n",
       "      <td>uMOxTAD-repl1</td>\n",
       "      <td>0</td>\n",
       "      <td>7.675932e+102</td>\n",
       "    </tr>\n",
       "    <tr>\n",
       "      <th>1</th>\n",
       "      <td>uMOxTAD</td>\n",
       "      <td>MHDBP000077,MHDBP000077</td>\n",
       "      <td>uMOxTAD-repl2</td>\n",
       "      <td>0</td>\n",
       "      <td>7.675932e+102</td>\n",
       "    </tr>\n",
       "    <tr>\n",
       "      <th>2</th>\n",
       "      <td>uMOxTAD</td>\n",
       "      <td>MHDBP000077,MHDBP000077</td>\n",
       "      <td>uMOxTAD-repl3</td>\n",
       "      <td>0</td>\n",
       "      <td>7.675932e+102</td>\n",
       "    </tr>\n",
       "    <tr>\n",
       "      <th>3</th>\n",
       "      <td>rOAtSSp</td>\n",
       "      <td>MHDBP000022,MHDBP000032</td>\n",
       "      <td>rOAtSSp-repl1</td>\n",
       "      <td>0</td>\n",
       "      <td>6.018047e+133</td>\n",
       "    </tr>\n",
       "    <tr>\n",
       "      <th>4</th>\n",
       "      <td>rOAtSSp</td>\n",
       "      <td>MHDBP000022,MHDBP000032</td>\n",
       "      <td>rOAtSSp-repl2</td>\n",
       "      <td>0</td>\n",
       "      <td>6.018047e+133</td>\n",
       "    </tr>\n",
       "  </tbody>\n",
       "</table>\n",
       "</div>"
      ],
      "text/plain": [
       "        ID                HaploPops     TestSample  HammingDist         LRTest\n",
       "0  uMOxTAD  MHDBP000077,MHDBP000077  uMOxTAD-repl1            0  7.675932e+102\n",
       "1  uMOxTAD  MHDBP000077,MHDBP000077  uMOxTAD-repl2            0  7.675932e+102\n",
       "2  uMOxTAD  MHDBP000077,MHDBP000077  uMOxTAD-repl3            0  7.675932e+102\n",
       "3  rOAtSSp  MHDBP000022,MHDBP000032  rOAtSSp-repl1            0  6.018047e+133\n",
       "4  rOAtSSp  MHDBP000022,MHDBP000032  rOAtSSp-repl2            0  6.018047e+133"
      ]
     },
     "execution_count": 3,
     "metadata": {},
     "output_type": "execute_result"
    }
   ],
   "source": [
    "reseq.head()"
   ]
  },
  {
   "cell_type": "code",
   "execution_count": 4,
   "metadata": {},
   "outputs": [
    {
     "data": {
      "text/html": [
       "<div>\n",
       "<style scoped>\n",
       "    .dataframe tbody tr th:only-of-type {\n",
       "        vertical-align: middle;\n",
       "    }\n",
       "\n",
       "    .dataframe tbody tr th {\n",
       "        vertical-align: top;\n",
       "    }\n",
       "\n",
       "    .dataframe thead th {\n",
       "        text-align: right;\n",
       "    }\n",
       "</style>\n",
       "<table border=\"1\" class=\"dataframe\">\n",
       "  <thead>\n",
       "    <tr style=\"text-align: right;\">\n",
       "      <th></th>\n",
       "      <th>ID</th>\n",
       "      <th>HaploPops</th>\n",
       "      <th>TestSample</th>\n",
       "      <th>HammingDist</th>\n",
       "      <th>LRTest</th>\n",
       "    </tr>\n",
       "  </thead>\n",
       "  <tbody>\n",
       "    <tr>\n",
       "      <th>0</th>\n",
       "      <td>uMOxTAD</td>\n",
       "      <td>MHDBP000077,MHDBP000077</td>\n",
       "      <td>RjuzDui</td>\n",
       "      <td>85</td>\n",
       "      <td>0.000000e+00</td>\n",
       "    </tr>\n",
       "    <tr>\n",
       "      <th>1</th>\n",
       "      <td>uMOxTAD</td>\n",
       "      <td>MHDBP000077,MHDBP000077</td>\n",
       "      <td>rQFDlqD</td>\n",
       "      <td>88</td>\n",
       "      <td>0.000000e+00</td>\n",
       "    </tr>\n",
       "    <tr>\n",
       "      <th>2</th>\n",
       "      <td>uMOxTAD</td>\n",
       "      <td>MHDBP000077,MHDBP000077</td>\n",
       "      <td>cksC3EM</td>\n",
       "      <td>72</td>\n",
       "      <td>7.675932e-168</td>\n",
       "    </tr>\n",
       "    <tr>\n",
       "      <th>3</th>\n",
       "      <td>rOAtSSp</td>\n",
       "      <td>MHDBP000022,MHDBP000032</td>\n",
       "      <td>i4L0t4T</td>\n",
       "      <td>77</td>\n",
       "      <td>6.018047e-176</td>\n",
       "    </tr>\n",
       "    <tr>\n",
       "      <th>4</th>\n",
       "      <td>rOAtSSp</td>\n",
       "      <td>MHDBP000022,MHDBP000032</td>\n",
       "      <td>OMOB2XC</td>\n",
       "      <td>79</td>\n",
       "      <td>6.018047e-179</td>\n",
       "    </tr>\n",
       "  </tbody>\n",
       "</table>\n",
       "</div>"
      ],
      "text/plain": [
       "        ID                HaploPops TestSample  HammingDist         LRTest\n",
       "0  uMOxTAD  MHDBP000077,MHDBP000077    RjuzDui           85   0.000000e+00\n",
       "1  uMOxTAD  MHDBP000077,MHDBP000077    rQFDlqD           88   0.000000e+00\n",
       "2  uMOxTAD  MHDBP000077,MHDBP000077    cksC3EM           72  7.675932e-168\n",
       "3  rOAtSSp  MHDBP000022,MHDBP000032    i4L0t4T           77  6.018047e-176\n",
       "4  rOAtSSp  MHDBP000022,MHDBP000032    OMOB2XC           79  6.018047e-179"
      ]
     },
     "execution_count": 4,
     "metadata": {},
     "output_type": "execute_result"
    }
   ],
   "source": [
    "samepop.head()"
   ]
  },
  {
   "cell_type": "code",
   "execution_count": 5,
   "metadata": {},
   "outputs": [
    {
     "data": {
      "text/html": [
       "<div>\n",
       "<style scoped>\n",
       "    .dataframe tbody tr th:only-of-type {\n",
       "        vertical-align: middle;\n",
       "    }\n",
       "\n",
       "    .dataframe tbody tr th {\n",
       "        vertical-align: top;\n",
       "    }\n",
       "\n",
       "    .dataframe thead th {\n",
       "        text-align: right;\n",
       "    }\n",
       "</style>\n",
       "<table border=\"1\" class=\"dataframe\">\n",
       "  <thead>\n",
       "    <tr style=\"text-align: right;\">\n",
       "      <th></th>\n",
       "      <th>ID</th>\n",
       "      <th>HaploPops</th>\n",
       "      <th>TestSample</th>\n",
       "      <th>HammingDist</th>\n",
       "      <th>LRTest</th>\n",
       "    </tr>\n",
       "  </thead>\n",
       "  <tbody>\n",
       "    <tr>\n",
       "      <th>0</th>\n",
       "      <td>uMOxTAD</td>\n",
       "      <td>MHDBP000077,MHDBP000077</td>\n",
       "      <td>SNsOo3X</td>\n",
       "      <td>77</td>\n",
       "      <td>1.194114e-198</td>\n",
       "    </tr>\n",
       "    <tr>\n",
       "      <th>1</th>\n",
       "      <td>uMOxTAD</td>\n",
       "      <td>MHDBP000077,MHDBP000077</td>\n",
       "      <td>vlBFFQu</td>\n",
       "      <td>77</td>\n",
       "      <td>1.194114e-198</td>\n",
       "    </tr>\n",
       "    <tr>\n",
       "      <th>2</th>\n",
       "      <td>uMOxTAD</td>\n",
       "      <td>MHDBP000077,MHDBP000077</td>\n",
       "      <td>A2q3Egr</td>\n",
       "      <td>84</td>\n",
       "      <td>0.000000e+00</td>\n",
       "    </tr>\n",
       "    <tr>\n",
       "      <th>3</th>\n",
       "      <td>rOAtSSp</td>\n",
       "      <td>MHDBP000022,MHDBP000032</td>\n",
       "      <td>jlEpKst</td>\n",
       "      <td>82</td>\n",
       "      <td>6.018040e-185</td>\n",
       "    </tr>\n",
       "    <tr>\n",
       "      <th>4</th>\n",
       "      <td>rOAtSSp</td>\n",
       "      <td>MHDBP000022,MHDBP000032</td>\n",
       "      <td>XGQ6K4W</td>\n",
       "      <td>80</td>\n",
       "      <td>5.151109e-167</td>\n",
       "    </tr>\n",
       "  </tbody>\n",
       "</table>\n",
       "</div>"
      ],
      "text/plain": [
       "        ID                HaploPops TestSample  HammingDist         LRTest\n",
       "0  uMOxTAD  MHDBP000077,MHDBP000077    SNsOo3X           77  1.194114e-198\n",
       "1  uMOxTAD  MHDBP000077,MHDBP000077    vlBFFQu           77  1.194114e-198\n",
       "2  uMOxTAD  MHDBP000077,MHDBP000077    A2q3Egr           84   0.000000e+00\n",
       "3  rOAtSSp  MHDBP000022,MHDBP000032    jlEpKst           82  6.018040e-185\n",
       "4  rOAtSSp  MHDBP000022,MHDBP000032    XGQ6K4W           80  5.151109e-167"
      ]
     },
     "execution_count": 5,
     "metadata": {},
     "output_type": "execute_result"
    }
   ],
   "source": [
    "allpop.head()"
   ]
  },
  {
   "cell_type": "code",
   "execution_count": 6,
   "metadata": {},
   "outputs": [
    {
     "data": {
      "text/html": [
       "<div>\n",
       "<style scoped>\n",
       "    .dataframe tbody tr th:only-of-type {\n",
       "        vertical-align: middle;\n",
       "    }\n",
       "\n",
       "    .dataframe tbody tr th {\n",
       "        vertical-align: top;\n",
       "    }\n",
       "\n",
       "    .dataframe thead th {\n",
       "        text-align: right;\n",
       "    }\n",
       "</style>\n",
       "<table border=\"1\" class=\"dataframe\">\n",
       "  <thead>\n",
       "    <tr style=\"text-align: right;\">\n",
       "      <th></th>\n",
       "      <th>ID</th>\n",
       "      <th>Relative</th>\n",
       "      <th>HammingDist</th>\n",
       "      <th>LRTest</th>\n",
       "    </tr>\n",
       "  </thead>\n",
       "  <tbody>\n",
       "    <tr>\n",
       "      <th>0</th>\n",
       "      <td>cJrPNQb</td>\n",
       "      <td>joFS9e9</td>\n",
       "      <td>65</td>\n",
       "      <td>7.368476e-102</td>\n",
       "    </tr>\n",
       "    <tr>\n",
       "      <th>1</th>\n",
       "      <td>cJrPNQb</td>\n",
       "      <td>fkvrHkG</td>\n",
       "      <td>62</td>\n",
       "      <td>7.368476e-93</td>\n",
       "    </tr>\n",
       "    <tr>\n",
       "      <th>2</th>\n",
       "      <td>olCqrn6</td>\n",
       "      <td>khKkVJ0</td>\n",
       "      <td>68</td>\n",
       "      <td>1.895495e-93</td>\n",
       "    </tr>\n",
       "    <tr>\n",
       "      <th>3</th>\n",
       "      <td>olCqrn6</td>\n",
       "      <td>kRZqYdW</td>\n",
       "      <td>75</td>\n",
       "      <td>1.895495e-114</td>\n",
       "    </tr>\n",
       "    <tr>\n",
       "      <th>4</th>\n",
       "      <td>CY6Zida</td>\n",
       "      <td>IgLtywv</td>\n",
       "      <td>64</td>\n",
       "      <td>7.485588e-94</td>\n",
       "    </tr>\n",
       "  </tbody>\n",
       "</table>\n",
       "</div>"
      ],
      "text/plain": [
       "        ID Relative  HammingDist         LRTest\n",
       "0  cJrPNQb  joFS9e9           65  7.368476e-102\n",
       "1  cJrPNQb  fkvrHkG           62   7.368476e-93\n",
       "2  olCqrn6  khKkVJ0           68   1.895495e-93\n",
       "3  olCqrn6  kRZqYdW           75  1.895495e-114\n",
       "4  CY6Zida  IgLtywv           64   7.485588e-94"
      ]
     },
     "execution_count": 6,
     "metadata": {},
     "output_type": "execute_result"
    }
   ],
   "source": [
    "related.head()"
   ]
  },
  {
   "cell_type": "markdown",
   "metadata": {},
   "source": [
    "## Distributions of Hamming distances"
   ]
  },
  {
   "cell_type": "code",
   "execution_count": 7,
   "metadata": {},
   "outputs": [
    {
     "data": {
      "image/png": "[encoded data removed]",
      "text/plain": [
       "<Figure size 864x576 with 1 Axes>"
      ]
     },
     "metadata": {
      "needs_background": "light"
     },
     "output_type": "display_data"
    }
   ],
   "source": [
    "seaborn.set_context({\"figure.figsize\": (12, 8)})\n",
    "_, bins, _ = plt.hist(reseq.HammingDist, range=[0, 100], bins=100, density=True, color='green', label='Same Individual')\n",
    "_ = plt.hist(related.HammingDist, bins=bins, density=True, color='#FF9900', label='Same family')\n",
    "_ = plt.hist(samepop.HammingDist, bins=bins, density=True, color='red', label='Same subpopulation')\n",
    "_ = plt.hist(allpop.HammingDist, bins=bins, density=True, color='blue', label='Whole population')\n",
    "_ = plt.yticks([])\n",
    "_ = plt.xticks(range(0, 101, 10))\n",
    "_ = plt.xlabel('Hamming Distance')\n",
    "_ = plt.legend(loc='upper right')\n",
    "_ = plt.savefig('hamming-distance.pdf')\n",
    "_ = plt.show()"
   ]
  },
  {
   "cell_type": "markdown",
   "metadata": {},
   "source": [
    "## Distributions of LR Test Statistics\n",
    "\n",
    "Some of the LR test statistics are so small that they cannot be distinguished from 0.0 by the computer.\n",
    "All 0.0 values were replaced by extremely low values (1e-250 for **allpop** and 1e-245 for **samepop**) to avoid problems with plotting on a log scale."
   ]
  },
  {
   "cell_type": "code",
   "execution_count": 8,
   "metadata": {},
   "outputs": [
    {
     "name": "stdout",
     "output_type": "stream",
     "text": [
      "3.1951625041269066e+81\n",
      "2.697104485157545e-233\n",
      "1.3346815597946623e-228\n",
      "1.3762676540286096e-127\n"
     ]
    }
   ],
   "source": [
    "print(min([x for x in reseq.LRTest if x > 0.0]))\n",
    "print(min([x for x in samepop.LRTest if x > 0.0]))\n",
    "print(min([x for x in allpop.LRTest if x > 0.0]))\n",
    "print(min([x for x in related.LRTest if x > 0.0]))"
   ]
  },
  {
   "cell_type": "markdown",
   "metadata": {},
   "source": [
    "Uh oh, it looks like a couple of self comparisons crept into the **samepop** data set.\n",
    "I'll have to fix that, but for now it doesn't affect the aggregate results."
   ]
  },
  {
   "cell_type": "code",
   "execution_count": 9,
   "metadata": {},
   "outputs": [
    {
     "data": {
      "text/html": [
       "<div>\n",
       "<style scoped>\n",
       "    .dataframe tbody tr th:only-of-type {\n",
       "        vertical-align: middle;\n",
       "    }\n",
       "\n",
       "    .dataframe tbody tr th {\n",
       "        vertical-align: top;\n",
       "    }\n",
       "\n",
       "    .dataframe thead th {\n",
       "        text-align: right;\n",
       "    }\n",
       "</style>\n",
       "<table border=\"1\" class=\"dataframe\">\n",
       "  <thead>\n",
       "    <tr style=\"text-align: right;\">\n",
       "      <th></th>\n",
       "      <th>ID</th>\n",
       "      <th>HaploPops</th>\n",
       "      <th>TestSample</th>\n",
       "      <th>HammingDist</th>\n",
       "      <th>LRTest</th>\n",
       "    </tr>\n",
       "  </thead>\n",
       "  <tbody>\n",
       "    <tr>\n",
       "      <th>850</th>\n",
       "      <td>rZQEBWU</td>\n",
       "      <td>MHDBP000043,MHDBP000083</td>\n",
       "      <td>rZQEBWU</td>\n",
       "      <td>0</td>\n",
       "      <td>5.107112e+111</td>\n",
       "    </tr>\n",
       "    <tr>\n",
       "      <th>952</th>\n",
       "      <td>QAUIbRe</td>\n",
       "      <td>MHDBP000042,MHDBP000065</td>\n",
       "      <td>QAUIbRe</td>\n",
       "      <td>0</td>\n",
       "      <td>2.915278e+119</td>\n",
       "    </tr>\n",
       "  </tbody>\n",
       "</table>\n",
       "</div>"
      ],
      "text/plain": [
       "          ID                HaploPops TestSample  HammingDist         LRTest\n",
       "850  rZQEBWU  MHDBP000043,MHDBP000083    rZQEBWU            0  5.107112e+111\n",
       "952  QAUIbRe  MHDBP000042,MHDBP000065    QAUIbRe            0  2.915278e+119"
      ]
     },
     "execution_count": 9,
     "metadata": {},
     "output_type": "execute_result"
    }
   ],
   "source": [
    "samepop[samepop.LRTest > 1.0]"
   ]
  },
  {
   "cell_type": "code",
   "execution_count": 10,
   "metadata": {},
   "outputs": [],
   "source": [
    "reseq_vals = numpy.log10(reseq.LRTest)\n",
    "related_vals = numpy.log10(related.LRTest)\n",
    "# Uh oh, two self-comparisons. Need to fix the simulation?\n",
    "# lrt = [numpy.log10(x) if x > 0.0 else -245 for x in samepop.LRTest]\n",
    "# samepop_vals = [x for x in lrt if x < 0.0]\n",
    "samepop_vals = [numpy.log10(x) if x > 0.0 else -245 for x in samepop.LRTest]\n",
    "allpop_vals = [numpy.log10(x) if x > 0.0 else -250 for x in allpop.LRTest]"
   ]
  },
  {
   "cell_type": "code",
   "execution_count": 11,
   "metadata": {},
   "outputs": [
    {
     "data": {
      "image/png": "[encoded data removed]",
      "text/plain": [
       "<Figure size 864x576 with 1 Axes>"
      ]
     },
     "metadata": {
      "needs_background": "light"
     },
     "output_type": "display_data"
    }
   ],
   "source": [
    "seaborn.set_context({\"figure.figsize\": (12, 8)})\n",
    "_, bins, _ = plt.hist(reseq_vals, range=[-250, 150], bins=150, density=True, color='green', label='Same Individual')\n",
    "_ = plt.hist(related_vals, bins=bins, density=True, color='#FF9900', label='Same family')\n",
    "_ = plt.hist(samepop_vals, bins=bins, density=True, color='red', label='Same subpopulation')\n",
    "_ = plt.hist(allpop_vals, bins=bins, density=True, color='blue', label='Whole population')\n",
    "_ = plt.yticks([])\n",
    "_ = plt.xticks(range(-250, 151, 50))\n",
    "_ = plt.xlabel(r'LR Test Statistic ($\\log_{10}$)')\n",
    "_ = plt.legend(loc='upper right')\n",
    "_ = plt.savefig('sample-matching.pdf')\n",
    "_ = plt.show()"
   ]
  }
 ],
 "metadata": {
  "kernelspec": {
   "display_name": "Python 3",
   "language": "python",
   "name": "python3"
  },
  "language_info": {
   "codemirror_mode": {
    "name": "ipython",
    "version": 3
   },
   "file_extension": ".py",
   "mimetype": "text/x-python",
   "name": "python",
   "nbconvert_exporter": "python",
   "pygments_lexer": "ipython3",
   "version": "3.6.7"
  }
 },
 "nbformat": 4,
 "nbformat_minor": 2
}
